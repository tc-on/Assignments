{
 "cells": [
  {
   "cell_type": "markdown",
   "metadata": {},
   "source": [
    "### About the data set (Heart disease data)\n",
    "\n",
    "The dataset contains information about patients. The aim is to find whether or not a patient has cardiovascular disease based on the several factors from the patient profile. <br> Attribute information: \n",
    "\n",
    "**male:** Gender of patient: male(1) or female(0) \n",
    "\n",
    "**age:** Age of patient\n",
    "\n",
    "**education:** Education level of patient: 1 = Some High School; 2 = High School or GED; 3 = Some College or Vocational School; 4 = college\n",
    "\n",
    "**currentSmoker:** Whether the patient is a smoker now: Yes(1) or No(0)\n",
    "\n",
    "**cigsPerDay:** Average number of cigarettes smoked by patient per day\n",
    "\n",
    "**BPMeds:** Whether the patient is on blood pressure medications: Yes(1) or No(0)\n",
    "\n",
    "**prevalentStroke:** If the patient has a history of heart stroke: Yes(1) or No(0)\n",
    "\n",
    "**prevalentHyp:** If the patient has a history of hypertension: Yes(1) or No(0)\n",
    "\n",
    "**diabetes:**  If the patient has a diabetes: Yes(1) or No(0)\n",
    "\n",
    "**totChol:** Average cholesterol levels in mg/dL\n",
    "\n",
    "**sysBP:** Average systolic blood pressure of patient\n",
    "\n",
    "**diaBP:** Average diastolic blood pressure of patient\n",
    "\n",
    "**BMI:** BMI of patient\n",
    "\n",
    "**heartRate:** Avergae heartrate of patient\n",
    "\n",
    "**glucose:** Average blood glucose levels of patient\n",
    "\n",
    "**CVD:** Does the patient have cardiovascular disease: Yes(1) or No(0)"
   ]
  },
  {
   "cell_type": "markdown",
   "metadata": {},
   "source": [
    "**Import the required libraries**"
   ]
  },
  {
   "cell_type": "code",
   "execution_count": 1,
   "metadata": {},
   "outputs": [],
   "source": [
    "import numpy as np\n",
    "import pandas as pd\n",
    "import matplotlib.pyplot as plt\n",
    "import seaborn as sns\n",
    "from sklearn.metrics import roc_curve,roc_auc_score,accuracy_score,confusion_matrix\n",
    "from sklearn.metrics import classification_report,f1_score,cohen_kappa_score,log_loss\n",
    "import warnings\n",
    "warnings.filterwarnings('ignore')"
   ]
  },
  {
   "cell_type": "markdown",
   "metadata": {},
   "source": [
    "#### Load the csv file"
   ]
  },
  {
   "cell_type": "code",
   "execution_count": 2,
   "metadata": {},
   "outputs": [],
   "source": [
    "df= pd.read_csv('Heart_disease.csv')"
   ]
  },
  {
   "cell_type": "code",
   "execution_count": 3,
   "metadata": {},
   "outputs": [
    {
     "data": {
      "text/plain": [
       "(4240, 16)"
      ]
     },
     "execution_count": 3,
     "metadata": {},
     "output_type": "execute_result"
    }
   ],
   "source": [
    "df.shape"
   ]
  },
  {
   "cell_type": "code",
   "execution_count": 4,
   "metadata": {},
   "outputs": [
    {
     "data": {
      "text/html": [
       "<div>\n",
       "<style scoped>\n",
       "    .dataframe tbody tr th:only-of-type {\n",
       "        vertical-align: middle;\n",
       "    }\n",
       "\n",
       "    .dataframe tbody tr th {\n",
       "        vertical-align: top;\n",
       "    }\n",
       "\n",
       "    .dataframe thead th {\n",
       "        text-align: right;\n",
       "    }\n",
       "</style>\n",
       "<table border=\"1\" class=\"dataframe\">\n",
       "  <thead>\n",
       "    <tr style=\"text-align: right;\">\n",
       "      <th></th>\n",
       "      <th>male</th>\n",
       "      <th>age</th>\n",
       "      <th>education</th>\n",
       "      <th>currentSmoker</th>\n",
       "      <th>cigsPerDay</th>\n",
       "      <th>BPMeds</th>\n",
       "      <th>prevalentStroke</th>\n",
       "      <th>prevalentHyp</th>\n",
       "      <th>diabetes</th>\n",
       "      <th>totChol</th>\n",
       "      <th>sysBP</th>\n",
       "      <th>diaBP</th>\n",
       "      <th>BMI</th>\n",
       "      <th>heartRate</th>\n",
       "      <th>glucose</th>\n",
       "      <th>CVD</th>\n",
       "    </tr>\n",
       "  </thead>\n",
       "  <tbody>\n",
       "    <tr>\n",
       "      <th>0</th>\n",
       "      <td>1</td>\n",
       "      <td>39</td>\n",
       "      <td>4.0</td>\n",
       "      <td>0</td>\n",
       "      <td>0.0</td>\n",
       "      <td>0.0</td>\n",
       "      <td>0</td>\n",
       "      <td>0</td>\n",
       "      <td>0</td>\n",
       "      <td>195.0</td>\n",
       "      <td>106.0</td>\n",
       "      <td>70.0</td>\n",
       "      <td>26.97</td>\n",
       "      <td>80.0</td>\n",
       "      <td>77.0</td>\n",
       "      <td>0</td>\n",
       "    </tr>\n",
       "    <tr>\n",
       "      <th>1</th>\n",
       "      <td>0</td>\n",
       "      <td>46</td>\n",
       "      <td>2.0</td>\n",
       "      <td>0</td>\n",
       "      <td>0.0</td>\n",
       "      <td>0.0</td>\n",
       "      <td>0</td>\n",
       "      <td>0</td>\n",
       "      <td>0</td>\n",
       "      <td>250.0</td>\n",
       "      <td>121.0</td>\n",
       "      <td>81.0</td>\n",
       "      <td>28.73</td>\n",
       "      <td>95.0</td>\n",
       "      <td>76.0</td>\n",
       "      <td>0</td>\n",
       "    </tr>\n",
       "    <tr>\n",
       "      <th>2</th>\n",
       "      <td>1</td>\n",
       "      <td>48</td>\n",
       "      <td>1.0</td>\n",
       "      <td>1</td>\n",
       "      <td>20.0</td>\n",
       "      <td>0.0</td>\n",
       "      <td>0</td>\n",
       "      <td>0</td>\n",
       "      <td>0</td>\n",
       "      <td>245.0</td>\n",
       "      <td>127.5</td>\n",
       "      <td>80.0</td>\n",
       "      <td>25.34</td>\n",
       "      <td>75.0</td>\n",
       "      <td>70.0</td>\n",
       "      <td>0</td>\n",
       "    </tr>\n",
       "    <tr>\n",
       "      <th>3</th>\n",
       "      <td>0</td>\n",
       "      <td>61</td>\n",
       "      <td>3.0</td>\n",
       "      <td>1</td>\n",
       "      <td>30.0</td>\n",
       "      <td>0.0</td>\n",
       "      <td>0</td>\n",
       "      <td>1</td>\n",
       "      <td>0</td>\n",
       "      <td>225.0</td>\n",
       "      <td>150.0</td>\n",
       "      <td>95.0</td>\n",
       "      <td>28.58</td>\n",
       "      <td>65.0</td>\n",
       "      <td>103.0</td>\n",
       "      <td>1</td>\n",
       "    </tr>\n",
       "    <tr>\n",
       "      <th>4</th>\n",
       "      <td>0</td>\n",
       "      <td>46</td>\n",
       "      <td>3.0</td>\n",
       "      <td>1</td>\n",
       "      <td>23.0</td>\n",
       "      <td>0.0</td>\n",
       "      <td>0</td>\n",
       "      <td>0</td>\n",
       "      <td>0</td>\n",
       "      <td>285.0</td>\n",
       "      <td>130.0</td>\n",
       "      <td>84.0</td>\n",
       "      <td>23.10</td>\n",
       "      <td>85.0</td>\n",
       "      <td>85.0</td>\n",
       "      <td>0</td>\n",
       "    </tr>\n",
       "  </tbody>\n",
       "</table>\n",
       "</div>"
      ],
      "text/plain": [
       "   male  age  education  currentSmoker  cigsPerDay  BPMeds  prevalentStroke  \\\n",
       "0     1   39        4.0              0         0.0     0.0                0   \n",
       "1     0   46        2.0              0         0.0     0.0                0   \n",
       "2     1   48        1.0              1        20.0     0.0                0   \n",
       "3     0   61        3.0              1        30.0     0.0                0   \n",
       "4     0   46        3.0              1        23.0     0.0                0   \n",
       "\n",
       "   prevalentHyp  diabetes  totChol  sysBP  diaBP    BMI  heartRate  glucose  \\\n",
       "0             0         0    195.0  106.0   70.0  26.97       80.0     77.0   \n",
       "1             0         0    250.0  121.0   81.0  28.73       95.0     76.0   \n",
       "2             0         0    245.0  127.5   80.0  25.34       75.0     70.0   \n",
       "3             1         0    225.0  150.0   95.0  28.58       65.0    103.0   \n",
       "4             0         0    285.0  130.0   84.0  23.10       85.0     85.0   \n",
       "\n",
       "   CVD  \n",
       "0    0  \n",
       "1    0  \n",
       "2    0  \n",
       "3    1  \n",
       "4    0  "
      ]
     },
     "execution_count": 4,
     "metadata": {},
     "output_type": "execute_result"
    }
   ],
   "source": [
    "df.head()"
   ]
  },
  {
   "cell_type": "code",
   "execution_count": 5,
   "metadata": {},
   "outputs": [
    {
     "name": "stdout",
     "output_type": "stream",
     "text": [
      "<class 'pandas.core.frame.DataFrame'>\n",
      "RangeIndex: 4240 entries, 0 to 4239\n",
      "Data columns (total 16 columns):\n",
      " #   Column           Non-Null Count  Dtype  \n",
      "---  ------           --------------  -----  \n",
      " 0   male             4240 non-null   int64  \n",
      " 1   age              4240 non-null   int64  \n",
      " 2   education        4135 non-null   float64\n",
      " 3   currentSmoker    4240 non-null   int64  \n",
      " 4   cigsPerDay       4211 non-null   float64\n",
      " 5   BPMeds           4187 non-null   float64\n",
      " 6   prevalentStroke  4240 non-null   int64  \n",
      " 7   prevalentHyp     4240 non-null   int64  \n",
      " 8   diabetes         4240 non-null   int64  \n",
      " 9   totChol          4190 non-null   float64\n",
      " 10  sysBP            4240 non-null   float64\n",
      " 11  diaBP            4240 non-null   float64\n",
      " 12  BMI              4221 non-null   float64\n",
      " 13  heartRate        4239 non-null   float64\n",
      " 14  glucose          3852 non-null   float64\n",
      " 15  CVD              4240 non-null   int64  \n",
      "dtypes: float64(9), int64(7)\n",
      "memory usage: 530.1 KB\n"
     ]
    }
   ],
   "source": [
    "df.info()"
   ]
  },
  {
   "cell_type": "code",
   "execution_count": 6,
   "metadata": {},
   "outputs": [
    {
     "name": "stdout",
     "output_type": "stream",
     "text": [
      "<class 'pandas.core.frame.DataFrame'>\n",
      "RangeIndex: 4240 entries, 0 to 4239\n",
      "Data columns (total 16 columns):\n",
      " #   Column           Non-Null Count  Dtype  \n",
      "---  ------           --------------  -----  \n",
      " 0   male             4240 non-null   int64  \n",
      " 1   age              4240 non-null   int64  \n",
      " 2   education        4135 non-null   float64\n",
      " 3   currentSmoker    4240 non-null   int64  \n",
      " 4   cigsPerDay       4211 non-null   float64\n",
      " 5   BPMeds           4187 non-null   float64\n",
      " 6   prevalentStroke  4240 non-null   int64  \n",
      " 7   prevalentHyp     4240 non-null   int64  \n",
      " 8   diabetes         4240 non-null   int64  \n",
      " 9   totChol          4190 non-null   float64\n",
      " 10  sysBP            4240 non-null   float64\n",
      " 11  diaBP            4240 non-null   float64\n",
      " 12  BMI              4221 non-null   float64\n",
      " 13  heartRate        4239 non-null   float64\n",
      " 14  glucose          3852 non-null   float64\n",
      " 15  CVD              4240 non-null   int64  \n",
      "dtypes: float64(9), int64(7)\n",
      "memory usage: 530.1 KB\n"
     ]
    }
   ],
   "source": [
    "df.info()"
   ]
  },
  {
   "cell_type": "code",
   "execution_count": 7,
   "metadata": {},
   "outputs": [
    {
     "data": {
      "text/plain": [
       "male                 0\n",
       "age                  0\n",
       "education          105\n",
       "currentSmoker        0\n",
       "cigsPerDay          29\n",
       "BPMeds              53\n",
       "prevalentStroke      0\n",
       "prevalentHyp         0\n",
       "diabetes             0\n",
       "totChol             50\n",
       "sysBP                0\n",
       "diaBP                0\n",
       "BMI                 19\n",
       "heartRate            1\n",
       "glucose            388\n",
       "CVD                  0\n",
       "dtype: int64"
      ]
     },
     "execution_count": 7,
     "metadata": {},
     "output_type": "execute_result"
    }
   ],
   "source": [
    "df.isnull().sum()"
   ]
  },
  {
   "cell_type": "code",
   "execution_count": 8,
   "metadata": {},
   "outputs": [],
   "source": [
    "df =  df.dropna(subset=['education','BPMeds','totChol','cigsPerDay','BMI','heartRate'])"
   ]
  },
  {
   "cell_type": "code",
   "execution_count": 9,
   "metadata": {},
   "outputs": [],
   "source": [
    "df['glucose'] = df['glucose'].fillna(df['glucose'].median())"
   ]
  },
  {
   "cell_type": "code",
   "execution_count": 10,
   "metadata": {},
   "outputs": [
    {
     "data": {
      "text/plain": [
       "male               0\n",
       "age                0\n",
       "education          0\n",
       "currentSmoker      0\n",
       "cigsPerDay         0\n",
       "BPMeds             0\n",
       "prevalentStroke    0\n",
       "prevalentHyp       0\n",
       "diabetes           0\n",
       "totChol            0\n",
       "sysBP              0\n",
       "diaBP              0\n",
       "BMI                0\n",
       "heartRate          0\n",
       "glucose            0\n",
       "CVD                0\n",
       "dtype: int64"
      ]
     },
     "execution_count": 10,
     "metadata": {},
     "output_type": "execute_result"
    }
   ],
   "source": [
    "df.isnull().sum()"
   ]
  },
  {
   "cell_type": "markdown",
   "metadata": {},
   "source": [
    "### Let's begin with some hands-on practice exercises"
   ]
  },
  {
   "cell_type": "code",
   "execution_count": 11,
   "metadata": {},
   "outputs": [
    {
     "data": {
      "text/html": [
       "<div>\n",
       "<style scoped>\n",
       "    .dataframe tbody tr th:only-of-type {\n",
       "        vertical-align: middle;\n",
       "    }\n",
       "\n",
       "    .dataframe tbody tr th {\n",
       "        vertical-align: top;\n",
       "    }\n",
       "\n",
       "    .dataframe thead th {\n",
       "        text-align: right;\n",
       "    }\n",
       "</style>\n",
       "<table border=\"1\" class=\"dataframe\">\n",
       "  <thead>\n",
       "    <tr style=\"text-align: right;\">\n",
       "      <th></th>\n",
       "      <th>male</th>\n",
       "      <th>age</th>\n",
       "      <th>education</th>\n",
       "      <th>currentSmoker</th>\n",
       "      <th>cigsPerDay</th>\n",
       "      <th>BPMeds</th>\n",
       "      <th>prevalentStroke</th>\n",
       "      <th>prevalentHyp</th>\n",
       "      <th>diabetes</th>\n",
       "      <th>totChol</th>\n",
       "      <th>sysBP</th>\n",
       "      <th>diaBP</th>\n",
       "      <th>BMI</th>\n",
       "      <th>heartRate</th>\n",
       "      <th>glucose</th>\n",
       "      <th>CVD</th>\n",
       "    </tr>\n",
       "  </thead>\n",
       "  <tbody>\n",
       "    <tr>\n",
       "      <th>0</th>\n",
       "      <td>1</td>\n",
       "      <td>39</td>\n",
       "      <td>4.0</td>\n",
       "      <td>0</td>\n",
       "      <td>0.0</td>\n",
       "      <td>0.0</td>\n",
       "      <td>0</td>\n",
       "      <td>0</td>\n",
       "      <td>0</td>\n",
       "      <td>195.0</td>\n",
       "      <td>106.0</td>\n",
       "      <td>70.0</td>\n",
       "      <td>26.97</td>\n",
       "      <td>80.0</td>\n",
       "      <td>77.0</td>\n",
       "      <td>0</td>\n",
       "    </tr>\n",
       "    <tr>\n",
       "      <th>1</th>\n",
       "      <td>0</td>\n",
       "      <td>46</td>\n",
       "      <td>2.0</td>\n",
       "      <td>0</td>\n",
       "      <td>0.0</td>\n",
       "      <td>0.0</td>\n",
       "      <td>0</td>\n",
       "      <td>0</td>\n",
       "      <td>0</td>\n",
       "      <td>250.0</td>\n",
       "      <td>121.0</td>\n",
       "      <td>81.0</td>\n",
       "      <td>28.73</td>\n",
       "      <td>95.0</td>\n",
       "      <td>76.0</td>\n",
       "      <td>0</td>\n",
       "    </tr>\n",
       "    <tr>\n",
       "      <th>2</th>\n",
       "      <td>1</td>\n",
       "      <td>48</td>\n",
       "      <td>1.0</td>\n",
       "      <td>1</td>\n",
       "      <td>20.0</td>\n",
       "      <td>0.0</td>\n",
       "      <td>0</td>\n",
       "      <td>0</td>\n",
       "      <td>0</td>\n",
       "      <td>245.0</td>\n",
       "      <td>127.5</td>\n",
       "      <td>80.0</td>\n",
       "      <td>25.34</td>\n",
       "      <td>75.0</td>\n",
       "      <td>70.0</td>\n",
       "      <td>0</td>\n",
       "    </tr>\n",
       "    <tr>\n",
       "      <th>3</th>\n",
       "      <td>0</td>\n",
       "      <td>61</td>\n",
       "      <td>3.0</td>\n",
       "      <td>1</td>\n",
       "      <td>30.0</td>\n",
       "      <td>0.0</td>\n",
       "      <td>0</td>\n",
       "      <td>1</td>\n",
       "      <td>0</td>\n",
       "      <td>225.0</td>\n",
       "      <td>150.0</td>\n",
       "      <td>95.0</td>\n",
       "      <td>28.58</td>\n",
       "      <td>65.0</td>\n",
       "      <td>103.0</td>\n",
       "      <td>1</td>\n",
       "    </tr>\n",
       "    <tr>\n",
       "      <th>4</th>\n",
       "      <td>0</td>\n",
       "      <td>46</td>\n",
       "      <td>3.0</td>\n",
       "      <td>1</td>\n",
       "      <td>23.0</td>\n",
       "      <td>0.0</td>\n",
       "      <td>0</td>\n",
       "      <td>0</td>\n",
       "      <td>0</td>\n",
       "      <td>285.0</td>\n",
       "      <td>130.0</td>\n",
       "      <td>84.0</td>\n",
       "      <td>23.10</td>\n",
       "      <td>85.0</td>\n",
       "      <td>85.0</td>\n",
       "      <td>0</td>\n",
       "    </tr>\n",
       "  </tbody>\n",
       "</table>\n",
       "</div>"
      ],
      "text/plain": [
       "   male  age  education  currentSmoker  cigsPerDay  BPMeds  prevalentStroke  \\\n",
       "0     1   39        4.0              0         0.0     0.0                0   \n",
       "1     0   46        2.0              0         0.0     0.0                0   \n",
       "2     1   48        1.0              1        20.0     0.0                0   \n",
       "3     0   61        3.0              1        30.0     0.0                0   \n",
       "4     0   46        3.0              1        23.0     0.0                0   \n",
       "\n",
       "   prevalentHyp  diabetes  totChol  sysBP  diaBP    BMI  heartRate  glucose  \\\n",
       "0             0         0    195.0  106.0   70.0  26.97       80.0     77.0   \n",
       "1             0         0    250.0  121.0   81.0  28.73       95.0     76.0   \n",
       "2             0         0    245.0  127.5   80.0  25.34       75.0     70.0   \n",
       "3             1         0    225.0  150.0   95.0  28.58       65.0    103.0   \n",
       "4             0         0    285.0  130.0   84.0  23.10       85.0     85.0   \n",
       "\n",
       "   CVD  \n",
       "0    0  \n",
       "1    0  \n",
       "2    0  \n",
       "3    1  \n",
       "4    0  "
      ]
     },
     "execution_count": 11,
     "metadata": {},
     "output_type": "execute_result"
    }
   ],
   "source": [
    "df.head()"
   ]
  },
  {
   "cell_type": "code",
   "execution_count": 12,
   "metadata": {},
   "outputs": [],
   "source": [
    "df_c = df[['male','education','currentSmoker','BPMeds','prevalentHyp','prevalentStroke','diabetes','CVD']]\n",
    "df_n = df[['age','cigsPerDay','totChol','sysBP','diaBP','BMI','heartRate','glucose']]"
   ]
  },
  {
   "cell_type": "code",
   "execution_count": 13,
   "metadata": {},
   "outputs": [],
   "source": [
    "from sklearn.preprocessing import StandardScaler\n",
    "\n",
    "ss = StandardScaler()\n",
    "\n",
    "df_nss = ss.fit_transform(df_n)\n",
    "df_nss = pd.DataFrame(df_nss,columns=df_n.columns,index=df_c.index)"
   ]
  },
  {
   "cell_type": "code",
   "execution_count": 14,
   "metadata": {},
   "outputs": [],
   "source": [
    "df_c = pd.get_dummies(df_c,columns=['education'],drop_first=True)"
   ]
  },
  {
   "cell_type": "code",
   "execution_count": 15,
   "metadata": {},
   "outputs": [],
   "source": [
    "df = pd.concat([df_nss,df_c],axis=1)"
   ]
  },
  {
   "cell_type": "code",
   "execution_count": 16,
   "metadata": {},
   "outputs": [
    {
     "data": {
      "text/html": [
       "<div>\n",
       "<style scoped>\n",
       "    .dataframe tbody tr th:only-of-type {\n",
       "        vertical-align: middle;\n",
       "    }\n",
       "\n",
       "    .dataframe tbody tr th {\n",
       "        vertical-align: top;\n",
       "    }\n",
       "\n",
       "    .dataframe thead th {\n",
       "        text-align: right;\n",
       "    }\n",
       "</style>\n",
       "<table border=\"1\" class=\"dataframe\">\n",
       "  <thead>\n",
       "    <tr style=\"text-align: right;\">\n",
       "      <th></th>\n",
       "      <th>age</th>\n",
       "      <th>cigsPerDay</th>\n",
       "      <th>totChol</th>\n",
       "      <th>sysBP</th>\n",
       "      <th>diaBP</th>\n",
       "      <th>BMI</th>\n",
       "      <th>heartRate</th>\n",
       "      <th>glucose</th>\n",
       "      <th>male</th>\n",
       "      <th>currentSmoker</th>\n",
       "      <th>BPMeds</th>\n",
       "      <th>prevalentHyp</th>\n",
       "      <th>prevalentStroke</th>\n",
       "      <th>diabetes</th>\n",
       "      <th>CVD</th>\n",
       "      <th>education_2.0</th>\n",
       "      <th>education_3.0</th>\n",
       "      <th>education_4.0</th>\n",
       "    </tr>\n",
       "  </thead>\n",
       "  <tbody>\n",
       "    <tr>\n",
       "      <th>0</th>\n",
       "      <td>-1.227690</td>\n",
       "      <td>-0.757271</td>\n",
       "      <td>-0.945063</td>\n",
       "      <td>-1.195233</td>\n",
       "      <td>-1.082956</td>\n",
       "      <td>0.293357</td>\n",
       "      <td>0.341434</td>\n",
       "      <td>-0.197849</td>\n",
       "      <td>1</td>\n",
       "      <td>0</td>\n",
       "      <td>0.0</td>\n",
       "      <td>0</td>\n",
       "      <td>0</td>\n",
       "      <td>0</td>\n",
       "      <td>0</td>\n",
       "      <td>0</td>\n",
       "      <td>0</td>\n",
       "      <td>1</td>\n",
       "    </tr>\n",
       "    <tr>\n",
       "      <th>1</th>\n",
       "      <td>-0.407183</td>\n",
       "      <td>-0.757271</td>\n",
       "      <td>0.304497</td>\n",
       "      <td>-0.511595</td>\n",
       "      <td>-0.157047</td>\n",
       "      <td>0.724831</td>\n",
       "      <td>1.582684</td>\n",
       "      <td>-0.241494</td>\n",
       "      <td>0</td>\n",
       "      <td>0</td>\n",
       "      <td>0.0</td>\n",
       "      <td>0</td>\n",
       "      <td>0</td>\n",
       "      <td>0</td>\n",
       "      <td>0</td>\n",
       "      <td>1</td>\n",
       "      <td>0</td>\n",
       "      <td>0</td>\n",
       "    </tr>\n",
       "    <tr>\n",
       "      <th>2</th>\n",
       "      <td>-0.172752</td>\n",
       "      <td>0.921206</td>\n",
       "      <td>0.190901</td>\n",
       "      <td>-0.215351</td>\n",
       "      <td>-0.241221</td>\n",
       "      <td>-0.106247</td>\n",
       "      <td>-0.072315</td>\n",
       "      <td>-0.503360</td>\n",
       "      <td>1</td>\n",
       "      <td>1</td>\n",
       "      <td>0.0</td>\n",
       "      <td>0</td>\n",
       "      <td>0</td>\n",
       "      <td>0</td>\n",
       "      <td>0</td>\n",
       "      <td>0</td>\n",
       "      <td>0</td>\n",
       "      <td>0</td>\n",
       "    </tr>\n",
       "    <tr>\n",
       "      <th>3</th>\n",
       "      <td>1.351046</td>\n",
       "      <td>1.760444</td>\n",
       "      <td>-0.263484</td>\n",
       "      <td>0.810106</td>\n",
       "      <td>1.021382</td>\n",
       "      <td>0.688057</td>\n",
       "      <td>-0.899815</td>\n",
       "      <td>0.936904</td>\n",
       "      <td>0</td>\n",
       "      <td>1</td>\n",
       "      <td>0.0</td>\n",
       "      <td>1</td>\n",
       "      <td>0</td>\n",
       "      <td>0</td>\n",
       "      <td>1</td>\n",
       "      <td>0</td>\n",
       "      <td>1</td>\n",
       "      <td>0</td>\n",
       "    </tr>\n",
       "    <tr>\n",
       "      <th>4</th>\n",
       "      <td>-0.407183</td>\n",
       "      <td>1.172977</td>\n",
       "      <td>1.099672</td>\n",
       "      <td>-0.101412</td>\n",
       "      <td>0.095473</td>\n",
       "      <td>-0.655396</td>\n",
       "      <td>0.755184</td>\n",
       "      <td>0.151306</td>\n",
       "      <td>0</td>\n",
       "      <td>1</td>\n",
       "      <td>0.0</td>\n",
       "      <td>0</td>\n",
       "      <td>0</td>\n",
       "      <td>0</td>\n",
       "      <td>0</td>\n",
       "      <td>0</td>\n",
       "      <td>1</td>\n",
       "      <td>0</td>\n",
       "    </tr>\n",
       "  </tbody>\n",
       "</table>\n",
       "</div>"
      ],
      "text/plain": [
       "        age  cigsPerDay   totChol     sysBP     diaBP       BMI  heartRate  \\\n",
       "0 -1.227690   -0.757271 -0.945063 -1.195233 -1.082956  0.293357   0.341434   \n",
       "1 -0.407183   -0.757271  0.304497 -0.511595 -0.157047  0.724831   1.582684   \n",
       "2 -0.172752    0.921206  0.190901 -0.215351 -0.241221 -0.106247  -0.072315   \n",
       "3  1.351046    1.760444 -0.263484  0.810106  1.021382  0.688057  -0.899815   \n",
       "4 -0.407183    1.172977  1.099672 -0.101412  0.095473 -0.655396   0.755184   \n",
       "\n",
       "    glucose  male  currentSmoker  BPMeds  prevalentHyp  prevalentStroke  \\\n",
       "0 -0.197849     1              0     0.0             0                0   \n",
       "1 -0.241494     0              0     0.0             0                0   \n",
       "2 -0.503360     1              1     0.0             0                0   \n",
       "3  0.936904     0              1     0.0             1                0   \n",
       "4  0.151306     0              1     0.0             0                0   \n",
       "\n",
       "   diabetes  CVD  education_2.0  education_3.0  education_4.0  \n",
       "0         0    0              0              0              1  \n",
       "1         0    0              1              0              0  \n",
       "2         0    0              0              0              0  \n",
       "3         0    1              0              1              0  \n",
       "4         0    0              0              1              0  "
      ]
     },
     "execution_count": 16,
     "metadata": {},
     "output_type": "execute_result"
    }
   ],
   "source": [
    "df.head()"
   ]
  },
  {
   "cell_type": "code",
   "execution_count": 17,
   "metadata": {},
   "outputs": [
    {
     "data": {
      "text/plain": [
       "age                0\n",
       "cigsPerDay         0\n",
       "totChol            0\n",
       "sysBP              0\n",
       "diaBP              0\n",
       "BMI                0\n",
       "heartRate          0\n",
       "glucose            0\n",
       "male               0\n",
       "currentSmoker      0\n",
       "BPMeds             0\n",
       "prevalentHyp       0\n",
       "prevalentStroke    0\n",
       "diabetes           0\n",
       "CVD                0\n",
       "education_2.0      0\n",
       "education_3.0      0\n",
       "education_4.0      0\n",
       "dtype: int64"
      ]
     },
     "execution_count": 17,
     "metadata": {},
     "output_type": "execute_result"
    }
   ],
   "source": [
    "df.isnull().sum()"
   ]
  },
  {
   "cell_type": "markdown",
   "metadata": {},
   "source": [
    "<a id=\"logreg\"> </a>\n",
    "## 1. Logistic regression model"
   ]
  },
  {
   "cell_type": "markdown",
   "metadata": {},
   "source": [
    "## We shall use the heart disease dataset"
   ]
  },
  {
   "cell_type": "markdown",
   "metadata": {
    "collapsed": true
   },
   "source": [
    "<table align=\"left\">\n",
    "    <tr>\n",
    "        <td>\n",
    "            <div align=\"left\", style=\"font-size:120%\">\n",
    "                <font color=\"#21618C\">\n",
    "                    <b>1. Are all the classes of target variable 'CVD' fairly represented by records in the considered dataset ?</b>\n",
    "                </font>\n",
    "            </div>\n",
    "        </td>\n",
    "    </tr>\n",
    "</table>"
   ]
  },
  {
   "cell_type": "code",
   "execution_count": 18,
   "metadata": {},
   "outputs": [
    {
     "name": "stdout",
     "output_type": "stream",
     "text": [
      "The percentage of classes in the dataset are:\n",
      "0    85.083981\n",
      "1    14.916019\n",
      "Name: CVD, dtype: float64\n",
      "Since both the classes are having more than 10%, we can say the data has fair representation.\n"
     ]
    }
   ],
   "source": [
    "print('The percentage of classes in the dataset are:')\n",
    "print(df['CVD'].value_counts()/len(df['CVD'])*100)\n",
    "print('Since both the classes are having more than 10%, we can say the data has fair representation.')"
   ]
  },
  {
   "cell_type": "markdown",
   "metadata": {
    "collapsed": true
   },
   "source": [
    "<table align=\"left\">\n",
    "    <tr>\n",
    "        <td>\n",
    "            <div align=\"left\", style=\"font-size:120%\">\n",
    "                <font color=\"#21618C\">\n",
    "                    <b>2. Predict whether or not a patient will have cardiovascular disease based on the information about blood pressure of the patient. Columns related to blood pressure are diaBP, sysBP and BPMeds.</b>\n",
    "                </font>\n",
    "            </div>\n",
    "        </td>\n",
    "    </tr>\n",
    "</table>"
   ]
  },
  {
   "cell_type": "code",
   "execution_count": 19,
   "metadata": {},
   "outputs": [
    {
     "name": "stdout",
     "output_type": "stream",
     "text": [
      "Optimization terminated successfully.\n",
      "         Current function value: 0.403846\n",
      "         Iterations 6\n"
     ]
    },
    {
     "data": {
      "text/html": [
       "<table class=\"simpletable\">\n",
       "<caption>Logit Regression Results</caption>\n",
       "<tr>\n",
       "  <th>Dep. Variable:</th>          <td>CVD</td>       <th>  No. Observations:  </th>  <td>  2792</td>  \n",
       "</tr>\n",
       "<tr>\n",
       "  <th>Model:</th>                 <td>Logit</td>      <th>  Df Residuals:      </th>  <td>  2788</td>  \n",
       "</tr>\n",
       "<tr>\n",
       "  <th>Method:</th>                 <td>MLE</td>       <th>  Df Model:          </th>  <td>     3</td>  \n",
       "</tr>\n",
       "<tr>\n",
       "  <th>Date:</th>            <td>Thu, 08 Apr 2021</td> <th>  Pseudo R-squ.:     </th>  <td>0.05321</td> \n",
       "</tr>\n",
       "<tr>\n",
       "  <th>Time:</th>                <td>17:08:33</td>     <th>  Log-Likelihood:    </th> <td> -1127.5</td> \n",
       "</tr>\n",
       "<tr>\n",
       "  <th>converged:</th>             <td>True</td>       <th>  LL-Null:           </th> <td> -1190.9</td> \n",
       "</tr>\n",
       "<tr>\n",
       "  <th>Covariance Type:</th>     <td>nonrobust</td>    <th>  LLR p-value:       </th> <td>2.734e-27</td>\n",
       "</tr>\n",
       "</table>\n",
       "<table class=\"simpletable\">\n",
       "<tr>\n",
       "     <td></td>       <th>coef</th>     <th>std err</th>      <th>z</th>      <th>P>|z|</th>  <th>[0.025</th>    <th>0.975]</th>  \n",
       "</tr>\n",
       "<tr>\n",
       "  <th>const</th>  <td>   -1.8269</td> <td>    0.057</td> <td>  -31.937</td> <td> 0.000</td> <td>   -1.939</td> <td>   -1.715</td>\n",
       "</tr>\n",
       "<tr>\n",
       "  <th>diaBP</th>  <td>   -0.1389</td> <td>    0.080</td> <td>   -1.741</td> <td> 0.082</td> <td>   -0.295</td> <td>    0.018</td>\n",
       "</tr>\n",
       "<tr>\n",
       "  <th>sysBP</th>  <td>    0.6094</td> <td>    0.077</td> <td>    7.872</td> <td> 0.000</td> <td>    0.458</td> <td>    0.761</td>\n",
       "</tr>\n",
       "<tr>\n",
       "  <th>BPMeds</th> <td>    0.4158</td> <td>    0.256</td> <td>    1.623</td> <td> 0.105</td> <td>   -0.086</td> <td>    0.918</td>\n",
       "</tr>\n",
       "</table>"
      ],
      "text/plain": [
       "<class 'statsmodels.iolib.summary.Summary'>\n",
       "\"\"\"\n",
       "                           Logit Regression Results                           \n",
       "==============================================================================\n",
       "Dep. Variable:                    CVD   No. Observations:                 2792\n",
       "Model:                          Logit   Df Residuals:                     2788\n",
       "Method:                           MLE   Df Model:                            3\n",
       "Date:                Thu, 08 Apr 2021   Pseudo R-squ.:                 0.05321\n",
       "Time:                        17:08:33   Log-Likelihood:                -1127.5\n",
       "converged:                       True   LL-Null:                       -1190.9\n",
       "Covariance Type:            nonrobust   LLR p-value:                 2.734e-27\n",
       "==============================================================================\n",
       "                 coef    std err          z      P>|z|      [0.025      0.975]\n",
       "------------------------------------------------------------------------------\n",
       "const         -1.8269      0.057    -31.937      0.000      -1.939      -1.715\n",
       "diaBP         -0.1389      0.080     -1.741      0.082      -0.295       0.018\n",
       "sysBP          0.6094      0.077      7.872      0.000       0.458       0.761\n",
       "BPMeds         0.4158      0.256      1.623      0.105      -0.086       0.918\n",
       "==============================================================================\n",
       "\"\"\""
      ]
     },
     "execution_count": 19,
     "metadata": {},
     "output_type": "execute_result"
    }
   ],
   "source": [
    "import statsmodels.api as sm\n",
    "\n",
    "x=df[['diaBP','sysBP','BPMeds']]\n",
    "y=df['CVD']\n",
    "xc=sm.add_constant(x)\n",
    "\n",
    "from sklearn.model_selection import train_test_split\n",
    "\n",
    "xtrain,xtest,ytrain,ytest = train_test_split(xc,y,test_size=0.3,random_state=0)\n",
    "\n",
    "model = sm.Logit(ytrain,xtrain).fit()\n",
    "model.summary()"
   ]
  },
  {
   "cell_type": "code",
   "execution_count": 20,
   "metadata": {},
   "outputs": [],
   "source": [
    "xtrain= xtrain.drop(columns=['BPMeds','diaBP'])\n",
    "xtest = xtest.drop(columns=['BPMeds','diaBP'])"
   ]
  },
  {
   "cell_type": "code",
   "execution_count": 21,
   "metadata": {},
   "outputs": [
    {
     "name": "stdout",
     "output_type": "stream",
     "text": [
      "Optimization terminated successfully.\n",
      "         Current function value: 0.404867\n",
      "         Iterations 6\n"
     ]
    },
    {
     "data": {
      "text/html": [
       "<table class=\"simpletable\">\n",
       "<caption>Logit Regression Results</caption>\n",
       "<tr>\n",
       "  <th>Dep. Variable:</th>          <td>CVD</td>       <th>  No. Observations:  </th>  <td>  2792</td>  \n",
       "</tr>\n",
       "<tr>\n",
       "  <th>Model:</th>                 <td>Logit</td>      <th>  Df Residuals:      </th>  <td>  2790</td>  \n",
       "</tr>\n",
       "<tr>\n",
       "  <th>Method:</th>                 <td>MLE</td>       <th>  Df Model:          </th>  <td>     1</td>  \n",
       "</tr>\n",
       "<tr>\n",
       "  <th>Date:</th>            <td>Thu, 08 Apr 2021</td> <th>  Pseudo R-squ.:     </th>  <td>0.05082</td> \n",
       "</tr>\n",
       "<tr>\n",
       "  <th>Time:</th>                <td>17:08:33</td>     <th>  Log-Likelihood:    </th> <td> -1130.4</td> \n",
       "</tr>\n",
       "<tr>\n",
       "  <th>converged:</th>             <td>True</td>       <th>  LL-Null:           </th> <td> -1190.9</td> \n",
       "</tr>\n",
       "<tr>\n",
       "  <th>Covariance Type:</th>     <td>nonrobust</td>    <th>  LLR p-value:       </th> <td>3.757e-28</td>\n",
       "</tr>\n",
       "</table>\n",
       "<table class=\"simpletable\">\n",
       "<tr>\n",
       "    <td></td>       <th>coef</th>     <th>std err</th>      <th>z</th>      <th>P>|z|</th>  <th>[0.025</th>    <th>0.975]</th>  \n",
       "</tr>\n",
       "<tr>\n",
       "  <th>const</th> <td>   -1.8131</td> <td>    0.057</td> <td>  -32.034</td> <td> 0.000</td> <td>   -1.924</td> <td>   -1.702</td>\n",
       "</tr>\n",
       "<tr>\n",
       "  <th>sysBP</th> <td>    0.5301</td> <td>    0.048</td> <td>   10.975</td> <td> 0.000</td> <td>    0.435</td> <td>    0.625</td>\n",
       "</tr>\n",
       "</table>"
      ],
      "text/plain": [
       "<class 'statsmodels.iolib.summary.Summary'>\n",
       "\"\"\"\n",
       "                           Logit Regression Results                           \n",
       "==============================================================================\n",
       "Dep. Variable:                    CVD   No. Observations:                 2792\n",
       "Model:                          Logit   Df Residuals:                     2790\n",
       "Method:                           MLE   Df Model:                            1\n",
       "Date:                Thu, 08 Apr 2021   Pseudo R-squ.:                 0.05082\n",
       "Time:                        17:08:33   Log-Likelihood:                -1130.4\n",
       "converged:                       True   LL-Null:                       -1190.9\n",
       "Covariance Type:            nonrobust   LLR p-value:                 3.757e-28\n",
       "==============================================================================\n",
       "                 coef    std err          z      P>|z|      [0.025      0.975]\n",
       "------------------------------------------------------------------------------\n",
       "const         -1.8131      0.057    -32.034      0.000      -1.924      -1.702\n",
       "sysBP          0.5301      0.048     10.975      0.000       0.435       0.625\n",
       "==============================================================================\n",
       "\"\"\""
      ]
     },
     "execution_count": 21,
     "metadata": {},
     "output_type": "execute_result"
    }
   ],
   "source": [
    "model = sm.Logit(ytrain,xtrain).fit()\n",
    "model.summary()"
   ]
  },
  {
   "cell_type": "markdown",
   "metadata": {},
   "source": [
    "### Conclusion:\n",
    "From the model summary, LLR pvalue < 0.05 hence we can say model is good"
   ]
  },
  {
   "cell_type": "markdown",
   "metadata": {
    "collapsed": true
   },
   "source": [
    "<table align=\"left\">\n",
    "    <tr>\n",
    "        <td>\n",
    "            <div align=\"left\", style=\"font-size:120%\">\n",
    "                <font color=\"#21618C\">\n",
    "                    <b>3. Predict whether or not a patient has cardiovascular disease using the categorical variables in the dataset. How does a unit change in each feature influence the odds of a patient having a cardiocascular disease?</b>\n",
    "                </font>\n",
    "            </div>\n",
    "        </td>\n",
    "    </tr>\n",
    "</table>"
   ]
  },
  {
   "cell_type": "code",
   "execution_count": 22,
   "metadata": {},
   "outputs": [
    {
     "data": {
      "text/html": [
       "<div>\n",
       "<style scoped>\n",
       "    .dataframe tbody tr th:only-of-type {\n",
       "        vertical-align: middle;\n",
       "    }\n",
       "\n",
       "    .dataframe tbody tr th {\n",
       "        vertical-align: top;\n",
       "    }\n",
       "\n",
       "    .dataframe thead th {\n",
       "        text-align: right;\n",
       "    }\n",
       "</style>\n",
       "<table border=\"1\" class=\"dataframe\">\n",
       "  <thead>\n",
       "    <tr style=\"text-align: right;\">\n",
       "      <th></th>\n",
       "      <th>age</th>\n",
       "      <th>cigsPerDay</th>\n",
       "      <th>totChol</th>\n",
       "      <th>sysBP</th>\n",
       "      <th>diaBP</th>\n",
       "      <th>BMI</th>\n",
       "      <th>heartRate</th>\n",
       "      <th>glucose</th>\n",
       "      <th>male</th>\n",
       "      <th>currentSmoker</th>\n",
       "      <th>BPMeds</th>\n",
       "      <th>prevalentHyp</th>\n",
       "      <th>prevalentStroke</th>\n",
       "      <th>diabetes</th>\n",
       "      <th>CVD</th>\n",
       "      <th>education_2.0</th>\n",
       "      <th>education_3.0</th>\n",
       "      <th>education_4.0</th>\n",
       "    </tr>\n",
       "  </thead>\n",
       "  <tbody>\n",
       "    <tr>\n",
       "      <th>0</th>\n",
       "      <td>-1.227690</td>\n",
       "      <td>-0.757271</td>\n",
       "      <td>-0.945063</td>\n",
       "      <td>-1.195233</td>\n",
       "      <td>-1.082956</td>\n",
       "      <td>0.293357</td>\n",
       "      <td>0.341434</td>\n",
       "      <td>-0.197849</td>\n",
       "      <td>1</td>\n",
       "      <td>0</td>\n",
       "      <td>0.0</td>\n",
       "      <td>0</td>\n",
       "      <td>0</td>\n",
       "      <td>0</td>\n",
       "      <td>0</td>\n",
       "      <td>0</td>\n",
       "      <td>0</td>\n",
       "      <td>1</td>\n",
       "    </tr>\n",
       "    <tr>\n",
       "      <th>1</th>\n",
       "      <td>-0.407183</td>\n",
       "      <td>-0.757271</td>\n",
       "      <td>0.304497</td>\n",
       "      <td>-0.511595</td>\n",
       "      <td>-0.157047</td>\n",
       "      <td>0.724831</td>\n",
       "      <td>1.582684</td>\n",
       "      <td>-0.241494</td>\n",
       "      <td>0</td>\n",
       "      <td>0</td>\n",
       "      <td>0.0</td>\n",
       "      <td>0</td>\n",
       "      <td>0</td>\n",
       "      <td>0</td>\n",
       "      <td>0</td>\n",
       "      <td>1</td>\n",
       "      <td>0</td>\n",
       "      <td>0</td>\n",
       "    </tr>\n",
       "    <tr>\n",
       "      <th>2</th>\n",
       "      <td>-0.172752</td>\n",
       "      <td>0.921206</td>\n",
       "      <td>0.190901</td>\n",
       "      <td>-0.215351</td>\n",
       "      <td>-0.241221</td>\n",
       "      <td>-0.106247</td>\n",
       "      <td>-0.072315</td>\n",
       "      <td>-0.503360</td>\n",
       "      <td>1</td>\n",
       "      <td>1</td>\n",
       "      <td>0.0</td>\n",
       "      <td>0</td>\n",
       "      <td>0</td>\n",
       "      <td>0</td>\n",
       "      <td>0</td>\n",
       "      <td>0</td>\n",
       "      <td>0</td>\n",
       "      <td>0</td>\n",
       "    </tr>\n",
       "    <tr>\n",
       "      <th>3</th>\n",
       "      <td>1.351046</td>\n",
       "      <td>1.760444</td>\n",
       "      <td>-0.263484</td>\n",
       "      <td>0.810106</td>\n",
       "      <td>1.021382</td>\n",
       "      <td>0.688057</td>\n",
       "      <td>-0.899815</td>\n",
       "      <td>0.936904</td>\n",
       "      <td>0</td>\n",
       "      <td>1</td>\n",
       "      <td>0.0</td>\n",
       "      <td>1</td>\n",
       "      <td>0</td>\n",
       "      <td>0</td>\n",
       "      <td>1</td>\n",
       "      <td>0</td>\n",
       "      <td>1</td>\n",
       "      <td>0</td>\n",
       "    </tr>\n",
       "    <tr>\n",
       "      <th>4</th>\n",
       "      <td>-0.407183</td>\n",
       "      <td>1.172977</td>\n",
       "      <td>1.099672</td>\n",
       "      <td>-0.101412</td>\n",
       "      <td>0.095473</td>\n",
       "      <td>-0.655396</td>\n",
       "      <td>0.755184</td>\n",
       "      <td>0.151306</td>\n",
       "      <td>0</td>\n",
       "      <td>1</td>\n",
       "      <td>0.0</td>\n",
       "      <td>0</td>\n",
       "      <td>0</td>\n",
       "      <td>0</td>\n",
       "      <td>0</td>\n",
       "      <td>0</td>\n",
       "      <td>1</td>\n",
       "      <td>0</td>\n",
       "    </tr>\n",
       "  </tbody>\n",
       "</table>\n",
       "</div>"
      ],
      "text/plain": [
       "        age  cigsPerDay   totChol     sysBP     diaBP       BMI  heartRate  \\\n",
       "0 -1.227690   -0.757271 -0.945063 -1.195233 -1.082956  0.293357   0.341434   \n",
       "1 -0.407183   -0.757271  0.304497 -0.511595 -0.157047  0.724831   1.582684   \n",
       "2 -0.172752    0.921206  0.190901 -0.215351 -0.241221 -0.106247  -0.072315   \n",
       "3  1.351046    1.760444 -0.263484  0.810106  1.021382  0.688057  -0.899815   \n",
       "4 -0.407183    1.172977  1.099672 -0.101412  0.095473 -0.655396   0.755184   \n",
       "\n",
       "    glucose  male  currentSmoker  BPMeds  prevalentHyp  prevalentStroke  \\\n",
       "0 -0.197849     1              0     0.0             0                0   \n",
       "1 -0.241494     0              0     0.0             0                0   \n",
       "2 -0.503360     1              1     0.0             0                0   \n",
       "3  0.936904     0              1     0.0             1                0   \n",
       "4  0.151306     0              1     0.0             0                0   \n",
       "\n",
       "   diabetes  CVD  education_2.0  education_3.0  education_4.0  \n",
       "0         0    0              0              0              1  \n",
       "1         0    0              1              0              0  \n",
       "2         0    0              0              0              0  \n",
       "3         0    1              0              1              0  \n",
       "4         0    0              0              1              0  "
      ]
     },
     "execution_count": 22,
     "metadata": {},
     "output_type": "execute_result"
    }
   ],
   "source": [
    "df.head()"
   ]
  },
  {
   "cell_type": "code",
   "execution_count": 23,
   "metadata": {},
   "outputs": [
    {
     "name": "stdout",
     "output_type": "stream",
     "text": [
      "Optimization terminated successfully.\n",
      "         Current function value: 0.397243\n",
      "         Iterations 6\n"
     ]
    },
    {
     "data": {
      "text/html": [
       "<table class=\"simpletable\">\n",
       "<caption>Logit Regression Results</caption>\n",
       "<tr>\n",
       "  <th>Dep. Variable:</th>          <td>CVD</td>       <th>  No. Observations:  </th>  <td>  2792</td>  \n",
       "</tr>\n",
       "<tr>\n",
       "  <th>Model:</th>                 <td>Logit</td>      <th>  Df Residuals:      </th>  <td>  2782</td>  \n",
       "</tr>\n",
       "<tr>\n",
       "  <th>Method:</th>                 <td>MLE</td>       <th>  Df Model:          </th>  <td>     9</td>  \n",
       "</tr>\n",
       "<tr>\n",
       "  <th>Date:</th>            <td>Thu, 08 Apr 2021</td> <th>  Pseudo R-squ.:     </th>  <td>0.06869</td> \n",
       "</tr>\n",
       "<tr>\n",
       "  <th>Time:</th>                <td>17:08:33</td>     <th>  Log-Likelihood:    </th> <td> -1109.1</td> \n",
       "</tr>\n",
       "<tr>\n",
       "  <th>converged:</th>             <td>True</td>       <th>  LL-Null:           </th> <td> -1190.9</td> \n",
       "</tr>\n",
       "<tr>\n",
       "  <th>Covariance Type:</th>     <td>nonrobust</td>    <th>  LLR p-value:       </th> <td>1.323e-30</td>\n",
       "</tr>\n",
       "</table>\n",
       "<table class=\"simpletable\">\n",
       "<tr>\n",
       "         <td></td>            <th>coef</th>     <th>std err</th>      <th>z</th>      <th>P>|z|</th>  <th>[0.025</th>    <th>0.975]</th>  \n",
       "</tr>\n",
       "<tr>\n",
       "  <th>const</th>           <td>   -2.1997</td> <td>    0.122</td> <td>  -18.095</td> <td> 0.000</td> <td>   -2.438</td> <td>   -1.961</td>\n",
       "</tr>\n",
       "<tr>\n",
       "  <th>male</th>            <td>    0.4868</td> <td>    0.114</td> <td>    4.289</td> <td> 0.000</td> <td>    0.264</td> <td>    0.709</td>\n",
       "</tr>\n",
       "<tr>\n",
       "  <th>education_2.0</th>   <td>   -0.5049</td> <td>    0.135</td> <td>   -3.752</td> <td> 0.000</td> <td>   -0.769</td> <td>   -0.241</td>\n",
       "</tr>\n",
       "<tr>\n",
       "  <th>education_3.0</th>   <td>   -0.3953</td> <td>    0.165</td> <td>   -2.403</td> <td> 0.016</td> <td>   -0.718</td> <td>   -0.073</td>\n",
       "</tr>\n",
       "<tr>\n",
       "  <th>education_4.0</th>   <td>   -0.4675</td> <td>    0.187</td> <td>   -2.506</td> <td> 0.012</td> <td>   -0.833</td> <td>   -0.102</td>\n",
       "</tr>\n",
       "<tr>\n",
       "  <th>currentSmoker</th>   <td>    0.1666</td> <td>    0.113</td> <td>    1.474</td> <td> 0.140</td> <td>   -0.055</td> <td>    0.388</td>\n",
       "</tr>\n",
       "<tr>\n",
       "  <th>BPMeds</th>          <td>    0.5840</td> <td>    0.253</td> <td>    2.311</td> <td> 0.021</td> <td>    0.089</td> <td>    1.079</td>\n",
       "</tr>\n",
       "<tr>\n",
       "  <th>prevalentStroke</th> <td>    1.0360</td> <td>    0.579</td> <td>    1.789</td> <td> 0.074</td> <td>   -0.099</td> <td>    2.171</td>\n",
       "</tr>\n",
       "<tr>\n",
       "  <th>prevalentHyp</th>    <td>    0.8784</td> <td>    0.114</td> <td>    7.675</td> <td> 0.000</td> <td>    0.654</td> <td>    1.103</td>\n",
       "</tr>\n",
       "<tr>\n",
       "  <th>diabetes</th>        <td>    1.3205</td> <td>    0.258</td> <td>    5.125</td> <td> 0.000</td> <td>    0.816</td> <td>    1.825</td>\n",
       "</tr>\n",
       "</table>"
      ],
      "text/plain": [
       "<class 'statsmodels.iolib.summary.Summary'>\n",
       "\"\"\"\n",
       "                           Logit Regression Results                           \n",
       "==============================================================================\n",
       "Dep. Variable:                    CVD   No. Observations:                 2792\n",
       "Model:                          Logit   Df Residuals:                     2782\n",
       "Method:                           MLE   Df Model:                            9\n",
       "Date:                Thu, 08 Apr 2021   Pseudo R-squ.:                 0.06869\n",
       "Time:                        17:08:33   Log-Likelihood:                -1109.1\n",
       "converged:                       True   LL-Null:                       -1190.9\n",
       "Covariance Type:            nonrobust   LLR p-value:                 1.323e-30\n",
       "===================================================================================\n",
       "                      coef    std err          z      P>|z|      [0.025      0.975]\n",
       "-----------------------------------------------------------------------------------\n",
       "const              -2.1997      0.122    -18.095      0.000      -2.438      -1.961\n",
       "male                0.4868      0.114      4.289      0.000       0.264       0.709\n",
       "education_2.0      -0.5049      0.135     -3.752      0.000      -0.769      -0.241\n",
       "education_3.0      -0.3953      0.165     -2.403      0.016      -0.718      -0.073\n",
       "education_4.0      -0.4675      0.187     -2.506      0.012      -0.833      -0.102\n",
       "currentSmoker       0.1666      0.113      1.474      0.140      -0.055       0.388\n",
       "BPMeds              0.5840      0.253      2.311      0.021       0.089       1.079\n",
       "prevalentStroke     1.0360      0.579      1.789      0.074      -0.099       2.171\n",
       "prevalentHyp        0.8784      0.114      7.675      0.000       0.654       1.103\n",
       "diabetes            1.3205      0.258      5.125      0.000       0.816       1.825\n",
       "===================================================================================\n",
       "\"\"\""
      ]
     },
     "execution_count": 23,
     "metadata": {},
     "output_type": "execute_result"
    }
   ],
   "source": [
    "x=df[['male','education_2.0','education_3.0','education_4.0','currentSmoker','BPMeds','prevalentStroke','prevalentHyp','diabetes']]\n",
    "xc= sm.add_constant(x)\n",
    "y=df['CVD']\n",
    "\n",
    "xtrain,xtest,ytrain,ytest = train_test_split(xc,y,test_size=0.3,random_state=0)\n",
    "\n",
    "\n",
    "model = sm.Logit(ytrain,xtrain).fit()\n",
    "model.summary()"
   ]
  },
  {
   "cell_type": "code",
   "execution_count": 24,
   "metadata": {},
   "outputs": [
    {
     "data": {
      "text/html": [
       "<div>\n",
       "<style scoped>\n",
       "    .dataframe tbody tr th:only-of-type {\n",
       "        vertical-align: middle;\n",
       "    }\n",
       "\n",
       "    .dataframe tbody tr th {\n",
       "        vertical-align: top;\n",
       "    }\n",
       "\n",
       "    .dataframe thead th {\n",
       "        text-align: right;\n",
       "    }\n",
       "</style>\n",
       "<table border=\"1\" class=\"dataframe\">\n",
       "  <thead>\n",
       "    <tr style=\"text-align: right;\">\n",
       "      <th></th>\n",
       "      <th>Odds</th>\n",
       "    </tr>\n",
       "  </thead>\n",
       "  <tbody>\n",
       "    <tr>\n",
       "      <th>const</th>\n",
       "      <td>0.110833</td>\n",
       "    </tr>\n",
       "    <tr>\n",
       "      <th>male</th>\n",
       "      <td>1.627153</td>\n",
       "    </tr>\n",
       "    <tr>\n",
       "      <th>education_2.0</th>\n",
       "      <td>0.603568</td>\n",
       "    </tr>\n",
       "    <tr>\n",
       "      <th>education_3.0</th>\n",
       "      <td>0.673487</td>\n",
       "    </tr>\n",
       "    <tr>\n",
       "      <th>education_4.0</th>\n",
       "      <td>0.626554</td>\n",
       "    </tr>\n",
       "    <tr>\n",
       "      <th>currentSmoker</th>\n",
       "      <td>1.181319</td>\n",
       "    </tr>\n",
       "    <tr>\n",
       "      <th>BPMeds</th>\n",
       "      <td>1.793161</td>\n",
       "    </tr>\n",
       "    <tr>\n",
       "      <th>prevalentStroke</th>\n",
       "      <td>2.817849</td>\n",
       "    </tr>\n",
       "    <tr>\n",
       "      <th>prevalentHyp</th>\n",
       "      <td>2.407040</td>\n",
       "    </tr>\n",
       "    <tr>\n",
       "      <th>diabetes</th>\n",
       "      <td>3.745364</td>\n",
       "    </tr>\n",
       "  </tbody>\n",
       "</table>\n",
       "</div>"
      ],
      "text/plain": [
       "                     Odds\n",
       "const            0.110833\n",
       "male             1.627153\n",
       "education_2.0    0.603568\n",
       "education_3.0    0.673487\n",
       "education_4.0    0.626554\n",
       "currentSmoker    1.181319\n",
       "BPMeds           1.793161\n",
       "prevalentStroke  2.817849\n",
       "prevalentHyp     2.407040\n",
       "diabetes         3.745364"
      ]
     },
     "execution_count": 24,
     "metadata": {},
     "output_type": "execute_result"
    }
   ],
   "source": [
    "df_odds = pd.DataFrame(np.exp(model.params),columns=['Odds'])\n",
    "df_odds"
   ]
  },
  {
   "cell_type": "markdown",
   "metadata": {},
   "source": [
    "Odds greater than 1 have impact on y.\n",
    "\n"
   ]
  },
  {
   "cell_type": "markdown",
   "metadata": {
    "collapsed": true
   },
   "source": [
    "<table align=\"left\">\n",
    "    <tr>\n",
    "        <td>\n",
    "            <div align=\"left\", style=\"font-size:120%\">\n",
    "                <font color=\"#21618C\">\n",
    "                    <b>4. Predit if a patient has cardiovascular disease based on whether or not the patient has history of hypertension. Calculate the odds ratio.</b>\n",
    "                </font>\n",
    "            </div>\n",
    "        </td>\n",
    "    </tr>\n",
    "</table>"
   ]
  },
  {
   "cell_type": "code",
   "execution_count": 25,
   "metadata": {},
   "outputs": [
    {
     "name": "stdout",
     "output_type": "stream",
     "text": [
      "Optimization terminated successfully.\n",
      "         Current function value: 0.411458\n",
      "         Iterations 6\n"
     ]
    },
    {
     "data": {
      "text/html": [
       "<table class=\"simpletable\">\n",
       "<caption>Logit Regression Results</caption>\n",
       "<tr>\n",
       "  <th>Dep. Variable:</th>          <td>CVD</td>       <th>  No. Observations:  </th>  <td>  2792</td>  \n",
       "</tr>\n",
       "<tr>\n",
       "  <th>Model:</th>                 <td>Logit</td>      <th>  Df Residuals:      </th>  <td>  2790</td>  \n",
       "</tr>\n",
       "<tr>\n",
       "  <th>Method:</th>                 <td>MLE</td>       <th>  Df Model:          </th>  <td>     1</td>  \n",
       "</tr>\n",
       "<tr>\n",
       "  <th>Date:</th>            <td>Thu, 08 Apr 2021</td> <th>  Pseudo R-squ.:     </th>  <td>0.03536</td> \n",
       "</tr>\n",
       "<tr>\n",
       "  <th>Time:</th>                <td>17:08:33</td>     <th>  Log-Likelihood:    </th> <td> -1148.8</td> \n",
       "</tr>\n",
       "<tr>\n",
       "  <th>converged:</th>             <td>True</td>       <th>  LL-Null:           </th> <td> -1190.9</td> \n",
       "</tr>\n",
       "<tr>\n",
       "  <th>Covariance Type:</th>     <td>nonrobust</td>    <th>  LLR p-value:       </th> <td>4.407e-20</td>\n",
       "</tr>\n",
       "</table>\n",
       "<table class=\"simpletable\">\n",
       "<tr>\n",
       "        <td></td>          <th>coef</th>     <th>std err</th>      <th>z</th>      <th>P>|z|</th>  <th>[0.025</th>    <th>0.975]</th>  \n",
       "</tr>\n",
       "<tr>\n",
       "  <th>const</th>        <td>   -2.0988</td> <td>    0.073</td> <td>  -28.774</td> <td> 0.000</td> <td>   -2.242</td> <td>   -1.956</td>\n",
       "</tr>\n",
       "<tr>\n",
       "  <th>prevalentHyp</th> <td>    0.9940</td> <td>    0.107</td> <td>    9.252</td> <td> 0.000</td> <td>    0.783</td> <td>    1.205</td>\n",
       "</tr>\n",
       "</table>"
      ],
      "text/plain": [
       "<class 'statsmodels.iolib.summary.Summary'>\n",
       "\"\"\"\n",
       "                           Logit Regression Results                           \n",
       "==============================================================================\n",
       "Dep. Variable:                    CVD   No. Observations:                 2792\n",
       "Model:                          Logit   Df Residuals:                     2790\n",
       "Method:                           MLE   Df Model:                            1\n",
       "Date:                Thu, 08 Apr 2021   Pseudo R-squ.:                 0.03536\n",
       "Time:                        17:08:33   Log-Likelihood:                -1148.8\n",
       "converged:                       True   LL-Null:                       -1190.9\n",
       "Covariance Type:            nonrobust   LLR p-value:                 4.407e-20\n",
       "================================================================================\n",
       "                   coef    std err          z      P>|z|      [0.025      0.975]\n",
       "--------------------------------------------------------------------------------\n",
       "const           -2.0988      0.073    -28.774      0.000      -2.242      -1.956\n",
       "prevalentHyp     0.9940      0.107      9.252      0.000       0.783       1.205\n",
       "================================================================================\n",
       "\"\"\""
      ]
     },
     "execution_count": 25,
     "metadata": {},
     "output_type": "execute_result"
    }
   ],
   "source": [
    "y = df['CVD']\n",
    "x = df['prevalentHyp']\n",
    "\n",
    "xc = sm.add_constant(x)\n",
    "\n",
    "xtrain,xtest,ytrain,ytest = train_test_split(xc,y,test_size=0.3,random_state=0)\n",
    "\n",
    "\n",
    "model = sm.Logit(ytrain,xtrain).fit()\n",
    "model.summary()"
   ]
  },
  {
   "cell_type": "code",
   "execution_count": 26,
   "metadata": {},
   "outputs": [
    {
     "name": "stdout",
     "output_type": "stream",
     "text": [
      "Odds of having CVD given the person has history of hypertenson is: 2.7019646970786337\n",
      "Odds of having CVD given the person has no history of hypertenson is: 0.37010106056574343\n",
      "Odds ratio is:  7.300613224259233\n"
     ]
    }
   ],
   "source": [
    "print('Odds of having CVD given the person has history of hypertenson is:',np.exp(model.params['prevalentHyp']))\n",
    "print('Odds of having CVD given the person has no history of hypertenson is:',1/np.exp(model.params['prevalentHyp']))\n",
    "print('Odds ratio is: ',np.exp(model.params['prevalentHyp'])/(1/np.exp(model.params['prevalentHyp'])))"
   ]
  },
  {
   "cell_type": "markdown",
   "metadata": {},
   "source": [
    "<a id=\"mod_eval\"> </a>\n",
    "## 2. Model Evaluation Metrics"
   ]
  },
  {
   "cell_type": "markdown",
   "metadata": {
    "collapsed": true
   },
   "source": [
    "<table align=\"left\">\n",
    "    <tr>\n",
    "        <td>\n",
    "            <div align=\"left\", style=\"font-size:120%\">\n",
    "                <font color=\"#21618C\">\n",
    "                    <b>5. Build a full model to predict if a patient will have a cardiovascular disease. Find the value of Mcfadden's R<sup>2</sup>.\n",
    "                </font>\n",
    "            </div>\n",
    "        </td>\n",
    "    </tr>\n",
    "</table>"
   ]
  },
  {
   "cell_type": "code",
   "execution_count": 27,
   "metadata": {},
   "outputs": [
    {
     "name": "stdout",
     "output_type": "stream",
     "text": [
      "Optimization terminated successfully.\n",
      "         Current function value: 0.372066\n",
      "         Iterations 7\n"
     ]
    },
    {
     "data": {
      "text/html": [
       "<table class=\"simpletable\">\n",
       "<caption>Logit Regression Results</caption>\n",
       "<tr>\n",
       "  <th>Dep. Variable:</th>          <td>CVD</td>       <th>  No. Observations:  </th>  <td>  2792</td>  \n",
       "</tr>\n",
       "<tr>\n",
       "  <th>Model:</th>                 <td>Logit</td>      <th>  Df Residuals:      </th>  <td>  2774</td>  \n",
       "</tr>\n",
       "<tr>\n",
       "  <th>Method:</th>                 <td>MLE</td>       <th>  Df Model:          </th>  <td>    17</td>  \n",
       "</tr>\n",
       "<tr>\n",
       "  <th>Date:</th>            <td>Thu, 08 Apr 2021</td> <th>  Pseudo R-squ.:     </th>  <td>0.1277</td>  \n",
       "</tr>\n",
       "<tr>\n",
       "  <th>Time:</th>                <td>17:08:34</td>     <th>  Log-Likelihood:    </th> <td> -1038.8</td> \n",
       "</tr>\n",
       "<tr>\n",
       "  <th>converged:</th>             <td>True</td>       <th>  LL-Null:           </th> <td> -1190.9</td> \n",
       "</tr>\n",
       "<tr>\n",
       "  <th>Covariance Type:</th>     <td>nonrobust</td>    <th>  LLR p-value:       </th> <td>1.535e-54</td>\n",
       "</tr>\n",
       "</table>\n",
       "<table class=\"simpletable\">\n",
       "<tr>\n",
       "         <td></td>            <th>coef</th>     <th>std err</th>      <th>z</th>      <th>P>|z|</th>  <th>[0.025</th>    <th>0.975]</th>  \n",
       "</tr>\n",
       "<tr>\n",
       "  <th>const</th>           <td>   -2.2310</td> <td>    0.155</td> <td>  -14.368</td> <td> 0.000</td> <td>   -2.535</td> <td>   -1.927</td>\n",
       "</tr>\n",
       "<tr>\n",
       "  <th>age</th>             <td>    0.5739</td> <td>    0.067</td> <td>    8.555</td> <td> 0.000</td> <td>    0.442</td> <td>    0.705</td>\n",
       "</tr>\n",
       "<tr>\n",
       "  <th>cigsPerDay</th>      <td>    0.2252</td> <td>    0.087</td> <td>    2.580</td> <td> 0.010</td> <td>    0.054</td> <td>    0.396</td>\n",
       "</tr>\n",
       "<tr>\n",
       "  <th>totChol</th>         <td>    0.0977</td> <td>    0.057</td> <td>    1.704</td> <td> 0.088</td> <td>   -0.015</td> <td>    0.210</td>\n",
       "</tr>\n",
       "<tr>\n",
       "  <th>sysBP</th>           <td>    0.2672</td> <td>    0.096</td> <td>    2.790</td> <td> 0.005</td> <td>    0.079</td> <td>    0.455</td>\n",
       "</tr>\n",
       "<tr>\n",
       "  <th>diaBP</th>           <td>   -0.0233</td> <td>    0.089</td> <td>   -0.260</td> <td> 0.795</td> <td>   -0.198</td> <td>    0.152</td>\n",
       "</tr>\n",
       "<tr>\n",
       "  <th>BMI</th>             <td>    0.0423</td> <td>    0.059</td> <td>    0.713</td> <td> 0.476</td> <td>   -0.074</td> <td>    0.159</td>\n",
       "</tr>\n",
       "<tr>\n",
       "  <th>heartRate</th>       <td>    0.0080</td> <td>    0.058</td> <td>    0.137</td> <td> 0.891</td> <td>   -0.106</td> <td>    0.122</td>\n",
       "</tr>\n",
       "<tr>\n",
       "  <th>glucose</th>         <td>    0.1840</td> <td>    0.067</td> <td>    2.748</td> <td> 0.006</td> <td>    0.053</td> <td>    0.315</td>\n",
       "</tr>\n",
       "<tr>\n",
       "  <th>male</th>            <td>    0.5031</td> <td>    0.127</td> <td>    3.973</td> <td> 0.000</td> <td>    0.255</td> <td>    0.751</td>\n",
       "</tr>\n",
       "<tr>\n",
       "  <th>currentSmoker</th>   <td>    0.0906</td> <td>    0.181</td> <td>    0.500</td> <td> 0.617</td> <td>   -0.264</td> <td>    0.446</td>\n",
       "</tr>\n",
       "<tr>\n",
       "  <th>BPMeds</th>          <td>    0.3016</td> <td>    0.270</td> <td>    1.118</td> <td> 0.264</td> <td>   -0.227</td> <td>    0.830</td>\n",
       "</tr>\n",
       "<tr>\n",
       "  <th>prevalentHyp</th>    <td>    0.1865</td> <td>    0.161</td> <td>    1.158</td> <td> 0.247</td> <td>   -0.129</td> <td>    0.502</td>\n",
       "</tr>\n",
       "<tr>\n",
       "  <th>prevalentStroke</th> <td>    1.0626</td> <td>    0.629</td> <td>    1.690</td> <td> 0.091</td> <td>   -0.170</td> <td>    2.295</td>\n",
       "</tr>\n",
       "<tr>\n",
       "  <th>diabetes</th>        <td>    0.4057</td> <td>    0.377</td> <td>    1.077</td> <td> 0.282</td> <td>   -0.333</td> <td>    1.144</td>\n",
       "</tr>\n",
       "<tr>\n",
       "  <th>education_2.0</th>   <td>   -0.2086</td> <td>    0.143</td> <td>   -1.459</td> <td> 0.144</td> <td>   -0.489</td> <td>    0.072</td>\n",
       "</tr>\n",
       "<tr>\n",
       "  <th>education_3.0</th>   <td>   -0.1800</td> <td>    0.174</td> <td>   -1.036</td> <td> 0.300</td> <td>   -0.521</td> <td>    0.160</td>\n",
       "</tr>\n",
       "<tr>\n",
       "  <th>education_4.0</th>   <td>   -0.1563</td> <td>    0.194</td> <td>   -0.805</td> <td> 0.421</td> <td>   -0.537</td> <td>    0.224</td>\n",
       "</tr>\n",
       "</table>"
      ],
      "text/plain": [
       "<class 'statsmodels.iolib.summary.Summary'>\n",
       "\"\"\"\n",
       "                           Logit Regression Results                           \n",
       "==============================================================================\n",
       "Dep. Variable:                    CVD   No. Observations:                 2792\n",
       "Model:                          Logit   Df Residuals:                     2774\n",
       "Method:                           MLE   Df Model:                           17\n",
       "Date:                Thu, 08 Apr 2021   Pseudo R-squ.:                  0.1277\n",
       "Time:                        17:08:34   Log-Likelihood:                -1038.8\n",
       "converged:                       True   LL-Null:                       -1190.9\n",
       "Covariance Type:            nonrobust   LLR p-value:                 1.535e-54\n",
       "===================================================================================\n",
       "                      coef    std err          z      P>|z|      [0.025      0.975]\n",
       "-----------------------------------------------------------------------------------\n",
       "const              -2.2310      0.155    -14.368      0.000      -2.535      -1.927\n",
       "age                 0.5739      0.067      8.555      0.000       0.442       0.705\n",
       "cigsPerDay          0.2252      0.087      2.580      0.010       0.054       0.396\n",
       "totChol             0.0977      0.057      1.704      0.088      -0.015       0.210\n",
       "sysBP               0.2672      0.096      2.790      0.005       0.079       0.455\n",
       "diaBP              -0.0233      0.089     -0.260      0.795      -0.198       0.152\n",
       "BMI                 0.0423      0.059      0.713      0.476      -0.074       0.159\n",
       "heartRate           0.0080      0.058      0.137      0.891      -0.106       0.122\n",
       "glucose             0.1840      0.067      2.748      0.006       0.053       0.315\n",
       "male                0.5031      0.127      3.973      0.000       0.255       0.751\n",
       "currentSmoker       0.0906      0.181      0.500      0.617      -0.264       0.446\n",
       "BPMeds              0.3016      0.270      1.118      0.264      -0.227       0.830\n",
       "prevalentHyp        0.1865      0.161      1.158      0.247      -0.129       0.502\n",
       "prevalentStroke     1.0626      0.629      1.690      0.091      -0.170       2.295\n",
       "diabetes            0.4057      0.377      1.077      0.282      -0.333       1.144\n",
       "education_2.0      -0.2086      0.143     -1.459      0.144      -0.489       0.072\n",
       "education_3.0      -0.1800      0.174     -1.036      0.300      -0.521       0.160\n",
       "education_4.0      -0.1563      0.194     -0.805      0.421      -0.537       0.224\n",
       "===================================================================================\n",
       "\"\"\""
      ]
     },
     "execution_count": 27,
     "metadata": {},
     "output_type": "execute_result"
    }
   ],
   "source": [
    "y = df['CVD']\n",
    "x = df.drop(columns='CVD')\n",
    "\n",
    "xc = sm.add_constant(x)\n",
    "\n",
    "\n",
    "xtrain_full,xtest_full,ytrain_full,ytest_full = train_test_split(xc,y,test_size=0.3,random_state=0)\n",
    "\n",
    "\n",
    "model_full = sm.Logit(ytrain_full,xtrain_full).fit()\n",
    "model_full.summary()"
   ]
  },
  {
   "cell_type": "code",
   "execution_count": 28,
   "metadata": {},
   "outputs": [
    {
     "name": "stdout",
     "output_type": "stream",
     "text": [
      "Mcfadden's R2 = 0.035363400374002096\n"
     ]
    }
   ],
   "source": [
    "print(\"Mcfadden's R2 =\",model.prsquared)"
   ]
  },
  {
   "cell_type": "code",
   "execution_count": 29,
   "metadata": {},
   "outputs": [],
   "source": [
    "ypred_prob_full = model_full.predict(xtest_full)\n",
    "ypred_full = ypred = [0 if x<0.05 else 1 for x in ypred_prob_full]"
   ]
  },
  {
   "cell_type": "markdown",
   "metadata": {
    "collapsed": true
   },
   "source": [
    "<table align=\"left\">\n",
    "    <tr>\n",
    "        <td>\n",
    "            <div align=\"left\", style=\"font-size:120%\">\n",
    "                <font color=\"#21618C\">\n",
    "                    <b>6. Find the significant variables in the full model when all the variables are considered in prediction of whether or not a patient has cardiovascular disease.\n",
    "                    </b>\n",
    "                </font>\n",
    "            </div>\n",
    "        </td>\n",
    "    </tr>\n",
    "</table>"
   ]
  },
  {
   "cell_type": "code",
   "execution_count": 30,
   "metadata": {},
   "outputs": [
    {
     "name": "stdout",
     "output_type": "stream",
     "text": [
      "Optimization terminated successfully.\n",
      "         Current function value: 0.372066\n",
      "         Iterations 7\n"
     ]
    },
    {
     "data": {
      "text/html": [
       "<table class=\"simpletable\">\n",
       "<caption>Logit Regression Results</caption>\n",
       "<tr>\n",
       "  <th>Dep. Variable:</th>          <td>CVD</td>       <th>  No. Observations:  </th>  <td>  2792</td>  \n",
       "</tr>\n",
       "<tr>\n",
       "  <th>Model:</th>                 <td>Logit</td>      <th>  Df Residuals:      </th>  <td>  2774</td>  \n",
       "</tr>\n",
       "<tr>\n",
       "  <th>Method:</th>                 <td>MLE</td>       <th>  Df Model:          </th>  <td>    17</td>  \n",
       "</tr>\n",
       "<tr>\n",
       "  <th>Date:</th>            <td>Thu, 08 Apr 2021</td> <th>  Pseudo R-squ.:     </th>  <td>0.1277</td>  \n",
       "</tr>\n",
       "<tr>\n",
       "  <th>Time:</th>                <td>17:08:34</td>     <th>  Log-Likelihood:    </th> <td> -1038.8</td> \n",
       "</tr>\n",
       "<tr>\n",
       "  <th>converged:</th>             <td>True</td>       <th>  LL-Null:           </th> <td> -1190.9</td> \n",
       "</tr>\n",
       "<tr>\n",
       "  <th>Covariance Type:</th>     <td>nonrobust</td>    <th>  LLR p-value:       </th> <td>1.535e-54</td>\n",
       "</tr>\n",
       "</table>\n",
       "<table class=\"simpletable\">\n",
       "<tr>\n",
       "         <td></td>            <th>coef</th>     <th>std err</th>      <th>z</th>      <th>P>|z|</th>  <th>[0.025</th>    <th>0.975]</th>  \n",
       "</tr>\n",
       "<tr>\n",
       "  <th>const</th>           <td>   -2.2310</td> <td>    0.155</td> <td>  -14.368</td> <td> 0.000</td> <td>   -2.535</td> <td>   -1.927</td>\n",
       "</tr>\n",
       "<tr>\n",
       "  <th>age</th>             <td>    0.5739</td> <td>    0.067</td> <td>    8.555</td> <td> 0.000</td> <td>    0.442</td> <td>    0.705</td>\n",
       "</tr>\n",
       "<tr>\n",
       "  <th>cigsPerDay</th>      <td>    0.2252</td> <td>    0.087</td> <td>    2.580</td> <td> 0.010</td> <td>    0.054</td> <td>    0.396</td>\n",
       "</tr>\n",
       "<tr>\n",
       "  <th>totChol</th>         <td>    0.0977</td> <td>    0.057</td> <td>    1.704</td> <td> 0.088</td> <td>   -0.015</td> <td>    0.210</td>\n",
       "</tr>\n",
       "<tr>\n",
       "  <th>sysBP</th>           <td>    0.2672</td> <td>    0.096</td> <td>    2.790</td> <td> 0.005</td> <td>    0.079</td> <td>    0.455</td>\n",
       "</tr>\n",
       "<tr>\n",
       "  <th>diaBP</th>           <td>   -0.0233</td> <td>    0.089</td> <td>   -0.260</td> <td> 0.795</td> <td>   -0.198</td> <td>    0.152</td>\n",
       "</tr>\n",
       "<tr>\n",
       "  <th>BMI</th>             <td>    0.0423</td> <td>    0.059</td> <td>    0.713</td> <td> 0.476</td> <td>   -0.074</td> <td>    0.159</td>\n",
       "</tr>\n",
       "<tr>\n",
       "  <th>heartRate</th>       <td>    0.0080</td> <td>    0.058</td> <td>    0.137</td> <td> 0.891</td> <td>   -0.106</td> <td>    0.122</td>\n",
       "</tr>\n",
       "<tr>\n",
       "  <th>glucose</th>         <td>    0.1840</td> <td>    0.067</td> <td>    2.748</td> <td> 0.006</td> <td>    0.053</td> <td>    0.315</td>\n",
       "</tr>\n",
       "<tr>\n",
       "  <th>male</th>            <td>    0.5031</td> <td>    0.127</td> <td>    3.973</td> <td> 0.000</td> <td>    0.255</td> <td>    0.751</td>\n",
       "</tr>\n",
       "<tr>\n",
       "  <th>currentSmoker</th>   <td>    0.0906</td> <td>    0.181</td> <td>    0.500</td> <td> 0.617</td> <td>   -0.264</td> <td>    0.446</td>\n",
       "</tr>\n",
       "<tr>\n",
       "  <th>BPMeds</th>          <td>    0.3016</td> <td>    0.270</td> <td>    1.118</td> <td> 0.264</td> <td>   -0.227</td> <td>    0.830</td>\n",
       "</tr>\n",
       "<tr>\n",
       "  <th>prevalentHyp</th>    <td>    0.1865</td> <td>    0.161</td> <td>    1.158</td> <td> 0.247</td> <td>   -0.129</td> <td>    0.502</td>\n",
       "</tr>\n",
       "<tr>\n",
       "  <th>prevalentStroke</th> <td>    1.0626</td> <td>    0.629</td> <td>    1.690</td> <td> 0.091</td> <td>   -0.170</td> <td>    2.295</td>\n",
       "</tr>\n",
       "<tr>\n",
       "  <th>diabetes</th>        <td>    0.4057</td> <td>    0.377</td> <td>    1.077</td> <td> 0.282</td> <td>   -0.333</td> <td>    1.144</td>\n",
       "</tr>\n",
       "<tr>\n",
       "  <th>education_2.0</th>   <td>   -0.2086</td> <td>    0.143</td> <td>   -1.459</td> <td> 0.144</td> <td>   -0.489</td> <td>    0.072</td>\n",
       "</tr>\n",
       "<tr>\n",
       "  <th>education_3.0</th>   <td>   -0.1800</td> <td>    0.174</td> <td>   -1.036</td> <td> 0.300</td> <td>   -0.521</td> <td>    0.160</td>\n",
       "</tr>\n",
       "<tr>\n",
       "  <th>education_4.0</th>   <td>   -0.1563</td> <td>    0.194</td> <td>   -0.805</td> <td> 0.421</td> <td>   -0.537</td> <td>    0.224</td>\n",
       "</tr>\n",
       "</table>"
      ],
      "text/plain": [
       "<class 'statsmodels.iolib.summary.Summary'>\n",
       "\"\"\"\n",
       "                           Logit Regression Results                           \n",
       "==============================================================================\n",
       "Dep. Variable:                    CVD   No. Observations:                 2792\n",
       "Model:                          Logit   Df Residuals:                     2774\n",
       "Method:                           MLE   Df Model:                           17\n",
       "Date:                Thu, 08 Apr 2021   Pseudo R-squ.:                  0.1277\n",
       "Time:                        17:08:34   Log-Likelihood:                -1038.8\n",
       "converged:                       True   LL-Null:                       -1190.9\n",
       "Covariance Type:            nonrobust   LLR p-value:                 1.535e-54\n",
       "===================================================================================\n",
       "                      coef    std err          z      P>|z|      [0.025      0.975]\n",
       "-----------------------------------------------------------------------------------\n",
       "const              -2.2310      0.155    -14.368      0.000      -2.535      -1.927\n",
       "age                 0.5739      0.067      8.555      0.000       0.442       0.705\n",
       "cigsPerDay          0.2252      0.087      2.580      0.010       0.054       0.396\n",
       "totChol             0.0977      0.057      1.704      0.088      -0.015       0.210\n",
       "sysBP               0.2672      0.096      2.790      0.005       0.079       0.455\n",
       "diaBP              -0.0233      0.089     -0.260      0.795      -0.198       0.152\n",
       "BMI                 0.0423      0.059      0.713      0.476      -0.074       0.159\n",
       "heartRate           0.0080      0.058      0.137      0.891      -0.106       0.122\n",
       "glucose             0.1840      0.067      2.748      0.006       0.053       0.315\n",
       "male                0.5031      0.127      3.973      0.000       0.255       0.751\n",
       "currentSmoker       0.0906      0.181      0.500      0.617      -0.264       0.446\n",
       "BPMeds              0.3016      0.270      1.118      0.264      -0.227       0.830\n",
       "prevalentHyp        0.1865      0.161      1.158      0.247      -0.129       0.502\n",
       "prevalentStroke     1.0626      0.629      1.690      0.091      -0.170       2.295\n",
       "diabetes            0.4057      0.377      1.077      0.282      -0.333       1.144\n",
       "education_2.0      -0.2086      0.143     -1.459      0.144      -0.489       0.072\n",
       "education_3.0      -0.1800      0.174     -1.036      0.300      -0.521       0.160\n",
       "education_4.0      -0.1563      0.194     -0.805      0.421      -0.537       0.224\n",
       "===================================================================================\n",
       "\"\"\""
      ]
     },
     "execution_count": 30,
     "metadata": {},
     "output_type": "execute_result"
    }
   ],
   "source": [
    "y = df['CVD']\n",
    "x = df.drop(columns='CVD')\n",
    "\n",
    "xc = sm.add_constant(x)\n",
    "\n",
    "\n",
    "xtrain,xtest,ytrain,ytest = train_test_split(xc,y,test_size=0.3,random_state=0)\n",
    "\n",
    "\n",
    "model = sm.Logit(ytrain,xtrain).fit()\n",
    "model.summary()"
   ]
  },
  {
   "cell_type": "code",
   "execution_count": 31,
   "metadata": {},
   "outputs": [
    {
     "name": "stdout",
     "output_type": "stream",
     "text": [
      "Optimization terminated successfully.\n",
      "         Current function value: 0.372066\n",
      "         Iterations 7\n",
      "\n",
      "Drop  heartRate  with pvalue  0.8910771172115118 \n",
      "\n",
      "Optimization terminated successfully.\n",
      "         Current function value: 0.372070\n",
      "         Iterations 7\n",
      "\n",
      "Drop  diaBP  with pvalue  0.7988364492275704 \n",
      "\n",
      "Optimization terminated successfully.\n",
      "         Current function value: 0.372081\n",
      "         Iterations 7\n",
      "\n",
      "Drop  currentSmoker  with pvalue  0.6129336362875781 \n",
      "\n",
      "Optimization terminated successfully.\n",
      "         Current function value: 0.372127\n",
      "         Iterations 7\n",
      "\n",
      "Drop  BMI  with pvalue  0.5337950416022901 \n",
      "\n",
      "Optimization terminated successfully.\n",
      "         Current function value: 0.372196\n",
      "         Iterations 7\n",
      "\n",
      "Drop  education_4.0  with pvalue  0.37473024131626664 \n",
      "\n",
      "Optimization terminated successfully.\n",
      "         Current function value: 0.372340\n",
      "         Iterations 7\n",
      "\n",
      "Drop  education_3.0  with pvalue  0.32534520788753096 \n",
      "\n",
      "Optimization terminated successfully.\n",
      "         Current function value: 0.372517\n",
      "         Iterations 7\n",
      "\n",
      "Drop  education_2.0  with pvalue  0.25590364903299645 \n",
      "\n",
      "Optimization terminated successfully.\n",
      "         Current function value: 0.372751\n",
      "         Iterations 7\n",
      "\n",
      "Drop  BPMeds  with pvalue  0.25268833925828327 \n",
      "\n",
      "Optimization terminated successfully.\n",
      "         Current function value: 0.372980\n",
      "         Iterations 7\n",
      "\n",
      "Drop  diabetes  with pvalue  0.23433966665466321 \n",
      "\n",
      "Optimization terminated successfully.\n",
      "         Current function value: 0.373226\n",
      "         Iterations 7\n",
      "\n",
      "Drop  prevalentHyp  with pvalue  0.19299129112115576 \n",
      "\n",
      "Optimization terminated successfully.\n",
      "         Current function value: 0.373527\n",
      "         Iterations 7\n",
      "\n",
      "Drop  totChol  with pvalue  0.077345250251992 \n",
      "\n",
      "Optimization terminated successfully.\n",
      "         Current function value: 0.374081\n",
      "         Iterations 7\n",
      "\n",
      "Drop  prevalentStroke  with pvalue  0.05614604882282124 \n",
      "\n",
      "Optimization terminated successfully.\n",
      "         Current function value: 0.374700\n",
      "         Iterations 7\n"
     ]
    }
   ],
   "source": [
    "cols = list(xtrain.columns)\n",
    "\n",
    "while len(cols)>0:\n",
    "    X = xtrain[cols]\n",
    "    M = sm.Logit(ytrain,X).fit()\n",
    "    p = M.pvalues\n",
    "    p = p.drop('const')\n",
    "    pmax = max(p)\n",
    "    feature = p.idxmax()\n",
    "    if pmax >0.05:\n",
    "        print('\\nDrop ',feature,' with pvalue ',pmax,'\\n')\n",
    "        cols.remove(feature)\n",
    "    else:\n",
    "        break"
   ]
  },
  {
   "cell_type": "code",
   "execution_count": 32,
   "metadata": {},
   "outputs": [
    {
     "name": "stdout",
     "output_type": "stream",
     "text": [
      "The significant variables are \n",
      " ['const', 'age', 'cigsPerDay', 'sysBP', 'glucose', 'male']\n"
     ]
    }
   ],
   "source": [
    "print('The significant variables are \\n',cols)"
   ]
  },
  {
   "cell_type": "markdown",
   "metadata": {
    "collapsed": true
   },
   "source": [
    "<table align=\"left\">\n",
    "    <tr>\n",
    "        <td>\n",
    "            <div align=\"left\", style=\"font-size:120%\">\n",
    "                <font color=\"#21618C\">\n",
    "                    <b>7. How do the coefficients of each feature form the dataset impact the odds of a patient having a cardiovascular disease?\n",
    "                    </b>\n",
    "                </font>\n",
    "            </div>\n",
    "        </td>\n",
    "    </tr>\n",
    "</table>"
   ]
  },
  {
   "cell_type": "code",
   "execution_count": 33,
   "metadata": {},
   "outputs": [
    {
     "name": "stdout",
     "output_type": "stream",
     "text": [
      "Optimization terminated successfully.\n",
      "         Current function value: 0.372066\n",
      "         Iterations 7\n"
     ]
    },
    {
     "data": {
      "text/html": [
       "<table class=\"simpletable\">\n",
       "<caption>Logit Regression Results</caption>\n",
       "<tr>\n",
       "  <th>Dep. Variable:</th>          <td>CVD</td>       <th>  No. Observations:  </th>  <td>  2792</td>  \n",
       "</tr>\n",
       "<tr>\n",
       "  <th>Model:</th>                 <td>Logit</td>      <th>  Df Residuals:      </th>  <td>  2774</td>  \n",
       "</tr>\n",
       "<tr>\n",
       "  <th>Method:</th>                 <td>MLE</td>       <th>  Df Model:          </th>  <td>    17</td>  \n",
       "</tr>\n",
       "<tr>\n",
       "  <th>Date:</th>            <td>Thu, 08 Apr 2021</td> <th>  Pseudo R-squ.:     </th>  <td>0.1277</td>  \n",
       "</tr>\n",
       "<tr>\n",
       "  <th>Time:</th>                <td>17:08:34</td>     <th>  Log-Likelihood:    </th> <td> -1038.8</td> \n",
       "</tr>\n",
       "<tr>\n",
       "  <th>converged:</th>             <td>True</td>       <th>  LL-Null:           </th> <td> -1190.9</td> \n",
       "</tr>\n",
       "<tr>\n",
       "  <th>Covariance Type:</th>     <td>nonrobust</td>    <th>  LLR p-value:       </th> <td>1.535e-54</td>\n",
       "</tr>\n",
       "</table>\n",
       "<table class=\"simpletable\">\n",
       "<tr>\n",
       "         <td></td>            <th>coef</th>     <th>std err</th>      <th>z</th>      <th>P>|z|</th>  <th>[0.025</th>    <th>0.975]</th>  \n",
       "</tr>\n",
       "<tr>\n",
       "  <th>const</th>           <td>   -2.2310</td> <td>    0.155</td> <td>  -14.368</td> <td> 0.000</td> <td>   -2.535</td> <td>   -1.927</td>\n",
       "</tr>\n",
       "<tr>\n",
       "  <th>age</th>             <td>    0.5739</td> <td>    0.067</td> <td>    8.555</td> <td> 0.000</td> <td>    0.442</td> <td>    0.705</td>\n",
       "</tr>\n",
       "<tr>\n",
       "  <th>cigsPerDay</th>      <td>    0.2252</td> <td>    0.087</td> <td>    2.580</td> <td> 0.010</td> <td>    0.054</td> <td>    0.396</td>\n",
       "</tr>\n",
       "<tr>\n",
       "  <th>totChol</th>         <td>    0.0977</td> <td>    0.057</td> <td>    1.704</td> <td> 0.088</td> <td>   -0.015</td> <td>    0.210</td>\n",
       "</tr>\n",
       "<tr>\n",
       "  <th>sysBP</th>           <td>    0.2672</td> <td>    0.096</td> <td>    2.790</td> <td> 0.005</td> <td>    0.079</td> <td>    0.455</td>\n",
       "</tr>\n",
       "<tr>\n",
       "  <th>diaBP</th>           <td>   -0.0233</td> <td>    0.089</td> <td>   -0.260</td> <td> 0.795</td> <td>   -0.198</td> <td>    0.152</td>\n",
       "</tr>\n",
       "<tr>\n",
       "  <th>BMI</th>             <td>    0.0423</td> <td>    0.059</td> <td>    0.713</td> <td> 0.476</td> <td>   -0.074</td> <td>    0.159</td>\n",
       "</tr>\n",
       "<tr>\n",
       "  <th>heartRate</th>       <td>    0.0080</td> <td>    0.058</td> <td>    0.137</td> <td> 0.891</td> <td>   -0.106</td> <td>    0.122</td>\n",
       "</tr>\n",
       "<tr>\n",
       "  <th>glucose</th>         <td>    0.1840</td> <td>    0.067</td> <td>    2.748</td> <td> 0.006</td> <td>    0.053</td> <td>    0.315</td>\n",
       "</tr>\n",
       "<tr>\n",
       "  <th>male</th>            <td>    0.5031</td> <td>    0.127</td> <td>    3.973</td> <td> 0.000</td> <td>    0.255</td> <td>    0.751</td>\n",
       "</tr>\n",
       "<tr>\n",
       "  <th>currentSmoker</th>   <td>    0.0906</td> <td>    0.181</td> <td>    0.500</td> <td> 0.617</td> <td>   -0.264</td> <td>    0.446</td>\n",
       "</tr>\n",
       "<tr>\n",
       "  <th>BPMeds</th>          <td>    0.3016</td> <td>    0.270</td> <td>    1.118</td> <td> 0.264</td> <td>   -0.227</td> <td>    0.830</td>\n",
       "</tr>\n",
       "<tr>\n",
       "  <th>prevalentHyp</th>    <td>    0.1865</td> <td>    0.161</td> <td>    1.158</td> <td> 0.247</td> <td>   -0.129</td> <td>    0.502</td>\n",
       "</tr>\n",
       "<tr>\n",
       "  <th>prevalentStroke</th> <td>    1.0626</td> <td>    0.629</td> <td>    1.690</td> <td> 0.091</td> <td>   -0.170</td> <td>    2.295</td>\n",
       "</tr>\n",
       "<tr>\n",
       "  <th>diabetes</th>        <td>    0.4057</td> <td>    0.377</td> <td>    1.077</td> <td> 0.282</td> <td>   -0.333</td> <td>    1.144</td>\n",
       "</tr>\n",
       "<tr>\n",
       "  <th>education_2.0</th>   <td>   -0.2086</td> <td>    0.143</td> <td>   -1.459</td> <td> 0.144</td> <td>   -0.489</td> <td>    0.072</td>\n",
       "</tr>\n",
       "<tr>\n",
       "  <th>education_3.0</th>   <td>   -0.1800</td> <td>    0.174</td> <td>   -1.036</td> <td> 0.300</td> <td>   -0.521</td> <td>    0.160</td>\n",
       "</tr>\n",
       "<tr>\n",
       "  <th>education_4.0</th>   <td>   -0.1563</td> <td>    0.194</td> <td>   -0.805</td> <td> 0.421</td> <td>   -0.537</td> <td>    0.224</td>\n",
       "</tr>\n",
       "</table>"
      ],
      "text/plain": [
       "<class 'statsmodels.iolib.summary.Summary'>\n",
       "\"\"\"\n",
       "                           Logit Regression Results                           \n",
       "==============================================================================\n",
       "Dep. Variable:                    CVD   No. Observations:                 2792\n",
       "Model:                          Logit   Df Residuals:                     2774\n",
       "Method:                           MLE   Df Model:                           17\n",
       "Date:                Thu, 08 Apr 2021   Pseudo R-squ.:                  0.1277\n",
       "Time:                        17:08:34   Log-Likelihood:                -1038.8\n",
       "converged:                       True   LL-Null:                       -1190.9\n",
       "Covariance Type:            nonrobust   LLR p-value:                 1.535e-54\n",
       "===================================================================================\n",
       "                      coef    std err          z      P>|z|      [0.025      0.975]\n",
       "-----------------------------------------------------------------------------------\n",
       "const              -2.2310      0.155    -14.368      0.000      -2.535      -1.927\n",
       "age                 0.5739      0.067      8.555      0.000       0.442       0.705\n",
       "cigsPerDay          0.2252      0.087      2.580      0.010       0.054       0.396\n",
       "totChol             0.0977      0.057      1.704      0.088      -0.015       0.210\n",
       "sysBP               0.2672      0.096      2.790      0.005       0.079       0.455\n",
       "diaBP              -0.0233      0.089     -0.260      0.795      -0.198       0.152\n",
       "BMI                 0.0423      0.059      0.713      0.476      -0.074       0.159\n",
       "heartRate           0.0080      0.058      0.137      0.891      -0.106       0.122\n",
       "glucose             0.1840      0.067      2.748      0.006       0.053       0.315\n",
       "male                0.5031      0.127      3.973      0.000       0.255       0.751\n",
       "currentSmoker       0.0906      0.181      0.500      0.617      -0.264       0.446\n",
       "BPMeds              0.3016      0.270      1.118      0.264      -0.227       0.830\n",
       "prevalentHyp        0.1865      0.161      1.158      0.247      -0.129       0.502\n",
       "prevalentStroke     1.0626      0.629      1.690      0.091      -0.170       2.295\n",
       "diabetes            0.4057      0.377      1.077      0.282      -0.333       1.144\n",
       "education_2.0      -0.2086      0.143     -1.459      0.144      -0.489       0.072\n",
       "education_3.0      -0.1800      0.174     -1.036      0.300      -0.521       0.160\n",
       "education_4.0      -0.1563      0.194     -0.805      0.421      -0.537       0.224\n",
       "===================================================================================\n",
       "\"\"\""
      ]
     },
     "execution_count": 33,
     "metadata": {},
     "output_type": "execute_result"
    }
   ],
   "source": [
    "# type your code here\n",
    "y = df['CVD']\n",
    "x = df.drop(columns='CVD')\n",
    "\n",
    "xc = sm.add_constant(x)\n",
    "\n",
    "xtrain,xtest,ytrain,ytest = train_test_split(xc,y,test_size=0.3,random_state=0)\n",
    "\n",
    "model = sm.Logit(ytrain,xtrain).fit()\n",
    "model.summary()"
   ]
  },
  {
   "cell_type": "markdown",
   "metadata": {},
   "source": [
    "### Conclusion:\n",
    "1. If the gender of the person is male the log of odd of CVD is higher by 0.5031.\n",
    "2. As age increases by 1 year the log of odds of CVD increases by 0.0609.\n",
    "3. If the person is a smoker at present then the log of odds of cvd increases by 0.286.\n",
    "4. As the cigarettes per day increases by 1 the log of odds of cvd increases by 0.0204.\n",
    "5. If the person is taking BPMeds the log of odds of CVD is higher by 0.231.\n",
    "6. If the person has prevalent stroke, then the log of odds of CVD is higher by 0.9781\n",
    "7. If the person has prevalent hypertension, then the log of odds of CVD is higher by 0.2310\n",
    "8. If the person has diabetes, then the log of odds of CVD is higher by 0.3508\n",
    "9. As the Total cholesterol increases by 1 unit the log of odds of cvd increases by 0.0018.\n",
    "10. As the sysBP increases by 1unit the log of odds of cvd increases by 0.0142.\n",
    "11. As the diaBP increases by 1unit the log of odds of cvd reduces by 0.0030.\n",
    "12. As the BMI increases by 1unit the log of odds of cvd increases by 0.0022.\n",
    "13. As the heartrate increases by 1 unit the log of odds of cvd reduces by 0.0009.\n",
    "14. As the glucose increases by 1 unit the log of odds of cvd increases by 0.0048.\n",
    "15. If the person has education of kind 2 the log of odds of CVD reduces by 0.1867.\n",
    "16. If the person has education of kind 2 the log of odds of CVD reduces by 0.0880.\n",
    "\n"
   ]
  },
  {
   "cell_type": "code",
   "execution_count": 34,
   "metadata": {},
   "outputs": [
    {
     "data": {
      "text/html": [
       "<div>\n",
       "<style scoped>\n",
       "    .dataframe tbody tr th:only-of-type {\n",
       "        vertical-align: middle;\n",
       "    }\n",
       "\n",
       "    .dataframe tbody tr th {\n",
       "        vertical-align: top;\n",
       "    }\n",
       "\n",
       "    .dataframe thead th {\n",
       "        text-align: right;\n",
       "    }\n",
       "</style>\n",
       "<table border=\"1\" class=\"dataframe\">\n",
       "  <thead>\n",
       "    <tr style=\"text-align: right;\">\n",
       "      <th></th>\n",
       "      <th>Odds</th>\n",
       "    </tr>\n",
       "  </thead>\n",
       "  <tbody>\n",
       "    <tr>\n",
       "      <th>const</th>\n",
       "      <td>0.107419</td>\n",
       "    </tr>\n",
       "    <tr>\n",
       "      <th>age</th>\n",
       "      <td>1.775265</td>\n",
       "    </tr>\n",
       "    <tr>\n",
       "      <th>cigsPerDay</th>\n",
       "      <td>1.252535</td>\n",
       "    </tr>\n",
       "    <tr>\n",
       "      <th>totChol</th>\n",
       "      <td>1.102648</td>\n",
       "    </tr>\n",
       "    <tr>\n",
       "      <th>sysBP</th>\n",
       "      <td>1.306238</td>\n",
       "    </tr>\n",
       "    <tr>\n",
       "      <th>diaBP</th>\n",
       "      <td>0.977010</td>\n",
       "    </tr>\n",
       "    <tr>\n",
       "      <th>BMI</th>\n",
       "      <td>1.043215</td>\n",
       "    </tr>\n",
       "    <tr>\n",
       "      <th>heartRate</th>\n",
       "      <td>1.007996</td>\n",
       "    </tr>\n",
       "    <tr>\n",
       "      <th>glucose</th>\n",
       "      <td>1.201961</td>\n",
       "    </tr>\n",
       "    <tr>\n",
       "      <th>male</th>\n",
       "      <td>1.653860</td>\n",
       "    </tr>\n",
       "    <tr>\n",
       "      <th>currentSmoker</th>\n",
       "      <td>1.094797</td>\n",
       "    </tr>\n",
       "    <tr>\n",
       "      <th>BPMeds</th>\n",
       "      <td>1.351988</td>\n",
       "    </tr>\n",
       "    <tr>\n",
       "      <th>prevalentHyp</th>\n",
       "      <td>1.205065</td>\n",
       "    </tr>\n",
       "    <tr>\n",
       "      <th>prevalentStroke</th>\n",
       "      <td>2.893813</td>\n",
       "    </tr>\n",
       "    <tr>\n",
       "      <th>diabetes</th>\n",
       "      <td>1.500373</td>\n",
       "    </tr>\n",
       "    <tr>\n",
       "      <th>education_2.0</th>\n",
       "      <td>0.811727</td>\n",
       "    </tr>\n",
       "    <tr>\n",
       "      <th>education_3.0</th>\n",
       "      <td>0.835252</td>\n",
       "    </tr>\n",
       "    <tr>\n",
       "      <th>education_4.0</th>\n",
       "      <td>0.855334</td>\n",
       "    </tr>\n",
       "  </tbody>\n",
       "</table>\n",
       "</div>"
      ],
      "text/plain": [
       "                     Odds\n",
       "const            0.107419\n",
       "age              1.775265\n",
       "cigsPerDay       1.252535\n",
       "totChol          1.102648\n",
       "sysBP            1.306238\n",
       "diaBP            0.977010\n",
       "BMI              1.043215\n",
       "heartRate        1.007996\n",
       "glucose          1.201961\n",
       "male             1.653860\n",
       "currentSmoker    1.094797\n",
       "BPMeds           1.351988\n",
       "prevalentHyp     1.205065\n",
       "prevalentStroke  2.893813\n",
       "diabetes         1.500373\n",
       "education_2.0    0.811727\n",
       "education_3.0    0.835252\n",
       "education_4.0    0.855334"
      ]
     },
     "execution_count": 34,
     "metadata": {},
     "output_type": "execute_result"
    }
   ],
   "source": [
    "pd.DataFrame(np.exp(model.params),columns=['Odds'])"
   ]
  },
  {
   "cell_type": "markdown",
   "metadata": {},
   "source": [
    "<a id=\"perf_eval\"> </a>\n",
    "## 3. Performance evaluation metrics"
   ]
  },
  {
   "cell_type": "markdown",
   "metadata": {
    "collapsed": true
   },
   "source": [
    "<table align=\"left\">\n",
    "    <tr>\n",
    "        <td>\n",
    "            <div align=\"left\", style=\"font-size:120%\">\n",
    "                <font color=\"#21618C\">\n",
    "                        <b>8. For the full model, calculate the accuracy manually using the confusion matrix. Consider 0.5 as the probability threshold.</b>\n",
    "                </font>\n",
    "            </div>\n",
    "        </td>\n",
    "    </tr>\n",
    "</table>"
   ]
  },
  {
   "cell_type": "code",
   "execution_count": 35,
   "metadata": {},
   "outputs": [
    {
     "name": "stdout",
     "output_type": "stream",
     "text": [
      "Optimization terminated successfully.\n",
      "         Current function value: 0.372066\n",
      "         Iterations 7\n"
     ]
    },
    {
     "data": {
      "text/html": [
       "<table class=\"simpletable\">\n",
       "<caption>Logit Regression Results</caption>\n",
       "<tr>\n",
       "  <th>Dep. Variable:</th>          <td>CVD</td>       <th>  No. Observations:  </th>  <td>  2792</td>  \n",
       "</tr>\n",
       "<tr>\n",
       "  <th>Model:</th>                 <td>Logit</td>      <th>  Df Residuals:      </th>  <td>  2774</td>  \n",
       "</tr>\n",
       "<tr>\n",
       "  <th>Method:</th>                 <td>MLE</td>       <th>  Df Model:          </th>  <td>    17</td>  \n",
       "</tr>\n",
       "<tr>\n",
       "  <th>Date:</th>            <td>Thu, 08 Apr 2021</td> <th>  Pseudo R-squ.:     </th>  <td>0.1277</td>  \n",
       "</tr>\n",
       "<tr>\n",
       "  <th>Time:</th>                <td>17:08:34</td>     <th>  Log-Likelihood:    </th> <td> -1038.8</td> \n",
       "</tr>\n",
       "<tr>\n",
       "  <th>converged:</th>             <td>True</td>       <th>  LL-Null:           </th> <td> -1190.9</td> \n",
       "</tr>\n",
       "<tr>\n",
       "  <th>Covariance Type:</th>     <td>nonrobust</td>    <th>  LLR p-value:       </th> <td>1.535e-54</td>\n",
       "</tr>\n",
       "</table>\n",
       "<table class=\"simpletable\">\n",
       "<tr>\n",
       "         <td></td>            <th>coef</th>     <th>std err</th>      <th>z</th>      <th>P>|z|</th>  <th>[0.025</th>    <th>0.975]</th>  \n",
       "</tr>\n",
       "<tr>\n",
       "  <th>const</th>           <td>   -2.2310</td> <td>    0.155</td> <td>  -14.368</td> <td> 0.000</td> <td>   -2.535</td> <td>   -1.927</td>\n",
       "</tr>\n",
       "<tr>\n",
       "  <th>age</th>             <td>    0.5739</td> <td>    0.067</td> <td>    8.555</td> <td> 0.000</td> <td>    0.442</td> <td>    0.705</td>\n",
       "</tr>\n",
       "<tr>\n",
       "  <th>cigsPerDay</th>      <td>    0.2252</td> <td>    0.087</td> <td>    2.580</td> <td> 0.010</td> <td>    0.054</td> <td>    0.396</td>\n",
       "</tr>\n",
       "<tr>\n",
       "  <th>totChol</th>         <td>    0.0977</td> <td>    0.057</td> <td>    1.704</td> <td> 0.088</td> <td>   -0.015</td> <td>    0.210</td>\n",
       "</tr>\n",
       "<tr>\n",
       "  <th>sysBP</th>           <td>    0.2672</td> <td>    0.096</td> <td>    2.790</td> <td> 0.005</td> <td>    0.079</td> <td>    0.455</td>\n",
       "</tr>\n",
       "<tr>\n",
       "  <th>diaBP</th>           <td>   -0.0233</td> <td>    0.089</td> <td>   -0.260</td> <td> 0.795</td> <td>   -0.198</td> <td>    0.152</td>\n",
       "</tr>\n",
       "<tr>\n",
       "  <th>BMI</th>             <td>    0.0423</td> <td>    0.059</td> <td>    0.713</td> <td> 0.476</td> <td>   -0.074</td> <td>    0.159</td>\n",
       "</tr>\n",
       "<tr>\n",
       "  <th>heartRate</th>       <td>    0.0080</td> <td>    0.058</td> <td>    0.137</td> <td> 0.891</td> <td>   -0.106</td> <td>    0.122</td>\n",
       "</tr>\n",
       "<tr>\n",
       "  <th>glucose</th>         <td>    0.1840</td> <td>    0.067</td> <td>    2.748</td> <td> 0.006</td> <td>    0.053</td> <td>    0.315</td>\n",
       "</tr>\n",
       "<tr>\n",
       "  <th>male</th>            <td>    0.5031</td> <td>    0.127</td> <td>    3.973</td> <td> 0.000</td> <td>    0.255</td> <td>    0.751</td>\n",
       "</tr>\n",
       "<tr>\n",
       "  <th>currentSmoker</th>   <td>    0.0906</td> <td>    0.181</td> <td>    0.500</td> <td> 0.617</td> <td>   -0.264</td> <td>    0.446</td>\n",
       "</tr>\n",
       "<tr>\n",
       "  <th>BPMeds</th>          <td>    0.3016</td> <td>    0.270</td> <td>    1.118</td> <td> 0.264</td> <td>   -0.227</td> <td>    0.830</td>\n",
       "</tr>\n",
       "<tr>\n",
       "  <th>prevalentHyp</th>    <td>    0.1865</td> <td>    0.161</td> <td>    1.158</td> <td> 0.247</td> <td>   -0.129</td> <td>    0.502</td>\n",
       "</tr>\n",
       "<tr>\n",
       "  <th>prevalentStroke</th> <td>    1.0626</td> <td>    0.629</td> <td>    1.690</td> <td> 0.091</td> <td>   -0.170</td> <td>    2.295</td>\n",
       "</tr>\n",
       "<tr>\n",
       "  <th>diabetes</th>        <td>    0.4057</td> <td>    0.377</td> <td>    1.077</td> <td> 0.282</td> <td>   -0.333</td> <td>    1.144</td>\n",
       "</tr>\n",
       "<tr>\n",
       "  <th>education_2.0</th>   <td>   -0.2086</td> <td>    0.143</td> <td>   -1.459</td> <td> 0.144</td> <td>   -0.489</td> <td>    0.072</td>\n",
       "</tr>\n",
       "<tr>\n",
       "  <th>education_3.0</th>   <td>   -0.1800</td> <td>    0.174</td> <td>   -1.036</td> <td> 0.300</td> <td>   -0.521</td> <td>    0.160</td>\n",
       "</tr>\n",
       "<tr>\n",
       "  <th>education_4.0</th>   <td>   -0.1563</td> <td>    0.194</td> <td>   -0.805</td> <td> 0.421</td> <td>   -0.537</td> <td>    0.224</td>\n",
       "</tr>\n",
       "</table>"
      ],
      "text/plain": [
       "<class 'statsmodels.iolib.summary.Summary'>\n",
       "\"\"\"\n",
       "                           Logit Regression Results                           \n",
       "==============================================================================\n",
       "Dep. Variable:                    CVD   No. Observations:                 2792\n",
       "Model:                          Logit   Df Residuals:                     2774\n",
       "Method:                           MLE   Df Model:                           17\n",
       "Date:                Thu, 08 Apr 2021   Pseudo R-squ.:                  0.1277\n",
       "Time:                        17:08:34   Log-Likelihood:                -1038.8\n",
       "converged:                       True   LL-Null:                       -1190.9\n",
       "Covariance Type:            nonrobust   LLR p-value:                 1.535e-54\n",
       "===================================================================================\n",
       "                      coef    std err          z      P>|z|      [0.025      0.975]\n",
       "-----------------------------------------------------------------------------------\n",
       "const              -2.2310      0.155    -14.368      0.000      -2.535      -1.927\n",
       "age                 0.5739      0.067      8.555      0.000       0.442       0.705\n",
       "cigsPerDay          0.2252      0.087      2.580      0.010       0.054       0.396\n",
       "totChol             0.0977      0.057      1.704      0.088      -0.015       0.210\n",
       "sysBP               0.2672      0.096      2.790      0.005       0.079       0.455\n",
       "diaBP              -0.0233      0.089     -0.260      0.795      -0.198       0.152\n",
       "BMI                 0.0423      0.059      0.713      0.476      -0.074       0.159\n",
       "heartRate           0.0080      0.058      0.137      0.891      -0.106       0.122\n",
       "glucose             0.1840      0.067      2.748      0.006       0.053       0.315\n",
       "male                0.5031      0.127      3.973      0.000       0.255       0.751\n",
       "currentSmoker       0.0906      0.181      0.500      0.617      -0.264       0.446\n",
       "BPMeds              0.3016      0.270      1.118      0.264      -0.227       0.830\n",
       "prevalentHyp        0.1865      0.161      1.158      0.247      -0.129       0.502\n",
       "prevalentStroke     1.0626      0.629      1.690      0.091      -0.170       2.295\n",
       "diabetes            0.4057      0.377      1.077      0.282      -0.333       1.144\n",
       "education_2.0      -0.2086      0.143     -1.459      0.144      -0.489       0.072\n",
       "education_3.0      -0.1800      0.174     -1.036      0.300      -0.521       0.160\n",
       "education_4.0      -0.1563      0.194     -0.805      0.421      -0.537       0.224\n",
       "===================================================================================\n",
       "\"\"\""
      ]
     },
     "execution_count": 35,
     "metadata": {},
     "output_type": "execute_result"
    }
   ],
   "source": [
    "y = df['CVD']\n",
    "x = df.drop(columns='CVD')\n",
    "\n",
    "xc = sm.add_constant(x)\n",
    "\n",
    "xtrain,xtest,ytrain,ytest = train_test_split(xc,y,test_size=0.3,random_state=0)\n",
    "\n",
    "model = sm.Logit(ytrain,xtrain).fit()\n",
    "model.summary()"
   ]
  },
  {
   "cell_type": "code",
   "execution_count": 36,
   "metadata": {},
   "outputs": [],
   "source": [
    "ypred = model.predict(xtest)\n",
    "ypred = [0 if x<0.05 else 1 for x in ypred]"
   ]
  },
  {
   "cell_type": "code",
   "execution_count": 37,
   "metadata": {},
   "outputs": [
    {
     "data": {
      "text/plain": [
       "array([[190, 837],\n",
       "       [  8, 162]], dtype=int64)"
      ]
     },
     "execution_count": 37,
     "metadata": {},
     "output_type": "execute_result"
    }
   ],
   "source": [
    "cm=confusion_matrix(ytest,ypred)\n",
    "cm"
   ]
  },
  {
   "cell_type": "code",
   "execution_count": 38,
   "metadata": {},
   "outputs": [],
   "source": [
    "TN = cm[0,0]\n",
    "TP = cm[1,1]\n",
    "FP = cm[0,1]\n",
    "FN = cm[1,0]"
   ]
  },
  {
   "cell_type": "code",
   "execution_count": 39,
   "metadata": {},
   "outputs": [],
   "source": [
    "accuracy =(TN+TP)/(TN+TP+FN+FP)"
   ]
  },
  {
   "cell_type": "code",
   "execution_count": 40,
   "metadata": {},
   "outputs": [
    {
     "name": "stdout",
     "output_type": "stream",
     "text": [
      "Accuracy= 0.29406850459482037\n"
     ]
    }
   ],
   "source": [
    "print('Accuracy=',accuracy)"
   ]
  },
  {
   "cell_type": "markdown",
   "metadata": {
    "collapsed": true
   },
   "source": [
    "<table align=\"left\">\n",
    "    <tr>\n",
    "        <td>\n",
    "            <div align=\"left\", style=\"font-size:120%\">\n",
    "                <font color=\"#21618C\">\n",
    "                    <b>9.  Calculate value of kappa for the full model built in question 5. Consider threshold value as 0.18</b>\n",
    "                </font>\n",
    "            </div>\n",
    "        </td>\n",
    "    </tr>\n",
    "</table>"
   ]
  },
  {
   "cell_type": "code",
   "execution_count": 41,
   "metadata": {},
   "outputs": [
    {
     "data": {
      "text/plain": [
       "0.04545724793395445"
      ]
     },
     "execution_count": 41,
     "metadata": {},
     "output_type": "execute_result"
    }
   ],
   "source": [
    "cohen_kappa_score(ytest_full,ypred_full)"
   ]
  },
  {
   "cell_type": "markdown",
   "metadata": {},
   "source": [
    "The value of 0.04 indicates no agreement"
   ]
  },
  {
   "cell_type": "markdown",
   "metadata": {
    "collapsed": true
   },
   "source": [
    "<table align=\"left\">\n",
    "    <tr>\n",
    "        <td>\n",
    "            <div align=\"left\", style=\"font-size:120%\">\n",
    "                <font color=\"#21618C\">\n",
    "                    <b>10. Identify the features from the dataset that are involved in multicollinearity. After that, split the updated data using train_test_split.</b>\n",
    "                </font>\n",
    "            </div>\n",
    "        </td>\n",
    "    </tr>\n",
    "</table>"
   ]
  },
  {
   "cell_type": "code",
   "execution_count": 42,
   "metadata": {},
   "outputs": [
    {
     "data": {
      "image/png": "[encoded data removed]",
      "text/plain": [
       "<Figure size 720x720 with 2 Axes>"
      ]
     },
     "metadata": {
      "needs_background": "light"
     },
     "output_type": "display_data"
    }
   ],
   "source": [
    "plt.figure(figsize=(10,10))\n",
    "num = df[['age','cigsPerDay','totChol','sysBP','diaBP','BMI','heartRate','glucose']]\n",
    "                                                                                \n",
    "sns.heatmap(num.corr(),annot=True)\n",
    "plt.show()"
   ]
  },
  {
   "cell_type": "code",
   "execution_count": 43,
   "metadata": {},
   "outputs": [],
   "source": [
    "num = num.drop(columns='diaBP')"
   ]
  },
  {
   "cell_type": "markdown",
   "metadata": {
    "collapsed": true
   },
   "source": [
    "<table align=\"left\">\n",
    "    <tr>\n",
    "        <td>\n",
    "            <div align=\"left\", style=\"font-size:120%\">\n",
    "                <font color=\"#21618C\">\n",
    "                    <b>11. Use the data obtained from Q10 and identify 5 features that contribute most in the prediction of target variable.<br></b>\n",
    "                </font>\n",
    "            </div>\n",
    "        </td>\n",
    "    </tr>\n",
    "</table>"
   ]
  },
  {
   "cell_type": "code",
   "execution_count": 44,
   "metadata": {},
   "outputs": [
    {
     "data": {
      "text/plain": [
       "RFE(estimator=LogisticRegression(max_iter=1000), n_features_to_select=5)"
      ]
     },
     "execution_count": 44,
     "metadata": {},
     "output_type": "execute_result"
    }
   ],
   "source": [
    "x = num\n",
    "y = df['CVD']\n",
    "\n",
    "xtrain,xtest,ytrain,ytest = train_test_split(x,y,test_size=0.3,random_state=0)\n",
    "\n",
    "\n",
    "from sklearn.linear_model import LogisticRegression\n",
    "from sklearn.feature_selection import RFE\n",
    "\n",
    "lr = LogisticRegression(max_iter=1000)\n",
    "\n",
    "rfe = RFE(lr,n_features_to_select=5)\n",
    "\n",
    "rfe.fit(xtrain,ytrain)"
   ]
  },
  {
   "cell_type": "code",
   "execution_count": 45,
   "metadata": {},
   "outputs": [],
   "source": [
    "d = pd.DataFrame(rfe.ranking_, index=xtrain.columns,columns=['Rank']).sort_values(by='Rank')"
   ]
  },
  {
   "cell_type": "markdown",
   "metadata": {
    "collapsed": true
   },
   "source": [
    "<table align=\"left\">\n",
    "    <tr>\n",
    "        <td>\n",
    "            <div align=\"left\", style=\"font-size:120%\">\n",
    "                <font color=\"#21618C\">\n",
    "                    <b>12. Build a model using the features obtained in question 11. For the model find: \n",
    "                        <ol>                       \n",
    "                         <li>Accuracy</li>\n",
    "                        <li>F<sub>1</sub> score</li>\n",
    "                        </ol>\n",
    "                        </b>\n",
    "                </font>\n",
    "            </div>\n",
    "        </td>\n",
    "    </tr>\n",
    "</table>"
   ]
  },
  {
   "cell_type": "code",
   "execution_count": 46,
   "metadata": {},
   "outputs": [],
   "source": [
    "xtrain_12 = xtrain[d[d['Rank']==1].index]\n",
    "xtest_12  = xtest[d[d['Rank']==1].index]"
   ]
  },
  {
   "cell_type": "code",
   "execution_count": 47,
   "metadata": {},
   "outputs": [
    {
     "data": {
      "text/plain": [
       "LogisticRegression(max_iter=10000)"
      ]
     },
     "execution_count": 47,
     "metadata": {},
     "output_type": "execute_result"
    }
   ],
   "source": [
    "lr_12 = LogisticRegression(max_iter=10000)\n",
    "lr_12.fit(xtrain_12,ytrain)"
   ]
  },
  {
   "cell_type": "code",
   "execution_count": 48,
   "metadata": {},
   "outputs": [],
   "source": [
    "ypred_12 = lr_12.predict(xtest_12)"
   ]
  },
  {
   "cell_type": "code",
   "execution_count": 49,
   "metadata": {},
   "outputs": [
    {
     "data": {
      "text/plain": [
       "array([[1013,   14],\n",
       "       [ 160,   10]], dtype=int64)"
      ]
     },
     "execution_count": 49,
     "metadata": {},
     "output_type": "execute_result"
    }
   ],
   "source": [
    "confusion_matrix(ytest,ypred_12)"
   ]
  },
  {
   "cell_type": "code",
   "execution_count": 50,
   "metadata": {},
   "outputs": [
    {
     "data": {
      "text/plain": [
       "0.10309278350515463"
      ]
     },
     "execution_count": 50,
     "metadata": {},
     "output_type": "execute_result"
    }
   ],
   "source": [
    "f1_score(ytest,ypred_12)"
   ]
  },
  {
   "cell_type": "code",
   "execution_count": 51,
   "metadata": {},
   "outputs": [
    {
     "data": {
      "text/plain": [
       "0.8546365914786967"
      ]
     },
     "execution_count": 51,
     "metadata": {},
     "output_type": "execute_result"
    }
   ],
   "source": [
    "accuracy_score(ytest,ypred_12)"
   ]
  },
  {
   "cell_type": "code",
   "execution_count": 52,
   "metadata": {},
   "outputs": [
    {
     "data": {
      "text/plain": [
       "0.522595795864597"
      ]
     },
     "execution_count": 52,
     "metadata": {},
     "output_type": "execute_result"
    }
   ],
   "source": [
    "roc_auc_score(ytest,ypred_12)"
   ]
  },
  {
   "cell_type": "code",
   "execution_count": 53,
   "metadata": {},
   "outputs": [],
   "source": [
    "fpr_12,tpr_12,thresholds_12 = roc_curve(ytest,ypred_12)"
   ]
  },
  {
   "cell_type": "markdown",
   "metadata": {
    "collapsed": true
   },
   "source": [
    "<table align=\"left\">\n",
    "    <tr>\n",
    "        <td>\n",
    "            <div align=\"left\", style=\"font-size:120%\">\n",
    "                <font color=\"#21618C\">\n",
    "                    <b>13. Compare the full model in question 5 and the model built in question 12 using their ROC curves. </b>\n",
    "                </font>\n",
    "            </div>\n",
    "        </td>\n",
    "    </tr>\n",
    "</table>"
   ]
  },
  {
   "cell_type": "code",
   "execution_count": 54,
   "metadata": {},
   "outputs": [
    {
     "data": {
      "image/png": "[encoded data removed]",
      "text/plain": [
       "<Figure size 864x504 with 1 Axes>"
      ]
     },
     "metadata": {
      "needs_background": "light"
     },
     "output_type": "display_data"
    }
   ],
   "source": [
    "fpr,tpr,thresholds = roc_curve(ytest_full,ypred_prob_full)\n",
    "plt.figure(figsize=(12,7))\n",
    "plt.plot(fpr,tpr)\n",
    "plt.plot(fpr_12,tpr_12,label='12th Q')\n",
    "plt.xlim([0.0,1.0])\n",
    "plt.ylim([0.0,1.0])\n",
    "plt.plot([0,1],[0,1],'r--')\n",
    "plt.title('ROC Curve for the CVD prediction classifier (full model)',fontsize=15)\n",
    "plt.xlabel('False positive rate')\n",
    "plt.ylabel('True positive rate')\n",
    "plt.text(x=0.02,y=0.9,s = ('AUC score for full model:',round(roc_auc_score(ytest_full,ypred_full),2)))\n",
    "plt.legend()\n",
    "plt.show()"
   ]
  },
  {
   "cell_type": "markdown",
   "metadata": {
    "collapsed": true
   },
   "source": [
    "<table align=\"left\">\n",
    "    <tr>\n",
    "        <td>\n",
    "            <div align=\"left\", style=\"font-size:120%\">\n",
    "                <font color=\"#21618C\">\n",
    "                    <b>14. Build a logistic regression model using information about heart rate of the patients. Compute the AUC score.</b>\n",
    "                </font>\n",
    "            </div>\n",
    "        </td>\n",
    "    </tr>\n",
    "</table>"
   ]
  },
  {
   "cell_type": "code",
   "execution_count": 55,
   "metadata": {},
   "outputs": [
    {
     "name": "stdout",
     "output_type": "stream",
     "text": [
      "Optimization terminated successfully.\n",
      "         Current function value: 0.425781\n",
      "         Iterations 6\n",
      "AUC Score: 0.48040838535998626\n"
     ]
    }
   ],
   "source": [
    "x=df[['heartRate']]\n",
    "y=df['CVD']\n",
    "xc= sm.add_constant(x)\n",
    "\n",
    "xtrain,xtest,ytrain,ytest = train_test_split(xc,y,test_size=0.3,random_state=0)\n",
    "\n",
    "log_heart = sm.Logit(ytrain,xtrain).fit()\n",
    "\n",
    "ypred_prob = log_heart.predict(xtest)\n",
    "print('AUC Score:',roc_auc_score(ytest,ypred_prob))"
   ]
  },
  {
   "cell_type": "markdown",
   "metadata": {
    "collapsed": true
   },
   "source": [
    "<table align=\"left\">\n",
    "    <tr>\n",
    "        <td>\n",
    "            <div align=\"left\", style=\"font-size:120%\">\n",
    "                <font color=\"#21618C\">\n",
    "                    <b>15. Calculate the cross entropy for the model built in question 14.</b>\n",
    "                </font>\n",
    "            </div>\n",
    "        </td>\n",
    "    </tr>\n",
    "</table>"
   ]
  },
  {
   "cell_type": "code",
   "execution_count": 56,
   "metadata": {},
   "outputs": [
    {
     "name": "stdout",
     "output_type": "stream",
     "text": [
      "Log loss: 4.905256463771777\n"
     ]
    }
   ],
   "source": [
    "ypred = [0 if x<0.5 else 1 for x in ypred_prob]\n",
    "\n",
    "print('Log loss:',log_loss(ytest,ypred))"
   ]
  },
  {
   "cell_type": "markdown",
   "metadata": {
    "collapsed": true
   },
   "source": [
    "<table align=\"left\">\n",
    "    <tr>\n",
    "        <td>\n",
    "            <div align=\"left\", style=\"font-size:120%\">\n",
    "                <font color=\"#21618C\">\n",
    "                    <b>16. Compare the model built in question 14 to the full model built in question 5.</b>\n",
    "                </font>\n",
    "            </div>\n",
    "        </td>\n",
    "    </tr>\n",
    "</table>"
   ]
  },
  {
   "cell_type": "code",
   "execution_count": 57,
   "metadata": {},
   "outputs": [
    {
     "data": {
      "text/plain": [
       "0.5689730225098802"
      ]
     },
     "execution_count": 57,
     "metadata": {},
     "output_type": "execute_result"
    }
   ],
   "source": [
    "roc_auc_score(ytest_full,ypred_full)"
   ]
  },
  {
   "cell_type": "markdown",
   "metadata": {
    "collapsed": true
   },
   "source": [
    "<table align=\"left\">\n",
    "    <tr>\n",
    "        <td>\n",
    "            <div align=\"left\", style=\"font-size:120%\">\n",
    "                <font color=\"#21618C\">\n",
    "                    <b>17. What is the cross entropy for the full model? Use the full model in Q5.</b>\n",
    "                </font>\n",
    "            </div>\n",
    "        </td>\n",
    "    </tr>\n",
    "</table>"
   ]
  },
  {
   "cell_type": "code",
   "execution_count": 58,
   "metadata": {},
   "outputs": [
    {
     "name": "stdout",
     "output_type": "stream",
     "text": [
      "Log loss: 24.382569186924474\n"
     ]
    }
   ],
   "source": [
    "print('Log loss:',log_loss(ytest_full,ypred_full))"
   ]
  },
  {
   "cell_type": "markdown",
   "metadata": {
    "collapsed": true
   },
   "source": [
    "<table align=\"left\">\n",
    "    <tr>\n",
    "        <td>\n",
    "            <div align=\"left\", style=\"font-size:120%\">\n",
    "                <font color=\"#21618C\">\n",
    "                    <b>18. Predict whether a patient has cardiovascular disease based on smoking habits of the patient. For the model find the following:<br> <ol type = \"a\">\n",
    "                        <li> Precision </li>\n",
    "                        <li> Recall</li>   \n",
    "                        <li> F<sub>1</sub> score </li>\n",
    "                        </ol>\n",
    "                    </b>\n",
    "                </font>\n",
    "            </div>\n",
    "        </td>\n",
    "    </tr>\n",
    "</table>"
   ]
  },
  {
   "cell_type": "code",
   "execution_count": 59,
   "metadata": {},
   "outputs": [
    {
     "name": "stdout",
     "output_type": "stream",
     "text": [
      "Optimization terminated successfully.\n",
      "         Current function value: 0.425094\n",
      "         Iterations 6\n",
      "              precision    recall  f1-score   support\n",
      "\n",
      "           0       0.86      1.00      0.92      1027\n",
      "           1       0.00      0.00      0.00       170\n",
      "\n",
      "    accuracy                           0.86      1197\n",
      "   macro avg       0.43      0.50      0.46      1197\n",
      "weighted avg       0.74      0.86      0.79      1197\n",
      "\n"
     ]
    }
   ],
   "source": [
    "x = df['cigsPerDay']\n",
    "y = df['CVD']\n",
    "xc =sm.add_constant(x)\n",
    "\n",
    "xtrain,xtest,ytrain,ytest = train_test_split(xc,y,test_size=0.3,random_state=0)\n",
    "\n",
    "log_reg_cigs = sm.Logit(ytrain,xtrain).fit()\n",
    "\n",
    "ypred_prob = log_reg_cigs.predict(xtest)\n",
    "ypred = [0 if x< 0.5 else 1 for x in ypred_prob]\n",
    "\n",
    "print(classification_report(ytest,ypred))"
   ]
  },
  {
   "cell_type": "markdown",
   "metadata": {},
   "source": [
    "<a id=\"opt\"> </a>\n",
    "## 4. Determining optimal threshold"
   ]
  },
  {
   "cell_type": "markdown",
   "metadata": {
    "collapsed": true
   },
   "source": [
    "<table align=\"left\">\n",
    "    <tr>\n",
    "        <td>\n",
    "            <div align=\"left\", style=\"font-size:120%\">\n",
    "                <font color=\"#21618C\">\n",
    "                    <b>19. Obtain the optimal value threshold for the full model using the Youden's index.</b>\n",
    "                </font>\n",
    "            </div>\n",
    "        </td>\n",
    "    </tr>\n",
    "</table>"
   ]
  },
  {
   "cell_type": "code",
   "execution_count": 60,
   "metadata": {},
   "outputs": [
    {
     "data": {
      "text/html": [
       "<table class=\"simpletable\">\n",
       "<caption>Logit Regression Results</caption>\n",
       "<tr>\n",
       "  <th>Dep. Variable:</th>          <td>CVD</td>       <th>  No. Observations:  </th>  <td>  2792</td>  \n",
       "</tr>\n",
       "<tr>\n",
       "  <th>Model:</th>                 <td>Logit</td>      <th>  Df Residuals:      </th>  <td>  2774</td>  \n",
       "</tr>\n",
       "<tr>\n",
       "  <th>Method:</th>                 <td>MLE</td>       <th>  Df Model:          </th>  <td>    17</td>  \n",
       "</tr>\n",
       "<tr>\n",
       "  <th>Date:</th>            <td>Thu, 08 Apr 2021</td> <th>  Pseudo R-squ.:     </th>  <td>0.1277</td>  \n",
       "</tr>\n",
       "<tr>\n",
       "  <th>Time:</th>                <td>17:08:36</td>     <th>  Log-Likelihood:    </th> <td> -1038.8</td> \n",
       "</tr>\n",
       "<tr>\n",
       "  <th>converged:</th>             <td>True</td>       <th>  LL-Null:           </th> <td> -1190.9</td> \n",
       "</tr>\n",
       "<tr>\n",
       "  <th>Covariance Type:</th>     <td>nonrobust</td>    <th>  LLR p-value:       </th> <td>1.535e-54</td>\n",
       "</tr>\n",
       "</table>\n",
       "<table class=\"simpletable\">\n",
       "<tr>\n",
       "         <td></td>            <th>coef</th>     <th>std err</th>      <th>z</th>      <th>P>|z|</th>  <th>[0.025</th>    <th>0.975]</th>  \n",
       "</tr>\n",
       "<tr>\n",
       "  <th>const</th>           <td>   -2.2310</td> <td>    0.155</td> <td>  -14.368</td> <td> 0.000</td> <td>   -2.535</td> <td>   -1.927</td>\n",
       "</tr>\n",
       "<tr>\n",
       "  <th>age</th>             <td>    0.5739</td> <td>    0.067</td> <td>    8.555</td> <td> 0.000</td> <td>    0.442</td> <td>    0.705</td>\n",
       "</tr>\n",
       "<tr>\n",
       "  <th>cigsPerDay</th>      <td>    0.2252</td> <td>    0.087</td> <td>    2.580</td> <td> 0.010</td> <td>    0.054</td> <td>    0.396</td>\n",
       "</tr>\n",
       "<tr>\n",
       "  <th>totChol</th>         <td>    0.0977</td> <td>    0.057</td> <td>    1.704</td> <td> 0.088</td> <td>   -0.015</td> <td>    0.210</td>\n",
       "</tr>\n",
       "<tr>\n",
       "  <th>sysBP</th>           <td>    0.2672</td> <td>    0.096</td> <td>    2.790</td> <td> 0.005</td> <td>    0.079</td> <td>    0.455</td>\n",
       "</tr>\n",
       "<tr>\n",
       "  <th>diaBP</th>           <td>   -0.0233</td> <td>    0.089</td> <td>   -0.260</td> <td> 0.795</td> <td>   -0.198</td> <td>    0.152</td>\n",
       "</tr>\n",
       "<tr>\n",
       "  <th>BMI</th>             <td>    0.0423</td> <td>    0.059</td> <td>    0.713</td> <td> 0.476</td> <td>   -0.074</td> <td>    0.159</td>\n",
       "</tr>\n",
       "<tr>\n",
       "  <th>heartRate</th>       <td>    0.0080</td> <td>    0.058</td> <td>    0.137</td> <td> 0.891</td> <td>   -0.106</td> <td>    0.122</td>\n",
       "</tr>\n",
       "<tr>\n",
       "  <th>glucose</th>         <td>    0.1840</td> <td>    0.067</td> <td>    2.748</td> <td> 0.006</td> <td>    0.053</td> <td>    0.315</td>\n",
       "</tr>\n",
       "<tr>\n",
       "  <th>male</th>            <td>    0.5031</td> <td>    0.127</td> <td>    3.973</td> <td> 0.000</td> <td>    0.255</td> <td>    0.751</td>\n",
       "</tr>\n",
       "<tr>\n",
       "  <th>currentSmoker</th>   <td>    0.0906</td> <td>    0.181</td> <td>    0.500</td> <td> 0.617</td> <td>   -0.264</td> <td>    0.446</td>\n",
       "</tr>\n",
       "<tr>\n",
       "  <th>BPMeds</th>          <td>    0.3016</td> <td>    0.270</td> <td>    1.118</td> <td> 0.264</td> <td>   -0.227</td> <td>    0.830</td>\n",
       "</tr>\n",
       "<tr>\n",
       "  <th>prevalentHyp</th>    <td>    0.1865</td> <td>    0.161</td> <td>    1.158</td> <td> 0.247</td> <td>   -0.129</td> <td>    0.502</td>\n",
       "</tr>\n",
       "<tr>\n",
       "  <th>prevalentStroke</th> <td>    1.0626</td> <td>    0.629</td> <td>    1.690</td> <td> 0.091</td> <td>   -0.170</td> <td>    2.295</td>\n",
       "</tr>\n",
       "<tr>\n",
       "  <th>diabetes</th>        <td>    0.4057</td> <td>    0.377</td> <td>    1.077</td> <td> 0.282</td> <td>   -0.333</td> <td>    1.144</td>\n",
       "</tr>\n",
       "<tr>\n",
       "  <th>education_2.0</th>   <td>   -0.2086</td> <td>    0.143</td> <td>   -1.459</td> <td> 0.144</td> <td>   -0.489</td> <td>    0.072</td>\n",
       "</tr>\n",
       "<tr>\n",
       "  <th>education_3.0</th>   <td>   -0.1800</td> <td>    0.174</td> <td>   -1.036</td> <td> 0.300</td> <td>   -0.521</td> <td>    0.160</td>\n",
       "</tr>\n",
       "<tr>\n",
       "  <th>education_4.0</th>   <td>   -0.1563</td> <td>    0.194</td> <td>   -0.805</td> <td> 0.421</td> <td>   -0.537</td> <td>    0.224</td>\n",
       "</tr>\n",
       "</table>"
      ],
      "text/plain": [
       "<class 'statsmodels.iolib.summary.Summary'>\n",
       "\"\"\"\n",
       "                           Logit Regression Results                           \n",
       "==============================================================================\n",
       "Dep. Variable:                    CVD   No. Observations:                 2792\n",
       "Model:                          Logit   Df Residuals:                     2774\n",
       "Method:                           MLE   Df Model:                           17\n",
       "Date:                Thu, 08 Apr 2021   Pseudo R-squ.:                  0.1277\n",
       "Time:                        17:08:36   Log-Likelihood:                -1038.8\n",
       "converged:                       True   LL-Null:                       -1190.9\n",
       "Covariance Type:            nonrobust   LLR p-value:                 1.535e-54\n",
       "===================================================================================\n",
       "                      coef    std err          z      P>|z|      [0.025      0.975]\n",
       "-----------------------------------------------------------------------------------\n",
       "const              -2.2310      0.155    -14.368      0.000      -2.535      -1.927\n",
       "age                 0.5739      0.067      8.555      0.000       0.442       0.705\n",
       "cigsPerDay          0.2252      0.087      2.580      0.010       0.054       0.396\n",
       "totChol             0.0977      0.057      1.704      0.088      -0.015       0.210\n",
       "sysBP               0.2672      0.096      2.790      0.005       0.079       0.455\n",
       "diaBP              -0.0233      0.089     -0.260      0.795      -0.198       0.152\n",
       "BMI                 0.0423      0.059      0.713      0.476      -0.074       0.159\n",
       "heartRate           0.0080      0.058      0.137      0.891      -0.106       0.122\n",
       "glucose             0.1840      0.067      2.748      0.006       0.053       0.315\n",
       "male                0.5031      0.127      3.973      0.000       0.255       0.751\n",
       "currentSmoker       0.0906      0.181      0.500      0.617      -0.264       0.446\n",
       "BPMeds              0.3016      0.270      1.118      0.264      -0.227       0.830\n",
       "prevalentHyp        0.1865      0.161      1.158      0.247      -0.129       0.502\n",
       "prevalentStroke     1.0626      0.629      1.690      0.091      -0.170       2.295\n",
       "diabetes            0.4057      0.377      1.077      0.282      -0.333       1.144\n",
       "education_2.0      -0.2086      0.143     -1.459      0.144      -0.489       0.072\n",
       "education_3.0      -0.1800      0.174     -1.036      0.300      -0.521       0.160\n",
       "education_4.0      -0.1563      0.194     -0.805      0.421      -0.537       0.224\n",
       "===================================================================================\n",
       "\"\"\""
      ]
     },
     "execution_count": 60,
     "metadata": {},
     "output_type": "execute_result"
    }
   ],
   "source": [
    "model_full.summary()"
   ]
  },
  {
   "cell_type": "code",
   "execution_count": 61,
   "metadata": {},
   "outputs": [
    {
     "data": {
      "text/html": [
       "<div>\n",
       "<style scoped>\n",
       "    .dataframe tbody tr th:only-of-type {\n",
       "        vertical-align: middle;\n",
       "    }\n",
       "\n",
       "    .dataframe tbody tr th {\n",
       "        vertical-align: top;\n",
       "    }\n",
       "\n",
       "    .dataframe thead th {\n",
       "        text-align: right;\n",
       "    }\n",
       "</style>\n",
       "<table border=\"1\" class=\"dataframe\">\n",
       "  <thead>\n",
       "    <tr style=\"text-align: right;\">\n",
       "      <th></th>\n",
       "      <th>TPR</th>\n",
       "      <th>FPR</th>\n",
       "      <th>Threshold</th>\n",
       "      <th>Difference</th>\n",
       "    </tr>\n",
       "  </thead>\n",
       "  <tbody>\n",
       "    <tr>\n",
       "      <th>0</th>\n",
       "      <td>0.694118</td>\n",
       "      <td>0.349562</td>\n",
       "      <td>0.150532</td>\n",
       "      <td>0.344556</td>\n",
       "    </tr>\n",
       "    <tr>\n",
       "      <th>1</th>\n",
       "      <td>0.682353</td>\n",
       "      <td>0.338851</td>\n",
       "      <td>0.152719</td>\n",
       "      <td>0.343502</td>\n",
       "    </tr>\n",
       "    <tr>\n",
       "      <th>2</th>\n",
       "      <td>0.676471</td>\n",
       "      <td>0.333982</td>\n",
       "      <td>0.153965</td>\n",
       "      <td>0.342488</td>\n",
       "    </tr>\n",
       "    <tr>\n",
       "      <th>3</th>\n",
       "      <td>0.664706</td>\n",
       "      <td>0.324245</td>\n",
       "      <td>0.156160</td>\n",
       "      <td>0.340461</td>\n",
       "    </tr>\n",
       "    <tr>\n",
       "      <th>4</th>\n",
       "      <td>0.700000</td>\n",
       "      <td>0.361246</td>\n",
       "      <td>0.147074</td>\n",
       "      <td>0.338754</td>\n",
       "    </tr>\n",
       "  </tbody>\n",
       "</table>\n",
       "</div>"
      ],
      "text/plain": [
       "        TPR       FPR  Threshold  Difference\n",
       "0  0.694118  0.349562   0.150532    0.344556\n",
       "1  0.682353  0.338851   0.152719    0.343502\n",
       "2  0.676471  0.333982   0.153965    0.342488\n",
       "3  0.664706  0.324245   0.156160    0.340461\n",
       "4  0.700000  0.361246   0.147074    0.338754"
      ]
     },
     "execution_count": 61,
     "metadata": {},
     "output_type": "execute_result"
    }
   ],
   "source": [
    "from sklearn.metrics import roc_auc_score,roc_curve\n",
    "\n",
    "fpr,tpr,thresholds = roc_curve(ytest_full,ypred_prob_full)\n",
    "\n",
    "youdens_table = pd.DataFrame({'TPR':tpr,'FPR':fpr,'Threshold':thresholds})\n",
    "youdens_table['Difference'] = youdens_table['TPR'] - youdens_table['FPR']\n",
    "youdens_table = youdens_table.sort_values(by ='Difference',ascending=False).reset_index(drop=True)\n",
    "youdens_table.head()"
   ]
  },
  {
   "cell_type": "markdown",
   "metadata": {
    "collapsed": true
   },
   "source": [
    "<table align=\"left\">\n",
    "    <tr>\n",
    "        <td>\n",
    "            <div align=\"left\", style=\"font-size:120%\">\n",
    "                <font color=\"#21618C\">\n",
    "                    <b>20. Consider the costs of false negatives and false positives as 3 and 1.3 respectively to obtain the optimal cut-off probability for which the total cost will be minimum.</b>\n",
    "                </font>\n",
    "            </div>\n",
    "        </td>\n",
    "    </tr>\n",
    "</table>"
   ]
  },
  {
   "cell_type": "code",
   "execution_count": null,
   "metadata": {},
   "outputs": [],
   "source": [
    "def cal_tot_cost(actual_value,predicted_value,cost_fn,cost_fp):\n",
    "    cm = confusion_matrix(actual_value,predicted_value)\n",
    "    cm_array = np.array(cm)\n",
    "    return cm_array[1,0]*cost_fn + cm_array[0,1]*cost_fp\n",
    "\n",
    "df_total_cost = pd.DataFrame(columns = ['cut-off','total_cost'])\n",
    "i=0\n",
    "\n",
    "for cut_off in range(10,50):\n",
    "    total_cost = cal_tot_cost(ytest_full,ypred_prob_full.map(lambda x : 1 if x> (cut_off/100) else 0))\n",
    "    df_total_cost.iloc[i] = [(cut_off/100),total_cost]\n",
    "    i=i+1\n",
    "\n",
    "df_total_cost.sort_values('total_cost',ascending=True).head()"
   ]
  }
 ],
 "metadata": {
  "kernelspec": {
   "display_name": "Python 3",
   "language": "python",
   "name": "python3"
  },
  "language_info": {
   "codemirror_mode": {
    "name": "ipython",
    "version": 3
   },
   "file_extension": ".py",
   "mimetype": "text/x-python",
   "name": "python",
   "nbconvert_exporter": "python",
   "pygments_lexer": "ipython3",
   "version": "3.8.8"
  }
 },
 "nbformat": 4,
 "nbformat_minor": 2
}
