{
 "cells": [
  {
   "cell_type": "markdown",
   "metadata": {
    "id": "ZdC3BmtoFrdo"
   },
   "source": [
    "### About the data set  (Life Expectancy data)\n",
    "\n",
    "The dataset contains information about several health and economic factors that contribute to average life expectancy for different countries. <br> Attribute information: \n",
    "\n",
    "**Country:** Name of the country\n",
    "\n",
    "**Year:** Year the observations were recorded\n",
    "\n",
    "**Status:** Whether the country is Developed or Developing\n",
    "\n",
    "**Adult_Mortality:** Mortality rate for age group 15-60 out of every 1000 individuals of the population\n",
    "\n",
    "**Infant_Deaths:** Number of infant deaths per 1000 population\n",
    "\n",
    "**Alcohol:** Alcohol, recorded per capita (15+) consumption (in litres of pure alcohol)\n",
    "\n",
    "**Hepatitis B:** Hepatitis B (HepB) immunization coverage for 1 year olds (Percentage)\n",
    "\n",
    "**Measles:** Number of reported cases for measles per 1000 from population\n",
    "\n",
    "**BMI:** Average Body Mass Index for entire population\n",
    "\n",
    "**Underfive_Deaths:** Number of deaths under 5 years of age per 1000 population\n",
    "\n",
    "**Polio:** Polio (Pol3) immunization coverage for 1 year olds (Percentage)\n",
    "\n",
    "**Diphtheria:** Diphtheria tetanus toxoid and pertussis (DTP3) immunization coverage for 1 year olds (Percentage)\n",
    "\n",
    "**HIV:** Deaths per 1000 live births due to HIV/AIDS (0-4 years)\n",
    "\n",
    "**GDP:** Gross Domestic Product per capita (in USD)\n",
    "\n",
    "**Population:** Population of the country\n",
    "\n",
    "**Malnourished10_19:** Prevalence of malnutrition among children and adolescents for Age 10 to 19 (Percentage)\n",
    "\n",
    "**Malnourished5_9:** Prevalence of malnutrition among children for Age 5 to 9 (Percentage)\n",
    "\n",
    "**Income_Index:** Human Development Index (HDI) in terms of national income per capita (index ranging from 0 to 1)\n",
    "\n",
    "**Schooling:** Number of years of Schooling\n",
    "\n",
    "**Life_Expectancy:** Life Expectancy in age for the country\n"
   ]
  },
  {
   "cell_type": "markdown",
   "metadata": {
    "id": "HumDXsvcFrdr"
   },
   "source": [
    "**Import the required libraries**"
   ]
  },
  {
   "cell_type": "code",
   "execution_count": 1,
   "metadata": {
    "colab": {
     "base_uri": "https://localhost:8080/"
    },
    "id": "uk4FW4dnFrds",
    "outputId": "f95864f8-15b1-49c0-c63f-9a113e564cd0"
   },
   "outputs": [],
   "source": [
    "import pandas as pd\n",
    "import numpy as np\n",
    "import seaborn as sns\n",
    "import matplotlib.pyplot as plt\n",
    "import statsmodels.stats as stats\n",
    "import warnings\n",
    "warnings.filterwarnings('ignore')"
   ]
  },
  {
   "cell_type": "markdown",
   "metadata": {
    "id": "GqfD2M9hFrdt"
   },
   "source": [
    "#### Load the Life expectancy dataset and display the first five records "
   ]
  },
  {
   "cell_type": "code",
   "execution_count": 2,
   "metadata": {
    "colab": {
     "base_uri": "https://localhost:8080/",
     "height": 261
    },
    "id": "P3ckz3hDFrdu",
    "outputId": "a3470385-6a33-42ef-fe9a-474a481b874e"
   },
   "outputs": [
    {
     "name": "stdout",
     "output_type": "stream",
     "text": [
      "(182, 20)\n"
     ]
    },
    {
     "data": {
      "text/html": [
       "<div>\n",
       "<style scoped>\n",
       "    .dataframe tbody tr th:only-of-type {\n",
       "        vertical-align: middle;\n",
       "    }\n",
       "\n",
       "    .dataframe tbody tr th {\n",
       "        vertical-align: top;\n",
       "    }\n",
       "\n",
       "    .dataframe thead th {\n",
       "        text-align: right;\n",
       "    }\n",
       "</style>\n",
       "<table border=\"1\" class=\"dataframe\">\n",
       "  <thead>\n",
       "    <tr style=\"text-align: right;\">\n",
       "      <th></th>\n",
       "      <th>Country</th>\n",
       "      <th>Year</th>\n",
       "      <th>Status</th>\n",
       "      <th>Adult_Mortality</th>\n",
       "      <th>Infant_Deaths</th>\n",
       "      <th>Alcohol</th>\n",
       "      <th>Hepatitis B</th>\n",
       "      <th>Measles</th>\n",
       "      <th>BMI</th>\n",
       "      <th>Underfive_Deaths</th>\n",
       "      <th>Polio</th>\n",
       "      <th>Diphtheria</th>\n",
       "      <th>HIV</th>\n",
       "      <th>GDP</th>\n",
       "      <th>Population</th>\n",
       "      <th>Malnourished10_19</th>\n",
       "      <th>Malnourished5_9</th>\n",
       "      <th>Income_Index</th>\n",
       "      <th>Schooling</th>\n",
       "      <th>Life_Expectancy</th>\n",
       "    </tr>\n",
       "  </thead>\n",
       "  <tbody>\n",
       "    <tr>\n",
       "      <th>0</th>\n",
       "      <td>Afghanistan</td>\n",
       "      <td>2015</td>\n",
       "      <td>Developing</td>\n",
       "      <td>263.0</td>\n",
       "      <td>62</td>\n",
       "      <td>0.01</td>\n",
       "      <td>65.0</td>\n",
       "      <td>1154</td>\n",
       "      <td>19.1</td>\n",
       "      <td>83</td>\n",
       "      <td>6</td>\n",
       "      <td>65</td>\n",
       "      <td>0.1</td>\n",
       "      <td>584.259210</td>\n",
       "      <td>33736494.0</td>\n",
       "      <td>17.2</td>\n",
       "      <td>17.3</td>\n",
       "      <td>0.479</td>\n",
       "      <td>10.1</td>\n",
       "      <td>65.0</td>\n",
       "    </tr>\n",
       "    <tr>\n",
       "      <th>1</th>\n",
       "      <td>Albania</td>\n",
       "      <td>2015</td>\n",
       "      <td>Developing</td>\n",
       "      <td>74.0</td>\n",
       "      <td>0</td>\n",
       "      <td>4.60</td>\n",
       "      <td>99.0</td>\n",
       "      <td>0</td>\n",
       "      <td>58.0</td>\n",
       "      <td>0</td>\n",
       "      <td>99</td>\n",
       "      <td>99</td>\n",
       "      <td>0.1</td>\n",
       "      <td>3954.227830</td>\n",
       "      <td>28873.0</td>\n",
       "      <td>1.2</td>\n",
       "      <td>1.3</td>\n",
       "      <td>0.762</td>\n",
       "      <td>14.2</td>\n",
       "      <td>77.8</td>\n",
       "    </tr>\n",
       "    <tr>\n",
       "      <th>2</th>\n",
       "      <td>Algeria</td>\n",
       "      <td>2015</td>\n",
       "      <td>Developing</td>\n",
       "      <td>19.0</td>\n",
       "      <td>21</td>\n",
       "      <td>NaN</td>\n",
       "      <td>95.0</td>\n",
       "      <td>63</td>\n",
       "      <td>59.5</td>\n",
       "      <td>24</td>\n",
       "      <td>95</td>\n",
       "      <td>95</td>\n",
       "      <td>0.1</td>\n",
       "      <td>4132.762920</td>\n",
       "      <td>39871528.0</td>\n",
       "      <td>6.0</td>\n",
       "      <td>5.8</td>\n",
       "      <td>0.743</td>\n",
       "      <td>14.4</td>\n",
       "      <td>75.6</td>\n",
       "    </tr>\n",
       "    <tr>\n",
       "      <th>3</th>\n",
       "      <td>Angola</td>\n",
       "      <td>2015</td>\n",
       "      <td>Developing</td>\n",
       "      <td>335.0</td>\n",
       "      <td>66</td>\n",
       "      <td>NaN</td>\n",
       "      <td>64.0</td>\n",
       "      <td>118</td>\n",
       "      <td>23.3</td>\n",
       "      <td>98</td>\n",
       "      <td>7</td>\n",
       "      <td>64</td>\n",
       "      <td>1.9</td>\n",
       "      <td>3695.793748</td>\n",
       "      <td>2785935.0</td>\n",
       "      <td>8.3</td>\n",
       "      <td>8.2</td>\n",
       "      <td>0.531</td>\n",
       "      <td>11.4</td>\n",
       "      <td>52.4</td>\n",
       "    </tr>\n",
       "    <tr>\n",
       "      <th>4</th>\n",
       "      <td>Antigua</td>\n",
       "      <td>2015</td>\n",
       "      <td>Developing</td>\n",
       "      <td>13.0</td>\n",
       "      <td>0</td>\n",
       "      <td>NaN</td>\n",
       "      <td>99.0</td>\n",
       "      <td>0</td>\n",
       "      <td>47.7</td>\n",
       "      <td>0</td>\n",
       "      <td>86</td>\n",
       "      <td>99</td>\n",
       "      <td>0.2</td>\n",
       "      <td>13566.954100</td>\n",
       "      <td>NaN</td>\n",
       "      <td>3.3</td>\n",
       "      <td>3.3</td>\n",
       "      <td>0.784</td>\n",
       "      <td>13.9</td>\n",
       "      <td>76.4</td>\n",
       "    </tr>\n",
       "  </tbody>\n",
       "</table>\n",
       "</div>"
      ],
      "text/plain": [
       "       Country  Year      Status  Adult_Mortality  Infant_Deaths  Alcohol  \\\n",
       "0  Afghanistan  2015  Developing            263.0             62     0.01   \n",
       "1      Albania  2015  Developing             74.0              0     4.60   \n",
       "2      Algeria  2015  Developing             19.0             21      NaN   \n",
       "3       Angola  2015  Developing            335.0             66      NaN   \n",
       "4      Antigua  2015  Developing             13.0              0      NaN   \n",
       "\n",
       "   Hepatitis B  Measles    BMI  Underfive_Deaths   Polio  Diphtheria   HIV  \\\n",
       "0         65.0      1154  19.1                 83      6           65  0.1   \n",
       "1         99.0         0  58.0                  0     99           99  0.1   \n",
       "2         95.0        63  59.5                 24     95           95  0.1   \n",
       "3         64.0       118  23.3                 98      7           64  1.9   \n",
       "4         99.0         0  47.7                  0     86           99  0.2   \n",
       "\n",
       "            GDP  Population  Malnourished10_19  Malnourished5_9  Income_Index  \\\n",
       "0    584.259210  33736494.0               17.2             17.3         0.479   \n",
       "1   3954.227830     28873.0                1.2              1.3         0.762   \n",
       "2   4132.762920  39871528.0                6.0              5.8         0.743   \n",
       "3   3695.793748   2785935.0                8.3              8.2         0.531   \n",
       "4  13566.954100         NaN                3.3              3.3         0.784   \n",
       "\n",
       "   Schooling  Life_Expectancy  \n",
       "0       10.1             65.0  \n",
       "1       14.2             77.8  \n",
       "2       14.4             75.6  \n",
       "3       11.4             52.4  \n",
       "4       13.9             76.4  "
      ]
     },
     "execution_count": 2,
     "metadata": {},
     "output_type": "execute_result"
    }
   ],
   "source": [
    "df= pd.read_csv('Life_Expectancy(1).csv')\n",
    "print(df.shape)\n",
    "df.head()"
   ]
  },
  {
   "cell_type": "markdown",
   "metadata": {
    "id": "_7ISjF53Frdu"
   },
   "source": [
    "#### Check the shape of the data and display its information"
   ]
  },
  {
   "cell_type": "code",
   "execution_count": 3,
   "metadata": {
    "id": "I5V2h32IFrdv",
    "scrolled": true
   },
   "outputs": [],
   "source": [
    "# check the size of the dataframe\n",
    "\n",
    "# type your code here"
   ]
  },
  {
   "cell_type": "code",
   "execution_count": 4,
   "metadata": {
    "colab": {
     "base_uri": "https://localhost:8080/"
    },
    "id": "KbaeOtXwFrdw",
    "outputId": "1f715c1b-9732-4feb-fd3d-a12255e9cc65"
   },
   "outputs": [
    {
     "data": {
      "text/plain": [
       "<bound method DataFrame.info of          Country  Year      Status  Adult_Mortality  Infant_Deaths  Alcohol  \\\n",
       "0    Afghanistan  2015  Developing            263.0             62     0.01   \n",
       "1        Albania  2015  Developing             74.0              0     4.60   \n",
       "2        Algeria  2015  Developing             19.0             21      NaN   \n",
       "3         Angola  2015  Developing            335.0             66      NaN   \n",
       "4        Antigua  2015  Developing             13.0              0      NaN   \n",
       "..           ...   ...         ...              ...            ...      ...   \n",
       "177    Venezuela  2015  Developing            157.0              9      NaN   \n",
       "178     Viet Nam  2015  Developing            127.0             28      NaN   \n",
       "179        Yemen  2015  Developing            224.0             37      NaN   \n",
       "180       Zambia  2015  Developing             33.0             27      NaN   \n",
       "181     Zimbabwe  2015  Developing            336.0             22      NaN   \n",
       "\n",
       "     Hepatitis B  Measles    BMI  Underfive_Deaths   Polio  Diphtheria   HIV  \\\n",
       "0           65.0      1154  19.1                 83      6           65  0.1   \n",
       "1           99.0         0  58.0                  0     99           99  0.1   \n",
       "2           95.0        63  59.5                 24     95           95  0.1   \n",
       "3           64.0       118  23.3                 98      7           64  1.9   \n",
       "4           99.0         0  47.7                  0     86           99  0.2   \n",
       "..           ...       ...   ...                ...    ...          ...  ...   \n",
       "177         87.0         0  62.1                 10     87           87  0.1   \n",
       "178         97.0       256  17.5                 35     97           97  0.1   \n",
       "179         69.0       468  41.3                 47     63           69  0.1   \n",
       "180          9.0         9  23.4                 40      9            9  4.1   \n",
       "181         87.0         0  31.8                 32     88           87  6.2   \n",
       "\n",
       "              GDP  Population  Malnourished10_19  Malnourished5_9  \\\n",
       "0      584.259210  33736494.0               17.2             17.3   \n",
       "1     3954.227830     28873.0                1.2              1.3   \n",
       "2     4132.762920  39871528.0                6.0              5.8   \n",
       "3     3695.793748   2785935.0                8.3              8.2   \n",
       "4    13566.954100         NaN                3.3              3.3   \n",
       "..            ...         ...                ...              ...   \n",
       "177           NaN         NaN                1.6              1.5   \n",
       "178           NaN         NaN               14.2             14.5   \n",
       "179           NaN         NaN               13.6             13.4   \n",
       "180   1313.889646    161587.0                6.3              6.1   \n",
       "181    118.693830  15777451.0                5.6              5.5   \n",
       "\n",
       "     Income_Index  Schooling  Life_Expectancy  \n",
       "0           0.479       10.1             65.0  \n",
       "1           0.762       14.2             77.8  \n",
       "2           0.743       14.4             75.6  \n",
       "3           0.531       11.4             52.4  \n",
       "4           0.784       13.9             76.4  \n",
       "..            ...        ...              ...  \n",
       "177         0.769       14.3             74.1  \n",
       "178         0.678       12.6             76.0  \n",
       "179         0.499        9.0             65.7  \n",
       "180         0.576       12.5             61.8  \n",
       "181         0.507       10.3             67.0  \n",
       "\n",
       "[182 rows x 20 columns]>"
      ]
     },
     "execution_count": 4,
     "metadata": {},
     "output_type": "execute_result"
    }
   ],
   "source": [
    "df.info"
   ]
  },
  {
   "cell_type": "markdown",
   "metadata": {
    "id": "L04DfGDtFrdw"
   },
   "source": [
    "### Let's begin with some hands-on practice exercises"
   ]
  },
  {
   "cell_type": "markdown",
   "metadata": {
    "id": "5inFrarOFrdx"
   },
   "source": [
    "<a id=\"eda\"> </a>\n",
    "## 1. Data Preparation"
   ]
  },
  {
   "cell_type": "markdown",
   "metadata": {
    "collapsed": true,
    "id": "9GbYw6GpFrdy"
   },
   "source": [
    "<table align=\"left\">\n",
    "    <tr>\n",
    "        <td>\n",
    "            <div align=\"left\", style=\"font-size:120%\">\n",
    "                <font color=\"#21618C\">\n",
    "                    <b>1. The dataset gives the life expectancy for different countries. Check if any information about life expectancy is missing from the given records. How do we fix the problem if present?</b>\n",
    "                </font>\n",
    "            </div>\n",
    "        </td>\n",
    "    </tr>\n",
    "</table>"
   ]
  },
  {
   "cell_type": "code",
   "execution_count": 5,
   "metadata": {
    "id": "Ka-fSRp3Frdz"
   },
   "outputs": [],
   "source": [
    "df.columns = [i.strip() for i in df.columns]"
   ]
  },
  {
   "cell_type": "code",
   "execution_count": 6,
   "metadata": {
    "colab": {
     "base_uri": "https://localhost:8080/"
    },
    "id": "x-1QOP8vVT_z",
    "outputId": "519b34a7-db37-45ae-f353-c74385d1c0ed"
   },
   "outputs": [
    {
     "data": {
      "text/plain": [
       "Index(['Country', 'Year', 'Status', 'Adult_Mortality', 'Infant_Deaths',\n",
       "       'Alcohol', 'Hepatitis B', 'Measles', 'BMI', 'Underfive_Deaths', 'Polio',\n",
       "       'Diphtheria', 'HIV', 'GDP', 'Population', 'Malnourished10_19',\n",
       "       'Malnourished5_9', 'Income_Index', 'Schooling', 'Life_Expectancy'],\n",
       "      dtype='object')"
      ]
     },
     "execution_count": 6,
     "metadata": {},
     "output_type": "execute_result"
    }
   ],
   "source": [
    "df.columns"
   ]
  },
  {
   "cell_type": "code",
   "execution_count": 7,
   "metadata": {
    "colab": {
     "base_uri": "https://localhost:8080/"
    },
    "id": "sfQPf0l_VUCP",
    "outputId": "66ba1ecb-1145-4bce-e190-87bb7561ee23"
   },
   "outputs": [
    {
     "data": {
      "text/plain": [
       "Country                0\n",
       "Year                   0\n",
       "Status                 0\n",
       "Adult_Mortality        9\n",
       "Infant_Deaths          0\n",
       "Alcohol              167\n",
       "Hepatitis B            9\n",
       "Measles                0\n",
       "BMI                    4\n",
       "Underfive_Deaths       0\n",
       "Polio                  0\n",
       "Diphtheria             0\n",
       "HIV                    0\n",
       "GDP                   25\n",
       "Population            41\n",
       "Malnourished10_19      4\n",
       "Malnourished5_9        4\n",
       "Income_Index          13\n",
       "Schooling              9\n",
       "Life_Expectancy        9\n",
       "dtype: int64"
      ]
     },
     "execution_count": 7,
     "metadata": {},
     "output_type": "execute_result"
    }
   ],
   "source": [
    "df.isna().sum()"
   ]
  },
  {
   "cell_type": "code",
   "execution_count": 8,
   "metadata": {
    "id": "tDAm5g7mVlqi"
   },
   "outputs": [],
   "source": [
    "# we have 9 missing values."
   ]
  },
  {
   "cell_type": "code",
   "execution_count": 9,
   "metadata": {
    "colab": {
     "base_uri": "https://localhost:8080/",
     "height": 369
    },
    "id": "Du0i6huoVls-",
    "outputId": "7bf37d3f-4e1e-4c9f-96e0-fca153998ed7"
   },
   "outputs": [
    {
     "data": {
      "image/png": "[encoded data removed]",
      "text/plain": [
       "<Figure size 432x288 with 1 Axes>"
      ]
     },
     "metadata": {
      "needs_background": "light"
     },
     "output_type": "display_data"
    },
    {
     "name": "stdout",
     "output_type": "stream",
     "text": [
      "-0.5570055450291043\n",
      "-0.322560114952835\n"
     ]
    }
   ],
   "source": [
    "sns.distplot(df['Life_Expectancy'])\n",
    "plt.axvline(df['Life_Expectancy'].mean(), color= 'red')\n",
    "plt.axvline(df['Life_Expectancy'].median(), color= 'green')\n",
    "plt.show()\n",
    "print(df['Life_Expectancy'].skew())\n",
    "print(df['Life_Expectancy'].kurt())"
   ]
  },
  {
   "cell_type": "code",
   "execution_count": 10,
   "metadata": {
    "id": "A-qmTwEEVogd"
   },
   "outputs": [],
   "source": [
    "# Left skewed data. # Platykurtic type kurtosis\n",
    "# we can fill NaN with mean value as mean is lesser than median here."
   ]
  },
  {
   "cell_type": "markdown",
   "metadata": {
    "collapsed": true,
    "id": "ps54swwiFrdz"
   },
   "source": [
    "<table align=\"left\">\n",
    "    <tr>\n",
    "        <td>\n",
    "            <div align=\"left\", style=\"font-size:120%\">\n",
    "                <font color=\"#21618C\">\n",
    "                    <b>2. How do we handle the missing values from the entire dataset?</b>\n",
    "                </font>\n",
    "            </div>\n",
    "        </td>\n",
    "    </tr>\n",
    "</table>"
   ]
  },
  {
   "cell_type": "code",
   "execution_count": 11,
   "metadata": {
    "colab": {
     "base_uri": "https://localhost:8080/",
     "height": 1000
    },
    "id": "e7cAjsUDFrd0",
    "outputId": "438b8bea-d4be-43d0-8eb1-f7018e4cb694"
   },
   "outputs": [
    {
     "data": {
      "image/png": "[encoded data removed]",
      "text/plain": [
       "<Figure size 432x288 with 1 Axes>"
      ]
     },
     "metadata": {
      "needs_background": "light"
     },
     "output_type": "display_data"
    },
    {
     "data": {
      "image/png": "[encoded data removed]",
      "text/plain": [
       "<Figure size 432x288 with 1 Axes>"
      ]
     },
     "metadata": {
      "needs_background": "light"
     },
     "output_type": "display_data"
    },
    {
     "data": {
      "image/png": "[encoded data removed]",
      "text/plain": [
       "<Figure size 432x288 with 1 Axes>"
      ]
     },
     "metadata": {
      "needs_background": "light"
     },
     "output_type": "display_data"
    },
    {
     "data": {
      "image/png": "[encoded data removed]",
      "text/plain": [
       "<Figure size 432x288 with 1 Axes>"
      ]
     },
     "metadata": {
      "needs_background": "light"
     },
     "output_type": "display_data"
    },
    {
     "data": {
      "image/png": "[encoded data removed]",
      "text/plain": [
       "<Figure size 432x288 with 1 Axes>"
      ]
     },
     "metadata": {
      "needs_background": "light"
     },
     "output_type": "display_data"
    },
    {
     "data": {
      "image/png": "[encoded data removed]",
      "text/plain": [
       "<Figure size 432x288 with 1 Axes>"
      ]
     },
     "metadata": {
      "needs_background": "light"
     },
     "output_type": "display_data"
    },
    {
     "data": {
      "image/png": "[encoded data removed]",
      "text/plain": [
       "<Figure size 432x288 with 1 Axes>"
      ]
     },
     "metadata": {
      "needs_background": "light"
     },
     "output_type": "display_data"
    },
    {
     "data": {
      "image/png": "[encoded data removed]",
      "text/plain": [
       "<Figure size 432x288 with 1 Axes>"
      ]
     },
     "metadata": {
      "needs_background": "light"
     },
     "output_type": "display_data"
    },
    {
     "data": {
      "image/png": "[encoded data removed]",
      "text/plain": [
       "<Figure size 432x288 with 1 Axes>"
      ]
     },
     "metadata": {
      "needs_background": "light"
     },
     "output_type": "display_data"
    },
    {
     "data": {
      "image/png": "[encoded data removed]",
      "text/plain": [
       "<Figure size 432x288 with 1 Axes>"
      ]
     },
     "metadata": {
      "needs_background": "light"
     },
     "output_type": "display_data"
    },
    {
     "data": {
      "image/png": "[encoded data removed]",
      "text/plain": [
       "<Figure size 432x288 with 1 Axes>"
      ]
     },
     "metadata": {
      "needs_background": "light"
     },
     "output_type": "display_data"
    }
   ],
   "source": [
    "for i in df.columns[3:]:\n",
    "  if df[i].isna().sum() > 0:\n",
    "    sns.distplot(df[i])\n",
    "    plt.axvline(df[i].mean(), color= 'red')\n",
    "    plt.axvline(df[i].median(), color= 'green')\n",
    "    plt.show()"
   ]
  },
  {
   "cell_type": "markdown",
   "metadata": {
    "id": "YvdfwloZjzWu"
   },
   "source": [
    "### looking at the distributions of the plots, we can say the following inferences:\n",
    "\n",
    " Adumt_mortality - Mean imputation \n",
    "\n",
    " Alcohol- Mean imputation\n",
    "\n",
    " hepatitis B- Median imputation\n",
    "\n",
    " BMI- Mean imputation\n",
    "\n",
    " GDP - Median imputation\n",
    "\n",
    " Population - Median imputation\n",
    "\n",
    " Malnutritition_10_19 -  Median imputation\n",
    "\n",
    " Malnutritition_09 -  Median imputation\n",
    "\n",
    " Income- Median imputation\n",
    "\n",
    " Schooling- Mean imputation\n",
    "\n",
    " Life Expectancy - Median imputation\n"
   ]
  },
  {
   "cell_type": "code",
   "execution_count": 12,
   "metadata": {
    "colab": {
     "base_uri": "https://localhost:8080/"
    },
    "id": "3RSraLX3oeYc",
    "outputId": "a3aaf318-030f-47ea-e2cd-33a0796ad363"
   },
   "outputs": [
    {
     "data": {
      "text/plain": [
       "array(['Developing', 'Developed'], dtype=object)"
      ]
     },
     "execution_count": 12,
     "metadata": {},
     "output_type": "execute_result"
    }
   ],
   "source": [
    "df['Status'].unique()"
   ]
  },
  {
   "cell_type": "code",
   "execution_count": 13,
   "metadata": {
    "colab": {
     "base_uri": "https://localhost:8080/",
     "height": 244
    },
    "id": "G7JMPGz8W_cw",
    "outputId": "8ab4e680-14fc-4a1f-8108-9a6bbfe7b402"
   },
   "outputs": [
    {
     "data": {
      "text/html": [
       "<div>\n",
       "<style scoped>\n",
       "    .dataframe tbody tr th:only-of-type {\n",
       "        vertical-align: middle;\n",
       "    }\n",
       "\n",
       "    .dataframe tbody tr th {\n",
       "        vertical-align: top;\n",
       "    }\n",
       "\n",
       "    .dataframe thead th {\n",
       "        text-align: right;\n",
       "    }\n",
       "</style>\n",
       "<table border=\"1\" class=\"dataframe\">\n",
       "  <thead>\n",
       "    <tr style=\"text-align: right;\">\n",
       "      <th></th>\n",
       "      <th>Country</th>\n",
       "      <th>Year</th>\n",
       "      <th>Status</th>\n",
       "      <th>Adult_Mortality</th>\n",
       "      <th>Infant_Deaths</th>\n",
       "      <th>Alcohol</th>\n",
       "      <th>Hepatitis B</th>\n",
       "      <th>Measles</th>\n",
       "      <th>BMI</th>\n",
       "      <th>Underfive_Deaths</th>\n",
       "      <th>Polio</th>\n",
       "      <th>Diphtheria</th>\n",
       "      <th>HIV</th>\n",
       "      <th>GDP</th>\n",
       "      <th>Population</th>\n",
       "      <th>Malnourished10_19</th>\n",
       "      <th>Malnourished5_9</th>\n",
       "      <th>Income_Index</th>\n",
       "      <th>Schooling</th>\n",
       "      <th>Life_Expectancy</th>\n",
       "    </tr>\n",
       "  </thead>\n",
       "  <tbody>\n",
       "    <tr>\n",
       "      <th>0</th>\n",
       "      <td>Afghanistan</td>\n",
       "      <td>2015</td>\n",
       "      <td>Developing</td>\n",
       "      <td>263.0</td>\n",
       "      <td>62</td>\n",
       "      <td>0.01</td>\n",
       "      <td>65.0</td>\n",
       "      <td>1154</td>\n",
       "      <td>19.1</td>\n",
       "      <td>83</td>\n",
       "      <td>6</td>\n",
       "      <td>65</td>\n",
       "      <td>0.1</td>\n",
       "      <td>584.259210</td>\n",
       "      <td>33736494.0</td>\n",
       "      <td>17.2</td>\n",
       "      <td>17.3</td>\n",
       "      <td>0.479</td>\n",
       "      <td>10.1</td>\n",
       "      <td>65.0</td>\n",
       "    </tr>\n",
       "    <tr>\n",
       "      <th>1</th>\n",
       "      <td>Albania</td>\n",
       "      <td>2015</td>\n",
       "      <td>Developing</td>\n",
       "      <td>74.0</td>\n",
       "      <td>0</td>\n",
       "      <td>4.60</td>\n",
       "      <td>99.0</td>\n",
       "      <td>0</td>\n",
       "      <td>58.0</td>\n",
       "      <td>0</td>\n",
       "      <td>99</td>\n",
       "      <td>99</td>\n",
       "      <td>0.1</td>\n",
       "      <td>3954.227830</td>\n",
       "      <td>28873.0</td>\n",
       "      <td>1.2</td>\n",
       "      <td>1.3</td>\n",
       "      <td>0.762</td>\n",
       "      <td>14.2</td>\n",
       "      <td>77.8</td>\n",
       "    </tr>\n",
       "    <tr>\n",
       "      <th>2</th>\n",
       "      <td>Algeria</td>\n",
       "      <td>2015</td>\n",
       "      <td>Developing</td>\n",
       "      <td>19.0</td>\n",
       "      <td>21</td>\n",
       "      <td>NaN</td>\n",
       "      <td>95.0</td>\n",
       "      <td>63</td>\n",
       "      <td>59.5</td>\n",
       "      <td>24</td>\n",
       "      <td>95</td>\n",
       "      <td>95</td>\n",
       "      <td>0.1</td>\n",
       "      <td>4132.762920</td>\n",
       "      <td>39871528.0</td>\n",
       "      <td>6.0</td>\n",
       "      <td>5.8</td>\n",
       "      <td>0.743</td>\n",
       "      <td>14.4</td>\n",
       "      <td>75.6</td>\n",
       "    </tr>\n",
       "    <tr>\n",
       "      <th>3</th>\n",
       "      <td>Angola</td>\n",
       "      <td>2015</td>\n",
       "      <td>Developing</td>\n",
       "      <td>335.0</td>\n",
       "      <td>66</td>\n",
       "      <td>NaN</td>\n",
       "      <td>64.0</td>\n",
       "      <td>118</td>\n",
       "      <td>23.3</td>\n",
       "      <td>98</td>\n",
       "      <td>7</td>\n",
       "      <td>64</td>\n",
       "      <td>1.9</td>\n",
       "      <td>3695.793748</td>\n",
       "      <td>2785935.0</td>\n",
       "      <td>8.3</td>\n",
       "      <td>8.2</td>\n",
       "      <td>0.531</td>\n",
       "      <td>11.4</td>\n",
       "      <td>52.4</td>\n",
       "    </tr>\n",
       "    <tr>\n",
       "      <th>4</th>\n",
       "      <td>Antigua</td>\n",
       "      <td>2015</td>\n",
       "      <td>Developing</td>\n",
       "      <td>13.0</td>\n",
       "      <td>0</td>\n",
       "      <td>NaN</td>\n",
       "      <td>99.0</td>\n",
       "      <td>0</td>\n",
       "      <td>47.7</td>\n",
       "      <td>0</td>\n",
       "      <td>86</td>\n",
       "      <td>99</td>\n",
       "      <td>0.2</td>\n",
       "      <td>13566.954100</td>\n",
       "      <td>NaN</td>\n",
       "      <td>3.3</td>\n",
       "      <td>3.3</td>\n",
       "      <td>0.784</td>\n",
       "      <td>13.9</td>\n",
       "      <td>76.4</td>\n",
       "    </tr>\n",
       "  </tbody>\n",
       "</table>\n",
       "</div>"
      ],
      "text/plain": [
       "       Country  Year      Status  Adult_Mortality  Infant_Deaths  Alcohol  \\\n",
       "0  Afghanistan  2015  Developing            263.0             62     0.01   \n",
       "1      Albania  2015  Developing             74.0              0     4.60   \n",
       "2      Algeria  2015  Developing             19.0             21      NaN   \n",
       "3       Angola  2015  Developing            335.0             66      NaN   \n",
       "4      Antigua  2015  Developing             13.0              0      NaN   \n",
       "\n",
       "   Hepatitis B  Measles   BMI  Underfive_Deaths  Polio  Diphtheria  HIV  \\\n",
       "0         65.0     1154  19.1                83      6          65  0.1   \n",
       "1         99.0        0  58.0                 0     99          99  0.1   \n",
       "2         95.0       63  59.5                24     95          95  0.1   \n",
       "3         64.0      118  23.3                98      7          64  1.9   \n",
       "4         99.0        0  47.7                 0     86          99  0.2   \n",
       "\n",
       "            GDP  Population  Malnourished10_19  Malnourished5_9  Income_Index  \\\n",
       "0    584.259210  33736494.0               17.2             17.3         0.479   \n",
       "1   3954.227830     28873.0                1.2              1.3         0.762   \n",
       "2   4132.762920  39871528.0                6.0              5.8         0.743   \n",
       "3   3695.793748   2785935.0                8.3              8.2         0.531   \n",
       "4  13566.954100         NaN                3.3              3.3         0.784   \n",
       "\n",
       "   Schooling  Life_Expectancy  \n",
       "0       10.1             65.0  \n",
       "1       14.2             77.8  \n",
       "2       14.4             75.6  \n",
       "3       11.4             52.4  \n",
       "4       13.9             76.4  "
      ]
     },
     "execution_count": 13,
     "metadata": {},
     "output_type": "execute_result"
    }
   ],
   "source": [
    "df.head()"
   ]
  },
  {
   "cell_type": "code",
   "execution_count": 14,
   "metadata": {
    "id": "RN74PbBEW_lg"
   },
   "outputs": [],
   "source": [
    "exp= df['Life_Expectancy']\n",
    "df_n = df.copy()\n",
    "df_n.drop({'Life_Expectancy'}, axis=1, inplace=True)"
   ]
  },
  {
   "cell_type": "code",
   "execution_count": 15,
   "metadata": {
    "id": "IhLcSnuGoRS0"
   },
   "outputs": [],
   "source": [
    "dfn= df_n.iloc[:, 3:]"
   ]
  },
  {
   "cell_type": "code",
   "execution_count": 16,
   "metadata": {
    "id": "gWPg_sq_oiaE"
   },
   "outputs": [],
   "source": [
    "dfn = dfn.fillna(dfn.median())"
   ]
  },
  {
   "cell_type": "code",
   "execution_count": 17,
   "metadata": {
    "id": "clx6mdR8phch"
   },
   "outputs": [],
   "source": [
    "exp.fillna(exp.median(), inplace=True)"
   ]
  },
  {
   "cell_type": "code",
   "execution_count": 18,
   "metadata": {
    "colab": {
     "base_uri": "https://localhost:8080/"
    },
    "id": "9WcZljZHpWKV",
    "outputId": "1ca7852b-33d9-428e-e7a7-65f2865095f2"
   },
   "outputs": [
    {
     "data": {
      "text/plain": [
       "0"
      ]
     },
     "execution_count": 18,
     "metadata": {},
     "output_type": "execute_result"
    }
   ],
   "source": [
    "exp.isna().sum()"
   ]
  },
  {
   "cell_type": "markdown",
   "metadata": {
    "collapsed": true,
    "id": "PyF-qc1rFrd0"
   },
   "source": [
    "<table align=\"left\">\n",
    "    <tr>\n",
    "        <td>\n",
    "            <div align=\"left\", style=\"font-size:120%\">\n",
    "                <font color=\"#21618C\">\n",
    "                    <b>3. Are there any redundant features in the data?</b>\n",
    "                </font>\n",
    "            </div>\n",
    "        </td>\n",
    "    </tr>\n",
    "</table>"
   ]
  },
  {
   "cell_type": "code",
   "execution_count": 19,
   "metadata": {
    "colab": {
     "base_uri": "https://localhost:8080/"
    },
    "id": "FIp3-1TzFrd0",
    "outputId": "53d4b78c-8ae4-45c4-d14d-47df4f711906"
   },
   "outputs": [
    {
     "name": "stdout",
     "output_type": "stream",
     "text": [
      "                            OLS Regression Results                            \n",
      "==============================================================================\n",
      "Dep. Variable:        Life_Expectancy   R-squared:                       0.884\n",
      "Model:                            OLS   Adj. R-squared:                  0.873\n",
      "Method:                 Least Squares   F-statistic:                     78.86\n",
      "Date:                Thu, 08 Apr 2021   Prob (F-statistic):           1.57e-68\n",
      "Time:                        16:42:22   Log-Likelihood:                -436.30\n",
      "No. Observations:                 182   AIC:                             906.6\n",
      "Df Residuals:                     165   BIC:                             961.1\n",
      "Df Model:                          16                                         \n",
      "Covariance Type:            nonrobust                                         \n",
      "=====================================================================================\n",
      "                        coef    std err          t      P>|t|      [0.025      0.975]\n",
      "-------------------------------------------------------------------------------------\n",
      "const                52.9943      2.066     25.648      0.000      48.915      57.074\n",
      "Adult_Mortality      -0.0238      0.003     -7.017      0.000      -0.030      -0.017\n",
      "Infant_Deaths         0.1021      0.032      3.172      0.002       0.039       0.166\n",
      "Alcohol               0.1217      0.162      0.753      0.453      -0.198       0.441\n",
      "Hepatitis B           0.0381      0.021      1.831      0.069      -0.003       0.079\n",
      "Measles           -9.394e-05   5.43e-05     -1.730      0.085      -0.000    1.33e-05\n",
      "BMI                  -0.0144      0.013     -1.115      0.266      -0.040       0.011\n",
      "Underfive_Deaths     -0.0730      0.023     -3.127      0.002      -0.119      -0.027\n",
      "Polio                 0.0122      0.012      0.984      0.327      -0.012       0.037\n",
      "Diphtheria           -0.0011      0.024     -0.046      0.963      -0.049       0.047\n",
      "HIV                  -0.4643      0.218     -2.127      0.035      -0.895      -0.033\n",
      "GDP               -1.534e-07   2.24e-05     -0.007      0.995   -4.43e-05     4.4e-05\n",
      "Population         1.606e-09   9.62e-09      0.167      0.868   -1.74e-08    2.06e-08\n",
      "Malnourished10_19    -0.1359      0.234     -0.579      0.563      -0.599       0.327\n",
      "Malnourished5_9      -0.0895      0.232     -0.386      0.700      -0.548       0.369\n",
      "Income_Index         31.7277      3.485      9.103      0.000      24.846      38.610\n",
      "Schooling            -0.1308      0.126     -1.041      0.299      -0.379       0.117\n",
      "==============================================================================\n",
      "Omnibus:                       11.202   Durbin-Watson:                   1.928\n",
      "Prob(Omnibus):                  0.004   Jarque-Bera (JB):               19.838\n",
      "Skew:                          -0.281   Prob(JB):                     4.92e-05\n",
      "Kurtosis:                       4.516   Cond. No.                     4.98e+08\n",
      "==============================================================================\n",
      "\n",
      "Notes:\n",
      "[1] Standard Errors assume that the covariance matrix of the errors is correctly specified.\n",
      "[2] The condition number is large, 4.98e+08. This might indicate that there are\n",
      "strong multicollinearity or other numerical problems.\n"
     ]
    }
   ],
   "source": [
    "# we can check based on significance level\n",
    "import statsmodels.api as sm\n",
    "xc= sm.add_constant(dfn)\n",
    "md= sm.OLS(exp, xc).fit()\n",
    "print(md.summary())"
   ]
  },
  {
   "cell_type": "code",
   "execution_count": 20,
   "metadata": {
    "id": "2333Sy1FoJVF"
   },
   "outputs": [],
   "source": [
    "# based on p values- yes- GDP, Diphtheria, Population are quite insignificant."
   ]
  },
  {
   "cell_type": "code",
   "execution_count": 21,
   "metadata": {
    "colab": {
     "base_uri": "https://localhost:8080/",
     "height": 374
    },
    "id": "HYZLqPHSoJYP",
    "outputId": "63ac3fba-85bf-4338-d938-486a27a435f5"
   },
   "outputs": [
    {
     "data": {
      "text/plain": [
       "<AxesSubplot:>"
      ]
     },
     "execution_count": 21,
     "metadata": {},
     "output_type": "execute_result"
    },
    {
     "data": {
      "image/png": "[encoded data removed]",
      "text/plain": [
       "<Figure size 432x288 with 2 Axes>"
      ]
     },
     "metadata": {
      "needs_background": "light"
     },
     "output_type": "display_data"
    }
   ],
   "source": [
    "sns.heatmap(df.corr())"
   ]
  },
  {
   "cell_type": "code",
   "execution_count": null,
   "metadata": {
    "id": "QZSsJuy0qxSo"
   },
   "outputs": [],
   "source": []
  },
  {
   "cell_type": "markdown",
   "metadata": {
    "collapsed": true,
    "id": "B7OEdhSZFrd1"
   },
   "source": [
    "<table align=\"left\">\n",
    "    <tr>\n",
    "        <td>\n",
    "            <div align=\"left\", style=\"font-size:120%\">\n",
    "                <font color=\"#21618C\">\n",
    "                    <b>4. Perform dummy encoding for appropriate variables of the dataset if required</b>\n",
    "                </font>\n",
    "            </div>\n",
    "        </td>\n",
    "    </tr>\n",
    "</table>"
   ]
  },
  {
   "cell_type": "code",
   "execution_count": 22,
   "metadata": {
    "id": "uymRcWU8Frd1",
    "scrolled": true
   },
   "outputs": [],
   "source": [
    "dfn['Year'] = df['Year']\n",
    "dfn['status'] = df['Status']"
   ]
  },
  {
   "cell_type": "code",
   "execution_count": 23,
   "metadata": {
    "colab": {
     "base_uri": "https://localhost:8080/",
     "height": 244
    },
    "id": "yH2mPfqusA4-",
    "outputId": "d19ab7f0-0bd0-4bc5-eeab-c8887aa726ed"
   },
   "outputs": [
    {
     "data": {
      "text/html": [
       "<div>\n",
       "<style scoped>\n",
       "    .dataframe tbody tr th:only-of-type {\n",
       "        vertical-align: middle;\n",
       "    }\n",
       "\n",
       "    .dataframe tbody tr th {\n",
       "        vertical-align: top;\n",
       "    }\n",
       "\n",
       "    .dataframe thead th {\n",
       "        text-align: right;\n",
       "    }\n",
       "</style>\n",
       "<table border=\"1\" class=\"dataframe\">\n",
       "  <thead>\n",
       "    <tr style=\"text-align: right;\">\n",
       "      <th></th>\n",
       "      <th>Adult_Mortality</th>\n",
       "      <th>Infant_Deaths</th>\n",
       "      <th>Alcohol</th>\n",
       "      <th>Hepatitis B</th>\n",
       "      <th>Measles</th>\n",
       "      <th>BMI</th>\n",
       "      <th>Underfive_Deaths</th>\n",
       "      <th>Polio</th>\n",
       "      <th>Diphtheria</th>\n",
       "      <th>HIV</th>\n",
       "      <th>GDP</th>\n",
       "      <th>Population</th>\n",
       "      <th>Malnourished10_19</th>\n",
       "      <th>Malnourished5_9</th>\n",
       "      <th>Income_Index</th>\n",
       "      <th>Schooling</th>\n",
       "      <th>Year_2015</th>\n",
       "      <th>status_Developing</th>\n",
       "    </tr>\n",
       "  </thead>\n",
       "  <tbody>\n",
       "    <tr>\n",
       "      <th>0</th>\n",
       "      <td>263.0</td>\n",
       "      <td>62</td>\n",
       "      <td>0.01</td>\n",
       "      <td>65.0</td>\n",
       "      <td>1154</td>\n",
       "      <td>19.1</td>\n",
       "      <td>83</td>\n",
       "      <td>6</td>\n",
       "      <td>65</td>\n",
       "      <td>0.1</td>\n",
       "      <td>584.259210</td>\n",
       "      <td>33736494.0</td>\n",
       "      <td>17.2</td>\n",
       "      <td>17.3</td>\n",
       "      <td>0.479</td>\n",
       "      <td>10.1</td>\n",
       "      <td>1</td>\n",
       "      <td>1</td>\n",
       "    </tr>\n",
       "    <tr>\n",
       "      <th>1</th>\n",
       "      <td>74.0</td>\n",
       "      <td>0</td>\n",
       "      <td>4.60</td>\n",
       "      <td>99.0</td>\n",
       "      <td>0</td>\n",
       "      <td>58.0</td>\n",
       "      <td>0</td>\n",
       "      <td>99</td>\n",
       "      <td>99</td>\n",
       "      <td>0.1</td>\n",
       "      <td>3954.227830</td>\n",
       "      <td>28873.0</td>\n",
       "      <td>1.2</td>\n",
       "      <td>1.3</td>\n",
       "      <td>0.762</td>\n",
       "      <td>14.2</td>\n",
       "      <td>1</td>\n",
       "      <td>1</td>\n",
       "    </tr>\n",
       "    <tr>\n",
       "      <th>2</th>\n",
       "      <td>19.0</td>\n",
       "      <td>21</td>\n",
       "      <td>0.01</td>\n",
       "      <td>95.0</td>\n",
       "      <td>63</td>\n",
       "      <td>59.5</td>\n",
       "      <td>24</td>\n",
       "      <td>95</td>\n",
       "      <td>95</td>\n",
       "      <td>0.1</td>\n",
       "      <td>4132.762920</td>\n",
       "      <td>39871528.0</td>\n",
       "      <td>6.0</td>\n",
       "      <td>5.8</td>\n",
       "      <td>0.743</td>\n",
       "      <td>14.4</td>\n",
       "      <td>1</td>\n",
       "      <td>1</td>\n",
       "    </tr>\n",
       "    <tr>\n",
       "      <th>3</th>\n",
       "      <td>335.0</td>\n",
       "      <td>66</td>\n",
       "      <td>0.01</td>\n",
       "      <td>64.0</td>\n",
       "      <td>118</td>\n",
       "      <td>23.3</td>\n",
       "      <td>98</td>\n",
       "      <td>7</td>\n",
       "      <td>64</td>\n",
       "      <td>1.9</td>\n",
       "      <td>3695.793748</td>\n",
       "      <td>2785935.0</td>\n",
       "      <td>8.3</td>\n",
       "      <td>8.2</td>\n",
       "      <td>0.531</td>\n",
       "      <td>11.4</td>\n",
       "      <td>1</td>\n",
       "      <td>1</td>\n",
       "    </tr>\n",
       "    <tr>\n",
       "      <th>4</th>\n",
       "      <td>13.0</td>\n",
       "      <td>0</td>\n",
       "      <td>0.01</td>\n",
       "      <td>99.0</td>\n",
       "      <td>0</td>\n",
       "      <td>47.7</td>\n",
       "      <td>0</td>\n",
       "      <td>86</td>\n",
       "      <td>99</td>\n",
       "      <td>0.2</td>\n",
       "      <td>13566.954100</td>\n",
       "      <td>1977527.0</td>\n",
       "      <td>3.3</td>\n",
       "      <td>3.3</td>\n",
       "      <td>0.784</td>\n",
       "      <td>13.9</td>\n",
       "      <td>1</td>\n",
       "      <td>1</td>\n",
       "    </tr>\n",
       "  </tbody>\n",
       "</table>\n",
       "</div>"
      ],
      "text/plain": [
       "   Adult_Mortality  Infant_Deaths  Alcohol  Hepatitis B  Measles   BMI  \\\n",
       "0            263.0             62     0.01         65.0     1154  19.1   \n",
       "1             74.0              0     4.60         99.0        0  58.0   \n",
       "2             19.0             21     0.01         95.0       63  59.5   \n",
       "3            335.0             66     0.01         64.0      118  23.3   \n",
       "4             13.0              0     0.01         99.0        0  47.7   \n",
       "\n",
       "   Underfive_Deaths  Polio  Diphtheria  HIV           GDP  Population  \\\n",
       "0                83      6          65  0.1    584.259210  33736494.0   \n",
       "1                 0     99          99  0.1   3954.227830     28873.0   \n",
       "2                24     95          95  0.1   4132.762920  39871528.0   \n",
       "3                98      7          64  1.9   3695.793748   2785935.0   \n",
       "4                 0     86          99  0.2  13566.954100   1977527.0   \n",
       "\n",
       "   Malnourished10_19  Malnourished5_9  Income_Index  Schooling  Year_2015  \\\n",
       "0               17.2             17.3         0.479       10.1          1   \n",
       "1                1.2              1.3         0.762       14.2          1   \n",
       "2                6.0              5.8         0.743       14.4          1   \n",
       "3                8.3              8.2         0.531       11.4          1   \n",
       "4                3.3              3.3         0.784       13.9          1   \n",
       "\n",
       "   status_Developing  \n",
       "0                  1  \n",
       "1                  1  \n",
       "2                  1  \n",
       "3                  1  \n",
       "4                  1  "
      ]
     },
     "execution_count": 23,
     "metadata": {},
     "output_type": "execute_result"
    }
   ],
   "source": [
    "dfn = pd.get_dummies(data= dfn, columns=['Year', 'status'], drop_first=True)\n",
    "dfn.head()"
   ]
  },
  {
   "cell_type": "markdown",
   "metadata": {
    "id": "WTy4m7QJFrd2"
   },
   "source": [
    "<a id=\"lf\"> </a>\n",
    "## 2. Linear Regression"
   ]
  },
  {
   "cell_type": "markdown",
   "metadata": {
    "collapsed": true,
    "id": "mOkU7JpJFrd2"
   },
   "source": [
    "<table align=\"left\">\n",
    "    <tr>\n",
    "        <td>\n",
    "            <div align=\"left\", style=\"font-size:120%\">\n",
    "                <font color=\"#21618C\">\n",
    "                    <b>5.  Build a full model on the given data. Check whether the obtained residuals have constant variance\n",
    "</b>\n",
    "                </font>\n",
    "            </div>\n",
    "        </td>\n",
    "    </tr>\n",
    "</table>"
   ]
  },
  {
   "cell_type": "code",
   "execution_count": 24,
   "metadata": {
    "colab": {
     "base_uri": "https://localhost:8080/"
    },
    "id": "FZzA6fL7Frd3",
    "outputId": "bd2e0e92-5910-44bb-cccd-85396e904888"
   },
   "outputs": [
    {
     "name": "stdout",
     "output_type": "stream",
     "text": [
      "                            OLS Regression Results                            \n",
      "==============================================================================\n",
      "Dep. Variable:        Life_Expectancy   R-squared:                       0.886\n",
      "Model:                            OLS   Adj. R-squared:                  0.874\n",
      "Method:                 Least Squares   F-statistic:                     70.50\n",
      "Date:                Thu, 08 Apr 2021   Prob (F-statistic):           3.45e-67\n",
      "Time:                        16:42:23   Log-Likelihood:                -434.85\n",
      "No. Observations:                 182   AIC:                             907.7\n",
      "Df Residuals:                     163   BIC:                             968.6\n",
      "Df Model:                          18                                         \n",
      "Covariance Type:            nonrobust                                         \n",
      "=====================================================================================\n",
      "                        coef    std err          t      P>|t|      [0.025      0.975]\n",
      "-------------------------------------------------------------------------------------\n",
      "const                54.6325      2.540     21.511      0.000      49.617      59.648\n",
      "Adult_Mortality      -0.0232      0.003     -6.826      0.000      -0.030      -0.017\n",
      "Infant_Deaths         0.1012      0.032      3.150      0.002       0.038       0.165\n",
      "Alcohol               0.0756      0.166      0.456      0.649      -0.252       0.403\n",
      "Hepatitis B           0.0404      0.021      1.940      0.054      -0.001       0.081\n",
      "Measles           -8.616e-05   5.44e-05     -1.584      0.115      -0.000    2.13e-05\n",
      "BMI                  -0.0127      0.013     -0.972      0.333      -0.039       0.013\n",
      "Underfive_Deaths     -0.0732      0.023     -3.142      0.002      -0.119      -0.027\n",
      "Polio                 0.0132      0.012      1.059      0.291      -0.011       0.038\n",
      "Diphtheria           -0.0042      0.024     -0.175      0.861      -0.052       0.044\n",
      "HIV                  -0.4918      0.219     -2.248      0.026      -0.924      -0.060\n",
      "GDP               -4.699e-06   2.27e-05     -0.207      0.836   -4.95e-05    4.01e-05\n",
      "Population         2.374e-09   9.61e-09      0.247      0.805   -1.66e-08    2.14e-08\n",
      "Malnourished10_19    -0.1300      0.234     -0.555      0.579      -0.592       0.332\n",
      "Malnourished5_9      -0.0730      0.232     -0.315      0.754      -0.531       0.385\n",
      "Income_Index         31.0297      3.596      8.630      0.000      23.930      38.130\n",
      "Schooling            -0.1558      0.135     -1.153      0.250      -0.422       0.111\n",
      "Year_2015            -0.1091      1.041     -0.105      0.917      -2.164       1.946\n",
      "status_Developing    -1.1120      0.689     -1.615      0.108      -2.472       0.248\n",
      "==============================================================================\n",
      "Omnibus:                       12.069   Durbin-Watson:                   1.931\n",
      "Prob(Omnibus):                  0.002   Jarque-Bera (JB):               22.230\n",
      "Skew:                          -0.297   Prob(JB):                     1.49e-05\n",
      "Kurtosis:                       4.606   Cond. No.                     5.38e+08\n",
      "==============================================================================\n",
      "\n",
      "Notes:\n",
      "[1] Standard Errors assume that the covariance matrix of the errors is correctly specified.\n",
      "[2] The condition number is large, 5.38e+08. This might indicate that there are\n",
      "strong multicollinearity or other numerical problems.\n"
     ]
    }
   ],
   "source": [
    "xc= sm.add_constant(dfn)\n",
    "md= sm.OLS(exp, xc).fit()\n",
    "print(md.summary())"
   ]
  },
  {
   "cell_type": "code",
   "execution_count": 25,
   "metadata": {
    "colab": {
     "base_uri": "https://localhost:8080/"
    },
    "id": "rDF0vF_Gsjft",
    "outputId": "c9a74cd2-c82c-4abf-da35-4f9775daadf8"
   },
   "outputs": [
    {
     "data": {
      "text/plain": [
       "(1.2287048480538363, 0.19214385047667107, 'increasing')"
      ]
     },
     "execution_count": 25,
     "metadata": {},
     "output_type": "execute_result"
    }
   ],
   "source": [
    "# we can do a Gold feld test.\n",
    "\n",
    "sm.stats.diagnostic.het_goldfeldquandt(md.resid, md.model.exog)"
   ]
  },
  {
   "cell_type": "code",
   "execution_count": 26,
   "metadata": {
    "id": "QYxflPUGsjij"
   },
   "outputs": [],
   "source": [
    "# we fail to reject null hypothesis. \n",
    "\n",
    "# variance is constant across data"
   ]
  },
  {
   "cell_type": "code",
   "execution_count": 27,
   "metadata": {
    "colab": {
     "base_uri": "https://localhost:8080/"
    },
    "id": "-vT3V1Ykx2zj",
    "outputId": "2243e1e7-8091-45e8-8935-7e570c237215"
   },
   "outputs": [
    {
     "data": {
      "text/plain": [
       "(182,)"
      ]
     },
     "execution_count": 27,
     "metadata": {},
     "output_type": "execute_result"
    }
   ],
   "source": [
    "md.resid.shape"
   ]
  },
  {
   "cell_type": "markdown",
   "metadata": {
    "collapsed": true,
    "id": "r93oC8P7Frd3"
   },
   "source": [
    "<table align=\"left\">\n",
    "    <tr>\n",
    "        <td>\n",
    "            <div align=\"left\", style=\"font-size:120%\">\n",
    "                <font color=\"#21618C\">\n",
    "                    <b>6. Build a model to study the impact of immunization on life expectancy, using least squares regression. Find the unexplained variation for the model\n",
    "</b>\n",
    "                </font>\n",
    "            </div>\n",
    "        </td>\n",
    "    </tr>\n",
    "</table>"
   ]
  },
  {
   "cell_type": "code",
   "execution_count": 28,
   "metadata": {
    "colab": {
     "base_uri": "https://localhost:8080/",
     "height": 244
    },
    "id": "iyUurgJwFrd3",
    "outputId": "fde001c4-89bd-4df7-cb83-c85f69044378"
   },
   "outputs": [
    {
     "data": {
      "text/html": [
       "<div>\n",
       "<style scoped>\n",
       "    .dataframe tbody tr th:only-of-type {\n",
       "        vertical-align: middle;\n",
       "    }\n",
       "\n",
       "    .dataframe tbody tr th {\n",
       "        vertical-align: top;\n",
       "    }\n",
       "\n",
       "    .dataframe thead th {\n",
       "        text-align: right;\n",
       "    }\n",
       "</style>\n",
       "<table border=\"1\" class=\"dataframe\">\n",
       "  <thead>\n",
       "    <tr style=\"text-align: right;\">\n",
       "      <th></th>\n",
       "      <th>Country</th>\n",
       "      <th>Year</th>\n",
       "      <th>Status</th>\n",
       "      <th>Adult_Mortality</th>\n",
       "      <th>Infant_Deaths</th>\n",
       "      <th>Alcohol</th>\n",
       "      <th>Hepatitis B</th>\n",
       "      <th>Measles</th>\n",
       "      <th>BMI</th>\n",
       "      <th>Underfive_Deaths</th>\n",
       "      <th>Polio</th>\n",
       "      <th>Diphtheria</th>\n",
       "      <th>HIV</th>\n",
       "      <th>GDP</th>\n",
       "      <th>Population</th>\n",
       "      <th>Malnourished10_19</th>\n",
       "      <th>Malnourished5_9</th>\n",
       "      <th>Income_Index</th>\n",
       "      <th>Schooling</th>\n",
       "      <th>Life_Expectancy</th>\n",
       "    </tr>\n",
       "  </thead>\n",
       "  <tbody>\n",
       "    <tr>\n",
       "      <th>0</th>\n",
       "      <td>Afghanistan</td>\n",
       "      <td>2015</td>\n",
       "      <td>Developing</td>\n",
       "      <td>263.0</td>\n",
       "      <td>62</td>\n",
       "      <td>0.01</td>\n",
       "      <td>65.0</td>\n",
       "      <td>1154</td>\n",
       "      <td>19.1</td>\n",
       "      <td>83</td>\n",
       "      <td>6</td>\n",
       "      <td>65</td>\n",
       "      <td>0.1</td>\n",
       "      <td>584.259210</td>\n",
       "      <td>33736494.0</td>\n",
       "      <td>17.2</td>\n",
       "      <td>17.3</td>\n",
       "      <td>0.479</td>\n",
       "      <td>10.1</td>\n",
       "      <td>65.0</td>\n",
       "    </tr>\n",
       "    <tr>\n",
       "      <th>1</th>\n",
       "      <td>Albania</td>\n",
       "      <td>2015</td>\n",
       "      <td>Developing</td>\n",
       "      <td>74.0</td>\n",
       "      <td>0</td>\n",
       "      <td>4.60</td>\n",
       "      <td>99.0</td>\n",
       "      <td>0</td>\n",
       "      <td>58.0</td>\n",
       "      <td>0</td>\n",
       "      <td>99</td>\n",
       "      <td>99</td>\n",
       "      <td>0.1</td>\n",
       "      <td>3954.227830</td>\n",
       "      <td>28873.0</td>\n",
       "      <td>1.2</td>\n",
       "      <td>1.3</td>\n",
       "      <td>0.762</td>\n",
       "      <td>14.2</td>\n",
       "      <td>77.8</td>\n",
       "    </tr>\n",
       "    <tr>\n",
       "      <th>2</th>\n",
       "      <td>Algeria</td>\n",
       "      <td>2015</td>\n",
       "      <td>Developing</td>\n",
       "      <td>19.0</td>\n",
       "      <td>21</td>\n",
       "      <td>NaN</td>\n",
       "      <td>95.0</td>\n",
       "      <td>63</td>\n",
       "      <td>59.5</td>\n",
       "      <td>24</td>\n",
       "      <td>95</td>\n",
       "      <td>95</td>\n",
       "      <td>0.1</td>\n",
       "      <td>4132.762920</td>\n",
       "      <td>39871528.0</td>\n",
       "      <td>6.0</td>\n",
       "      <td>5.8</td>\n",
       "      <td>0.743</td>\n",
       "      <td>14.4</td>\n",
       "      <td>75.6</td>\n",
       "    </tr>\n",
       "    <tr>\n",
       "      <th>3</th>\n",
       "      <td>Angola</td>\n",
       "      <td>2015</td>\n",
       "      <td>Developing</td>\n",
       "      <td>335.0</td>\n",
       "      <td>66</td>\n",
       "      <td>NaN</td>\n",
       "      <td>64.0</td>\n",
       "      <td>118</td>\n",
       "      <td>23.3</td>\n",
       "      <td>98</td>\n",
       "      <td>7</td>\n",
       "      <td>64</td>\n",
       "      <td>1.9</td>\n",
       "      <td>3695.793748</td>\n",
       "      <td>2785935.0</td>\n",
       "      <td>8.3</td>\n",
       "      <td>8.2</td>\n",
       "      <td>0.531</td>\n",
       "      <td>11.4</td>\n",
       "      <td>52.4</td>\n",
       "    </tr>\n",
       "    <tr>\n",
       "      <th>4</th>\n",
       "      <td>Antigua</td>\n",
       "      <td>2015</td>\n",
       "      <td>Developing</td>\n",
       "      <td>13.0</td>\n",
       "      <td>0</td>\n",
       "      <td>NaN</td>\n",
       "      <td>99.0</td>\n",
       "      <td>0</td>\n",
       "      <td>47.7</td>\n",
       "      <td>0</td>\n",
       "      <td>86</td>\n",
       "      <td>99</td>\n",
       "      <td>0.2</td>\n",
       "      <td>13566.954100</td>\n",
       "      <td>NaN</td>\n",
       "      <td>3.3</td>\n",
       "      <td>3.3</td>\n",
       "      <td>0.784</td>\n",
       "      <td>13.9</td>\n",
       "      <td>76.4</td>\n",
       "    </tr>\n",
       "  </tbody>\n",
       "</table>\n",
       "</div>"
      ],
      "text/plain": [
       "       Country  Year      Status  Adult_Mortality  Infant_Deaths  Alcohol  \\\n",
       "0  Afghanistan  2015  Developing            263.0             62     0.01   \n",
       "1      Albania  2015  Developing             74.0              0     4.60   \n",
       "2      Algeria  2015  Developing             19.0             21      NaN   \n",
       "3       Angola  2015  Developing            335.0             66      NaN   \n",
       "4      Antigua  2015  Developing             13.0              0      NaN   \n",
       "\n",
       "   Hepatitis B  Measles   BMI  Underfive_Deaths  Polio  Diphtheria  HIV  \\\n",
       "0         65.0     1154  19.1                83      6          65  0.1   \n",
       "1         99.0        0  58.0                 0     99          99  0.1   \n",
       "2         95.0       63  59.5                24     95          95  0.1   \n",
       "3         64.0      118  23.3                98      7          64  1.9   \n",
       "4         99.0        0  47.7                 0     86          99  0.2   \n",
       "\n",
       "            GDP  Population  Malnourished10_19  Malnourished5_9  Income_Index  \\\n",
       "0    584.259210  33736494.0               17.2             17.3         0.479   \n",
       "1   3954.227830     28873.0                1.2              1.3         0.762   \n",
       "2   4132.762920  39871528.0                6.0              5.8         0.743   \n",
       "3   3695.793748   2785935.0                8.3              8.2         0.531   \n",
       "4  13566.954100         NaN                3.3              3.3         0.784   \n",
       "\n",
       "   Schooling  Life_Expectancy  \n",
       "0       10.1             65.0  \n",
       "1       14.2             77.8  \n",
       "2       14.4             75.6  \n",
       "3       11.4             52.4  \n",
       "4       13.9             76.4  "
      ]
     },
     "execution_count": 28,
     "metadata": {},
     "output_type": "execute_result"
    }
   ],
   "source": [
    "df.head()"
   ]
  },
  {
   "cell_type": "code",
   "execution_count": 29,
   "metadata": {
    "colab": {
     "base_uri": "https://localhost:8080/",
     "height": 206
    },
    "id": "G53LFLKOQjBJ",
    "outputId": "cbcfcc92-c14c-47ea-9449-80408911d98d"
   },
   "outputs": [
    {
     "data": {
      "text/html": [
       "<div>\n",
       "<style scoped>\n",
       "    .dataframe tbody tr th:only-of-type {\n",
       "        vertical-align: middle;\n",
       "    }\n",
       "\n",
       "    .dataframe tbody tr th {\n",
       "        vertical-align: top;\n",
       "    }\n",
       "\n",
       "    .dataframe thead th {\n",
       "        text-align: right;\n",
       "    }\n",
       "</style>\n",
       "<table border=\"1\" class=\"dataframe\">\n",
       "  <thead>\n",
       "    <tr style=\"text-align: right;\">\n",
       "      <th></th>\n",
       "      <th>Hepatitis B</th>\n",
       "      <th>Measles</th>\n",
       "      <th>Polio</th>\n",
       "      <th>Diphtheria</th>\n",
       "    </tr>\n",
       "  </thead>\n",
       "  <tbody>\n",
       "    <tr>\n",
       "      <th>0</th>\n",
       "      <td>65.0</td>\n",
       "      <td>1154</td>\n",
       "      <td>6</td>\n",
       "      <td>65</td>\n",
       "    </tr>\n",
       "    <tr>\n",
       "      <th>1</th>\n",
       "      <td>99.0</td>\n",
       "      <td>0</td>\n",
       "      <td>99</td>\n",
       "      <td>99</td>\n",
       "    </tr>\n",
       "    <tr>\n",
       "      <th>2</th>\n",
       "      <td>95.0</td>\n",
       "      <td>63</td>\n",
       "      <td>95</td>\n",
       "      <td>95</td>\n",
       "    </tr>\n",
       "    <tr>\n",
       "      <th>3</th>\n",
       "      <td>64.0</td>\n",
       "      <td>118</td>\n",
       "      <td>7</td>\n",
       "      <td>64</td>\n",
       "    </tr>\n",
       "    <tr>\n",
       "      <th>4</th>\n",
       "      <td>99.0</td>\n",
       "      <td>0</td>\n",
       "      <td>86</td>\n",
       "      <td>99</td>\n",
       "    </tr>\n",
       "  </tbody>\n",
       "</table>\n",
       "</div>"
      ],
      "text/plain": [
       "   Hepatitis B  Measles  Polio  Diphtheria\n",
       "0         65.0     1154      6          65\n",
       "1         99.0        0     99          99\n",
       "2         95.0       63     95          95\n",
       "3         64.0      118      7          64\n",
       "4         99.0        0     86          99"
      ]
     },
     "execution_count": 29,
     "metadata": {},
     "output_type": "execute_result"
    }
   ],
   "source": [
    "imm = ['Hepatitis B', 'Measles', 'Polio', 'Diphtheria']\n",
    "df_imm = df[imm]\n",
    "df_imm.head()"
   ]
  },
  {
   "cell_type": "code",
   "execution_count": 30,
   "metadata": {
    "colab": {
     "base_uri": "https://localhost:8080/",
     "height": 424
    },
    "id": "nYVdlHlSR1Nl",
    "outputId": "f504723e-05e4-492d-9117-381b644ac1e8"
   },
   "outputs": [
    {
     "data": {
      "text/html": [
       "<div>\n",
       "<style scoped>\n",
       "    .dataframe tbody tr th:only-of-type {\n",
       "        vertical-align: middle;\n",
       "    }\n",
       "\n",
       "    .dataframe tbody tr th {\n",
       "        vertical-align: top;\n",
       "    }\n",
       "\n",
       "    .dataframe thead th {\n",
       "        text-align: right;\n",
       "    }\n",
       "</style>\n",
       "<table border=\"1\" class=\"dataframe\">\n",
       "  <thead>\n",
       "    <tr style=\"text-align: right;\">\n",
       "      <th></th>\n",
       "      <th>Hepatitis B</th>\n",
       "      <th>Measles</th>\n",
       "      <th>Polio</th>\n",
       "      <th>Diphtheria</th>\n",
       "    </tr>\n",
       "  </thead>\n",
       "  <tbody>\n",
       "    <tr>\n",
       "      <th>0</th>\n",
       "      <td>65.0</td>\n",
       "      <td>1154</td>\n",
       "      <td>6</td>\n",
       "      <td>65</td>\n",
       "    </tr>\n",
       "    <tr>\n",
       "      <th>1</th>\n",
       "      <td>99.0</td>\n",
       "      <td>0</td>\n",
       "      <td>99</td>\n",
       "      <td>99</td>\n",
       "    </tr>\n",
       "    <tr>\n",
       "      <th>2</th>\n",
       "      <td>95.0</td>\n",
       "      <td>63</td>\n",
       "      <td>95</td>\n",
       "      <td>95</td>\n",
       "    </tr>\n",
       "    <tr>\n",
       "      <th>3</th>\n",
       "      <td>64.0</td>\n",
       "      <td>118</td>\n",
       "      <td>7</td>\n",
       "      <td>64</td>\n",
       "    </tr>\n",
       "    <tr>\n",
       "      <th>4</th>\n",
       "      <td>99.0</td>\n",
       "      <td>0</td>\n",
       "      <td>86</td>\n",
       "      <td>99</td>\n",
       "    </tr>\n",
       "    <tr>\n",
       "      <th>...</th>\n",
       "      <td>...</td>\n",
       "      <td>...</td>\n",
       "      <td>...</td>\n",
       "      <td>...</td>\n",
       "    </tr>\n",
       "    <tr>\n",
       "      <th>177</th>\n",
       "      <td>87.0</td>\n",
       "      <td>0</td>\n",
       "      <td>87</td>\n",
       "      <td>87</td>\n",
       "    </tr>\n",
       "    <tr>\n",
       "      <th>178</th>\n",
       "      <td>97.0</td>\n",
       "      <td>256</td>\n",
       "      <td>97</td>\n",
       "      <td>97</td>\n",
       "    </tr>\n",
       "    <tr>\n",
       "      <th>179</th>\n",
       "      <td>69.0</td>\n",
       "      <td>468</td>\n",
       "      <td>63</td>\n",
       "      <td>69</td>\n",
       "    </tr>\n",
       "    <tr>\n",
       "      <th>180</th>\n",
       "      <td>9.0</td>\n",
       "      <td>9</td>\n",
       "      <td>9</td>\n",
       "      <td>9</td>\n",
       "    </tr>\n",
       "    <tr>\n",
       "      <th>181</th>\n",
       "      <td>87.0</td>\n",
       "      <td>0</td>\n",
       "      <td>88</td>\n",
       "      <td>87</td>\n",
       "    </tr>\n",
       "  </tbody>\n",
       "</table>\n",
       "<p>182 rows × 4 columns</p>\n",
       "</div>"
      ],
      "text/plain": [
       "     Hepatitis B  Measles  Polio  Diphtheria\n",
       "0           65.0     1154      6          65\n",
       "1           99.0        0     99          99\n",
       "2           95.0       63     95          95\n",
       "3           64.0      118      7          64\n",
       "4           99.0        0     86          99\n",
       "..           ...      ...    ...         ...\n",
       "177         87.0        0     87          87\n",
       "178         97.0      256     97          97\n",
       "179         69.0      468     63          69\n",
       "180          9.0        9      9           9\n",
       "181         87.0        0     88          87\n",
       "\n",
       "[182 rows x 4 columns]"
      ]
     },
     "execution_count": 30,
     "metadata": {},
     "output_type": "execute_result"
    }
   ],
   "source": [
    "xc[imm]"
   ]
  },
  {
   "cell_type": "code",
   "execution_count": 31,
   "metadata": {
    "colab": {
     "base_uri": "https://localhost:8080/"
    },
    "id": "QUgFRpQpQjD9",
    "outputId": "3b1c95f6-15f0-4bc6-d586-ba7487d33e51"
   },
   "outputs": [
    {
     "name": "stdout",
     "output_type": "stream",
     "text": [
      "                            OLS Regression Results                            \n",
      "==============================================================================\n",
      "Dep. Variable:        Life_Expectancy   R-squared:                       0.322\n",
      "Model:                            OLS   Adj. R-squared:                  0.307\n",
      "Method:                 Least Squares   F-statistic:                     21.00\n",
      "Date:                Thu, 08 Apr 2021   Prob (F-statistic):           3.49e-14\n",
      "Time:                        16:42:23   Log-Likelihood:                -597.26\n",
      "No. Observations:                 182   AIC:                             1205.\n",
      "Df Residuals:                     177   BIC:                             1221.\n",
      "Df Model:                           4                                         \n",
      "Covariance Type:            nonrobust                                         \n",
      "===============================================================================\n",
      "                  coef    std err          t      P>|t|      [0.025      0.975]\n",
      "-------------------------------------------------------------------------------\n",
      "const          55.6563      1.930     28.841      0.000      51.848      59.465\n",
      "Hepatitis B    -0.0524      0.045     -1.160      0.248      -0.142       0.037\n",
      "Measles     -7.326e-05   6.18e-05     -1.185      0.238      -0.000    4.88e-05\n",
      "Polio           0.1034      0.027      3.891      0.000       0.051       0.156\n",
      "Diphtheria      0.1458      0.053      2.749      0.007       0.041       0.250\n",
      "==============================================================================\n",
      "Omnibus:                        6.522   Durbin-Watson:                   2.011\n",
      "Prob(Omnibus):                  0.038   Jarque-Bera (JB):                6.445\n",
      "Skew:                          -0.460   Prob(JB):                       0.0399\n",
      "Kurtosis:                       3.062   Cond. No.                     3.18e+04\n",
      "==============================================================================\n",
      "\n",
      "Notes:\n",
      "[1] Standard Errors assume that the covariance matrix of the errors is correctly specified.\n",
      "[2] The condition number is large, 3.18e+04. This might indicate that there are\n",
      "strong multicollinearity or other numerical problems.\n"
     ]
    }
   ],
   "source": [
    "import statsmodels.api as sm\n",
    "rtr= sm.add_constant(xc[imm])\n",
    "md= sm.OLS(exp, rtr).fit()\n",
    "print(md.summary())"
   ]
  },
  {
   "cell_type": "code",
   "execution_count": 32,
   "metadata": {
    "id": "e4a71kU9STOV"
   },
   "outputs": [],
   "source": [
    "# Great results! We are getiing an R square of over 32 percent, Lets get rid of Measles and see.\n",
    "\n",
    "imm.remove('Measles')"
   ]
  },
  {
   "cell_type": "code",
   "execution_count": 33,
   "metadata": {
    "colab": {
     "base_uri": "https://localhost:8080/"
    },
    "id": "A5zIpmhXa46M",
    "outputId": "2e30bc09-27fb-45a7-aac4-ee8802e2d6e5"
   },
   "outputs": [
    {
     "data": {
      "text/plain": [
       "['Hepatitis B', 'Polio', 'Diphtheria']"
      ]
     },
     "execution_count": 33,
     "metadata": {},
     "output_type": "execute_result"
    }
   ],
   "source": [
    "imm"
   ]
  },
  {
   "cell_type": "code",
   "execution_count": 34,
   "metadata": {
    "colab": {
     "base_uri": "https://localhost:8080/"
    },
    "id": "_eduTL3lSTX0",
    "outputId": "26a44e89-f671-4c2a-96d7-13513b65502b"
   },
   "outputs": [
    {
     "name": "stdout",
     "output_type": "stream",
     "text": [
      "                            OLS Regression Results                            \n",
      "==============================================================================\n",
      "Dep. Variable:        Life_Expectancy   R-squared:                       0.316\n",
      "Model:                            OLS   Adj. R-squared:                  0.305\n",
      "Method:                 Least Squares   F-statistic:                     27.47\n",
      "Date:                Thu, 08 Apr 2021   Prob (F-statistic):           1.20e-14\n",
      "Time:                        16:42:23   Log-Likelihood:                -597.98\n",
      "No. Observations:                 182   AIC:                             1204.\n",
      "Df Residuals:                     178   BIC:                             1217.\n",
      "Df Model:                           3                                         \n",
      "Covariance Type:            nonrobust                                         \n",
      "===============================================================================\n",
      "                  coef    std err          t      P>|t|      [0.025      0.975]\n",
      "-------------------------------------------------------------------------------\n",
      "const          55.5279      1.929     28.787      0.000      51.721      59.334\n",
      "Hepatitis B    -0.0542      0.045     -1.199      0.232      -0.143       0.035\n",
      "Polio           0.1044      0.027      3.930      0.000       0.052       0.157\n",
      "Diphtheria      0.1467      0.053      2.764      0.006       0.042       0.251\n",
      "==============================================================================\n",
      "Omnibus:                        5.748   Durbin-Watson:                   2.042\n",
      "Prob(Omnibus):                  0.056   Jarque-Bera (JB):                5.673\n",
      "Skew:                          -0.432   Prob(JB):                       0.0586\n",
      "Kurtosis:                       3.018   Cond. No.                         593.\n",
      "==============================================================================\n",
      "\n",
      "Notes:\n",
      "[1] Standard Errors assume that the covariance matrix of the errors is correctly specified.\n"
     ]
    }
   ],
   "source": [
    "rt= sm.add_constant(xc[imm])\n",
    "md= sm.OLS(exp, rt).fit()\n",
    "print(md.summary())"
   ]
  },
  {
   "cell_type": "code",
   "execution_count": 35,
   "metadata": {
    "id": "HG_K4a03QjSA"
   },
   "outputs": [],
   "source": [
    "# Interesting. Same. r sqaure. lets get rid of Hepatitis and see"
   ]
  },
  {
   "cell_type": "code",
   "execution_count": 36,
   "metadata": {
    "colab": {
     "base_uri": "https://localhost:8080/"
    },
    "id": "S80raEaoS5qy",
    "outputId": "0e8e74b1-dbce-4362-9862-11476ea3ed13"
   },
   "outputs": [
    {
     "name": "stdout",
     "output_type": "stream",
     "text": [
      "                            OLS Regression Results                            \n",
      "==============================================================================\n",
      "Dep. Variable:        Life_Expectancy   R-squared:                       0.316\n",
      "Model:                            OLS   Adj. R-squared:                  0.305\n",
      "Method:                 Least Squares   F-statistic:                     27.47\n",
      "Date:                Thu, 08 Apr 2021   Prob (F-statistic):           1.20e-14\n",
      "Time:                        16:42:23   Log-Likelihood:                -597.98\n",
      "No. Observations:                 182   AIC:                             1204.\n",
      "Df Residuals:                     178   BIC:                             1217.\n",
      "Df Model:                           3                                         \n",
      "Covariance Type:            nonrobust                                         \n",
      "===============================================================================\n",
      "                  coef    std err          t      P>|t|      [0.025      0.975]\n",
      "-------------------------------------------------------------------------------\n",
      "const          55.5279      1.929     28.787      0.000      51.721      59.334\n",
      "Hepatitis B    -0.0542      0.045     -1.199      0.232      -0.143       0.035\n",
      "Polio           0.1044      0.027      3.930      0.000       0.052       0.157\n",
      "Diphtheria      0.1467      0.053      2.764      0.006       0.042       0.251\n",
      "==============================================================================\n",
      "Omnibus:                        5.748   Durbin-Watson:                   2.042\n",
      "Prob(Omnibus):                  0.056   Jarque-Bera (JB):                5.673\n",
      "Skew:                          -0.432   Prob(JB):                       0.0586\n",
      "Kurtosis:                       3.018   Cond. No.                         593.\n",
      "==============================================================================\n",
      "\n",
      "Notes:\n",
      "[1] Standard Errors assume that the covariance matrix of the errors is correctly specified.\n"
     ]
    }
   ],
   "source": [
    "#imm.remove('Hepatitis B')\n",
    "rt= sm.add_constant(xc[imm])\n",
    "md= sm.OLS(exp, rt).fit()\n",
    "print(md.summary())"
   ]
  },
  {
   "cell_type": "code",
   "execution_count": 37,
   "metadata": {
    "id": "OkXez8SGS5ul"
   },
   "outputs": [],
   "source": [
    "# SO basically only 2 variables- Polio and Diptheria are enough to get an R square of over 31.5%"
   ]
  },
  {
   "cell_type": "code",
   "execution_count": 38,
   "metadata": {
    "colab": {
     "base_uri": "https://localhost:8080/"
    },
    "id": "C4uCG_vHS5xp",
    "outputId": "0bcf582f-5c9b-4b54-a705-9fd8fb2a2364"
   },
   "outputs": [
    {
     "name": "stdout",
     "output_type": "stream",
     "text": [
      "3523.7434810466875\n",
      "11134.818021978022\n"
     ]
    }
   ],
   "source": [
    "# Unexplained variance:\n",
    "\n",
    "ss1 = np.sum((df['Life_Expectancy'].mean() - df['Life_Expectancy'])**2)\n",
    "print(md.ess)\n",
    "print(ss1)"
   ]
  },
  {
   "cell_type": "code",
   "execution_count": 39,
   "metadata": {
    "colab": {
     "base_uri": "https://localhost:8080/"
    },
    "id": "JJLQ60BjWqgj",
    "outputId": "ee19cd8a-3529-436d-bfa6-4ee5462f56eb"
   },
   "outputs": [
    {
     "data": {
      "text/plain": [
       "1.4629758205751986"
      ]
     },
     "execution_count": 39,
     "metadata": {},
     "output_type": "execute_result"
    }
   ],
   "source": [
    "ss1/md.ssr"
   ]
  },
  {
   "cell_type": "code",
   "execution_count": 40,
   "metadata": {
    "colab": {
     "base_uri": "https://localhost:8080/"
    },
    "id": "wiLx5m4pTho0",
    "outputId": "cf847233-9da2-442e-cde7-d86111460498"
   },
   "outputs": [
    {
     "data": {
      "text/plain": [
       "68.3538296351904"
      ]
     },
     "execution_count": 40,
     "metadata": {},
     "output_type": "execute_result"
    }
   ],
   "source": [
    "(1 - md.rsquared)*100  # the unexplained varation of the model"
   ]
  },
  {
   "cell_type": "code",
   "execution_count": 41,
   "metadata": {
    "colab": {
     "base_uri": "https://localhost:8080/",
     "height": 374
    },
    "id": "nfdz0w-nUUc8",
    "outputId": "2f7163d8-b1fd-4de5-944e-647c8faab51c"
   },
   "outputs": [
    {
     "data": {
      "text/plain": [
       "<AxesSubplot:>"
      ]
     },
     "execution_count": 41,
     "metadata": {},
     "output_type": "execute_result"
    },
    {
     "data": {
      "image/png": "[encoded data removed]",
      "text/plain": [
       "<Figure size 432x288 with 2 Axes>"
      ]
     },
     "metadata": {
      "needs_background": "light"
     },
     "output_type": "display_data"
    }
   ],
   "source": [
    "sns.heatmap(df.corr())"
   ]
  },
  {
   "cell_type": "code",
   "execution_count": 42,
   "metadata": {
    "colab": {
     "base_uri": "https://localhost:8080/"
    },
    "id": "vAg8yi-CU1IR",
    "outputId": "8934d8da-2e9b-4622-e62b-8c7a65dc3d0f"
   },
   "outputs": [
    {
     "data": {
      "text/plain": [
       "Index(['Country', 'Year', 'Status', 'Adult_Mortality', 'Infant_Deaths',\n",
       "       'Alcohol', 'Hepatitis B', 'Measles', 'BMI', 'Underfive_Deaths', 'Polio',\n",
       "       'Diphtheria', 'HIV', 'GDP', 'Population', 'Malnourished10_19',\n",
       "       'Malnourished5_9', 'Income_Index', 'Schooling', 'Life_Expectancy'],\n",
       "      dtype='object')"
      ]
     },
     "execution_count": 42,
     "metadata": {},
     "output_type": "execute_result"
    }
   ],
   "source": [
    "df.columns"
   ]
  },
  {
   "cell_type": "markdown",
   "metadata": {
    "collapsed": true,
    "id": "fmIoR4awFrd5"
   },
   "source": [
    "<table align=\"left\">\n",
    "    <tr>\n",
    "        <td>\n",
    "            <div align=\"left\", style=\"font-size:120%\">\n",
    "                <font color=\"#21618C\">\n",
    "                    <b>7. Build a model to study the impact of malnutrition on life expectancy, using least squares regression. Interpret the coeffients</b>\n",
    "                </font>\n",
    "            </div>\n",
    "        </td>\n",
    "    </tr>\n",
    "</table>"
   ]
  },
  {
   "cell_type": "code",
   "execution_count": 43,
   "metadata": {
    "colab": {
     "base_uri": "https://localhost:8080/"
    },
    "id": "OgSB2H1DFrd5",
    "outputId": "977c1d55-1aa3-4a87-c681-7c4b3537d5a8"
   },
   "outputs": [
    {
     "name": "stdout",
     "output_type": "stream",
     "text": [
      "                            OLS Regression Results                            \n",
      "==============================================================================\n",
      "Dep. Variable:        Life_Expectancy   R-squared:                       0.223\n",
      "Model:                            OLS   Adj. R-squared:                  0.214\n",
      "Method:                 Least Squares   F-statistic:                     25.66\n",
      "Date:                Thu, 08 Apr 2021   Prob (F-statistic):           1.60e-10\n",
      "Time:                        16:42:24   Log-Likelihood:                -609.67\n",
      "No. Observations:                 182   AIC:                             1225.\n",
      "Df Residuals:                     179   BIC:                             1235.\n",
      "Df Model:                           2                                         \n",
      "Covariance Type:            nonrobust                                         \n",
      "=====================================================================================\n",
      "                        coef    std err          t      P>|t|      [0.025      0.975]\n",
      "-------------------------------------------------------------------------------------\n",
      "const                76.0391      0.753    100.941      0.000      74.553      77.526\n",
      "Malnourished10_19    -0.3885      0.550     -0.706      0.481      -1.475       0.698\n",
      "Malnourished5_9      -0.5109      0.539     -0.948      0.345      -1.575       0.553\n",
      "==============================================================================\n",
      "Omnibus:                        7.025   Durbin-Watson:                   1.863\n",
      "Prob(Omnibus):                  0.030   Jarque-Bera (JB):                7.213\n",
      "Skew:                          -0.486   Prob(JB):                       0.0272\n",
      "Kurtosis:                       2.926   Cond. No.                         12.8\n",
      "==============================================================================\n",
      "\n",
      "Notes:\n",
      "[1] Standard Errors assume that the covariance matrix of the errors is correctly specified.\n"
     ]
    }
   ],
   "source": [
    "mal = ['Malnourished10_19', 'Malnourished5_9']\n",
    "rtr1= sm.add_constant(xc[mal])\n",
    "md11= sm.OLS(exp, rtr1).fit()\n",
    "print(md11.summary())"
   ]
  },
  {
   "cell_type": "code",
   "execution_count": 44,
   "metadata": {
    "id": "H_LNfltLunSr"
   },
   "outputs": [],
   "source": [
    "# although the coedd is high- the p value is showing considerable insignificance - even the r square is less. "
   ]
  },
  {
   "cell_type": "code",
   "execution_count": 45,
   "metadata": {
    "id": "P7Gh9NXHunWD"
   },
   "outputs": [],
   "source": [
    "# Expectency would be:\n",
    "\n",
    "# Life expectancy (in years) = -76.0 - 0.38(x1) - 0.510(x2)"
   ]
  },
  {
   "cell_type": "markdown",
   "metadata": {
    "id": "mD35QWQHFrd5"
   },
   "source": [
    "<a id=\"gd\"> </a>\n",
    "## 3. Gradient Descent"
   ]
  },
  {
   "cell_type": "markdown",
   "metadata": {
    "collapsed": true,
    "id": "4BTDj6dIFrd6"
   },
   "source": [
    "<table align=\"left\">\n",
    "    <tr>\n",
    "        <td>\n",
    "            <div align=\"left\", style=\"font-size:120%\">\n",
    "                <font color=\"#21618C\">\n",
    "                    <b>8. Build a model to study the influence of adult mortality rate on life expectancy using both the least squares regression and gradient descent approach. Are the fits for both the models different?</b>\n",
    "                </font>\n",
    "            </div>\n",
    "        </td>\n",
    "    </tr>\n",
    "</table>"
   ]
  },
  {
   "cell_type": "code",
   "execution_count": 46,
   "metadata": {
    "colab": {
     "base_uri": "https://localhost:8080/"
    },
    "id": "m1wPlzHdFrd6",
    "outputId": "cb198f95-2e71-4124-b210-da723f1bd9d4"
   },
   "outputs": [
    {
     "name": "stdout",
     "output_type": "stream",
     "text": [
      "                            OLS Regression Results                            \n",
      "==============================================================================\n",
      "Dep. Variable:        Life_Expectancy   R-squared:                       0.599\n",
      "Model:                            OLS   Adj. R-squared:                  0.597\n",
      "Method:                 Least Squares   F-statistic:                     268.9\n",
      "Date:                Thu, 08 Apr 2021   Prob (F-statistic):           1.45e-37\n",
      "Time:                        16:42:24   Log-Likelihood:                -549.44\n",
      "No. Observations:                 182   AIC:                             1103.\n",
      "Df Residuals:                     180   BIC:                             1109.\n",
      "Df Model:                           1                                         \n",
      "Covariance Type:            nonrobust                                         \n",
      "===================================================================================\n",
      "                      coef    std err          t      P>|t|      [0.025      0.975]\n",
      "-----------------------------------------------------------------------------------\n",
      "const              81.8259      0.698    117.229      0.000      80.449      83.203\n",
      "Adult_Mortality    -0.0651      0.004    -16.399      0.000      -0.073      -0.057\n",
      "==============================================================================\n",
      "Omnibus:                       83.720   Durbin-Watson:                   1.975\n",
      "Prob(Omnibus):                  0.000   Jarque-Bera (JB):              309.695\n",
      "Skew:                          -1.839   Prob(JB):                     5.63e-68\n",
      "Kurtosis:                       8.227   Cond. No.                         333.\n",
      "==============================================================================\n",
      "\n",
      "Notes:\n",
      "[1] Standard Errors assume that the covariance matrix of the errors is correctly specified.\n"
     ]
    }
   ],
   "source": [
    "# Using OLS\n",
    "\n",
    "rtr1= sm.add_constant(xc['Adult_Mortality'])\n",
    "md11= sm.OLS(exp, rtr1).fit()\n",
    "print(md11.summary())"
   ]
  },
  {
   "cell_type": "code",
   "execution_count": 47,
   "metadata": {
    "id": "6HYfxLL9uoGN"
   },
   "outputs": [],
   "source": [
    "# Good feature! alone explains 60 percent of the variation in data"
   ]
  },
  {
   "cell_type": "code",
   "execution_count": 48,
   "metadata": {
    "id": "kwHaRudbuoJL"
   },
   "outputs": [],
   "source": [
    "# Using Gradiant Descent\n",
    "\n",
    "from scipy.optimize import minimize"
   ]
  },
  {
   "cell_type": "code",
   "execution_count": 49,
   "metadata": {
    "id": "MV16FYH4pSxv"
   },
   "outputs": [],
   "source": [
    "import pandas as pd\n",
    "import numpy as np\n",
    "import matplotlib.pyplot as plt\n",
    "import seaborn as sns"
   ]
  },
  {
   "cell_type": "code",
   "execution_count": 50,
   "metadata": {
    "id": "eH_ON-esg_js"
   },
   "outputs": [],
   "source": [
    "def linear_regression(X, y, m_current=0, b_current=0, epochs=1000, learning_rate=0.0001):\n",
    "     N = float(len(y))\n",
    "     for i in range(epochs):\n",
    "          y_current = (m_current * X) + b_current\n",
    "          cost = sum([data**2 for data in (y-y_current)]) / N\n",
    "          m_gradient = -(2/N) * sum(X * (y - y_current))\n",
    "          b_gradient = -(2/N) * sum(y - y_current)\n",
    "          m_current = m_current - (learning_rate * m_gradient)\n",
    "          b_current = b_current - (learning_rate * b_gradient)\n",
    "     return m_current, b_current, cost"
   ]
  },
  {
   "cell_type": "markdown",
   "metadata": {
    "id": "tUVMnzh4xYfP"
   },
   "source": [
    "# Work in progress"
   ]
  },
  {
   "cell_type": "markdown",
   "metadata": {
    "collapsed": true,
    "id": "67pZU-RfFrd7"
   },
   "source": [
    "<table align=\"left\">\n",
    "    <tr>\n",
    "        <td>\n",
    "            <div align=\"left\", style=\"font-size:120%\">\n",
    "                <font color=\"#21618C\">\n",
    "                    <b>9. Build a model to analyze the influence of immunization on life expectancy. Use SGD and plot a horizontal multiple barchart to compare the values of beta coefficients with values obtained by the full model build least squares regression.</b>\n",
    "                </font>\n",
    "            </div>\n",
    "        </td>\n",
    "    </tr>\n",
    "</table>"
   ]
  },
  {
   "cell_type": "code",
   "execution_count": 51,
   "metadata": {
    "colab": {
     "base_uri": "https://localhost:8080/"
    },
    "id": "cbcAAVPEFrd7",
    "outputId": "36d8c161-2b6a-45df-cdb1-6669b6a787d8"
   },
   "outputs": [
    {
     "data": {
      "text/plain": [
       "SGDRegressor()"
      ]
     },
     "execution_count": 51,
     "metadata": {},
     "output_type": "execute_result"
    }
   ],
   "source": [
    "from sklearn.linear_model import SGDRegressor\n",
    "sgd = SGDRegressor()\n",
    "sgd.fit(xc[['Hepatitis B', 'Measles', 'Polio', 'Diphtheria']], exp)"
   ]
  },
  {
   "cell_type": "code",
   "execution_count": 52,
   "metadata": {
    "colab": {
     "base_uri": "https://localhost:8080/"
    },
    "id": "xNgGynYzuoz8",
    "outputId": "cb73d631-5505-4e34-f5ba-b4910a69be24"
   },
   "outputs": [
    {
     "data": {
      "text/plain": [
       "array([ 6.04193804e+11,  4.33781981e+11, -3.16104167e+11, -7.06349242e+11])"
      ]
     },
     "execution_count": 52,
     "metadata": {},
     "output_type": "execute_result"
    }
   ],
   "source": [
    "sgd.coef_"
   ]
  },
  {
   "cell_type": "code",
   "execution_count": 53,
   "metadata": {
    "colab": {
     "base_uri": "https://localhost:8080/"
    },
    "id": "SZNPsN5RupBi",
    "outputId": "14a2f57e-e285-43a2-92f8-3ddea3b55b17"
   },
   "outputs": [
    {
     "name": "stdout",
     "output_type": "stream",
     "text": [
      "                            OLS Regression Results                            \n",
      "==============================================================================\n",
      "Dep. Variable:        Life_Expectancy   R-squared:                       0.322\n",
      "Model:                            OLS   Adj. R-squared:                  0.307\n",
      "Method:                 Least Squares   F-statistic:                     21.00\n",
      "Date:                Thu, 08 Apr 2021   Prob (F-statistic):           3.49e-14\n",
      "Time:                        16:42:25   Log-Likelihood:                -597.26\n",
      "No. Observations:                 182   AIC:                             1205.\n",
      "Df Residuals:                     177   BIC:                             1221.\n",
      "Df Model:                           4                                         \n",
      "Covariance Type:            nonrobust                                         \n",
      "===============================================================================\n",
      "                  coef    std err          t      P>|t|      [0.025      0.975]\n",
      "-------------------------------------------------------------------------------\n",
      "const          55.6563      1.930     28.841      0.000      51.848      59.465\n",
      "Hepatitis B    -0.0524      0.045     -1.160      0.248      -0.142       0.037\n",
      "Measles     -7.326e-05   6.18e-05     -1.185      0.238      -0.000    4.88e-05\n",
      "Polio           0.1034      0.027      3.891      0.000       0.051       0.156\n",
      "Diphtheria      0.1458      0.053      2.749      0.007       0.041       0.250\n",
      "==============================================================================\n",
      "Omnibus:                        6.522   Durbin-Watson:                   2.011\n",
      "Prob(Omnibus):                  0.038   Jarque-Bera (JB):                6.445\n",
      "Skew:                          -0.460   Prob(JB):                       0.0399\n",
      "Kurtosis:                       3.062   Cond. No.                     3.18e+04\n",
      "==============================================================================\n",
      "\n",
      "Notes:\n",
      "[1] Standard Errors assume that the covariance matrix of the errors is correctly specified.\n",
      "[2] The condition number is large, 3.18e+04. This might indicate that there are\n",
      "strong multicollinearity or other numerical problems.\n"
     ]
    }
   ],
   "source": [
    "xy= sm.add_constant(xc[['Hepatitis B', 'Measles', 'Polio', 'Diphtheria']])\n",
    "model = sm.OLS(exp, xy).fit()\n",
    "print(model.summary())"
   ]
  },
  {
   "cell_type": "code",
   "execution_count": 54,
   "metadata": {
    "colab": {
     "base_uri": "https://localhost:8080/",
     "height": 175
    },
    "id": "Vl91AiK90coc",
    "outputId": "b7f0b39e-bcf2-4b42-eba3-f159c57665cf"
   },
   "outputs": [
    {
     "data": {
      "text/html": [
       "<div>\n",
       "<style scoped>\n",
       "    .dataframe tbody tr th:only-of-type {\n",
       "        vertical-align: middle;\n",
       "    }\n",
       "\n",
       "    .dataframe tbody tr th {\n",
       "        vertical-align: top;\n",
       "    }\n",
       "\n",
       "    .dataframe thead th {\n",
       "        text-align: right;\n",
       "    }\n",
       "</style>\n",
       "<table border=\"1\" class=\"dataframe\">\n",
       "  <thead>\n",
       "    <tr style=\"text-align: right;\">\n",
       "      <th></th>\n",
       "      <th>sgd</th>\n",
       "      <th>Linear</th>\n",
       "    </tr>\n",
       "  </thead>\n",
       "  <tbody>\n",
       "    <tr>\n",
       "      <th>0</th>\n",
       "      <td>0.604194</td>\n",
       "      <td>-0.052378</td>\n",
       "    </tr>\n",
       "    <tr>\n",
       "      <th>1</th>\n",
       "      <td>0.433782</td>\n",
       "      <td>-0.000073</td>\n",
       "    </tr>\n",
       "    <tr>\n",
       "      <th>2</th>\n",
       "      <td>-0.316104</td>\n",
       "      <td>0.103351</td>\n",
       "    </tr>\n",
       "    <tr>\n",
       "      <th>3</th>\n",
       "      <td>-0.706349</td>\n",
       "      <td>0.145787</td>\n",
       "    </tr>\n",
       "  </tbody>\n",
       "</table>\n",
       "</div>"
      ],
      "text/plain": [
       "        sgd    Linear\n",
       "0  0.604194 -0.052378\n",
       "1  0.433782 -0.000073\n",
       "2 -0.316104  0.103351\n",
       "3 -0.706349  0.145787"
      ]
     },
     "execution_count": 54,
     "metadata": {},
     "output_type": "execute_result"
    }
   ],
   "source": [
    "a = list(sgd.coef_/1000000000000)\n",
    "b= list(model.params[1:])\n",
    "rr= pd.DataFrame({'sgd': a, 'Linear':b})\n",
    "rr.head()"
   ]
  },
  {
   "cell_type": "code",
   "execution_count": 55,
   "metadata": {
    "colab": {
     "base_uri": "https://localhost:8080/",
     "height": 262
    },
    "id": "f0vWHigR0cr2",
    "outputId": "a8dfe76f-c8d6-4a5f-db8e-47e0d6256ba0"
   },
   "outputs": [
    {
     "data": {
      "image/png": "[encoded data removed]",
      "text/plain": [
       "<Figure size 432x288 with 1 Axes>"
      ]
     },
     "metadata": {
      "needs_background": "light"
     },
     "output_type": "display_data"
    }
   ],
   "source": [
    "rr.plot(kind='bar')\n",
    "plt.show()"
   ]
  },
  {
   "cell_type": "code",
   "execution_count": 56,
   "metadata": {
    "id": "wHjbE-3dupEC"
   },
   "outputs": [],
   "source": [
    "from sklearn.model_selection import train_test_split"
   ]
  },
  {
   "cell_type": "markdown",
   "metadata": {
    "collapsed": true,
    "id": "vrk6YOz1Frd7"
   },
   "source": [
    "<table align=\"left\">\n",
    "    <tr>\n",
    "        <td>\n",
    "            <div align=\"left\", style=\"font-size:120%\">\n",
    "                <font color=\"#21618C\">\n",
    "                    <b>10. Build a full model using least squares regression. Check whether the model overfits the training data or not.\n",
    "</b>\n",
    "                </font>\n",
    "            </div>\n",
    "        </td>\n",
    "    </tr>\n",
    "</table>"
   ]
  },
  {
   "cell_type": "code",
   "execution_count": 57,
   "metadata": {
    "id": "8z1E8IaWFrd8"
   },
   "outputs": [],
   "source": [
    "xtr, xts, ytr, yts = train_test_split(xc, exp)"
   ]
  },
  {
   "cell_type": "code",
   "execution_count": 58,
   "metadata": {
    "colab": {
     "base_uri": "https://localhost:8080/"
    },
    "id": "lqX46Zesuppp",
    "outputId": "a57d6522-34df-477b-d1b3-30bf63ffacfd"
   },
   "outputs": [
    {
     "name": "stdout",
     "output_type": "stream",
     "text": [
      "                            OLS Regression Results                            \n",
      "==============================================================================\n",
      "Dep. Variable:        Life_Expectancy   R-squared:                       0.893\n",
      "Model:                            OLS   Adj. R-squared:                  0.877\n",
      "Method:                 Least Squares   F-statistic:                     54.45\n",
      "Date:                Thu, 08 Apr 2021   Prob (F-statistic):           3.43e-48\n",
      "Time:                        16:42:25   Log-Likelihood:                -322.20\n",
      "No. Observations:                 136   AIC:                             682.4\n",
      "Df Residuals:                     117   BIC:                             737.7\n",
      "Df Model:                          18                                         \n",
      "Covariance Type:            nonrobust                                         \n",
      "=====================================================================================\n",
      "                        coef    std err          t      P>|t|      [0.025      0.975]\n",
      "-------------------------------------------------------------------------------------\n",
      "const                56.6207      2.939     19.266      0.000      50.801      62.441\n",
      "Adult_Mortality      -0.0251      0.004     -6.319      0.000      -0.033      -0.017\n",
      "Infant_Deaths         0.0914      0.035      2.617      0.010       0.022       0.161\n",
      "Alcohol              -0.1008      0.256     -0.393      0.695      -0.609       0.407\n",
      "Hepatitis B           0.0313      0.030      1.060      0.291      -0.027       0.090\n",
      "Measles              -0.0001   6.92e-05     -1.647      0.102      -0.000    2.31e-05\n",
      "BMI                  -0.0181      0.016     -1.152      0.252      -0.049       0.013\n",
      "Underfive_Deaths     -0.0635      0.025     -2.561      0.012      -0.113      -0.014\n",
      "Polio                 0.0037      0.015      0.253      0.800      -0.026       0.033\n",
      "Diphtheria            0.0117      0.033      0.354      0.724      -0.054       0.077\n",
      "HIV                  -0.8631      0.260     -3.313      0.001      -1.379      -0.347\n",
      "GDP               -8.675e-06   2.76e-05     -0.314      0.754   -6.33e-05     4.6e-05\n",
      "Population        -2.301e-09      1e-08     -0.229      0.819   -2.22e-08    1.76e-08\n",
      "Malnourished10_19    -0.1089      0.240     -0.454      0.651      -0.585       0.367\n",
      "Malnourished5_9      -0.0979      0.239     -0.410      0.683      -0.571       0.375\n",
      "Income_Index         29.6695      3.954      7.504      0.000      21.839      37.500\n",
      "Schooling            -0.1109      0.146     -0.757      0.451      -0.401       0.179\n",
      "Year_2015            -0.5630      1.282     -0.439      0.661      -3.101       1.975\n",
      "status_Developing    -1.3079      0.862     -1.517      0.132      -3.016       0.400\n",
      "==============================================================================\n",
      "Omnibus:                       12.773   Durbin-Watson:                   2.045\n",
      "Prob(Omnibus):                  0.002   Jarque-Bera (JB):               22.434\n",
      "Skew:                          -0.417   Prob(JB):                     1.34e-05\n",
      "Kurtosis:                       4.807   Cond. No.                     5.88e+08\n",
      "==============================================================================\n",
      "\n",
      "Notes:\n",
      "[1] Standard Errors assume that the covariance matrix of the errors is correctly specified.\n",
      "[2] The condition number is large, 5.88e+08. This might indicate that there are\n",
      "strong multicollinearity or other numerical problems.\n"
     ]
    }
   ],
   "source": [
    "xy= sm.add_constant(xtr)\n",
    "model = sm.OLS(ytr, xy).fit()\n",
    "print(model.summary())"
   ]
  },
  {
   "cell_type": "code",
   "execution_count": 59,
   "metadata": {
    "colab": {
     "base_uri": "https://localhost:8080/"
    },
    "id": "Z4vRG0zkups4",
    "outputId": "534bd903-6496-4be7-a945-43372a21dfdd"
   },
   "outputs": [
    {
     "data": {
      "text/plain": [
       "0.8339665910931324"
      ]
     },
     "execution_count": 59,
     "metadata": {},
     "output_type": "execute_result"
    }
   ],
   "source": [
    "# testing set\n",
    "\n",
    "xy= sm.add_constant(xts)\n",
    "ypred = model.predict(xy)\n",
    "from sklearn.metrics import r2_score\n",
    "\n",
    "r2_score(yts, ypred)"
   ]
  },
  {
   "cell_type": "code",
   "execution_count": 60,
   "metadata": {
    "id": "H27p4-CfupwH"
   },
   "outputs": [],
   "source": [
    "# yes the model is overfitting slight on the traning data"
   ]
  },
  {
   "cell_type": "markdown",
   "metadata": {
    "collapsed": true,
    "id": "37Dms9QTFrd8"
   },
   "source": [
    "<table align=\"left\">\n",
    "    <tr>\n",
    "        <td>\n",
    "            <div align=\"left\", style=\"font-size:120%\">\n",
    "                <font color=\"#21618C\">\n",
    "                    <b>11. Can we use a linear regression model to analyze how all features from the dataset impact life expectancy?</b>\n",
    "                </font>\n",
    "            </div>\n",
    "        </td>\n",
    "    </tr>\n",
    "</table>"
   ]
  },
  {
   "cell_type": "code",
   "execution_count": 61,
   "metadata": {
    "colab": {
     "base_uri": "https://localhost:8080/"
    },
    "id": "FBvViLYBFrd9",
    "outputId": "00cb47fe-f3f7-43cf-d163-194bbfce2857"
   },
   "outputs": [
    {
     "name": "stdout",
     "output_type": "stream",
     "text": [
      "                            OLS Regression Results                            \n",
      "==============================================================================\n",
      "Dep. Variable:        Life_Expectancy   R-squared:                       0.893\n",
      "Model:                            OLS   Adj. R-squared:                  0.877\n",
      "Method:                 Least Squares   F-statistic:                     54.45\n",
      "Date:                Thu, 08 Apr 2021   Prob (F-statistic):           3.43e-48\n",
      "Time:                        16:42:25   Log-Likelihood:                -322.20\n",
      "No. Observations:                 136   AIC:                             682.4\n",
      "Df Residuals:                     117   BIC:                             737.7\n",
      "Df Model:                          18                                         \n",
      "Covariance Type:            nonrobust                                         \n",
      "=====================================================================================\n",
      "                        coef    std err          t      P>|t|      [0.025      0.975]\n",
      "-------------------------------------------------------------------------------------\n",
      "const                56.6207      2.939     19.266      0.000      50.801      62.441\n",
      "Adult_Mortality      -0.0251      0.004     -6.319      0.000      -0.033      -0.017\n",
      "Infant_Deaths         0.0914      0.035      2.617      0.010       0.022       0.161\n",
      "Alcohol              -0.1008      0.256     -0.393      0.695      -0.609       0.407\n",
      "Hepatitis B           0.0313      0.030      1.060      0.291      -0.027       0.090\n",
      "Measles              -0.0001   6.92e-05     -1.647      0.102      -0.000    2.31e-05\n",
      "BMI                  -0.0181      0.016     -1.152      0.252      -0.049       0.013\n",
      "Underfive_Deaths     -0.0635      0.025     -2.561      0.012      -0.113      -0.014\n",
      "Polio                 0.0037      0.015      0.253      0.800      -0.026       0.033\n",
      "Diphtheria            0.0117      0.033      0.354      0.724      -0.054       0.077\n",
      "HIV                  -0.8631      0.260     -3.313      0.001      -1.379      -0.347\n",
      "GDP               -8.675e-06   2.76e-05     -0.314      0.754   -6.33e-05     4.6e-05\n",
      "Population        -2.301e-09      1e-08     -0.229      0.819   -2.22e-08    1.76e-08\n",
      "Malnourished10_19    -0.1089      0.240     -0.454      0.651      -0.585       0.367\n",
      "Malnourished5_9      -0.0979      0.239     -0.410      0.683      -0.571       0.375\n",
      "Income_Index         29.6695      3.954      7.504      0.000      21.839      37.500\n",
      "Schooling            -0.1109      0.146     -0.757      0.451      -0.401       0.179\n",
      "Year_2015            -0.5630      1.282     -0.439      0.661      -3.101       1.975\n",
      "status_Developing    -1.3079      0.862     -1.517      0.132      -3.016       0.400\n",
      "==============================================================================\n",
      "Omnibus:                       12.773   Durbin-Watson:                   2.045\n",
      "Prob(Omnibus):                  0.002   Jarque-Bera (JB):               22.434\n",
      "Skew:                          -0.417   Prob(JB):                     1.34e-05\n",
      "Kurtosis:                       4.807   Cond. No.                     5.88e+08\n",
      "==============================================================================\n",
      "\n",
      "Notes:\n",
      "[1] Standard Errors assume that the covariance matrix of the errors is correctly specified.\n",
      "[2] The condition number is large, 5.88e+08. This might indicate that there are\n",
      "strong multicollinearity or other numerical problems.\n"
     ]
    }
   ],
   "source": [
    "# Yes. \n",
    "\n",
    "xy= sm.add_constant(xtr)\n",
    "model = sm.OLS(ytr, xy).fit()\n",
    "print(model.summary())"
   ]
  },
  {
   "cell_type": "code",
   "execution_count": 62,
   "metadata": {
    "id": "P1NTUbrpuqTQ"
   },
   "outputs": [],
   "source": [
    "# highest contributing features are - Adult_Mortality, Infacnt- deaths, Income_Index, Hepatitis B "
   ]
  },
  {
   "cell_type": "code",
   "execution_count": 63,
   "metadata": {
    "id": "2TFuYjFNuqZQ"
   },
   "outputs": [],
   "source": [
    "# we can analyze by looking at the coefficeints"
   ]
  },
  {
   "cell_type": "markdown",
   "metadata": {
    "id": "sfH_TDnZFrd9"
   },
   "source": [
    "<a id=\"reg\"> </a>\n",
    "## 4. Regularization"
   ]
  },
  {
   "cell_type": "markdown",
   "metadata": {
    "collapsed": true,
    "id": "U6vQWLZMFrd-"
   },
   "source": [
    "<table align=\"left\">\n",
    "    <tr>\n",
    "        <td>\n",
    "            <div align=\"left\", style=\"font-size:120%\">\n",
    "                <font color=\"#21618C\">\n",
    "                    <b>12. Can we perform regression analysis without eliminating features involved in multicollinearity detected in question 11?</b>\n",
    "                </font>\n",
    "            </div>\n",
    "        </td>\n",
    "    </tr>\n",
    "</table>"
   ]
  },
  {
   "cell_type": "code",
   "execution_count": 64,
   "metadata": {
    "id": "26hjWSY5Frd-",
    "scrolled": true
   },
   "outputs": [],
   "source": [
    "# lets check VIF\n",
    "from statsmodels.stats.outliers_influence import variance_inflation_factor as vif\n",
    "\n",
    "gt= pd.DataFrame()\n",
    "gt['vars'] = xc.columns\n",
    "gt['vif_score'] = [vif(xc.values, i) for i in range(xc.shape[1])]\n"
   ]
  },
  {
   "cell_type": "code",
   "execution_count": 65,
   "metadata": {
    "colab": {
     "base_uri": "https://localhost:8080/",
     "height": 645
    },
    "id": "_54368cZurHi",
    "outputId": "8b9a1fe0-adb8-4e61-a342-a9d071c8df01"
   },
   "outputs": [
    {
     "data": {
      "text/html": [
       "<div>\n",
       "<style scoped>\n",
       "    .dataframe tbody tr th:only-of-type {\n",
       "        vertical-align: middle;\n",
       "    }\n",
       "\n",
       "    .dataframe tbody tr th {\n",
       "        vertical-align: top;\n",
       "    }\n",
       "\n",
       "    .dataframe thead th {\n",
       "        text-align: right;\n",
       "    }\n",
       "</style>\n",
       "<table border=\"1\" class=\"dataframe\">\n",
       "  <thead>\n",
       "    <tr style=\"text-align: right;\">\n",
       "      <th></th>\n",
       "      <th>vars</th>\n",
       "      <th>vif_score</th>\n",
       "    </tr>\n",
       "  </thead>\n",
       "  <tbody>\n",
       "    <tr>\n",
       "      <th>0</th>\n",
       "      <td>const</td>\n",
       "      <td>150.981848</td>\n",
       "    </tr>\n",
       "    <tr>\n",
       "      <th>1</th>\n",
       "      <td>Adult_Mortality</td>\n",
       "      <td>2.345130</td>\n",
       "    </tr>\n",
       "    <tr>\n",
       "      <th>2</th>\n",
       "      <td>Infant_Deaths</td>\n",
       "      <td>162.920206</td>\n",
       "    </tr>\n",
       "    <tr>\n",
       "      <th>3</th>\n",
       "      <td>Alcohol</td>\n",
       "      <td>1.105705</td>\n",
       "    </tr>\n",
       "    <tr>\n",
       "      <th>4</th>\n",
       "      <td>Hepatitis B</td>\n",
       "      <td>6.243168</td>\n",
       "    </tr>\n",
       "    <tr>\n",
       "      <th>5</th>\n",
       "      <td>Measles</td>\n",
       "      <td>4.256329</td>\n",
       "    </tr>\n",
       "    <tr>\n",
       "      <th>6</th>\n",
       "      <td>BMI</td>\n",
       "      <td>1.770225</td>\n",
       "    </tr>\n",
       "    <tr>\n",
       "      <th>7</th>\n",
       "      <td>Underfive_Deaths</td>\n",
       "      <td>141.643778</td>\n",
       "    </tr>\n",
       "    <tr>\n",
       "      <th>8</th>\n",
       "      <td>Polio</td>\n",
       "      <td>2.244110</td>\n",
       "    </tr>\n",
       "    <tr>\n",
       "      <th>9</th>\n",
       "      <td>Diphtheria</td>\n",
       "      <td>7.206809</td>\n",
       "    </tr>\n",
       "    <tr>\n",
       "      <th>10</th>\n",
       "      <td>HIV</td>\n",
       "      <td>1.978699</td>\n",
       "    </tr>\n",
       "    <tr>\n",
       "      <th>11</th>\n",
       "      <td>GDP</td>\n",
       "      <td>1.410186</td>\n",
       "    </tr>\n",
       "    <tr>\n",
       "      <th>12</th>\n",
       "      <td>Population</td>\n",
       "      <td>1.443799</td>\n",
       "    </tr>\n",
       "    <tr>\n",
       "      <th>13</th>\n",
       "      <td>Malnourished10_19</td>\n",
       "      <td>21.393502</td>\n",
       "    </tr>\n",
       "    <tr>\n",
       "      <th>14</th>\n",
       "      <td>Malnourished5_9</td>\n",
       "      <td>21.892005</td>\n",
       "    </tr>\n",
       "    <tr>\n",
       "      <th>15</th>\n",
       "      <td>Income_Index</td>\n",
       "      <td>6.540287</td>\n",
       "    </tr>\n",
       "    <tr>\n",
       "      <th>16</th>\n",
       "      <td>Schooling</td>\n",
       "      <td>4.172218</td>\n",
       "    </tr>\n",
       "    <tr>\n",
       "      <th>17</th>\n",
       "      <td>Year_2015</td>\n",
       "      <td>1.316841</td>\n",
       "    </tr>\n",
       "    <tr>\n",
       "      <th>18</th>\n",
       "      <td>status_Developing</td>\n",
       "      <td>1.608646</td>\n",
       "    </tr>\n",
       "  </tbody>\n",
       "</table>\n",
       "</div>"
      ],
      "text/plain": [
       "                 vars   vif_score\n",
       "0               const  150.981848\n",
       "1     Adult_Mortality    2.345130\n",
       "2       Infant_Deaths  162.920206\n",
       "3             Alcohol    1.105705\n",
       "4         Hepatitis B    6.243168\n",
       "5             Measles    4.256329\n",
       "6                 BMI    1.770225\n",
       "7    Underfive_Deaths  141.643778\n",
       "8               Polio    2.244110\n",
       "9          Diphtheria    7.206809\n",
       "10                HIV    1.978699\n",
       "11                GDP    1.410186\n",
       "12         Population    1.443799\n",
       "13  Malnourished10_19   21.393502\n",
       "14    Malnourished5_9   21.892005\n",
       "15       Income_Index    6.540287\n",
       "16          Schooling    4.172218\n",
       "17          Year_2015    1.316841\n",
       "18  status_Developing    1.608646"
      ]
     },
     "execution_count": 65,
     "metadata": {},
     "output_type": "execute_result"
    }
   ],
   "source": [
    "gt"
   ]
  },
  {
   "cell_type": "code",
   "execution_count": 66,
   "metadata": {
    "id": "I9b6md1jurLZ"
   },
   "outputs": [],
   "source": [
    "# features having high multicollinearity are- Infant_Deaths, Underfive_Deaths, Malnourished10_19, Malnourished5_9"
   ]
  },
  {
   "cell_type": "code",
   "execution_count": 67,
   "metadata": {
    "id": "MpYxXJTP7Fqb"
   },
   "outputs": [],
   "source": [
    "# none of the above features are contributing that much - coeff wise - so fairly said, model wont be disrupted that much after dropping these features"
   ]
  },
  {
   "cell_type": "markdown",
   "metadata": {
    "collapsed": true,
    "id": "3LtvZ_fnFrd_"
   },
   "source": [
    "<table align=\"left\">\n",
    "    <tr>\n",
    "        <td>\n",
    "            <div align=\"left\", style=\"font-size:120%\">\n",
    "                <font color=\"#21618C\">\n",
    "                    <b>13. Build a model to study the impact of diseases and immunization on life expectancy. Identify the significant variables from the model. Use 'alpha = 1.5' if required.\n",
    "</b>\n",
    "                </font>\n",
    "            </div>\n",
    "        </td>\n",
    "    </tr>\n",
    "</table>"
   ]
  },
  {
   "cell_type": "code",
   "execution_count": 68,
   "metadata": {
    "colab": {
     "base_uri": "https://localhost:8080/",
     "height": 244
    },
    "id": "uG9LBhRiFDdc",
    "outputId": "3b322d80-0313-4b77-be5d-21153cc5f1ec"
   },
   "outputs": [
    {
     "data": {
      "text/html": [
       "<div>\n",
       "<style scoped>\n",
       "    .dataframe tbody tr th:only-of-type {\n",
       "        vertical-align: middle;\n",
       "    }\n",
       "\n",
       "    .dataframe tbody tr th {\n",
       "        vertical-align: top;\n",
       "    }\n",
       "\n",
       "    .dataframe thead th {\n",
       "        text-align: right;\n",
       "    }\n",
       "</style>\n",
       "<table border=\"1\" class=\"dataframe\">\n",
       "  <thead>\n",
       "    <tr style=\"text-align: right;\">\n",
       "      <th></th>\n",
       "      <th>const</th>\n",
       "      <th>Adult_Mortality</th>\n",
       "      <th>Infant_Deaths</th>\n",
       "      <th>Alcohol</th>\n",
       "      <th>Hepatitis B</th>\n",
       "      <th>Measles</th>\n",
       "      <th>BMI</th>\n",
       "      <th>Underfive_Deaths</th>\n",
       "      <th>Polio</th>\n",
       "      <th>Diphtheria</th>\n",
       "      <th>HIV</th>\n",
       "      <th>GDP</th>\n",
       "      <th>Population</th>\n",
       "      <th>Malnourished10_19</th>\n",
       "      <th>Malnourished5_9</th>\n",
       "      <th>Income_Index</th>\n",
       "      <th>Schooling</th>\n",
       "      <th>Year_2015</th>\n",
       "      <th>status_Developing</th>\n",
       "    </tr>\n",
       "  </thead>\n",
       "  <tbody>\n",
       "    <tr>\n",
       "      <th>0</th>\n",
       "      <td>1.0</td>\n",
       "      <td>263.0</td>\n",
       "      <td>62</td>\n",
       "      <td>0.01</td>\n",
       "      <td>65.0</td>\n",
       "      <td>1154</td>\n",
       "      <td>19.1</td>\n",
       "      <td>83</td>\n",
       "      <td>6</td>\n",
       "      <td>65</td>\n",
       "      <td>0.1</td>\n",
       "      <td>584.259210</td>\n",
       "      <td>33736494.0</td>\n",
       "      <td>17.2</td>\n",
       "      <td>17.3</td>\n",
       "      <td>0.479</td>\n",
       "      <td>10.1</td>\n",
       "      <td>1</td>\n",
       "      <td>1</td>\n",
       "    </tr>\n",
       "    <tr>\n",
       "      <th>1</th>\n",
       "      <td>1.0</td>\n",
       "      <td>74.0</td>\n",
       "      <td>0</td>\n",
       "      <td>4.60</td>\n",
       "      <td>99.0</td>\n",
       "      <td>0</td>\n",
       "      <td>58.0</td>\n",
       "      <td>0</td>\n",
       "      <td>99</td>\n",
       "      <td>99</td>\n",
       "      <td>0.1</td>\n",
       "      <td>3954.227830</td>\n",
       "      <td>28873.0</td>\n",
       "      <td>1.2</td>\n",
       "      <td>1.3</td>\n",
       "      <td>0.762</td>\n",
       "      <td>14.2</td>\n",
       "      <td>1</td>\n",
       "      <td>1</td>\n",
       "    </tr>\n",
       "    <tr>\n",
       "      <th>2</th>\n",
       "      <td>1.0</td>\n",
       "      <td>19.0</td>\n",
       "      <td>21</td>\n",
       "      <td>0.01</td>\n",
       "      <td>95.0</td>\n",
       "      <td>63</td>\n",
       "      <td>59.5</td>\n",
       "      <td>24</td>\n",
       "      <td>95</td>\n",
       "      <td>95</td>\n",
       "      <td>0.1</td>\n",
       "      <td>4132.762920</td>\n",
       "      <td>39871528.0</td>\n",
       "      <td>6.0</td>\n",
       "      <td>5.8</td>\n",
       "      <td>0.743</td>\n",
       "      <td>14.4</td>\n",
       "      <td>1</td>\n",
       "      <td>1</td>\n",
       "    </tr>\n",
       "    <tr>\n",
       "      <th>3</th>\n",
       "      <td>1.0</td>\n",
       "      <td>335.0</td>\n",
       "      <td>66</td>\n",
       "      <td>0.01</td>\n",
       "      <td>64.0</td>\n",
       "      <td>118</td>\n",
       "      <td>23.3</td>\n",
       "      <td>98</td>\n",
       "      <td>7</td>\n",
       "      <td>64</td>\n",
       "      <td>1.9</td>\n",
       "      <td>3695.793748</td>\n",
       "      <td>2785935.0</td>\n",
       "      <td>8.3</td>\n",
       "      <td>8.2</td>\n",
       "      <td>0.531</td>\n",
       "      <td>11.4</td>\n",
       "      <td>1</td>\n",
       "      <td>1</td>\n",
       "    </tr>\n",
       "    <tr>\n",
       "      <th>4</th>\n",
       "      <td>1.0</td>\n",
       "      <td>13.0</td>\n",
       "      <td>0</td>\n",
       "      <td>0.01</td>\n",
       "      <td>99.0</td>\n",
       "      <td>0</td>\n",
       "      <td>47.7</td>\n",
       "      <td>0</td>\n",
       "      <td>86</td>\n",
       "      <td>99</td>\n",
       "      <td>0.2</td>\n",
       "      <td>13566.954100</td>\n",
       "      <td>1977527.0</td>\n",
       "      <td>3.3</td>\n",
       "      <td>3.3</td>\n",
       "      <td>0.784</td>\n",
       "      <td>13.9</td>\n",
       "      <td>1</td>\n",
       "      <td>1</td>\n",
       "    </tr>\n",
       "  </tbody>\n",
       "</table>\n",
       "</div>"
      ],
      "text/plain": [
       "   const  Adult_Mortality  Infant_Deaths  Alcohol  Hepatitis B  Measles   BMI  \\\n",
       "0    1.0            263.0             62     0.01         65.0     1154  19.1   \n",
       "1    1.0             74.0              0     4.60         99.0        0  58.0   \n",
       "2    1.0             19.0             21     0.01         95.0       63  59.5   \n",
       "3    1.0            335.0             66     0.01         64.0      118  23.3   \n",
       "4    1.0             13.0              0     0.01         99.0        0  47.7   \n",
       "\n",
       "   Underfive_Deaths  Polio  Diphtheria  HIV           GDP  Population  \\\n",
       "0                83      6          65  0.1    584.259210  33736494.0   \n",
       "1                 0     99          99  0.1   3954.227830     28873.0   \n",
       "2                24     95          95  0.1   4132.762920  39871528.0   \n",
       "3                98      7          64  1.9   3695.793748   2785935.0   \n",
       "4                 0     86          99  0.2  13566.954100   1977527.0   \n",
       "\n",
       "   Malnourished10_19  Malnourished5_9  Income_Index  Schooling  Year_2015  \\\n",
       "0               17.2             17.3         0.479       10.1          1   \n",
       "1                1.2              1.3         0.762       14.2          1   \n",
       "2                6.0              5.8         0.743       14.4          1   \n",
       "3                8.3              8.2         0.531       11.4          1   \n",
       "4                3.3              3.3         0.784       13.9          1   \n",
       "\n",
       "   status_Developing  \n",
       "0                  1  \n",
       "1                  1  \n",
       "2                  1  \n",
       "3                  1  \n",
       "4                  1  "
      ]
     },
     "execution_count": 68,
     "metadata": {},
     "output_type": "execute_result"
    }
   ],
   "source": [
    "xc.head()"
   ]
  },
  {
   "cell_type": "code",
   "execution_count": 69,
   "metadata": {
    "id": "tYMrePvODmgW"
   },
   "outputs": [],
   "source": [
    "imm= ['HIV', 'Hepatitis B', 'Measles', 'Polio', 'Diphtheria']"
   ]
  },
  {
   "cell_type": "code",
   "execution_count": 70,
   "metadata": {
    "colab": {
     "base_uri": "https://localhost:8080/"
    },
    "id": "ehyOIaOOFreA",
    "outputId": "6c0d2b0b-0173-4646-d11c-cb6fff2e9d7c"
   },
   "outputs": [
    {
     "name": "stdout",
     "output_type": "stream",
     "text": [
      "RMSE is /n 0.3871578143911168\n"
     ]
    }
   ],
   "source": [
    "# we can use a K-fold cross val coupled with a Lasso.\n",
    "from sklearn.linear_model import Lasso\n",
    "from sklearn.model_selection import RepeatedKFold\n",
    "from sklearn.model_selection import cross_val_score\n",
    "from sklearn.metrics import mean_squared_error\n",
    "ar= Lasso(alpha= 1.5, max_iter=10000)\n",
    "cv_ = RepeatedKFold(n_splits=5, n_repeats=2, random_state=1)\n",
    "scores = cross_val_score(ar, xc[imm], exp, scoring = 'r2', cv=cv_, n_jobs=-1)\n",
    "print('RMSE is /n', np.mean(scores))"
   ]
  },
  {
   "cell_type": "code",
   "execution_count": 71,
   "metadata": {
    "id": "aqijKZP_ur5B"
   },
   "outputs": [],
   "source": [
    "# with lasso we are getting a score of 23% - not that great. \n",
    "\n",
    "# lets see the significant features."
   ]
  },
  {
   "cell_type": "code",
   "execution_count": 72,
   "metadata": {
    "colab": {
     "base_uri": "https://localhost:8080/",
     "height": 424
    },
    "id": "J0w2KNwpur73",
    "outputId": "14a0ab15-4ddf-4466-8aa3-2396083c25ba"
   },
   "outputs": [
    {
     "data": {
      "text/html": [
       "<div>\n",
       "<style scoped>\n",
       "    .dataframe tbody tr th:only-of-type {\n",
       "        vertical-align: middle;\n",
       "    }\n",
       "\n",
       "    .dataframe tbody tr th {\n",
       "        vertical-align: top;\n",
       "    }\n",
       "\n",
       "    .dataframe thead th {\n",
       "        text-align: right;\n",
       "    }\n",
       "</style>\n",
       "<table border=\"1\" class=\"dataframe\">\n",
       "  <thead>\n",
       "    <tr style=\"text-align: right;\">\n",
       "      <th></th>\n",
       "      <th>HIV</th>\n",
       "      <th>Hepatitis B</th>\n",
       "      <th>Measles</th>\n",
       "      <th>Polio</th>\n",
       "      <th>Diphtheria</th>\n",
       "    </tr>\n",
       "  </thead>\n",
       "  <tbody>\n",
       "    <tr>\n",
       "      <th>0</th>\n",
       "      <td>0.1</td>\n",
       "      <td>65.0</td>\n",
       "      <td>1154</td>\n",
       "      <td>6</td>\n",
       "      <td>65</td>\n",
       "    </tr>\n",
       "    <tr>\n",
       "      <th>1</th>\n",
       "      <td>0.1</td>\n",
       "      <td>99.0</td>\n",
       "      <td>0</td>\n",
       "      <td>99</td>\n",
       "      <td>99</td>\n",
       "    </tr>\n",
       "    <tr>\n",
       "      <th>2</th>\n",
       "      <td>0.1</td>\n",
       "      <td>95.0</td>\n",
       "      <td>63</td>\n",
       "      <td>95</td>\n",
       "      <td>95</td>\n",
       "    </tr>\n",
       "    <tr>\n",
       "      <th>3</th>\n",
       "      <td>1.9</td>\n",
       "      <td>64.0</td>\n",
       "      <td>118</td>\n",
       "      <td>7</td>\n",
       "      <td>64</td>\n",
       "    </tr>\n",
       "    <tr>\n",
       "      <th>4</th>\n",
       "      <td>0.2</td>\n",
       "      <td>99.0</td>\n",
       "      <td>0</td>\n",
       "      <td>86</td>\n",
       "      <td>99</td>\n",
       "    </tr>\n",
       "    <tr>\n",
       "      <th>...</th>\n",
       "      <td>...</td>\n",
       "      <td>...</td>\n",
       "      <td>...</td>\n",
       "      <td>...</td>\n",
       "      <td>...</td>\n",
       "    </tr>\n",
       "    <tr>\n",
       "      <th>177</th>\n",
       "      <td>0.1</td>\n",
       "      <td>87.0</td>\n",
       "      <td>0</td>\n",
       "      <td>87</td>\n",
       "      <td>87</td>\n",
       "    </tr>\n",
       "    <tr>\n",
       "      <th>178</th>\n",
       "      <td>0.1</td>\n",
       "      <td>97.0</td>\n",
       "      <td>256</td>\n",
       "      <td>97</td>\n",
       "      <td>97</td>\n",
       "    </tr>\n",
       "    <tr>\n",
       "      <th>179</th>\n",
       "      <td>0.1</td>\n",
       "      <td>69.0</td>\n",
       "      <td>468</td>\n",
       "      <td>63</td>\n",
       "      <td>69</td>\n",
       "    </tr>\n",
       "    <tr>\n",
       "      <th>180</th>\n",
       "      <td>4.1</td>\n",
       "      <td>9.0</td>\n",
       "      <td>9</td>\n",
       "      <td>9</td>\n",
       "      <td>9</td>\n",
       "    </tr>\n",
       "    <tr>\n",
       "      <th>181</th>\n",
       "      <td>6.2</td>\n",
       "      <td>87.0</td>\n",
       "      <td>0</td>\n",
       "      <td>88</td>\n",
       "      <td>87</td>\n",
       "    </tr>\n",
       "  </tbody>\n",
       "</table>\n",
       "<p>182 rows × 5 columns</p>\n",
       "</div>"
      ],
      "text/plain": [
       "     HIV  Hepatitis B  Measles  Polio  Diphtheria\n",
       "0    0.1         65.0     1154      6          65\n",
       "1    0.1         99.0        0     99          99\n",
       "2    0.1         95.0       63     95          95\n",
       "3    1.9         64.0      118      7          64\n",
       "4    0.2         99.0        0     86          99\n",
       "..   ...          ...      ...    ...         ...\n",
       "177  0.1         87.0        0     87          87\n",
       "178  0.1         97.0      256     97          97\n",
       "179  0.1         69.0      468     63          69\n",
       "180  4.1          9.0        9      9           9\n",
       "181  6.2         87.0        0     88          87\n",
       "\n",
       "[182 rows x 5 columns]"
      ]
     },
     "execution_count": 72,
     "metadata": {},
     "output_type": "execute_result"
    }
   ],
   "source": [
    "las= Lasso(alpha=0.1, max_iter=100000).fit(xc[imm], exp)\n",
    "xc[imm].iloc[:,las.coef_!=0]"
   ]
  },
  {
   "cell_type": "code",
   "execution_count": 73,
   "metadata": {
    "colab": {
     "base_uri": "https://localhost:8080/"
    },
    "id": "eytunps8GNhn",
    "outputId": "d26e3624-8624-4b92-f16e-f1585f58739c"
   },
   "outputs": [
    {
     "data": {
      "text/plain": [
       "array([-2.59503551e+00, -3.57548932e-02, -8.59473853e-05,  7.66260357e-02,\n",
       "        8.43644730e-02])"
      ]
     },
     "execution_count": 73,
     "metadata": {},
     "output_type": "execute_result"
    }
   ],
   "source": [
    "las.coef_"
   ]
  },
  {
   "cell_type": "code",
   "execution_count": 74,
   "metadata": {
    "id": "93SpUHScGU3h"
   },
   "outputs": [],
   "source": [
    "# So most important features taken by lasso are: HIV, Hepatitis B and Polio"
   ]
  },
  {
   "cell_type": "markdown",
   "metadata": {
    "collapsed": true,
    "id": "VWO7vwRwFreA"
   },
   "source": [
    "<table align=\"left\">\n",
    "    <tr>\n",
    "        <td>\n",
    "            <div align=\"left\", style=\"font-size:120%\">\n",
    "                <font color=\"#21618C\">\n",
    "                    <b>14. Build a model to study the impact of malnutrition and diseases on life expectancy. Identify the insignificant variables from the model. Use 'alpha = 1' if required.</b>\n",
    "                </font>\n",
    "            </div>\n",
    "        </td>\n",
    "    </tr>\n",
    "</table>"
   ]
  },
  {
   "cell_type": "code",
   "execution_count": 75,
   "metadata": {
    "id": "5EVb2cErFreA"
   },
   "outputs": [],
   "source": [
    "  rrt= ['HIV', 'Hepatitis B', 'Measles', 'Polio', 'Diphtheria', 'Malnourished10_19',\t'Malnourished5_9']\n",
    "  las= Lasso(alpha=0.1, max_iter=100000).fit(xc[rrt], exp)"
   ]
  },
  {
   "cell_type": "code",
   "execution_count": 76,
   "metadata": {
    "id": "AUIGoYwYuso-"
   },
   "outputs": [],
   "source": [
    "\n",
    "ww = {i:k for i,k in zip(rrt, las.coef_)}"
   ]
  },
  {
   "cell_type": "code",
   "execution_count": 77,
   "metadata": {
    "colab": {
     "base_uri": "https://localhost:8080/"
    },
    "id": "ksp82F2Kuswj",
    "outputId": "a6713e19-ed73-465c-b801-07aa554c913e"
   },
   "outputs": [
    {
     "data": {
      "text/plain": [
       "['HIV',\n",
       " 'Malnourished5_9',\n",
       " 'Malnourished10_19',\n",
       " 'Hepatitis B',\n",
       " 'Measles',\n",
       " 'Polio',\n",
       " 'Diphtheria']"
      ]
     },
     "execution_count": 77,
     "metadata": {},
     "output_type": "execute_result"
    }
   ],
   "source": [
    "sorted(ww, key=ww.get)"
   ]
  },
  {
   "cell_type": "code",
   "execution_count": 78,
   "metadata": {
    "id": "SpHp6h_ousy4"
   },
   "outputs": [],
   "source": [
    "# The last few columns are insignificant - we can look that up with p values tho"
   ]
  },
  {
   "cell_type": "markdown",
   "metadata": {
    "collapsed": true,
    "id": "nKKc9dbOFreB"
   },
   "source": [
    "<table align=\"left\">\n",
    "    <tr>\n",
    "        <td>\n",
    "            <div align=\"left\", style=\"font-size:120%\">\n",
    "                <font color=\"#21618C\">\n",
    "                    <b>15. Build a full model using the elastic net regression. Use 'alpha = 0.1' and 'l1_ratio=0.001'. Also, compute the RMSE for train and test sets.\n",
    " </b>\n",
    "                </font>\n",
    "            </div>\n",
    "        </td>\n",
    "    </tr>\n",
    "</table>"
   ]
  },
  {
   "cell_type": "code",
   "execution_count": 79,
   "metadata": {
    "id": "sNpqM3JUFreB",
    "scrolled": true
   },
   "outputs": [],
   "source": [
    "from sklearn.linear_model import ElasticNet\n",
    "el= ElasticNet(alpha= 0.1, l1_ratio=0.001, max_iter=10000).fit(xtr, ytr)"
   ]
  },
  {
   "cell_type": "code",
   "execution_count": 80,
   "metadata": {
    "colab": {
     "base_uri": "https://localhost:8080/"
    },
    "id": "A0pAAtELutyu",
    "outputId": "1ac55ebb-ca39-4eb2-baec-29b382367273"
   },
   "outputs": [
    {
     "name": "stdout",
     "output_type": "stream",
     "text": [
      "3.1455401769076743 3.5148767191149775\n"
     ]
    }
   ],
   "source": [
    "ypr = el.predict(xts)\n",
    "y_train_pr = el.predict(xtr)\n",
    "print(np.sqrt(mean_squared_error(ytr,y_train_pr)), np.sqrt(mean_squared_error(yts,ypr)))"
   ]
  },
  {
   "cell_type": "code",
   "execution_count": 81,
   "metadata": {
    "id": "WEJ2WPprut1u"
   },
   "outputs": [],
   "source": [
    "# training set = 2.95"
   ]
  },
  {
   "cell_type": "code",
   "execution_count": 82,
   "metadata": {
    "id": "25ERJ0hkut8I"
   },
   "outputs": [],
   "source": [
    "# testing set = 4.48"
   ]
  },
  {
   "cell_type": "markdown",
   "metadata": {
    "collapsed": true,
    "id": "gQXwaOLeFreB"
   },
   "source": [
    "<table align=\"left\">\n",
    "    <tr>\n",
    "        <td>\n",
    "            <div align=\"left\", style=\"font-size:120%\">\n",
    "                <font color=\"#21618C\">\n",
    "                    <b>16. Build a full model. Identify the features that are significantly influencing the life expectancy. Use 'alpha = 0.5' if required. </b>\n",
    "                </font>\n",
    "            </div>\n",
    "        </td>\n",
    "    </tr>\n",
    "</table>"
   ]
  },
  {
   "cell_type": "code",
   "execution_count": 83,
   "metadata": {
    "id": "6XsBLnwPFreC",
    "scrolled": true
   },
   "outputs": [],
   "source": [
    "las2= Lasso(alpha=0.5, max_iter=100000).fit(xtr, ytr)"
   ]
  },
  {
   "cell_type": "code",
   "execution_count": 84,
   "metadata": {
    "id": "07O9sBHOuuhv"
   },
   "outputs": [],
   "source": [
    "# features"
   ]
  },
  {
   "cell_type": "code",
   "execution_count": 85,
   "metadata": {
    "id": "KCtC6d7zuukt"
   },
   "outputs": [],
   "source": [
    "ww2 = {i:k for i,k in zip(xtr.columns, las2.coef_)}"
   ]
  },
  {
   "cell_type": "code",
   "execution_count": 86,
   "metadata": {
    "colab": {
     "base_uri": "https://localhost:8080/"
    },
    "id": "KbV8tBxZLdWL",
    "outputId": "c502ecbe-eff8-47e4-e563-524baa3e8855"
   },
   "outputs": [
    {
     "data": {
      "text/plain": [
       "{'const': 0.0,\n",
       " 'Adult_Mortality': -0.039808776960109184,\n",
       " 'Infant_Deaths': 0.11155424782568635,\n",
       " 'Alcohol': 0.0,\n",
       " 'Hepatitis B': -0.03621751718141416,\n",
       " 'Measles': -0.00011126915703150037,\n",
       " 'BMI': 0.024431947041728456,\n",
       " 'Underfive_Deaths': -0.07780811486599737,\n",
       " 'Polio': 0.018051642796907026,\n",
       " 'Diphtheria': 0.08557080462130418,\n",
       " 'HIV': -0.48929104705652365,\n",
       " 'GDP': 5.2845472007912966e-05,\n",
       " 'Population': -1.0125133598443673e-09,\n",
       " 'Malnourished10_19': -0.32737739143574035,\n",
       " 'Malnourished5_9': -0.011167150128770332,\n",
       " 'Income_Index': 0.0,\n",
       " 'Schooling': 0.5299718522047141,\n",
       " 'Year_2015': -0.0,\n",
       " 'status_Developing': -0.0}"
      ]
     },
     "execution_count": 86,
     "metadata": {},
     "output_type": "execute_result"
    }
   ],
   "source": [
    "ww2"
   ]
  },
  {
   "cell_type": "code",
   "execution_count": 87,
   "metadata": {
    "colab": {
     "base_uri": "https://localhost:8080/"
    },
    "id": "61IPwg_suurI",
    "outputId": "2b78f836-8676-4936-e485-27bc41431d1e"
   },
   "outputs": [
    {
     "data": {
      "text/plain": [
       "['Schooling',\n",
       " 'Infant_Deaths',\n",
       " 'Diphtheria',\n",
       " 'BMI',\n",
       " 'Polio',\n",
       " 'GDP',\n",
       " 'const',\n",
       " 'Alcohol',\n",
       " 'Income_Index',\n",
       " 'Year_2015',\n",
       " 'status_Developing',\n",
       " 'Population',\n",
       " 'Measles',\n",
       " 'Malnourished5_9',\n",
       " 'Hepatitis B',\n",
       " 'Adult_Mortality',\n",
       " 'Underfive_Deaths',\n",
       " 'Malnourished10_19',\n",
       " 'HIV']"
      ]
     },
     "execution_count": 87,
     "metadata": {},
     "output_type": "execute_result"
    }
   ],
   "source": [
    "sorted(ww2, key=ww2.get, reverse=True)"
   ]
  },
  {
   "cell_type": "code",
   "execution_count": 88,
   "metadata": {
    "id": "W7ZP4SoKLY1u"
   },
   "outputs": [],
   "source": [
    "# influencing features are: Schooling, Infant_Deaths, Polio, Hepatitis B"
   ]
  },
  {
   "cell_type": "markdown",
   "metadata": {
    "id": "8ZyqeeCOFreC"
   },
   "source": [
    "<a id=\"gs\"> </a>\n",
    "## 5. Grid Search "
   ]
  },
  {
   "cell_type": "markdown",
   "metadata": {
    "collapsed": true,
    "id": "nabN86xWFreC"
   },
   "source": [
    "<table align=\"left\">\n",
    "    <tr>\n",
    "        <td>\n",
    "            <div align=\"left\", style=\"font-size:120%\">\n",
    "                <font color=\"#21618C\">\n",
    "                    <b>17. If ridge regression is used to build a full model. Which value is the best alpha from the list of values?<br><br>Consider the alpha values: [7,8,9,10,11]</b>\n",
    "                </font>\n",
    "            </div>\n",
    "        </td>\n",
    "    </tr>\n",
    "</table>"
   ]
  },
  {
   "cell_type": "code",
   "execution_count": 89,
   "metadata": {
    "colab": {
     "base_uri": "https://localhost:8080/"
    },
    "id": "0MBI1nQLFreD",
    "outputId": "655aabaf-1846-4f70-d1eb-ed31d0428ff2",
    "scrolled": true
   },
   "outputs": [
    {
     "data": {
      "text/plain": [
       "GridSearchCV(cv=3, estimator=Ridge(max_iter=100000),\n",
       "             param_grid={'alpha': [7, 8, 9, 10, 11]}, scoring='r2')"
      ]
     },
     "execution_count": 89,
     "metadata": {},
     "output_type": "execute_result"
    }
   ],
   "source": [
    "from sklearn.linear_model import Ridge\n",
    "\n",
    "rr= {'alpha': [7,8,9,10,11]}\n",
    "\n",
    "from sklearn.model_selection import KFold, GridSearchCV\n",
    "ar = Ridge(max_iter=100000)\n",
    "gs= GridSearchCV(ar, param_grid= rr, scoring= 'r2', cv=3)\n",
    "gs.fit(xtr, ytr)"
   ]
  },
  {
   "cell_type": "code",
   "execution_count": 90,
   "metadata": {
    "colab": {
     "base_uri": "https://localhost:8080/"
    },
    "id": "mvU4Dyyauve_",
    "outputId": "ccc44aac-f796-48e2-9eeb-3856c8a0dd11"
   },
   "outputs": [
    {
     "data": {
      "text/plain": [
       "{'alpha': 11}"
      ]
     },
     "execution_count": 90,
     "metadata": {},
     "output_type": "execute_result"
    }
   ],
   "source": [
    "gs.best_params_"
   ]
  },
  {
   "cell_type": "code",
   "execution_count": 91,
   "metadata": {
    "id": "YmYuPwDguvh-"
   },
   "outputs": [],
   "source": [
    "# alpha was found the best value = 11"
   ]
  },
  {
   "cell_type": "markdown",
   "metadata": {
    "collapsed": true,
    "id": "EYDksPRDFreD"
   },
   "source": [
    "<table align=\"left\">\n",
    "    <tr>\n",
    "        <td>\n",
    "            <div align=\"left\", style=\"font-size:120%\">\n",
    "                <font color=\"#21618C\">\n",
    "                    <b>18. If lasso regression is used to build a full model. Which value is the best alpha from the list of values?<br><br>Consider the alpha values: [7,8,9,10,11]</b>\n",
    "                </font>\n",
    "            </div>\n",
    "        </td>\n",
    "    </tr>\n",
    "</table>"
   ]
  },
  {
   "cell_type": "code",
   "execution_count": 92,
   "metadata": {
    "colab": {
     "base_uri": "https://localhost:8080/"
    },
    "id": "KXL8eqF9FreD",
    "outputId": "939680b3-b601-4bf5-d4c9-a30abae0890f"
   },
   "outputs": [
    {
     "data": {
      "text/plain": [
       "GridSearchCV(cv=3, estimator=Lasso(max_iter=100000),\n",
       "             param_grid={'alpha': [7, 8, 9, 10, 11]}, scoring='r2')"
      ]
     },
     "execution_count": 92,
     "metadata": {},
     "output_type": "execute_result"
    }
   ],
   "source": [
    "from sklearn.linear_model import Lasso\n",
    "\n",
    "rr= {'alpha': [7,8,9,10,11]}\n",
    "\n",
    "from sklearn.model_selection import KFold, GridSearchCV\n",
    "ar = Lasso(max_iter=100000)\n",
    "gs= GridSearchCV(ar, param_grid= rr, scoring= 'r2', cv=3)\n",
    "gs.fit(xtr, ytr)"
   ]
  },
  {
   "cell_type": "code",
   "execution_count": 93,
   "metadata": {
    "colab": {
     "base_uri": "https://localhost:8080/"
    },
    "id": "iWTKHN0VuwSQ",
    "outputId": "092a48de-4b03-4b60-be49-fa7a83a1643e"
   },
   "outputs": [
    {
     "data": {
      "text/plain": [
       "{'alpha': 7}"
      ]
     },
     "execution_count": 93,
     "metadata": {},
     "output_type": "execute_result"
    }
   ],
   "source": [
    "gs.best_params_"
   ]
  },
  {
   "cell_type": "code",
   "execution_count": 94,
   "metadata": {
    "id": "ZEeT8ZEDuwVN"
   },
   "outputs": [],
   "source": [
    "# alpha was found the best value = 11"
   ]
  },
  {
   "cell_type": "markdown",
   "metadata": {
    "collapsed": true,
    "id": "LOim7BePFreE"
   },
   "source": [
    "<table align=\"left\">\n",
    "    <tr>\n",
    "        <td>\n",
    "            <div align=\"left\", style=\"font-size:120%\">\n",
    "                <font color=\"#21618C\">\n",
    "                    <b>19. Perform regression analysis to study the impact of malnutrition and diseases on life expectancy. Determine the optimal value of alpha and mixing parameter if elastic net regression is used to build the model. Consider the following list of values:<br><br> alpha : [0.1,0.5,1,1.5,2,2.5,3,3.5,4]<br> l1_ratio : [0.5,0.55,0.6,0.65,0.7,0.75,0.8,0.85,0.9] </b>\n",
    "                </font>\n",
    "            </div>\n",
    "        </td>\n",
    "    </tr>\n",
    "</table>"
   ]
  },
  {
   "cell_type": "code",
   "execution_count": 95,
   "metadata": {
    "colab": {
     "base_uri": "https://localhost:8080/"
    },
    "id": "i9GmSIvUFreE",
    "outputId": "14ac56fb-cb7c-415c-8cb6-2395412c9287"
   },
   "outputs": [
    {
     "name": "stdout",
     "output_type": "stream",
     "text": [
      "3.501400846094184\n",
      "3.48597340777499\n",
      "3.4038775698315065\n",
      "3.4223555857969767\n",
      "3.4280824904186713\n",
      "3.445407394188767\n",
      "3.468687310746302\n",
      "3.5081824248040445\n",
      "3.5609110260956296\n"
     ]
    }
   ],
   "source": [
    "al = [0.1,0.5,1,1.5,2,2.5,3,3.5,4]\n",
    "rr= {'l1_ratio': [0.5,0.55,0.6,0.65,0.7,0.75,0.8,0.85,0.9]}\n",
    "\n",
    "\n",
    "for i in al:\n",
    "  ar = ElasticNet(alpha=i, max_iter=100000)\n",
    "  gs= GridSearchCV(ar, param_grid= rr, scoring= 'r2', cv=3)\n",
    "  gs.fit(xtr, ytr)\n",
    "  yu= gs.predict(xts)\n",
    "  print(np.sqrt(mean_squared_error(yts, yu)))"
   ]
  },
  {
   "cell_type": "code",
   "execution_count": 96,
   "metadata": {
    "colab": {
     "base_uri": "https://localhost:8080/"
    },
    "id": "uNQLxkcYuxNn",
    "outputId": "135365bb-03e8-4fdb-8c7b-165e11925942"
   },
   "outputs": [
    {
     "data": {
      "text/plain": [
       "{'l1_ratio': 0.5}"
      ]
     },
     "execution_count": 96,
     "metadata": {},
     "output_type": "execute_result"
    }
   ],
   "source": [
    "gs.best_params_"
   ]
  },
  {
   "cell_type": "code",
   "execution_count": 97,
   "metadata": {
    "id": "coBz91O0uxQO"
   },
   "outputs": [],
   "source": [
    "# or we can run a loop\n",
    "\n",
    "rty = [0.5,0.55,0.6,0.65,0.7,0.75,0.8,0.85,0.9]"
   ]
  },
  {
   "cell_type": "code",
   "execution_count": 98,
   "metadata": {
    "colab": {
     "base_uri": "https://localhost:8080/"
    },
    "id": "9C6zTObCO7nl",
    "outputId": "64b015fe-da71-4006-f76b-d5a6155657d3"
   },
   "outputs": [
    {
     "name": "stdout",
     "output_type": "stream",
     "text": [
      "for alpha = 0.1 and L1 ratio= 0.5, test score is 12.338251549851666\n",
      "for alpha = 0.1 and L1 ratio= 0.55, test score is 12.339460352995648\n",
      "for alpha = 0.1 and L1 ratio= 0.6, test score is 12.34055440850378\n",
      "for alpha = 0.1 and L1 ratio= 0.65, test score is 12.341267509304242\n",
      "for alpha = 0.1 and L1 ratio= 0.7, test score is 12.341094770635973\n",
      "for alpha = 0.1 and L1 ratio= 0.75, test score is 12.339042693832413\n",
      "for alpha = 0.1 and L1 ratio= 0.8, test score is 12.333033756142578\n",
      "for alpha = 0.1 and L1 ratio= 0.85, test score is 12.318295736725482\n",
      "for alpha = 0.1 and L1 ratio= 0.9, test score is 12.259807885029065\n",
      "for alpha = 0.5 and L1 ratio= 0.5, test score is 12.360337139655012\n",
      "for alpha = 0.5 and L1 ratio= 0.55, test score is 12.335373633332082\n",
      "for alpha = 0.5 and L1 ratio= 0.6, test score is 12.310146629628548\n",
      "for alpha = 0.5 and L1 ratio= 0.65, test score is 12.284636203735552\n",
      "for alpha = 0.5 and L1 ratio= 0.7, test score is 12.258819586015054\n",
      "for alpha = 0.5 and L1 ratio= 0.75, test score is 12.232670946702935\n",
      "for alpha = 0.5 and L1 ratio= 0.8, test score is 12.206170918921494\n",
      "for alpha = 0.5 and L1 ratio= 0.85, test score is 12.17929052774087\n",
      "for alpha = 0.5 and L1 ratio= 0.9, test score is 12.152010599714378\n",
      "for alpha = 1 and L1 ratio= 0.5, test score is 11.908906797498132\n",
      "for alpha = 1 and L1 ratio= 0.55, test score is 11.867715865686124\n",
      "for alpha = 1 and L1 ratio= 0.6, test score is 11.826976141786322\n",
      "for alpha = 1 and L1 ratio= 0.65, test score is 11.78684442002187\n",
      "for alpha = 1 and L1 ratio= 0.7, test score is 11.747543739307964\n",
      "for alpha = 1 and L1 ratio= 0.75, test score is 11.709389863736089\n",
      "for alpha = 1 and L1 ratio= 0.8, test score is 11.667973386935824\n",
      "for alpha = 1 and L1 ratio= 0.85, test score is 11.625961696279187\n",
      "for alpha = 1 and L1 ratio= 0.9, test score is 11.586382510402041\n",
      "for alpha = 1.5 and L1 ratio= 0.5, test score is 11.749209729728243\n",
      "for alpha = 1.5 and L1 ratio= 0.55, test score is 11.71251775563577\n",
      "for alpha = 1.5 and L1 ratio= 0.6, test score is 11.680036238130585\n",
      "for alpha = 1.5 and L1 ratio= 0.65, test score is 11.661917412920285\n",
      "for alpha = 1.5 and L1 ratio= 0.7, test score is 11.661080189314621\n",
      "for alpha = 1.5 and L1 ratio= 0.75, test score is 11.656305074022045\n",
      "for alpha = 1.5 and L1 ratio= 0.8, test score is 11.654381683918134\n",
      "for alpha = 1.5 and L1 ratio= 0.85, test score is 11.65539708799113\n",
      "for alpha = 1.5 and L1 ratio= 0.9, test score is 11.6594420974996\n",
      "for alpha = 2 and L1 ratio= 0.5, test score is 11.75174956111508\n",
      "for alpha = 2 and L1 ratio= 0.55, test score is 11.756501061842785\n",
      "for alpha = 2 and L1 ratio= 0.6, test score is 11.766902681142039\n",
      "for alpha = 2 and L1 ratio= 0.65, test score is 11.783268055680214\n",
      "for alpha = 2 and L1 ratio= 0.7, test score is 11.798351509728423\n",
      "for alpha = 2 and L1 ratio= 0.75, test score is 11.815150631073694\n",
      "for alpha = 2 and L1 ratio= 0.8, test score is 11.83764332540398\n",
      "for alpha = 2 and L1 ratio= 0.85, test score is 11.866063077587542\n",
      "for alpha = 2 and L1 ratio= 0.9, test score is 11.922406712993107\n",
      "for alpha = 2.5 and L1 ratio= 0.5, test score is 11.870832111930628\n",
      "for alpha = 2.5 and L1 ratio= 0.55, test score is 11.897690535480626\n",
      "for alpha = 2.5 and L1 ratio= 0.6, test score is 11.933709434458812\n",
      "for alpha = 2.5 and L1 ratio= 0.65, test score is 11.976977722689666\n",
      "for alpha = 2.5 and L1 ratio= 0.7, test score is 12.041636871974733\n",
      "for alpha = 2.5 and L1 ratio= 0.75, test score is 12.158313593427552\n",
      "for alpha = 2.5 and L1 ratio= 0.8, test score is 12.281896245637684\n",
      "for alpha = 2.5 and L1 ratio= 0.85, test score is 12.411689139439451\n",
      "for alpha = 2.5 and L1 ratio= 0.9, test score is 12.550150735001887\n",
      "for alpha = 3 and L1 ratio= 0.5, test score is 12.031791659732415\n",
      "for alpha = 3 and L1 ratio= 0.55, test score is 12.08876386247254\n",
      "for alpha = 3 and L1 ratio= 0.6, test score is 12.235623617732031\n",
      "for alpha = 3 and L1 ratio= 0.65, test score is 12.383327076171188\n",
      "for alpha = 3 and L1 ratio= 0.7, test score is 12.536417458518574\n",
      "for alpha = 3 and L1 ratio= 0.75, test score is 12.700730032394727\n",
      "for alpha = 3 and L1 ratio= 0.8, test score is 12.876074940881482\n",
      "for alpha = 3 and L1 ratio= 0.85, test score is 13.063221023740116\n",
      "for alpha = 3 and L1 ratio= 0.9, test score is 13.263004018155709\n",
      "for alpha = 3.5 and L1 ratio= 0.5, test score is 12.307343925703984\n",
      "for alpha = 3.5 and L1 ratio= 0.55, test score is 12.487709499890135\n",
      "for alpha = 3.5 and L1 ratio= 0.6, test score is 12.674718030289734\n",
      "for alpha = 3.5 and L1 ratio= 0.65, test score is 12.865776041687912\n",
      "for alpha = 3.5 and L1 ratio= 0.7, test score is 13.071033511238674\n",
      "for alpha = 3.5 and L1 ratio= 0.75, test score is 13.291589608115828\n",
      "for alpha = 3.5 and L1 ratio= 0.8, test score is 13.528650285146238\n",
      "for alpha = 3.5 and L1 ratio= 0.85, test score is 13.783541204355382\n",
      "for alpha = 3.5 and L1 ratio= 0.9, test score is 14.05772172568054\n",
      "for alpha = 4 and L1 ratio= 0.5, test score is 12.680087335769429\n",
      "for alpha = 4 and L1 ratio= 0.55, test score is 12.907962656094146\n",
      "for alpha = 4 and L1 ratio= 0.6, test score is 13.133580970043967\n",
      "for alpha = 4 and L1 ratio= 0.65, test score is 13.377468304994945\n",
      "for alpha = 4 and L1 ratio= 0.7, test score is 13.641182381814984\n",
      "for alpha = 4 and L1 ratio= 0.75, test score is 13.926448892414411\n",
      "for alpha = 4 and L1 ratio= 0.8, test score is 14.235182547616986\n",
      "for alpha = 4 and L1 ratio= 0.85, test score is 14.534038317775714\n",
      "for alpha = 4 and L1 ratio= 0.9, test score is 14.78993338660141\n"
     ]
    }
   ],
   "source": [
    "# only testing on test set.\n",
    "for i in al:\n",
    "  for j in rty:\n",
    "    ar = ElasticNet(alpha=i, l1_ratio=j, max_iter=100000).fit(xtr, ytr)\n",
    "    rtu= ar.predict(xts)\n",
    "    print('for alpha = {} and L1 ratio= {}, test score is {}'.format(i, j, mean_squared_error(yts, rtu)))"
   ]
  },
  {
   "cell_type": "code",
   "execution_count": 99,
   "metadata": {
    "id": "_6p0Z5WdO7zA"
   },
   "outputs": [],
   "source": [
    "# best hyper parameters are\n",
    "\n",
    "\n",
    "# alpha = 0.1 and L1 ratio= 0.9, test score is 20.913011979521077"
   ]
  },
  {
   "cell_type": "markdown",
   "metadata": {
    "collapsed": true,
    "id": "3ud4TvANFreE"
   },
   "source": [
    "<table align=\"left\">\n",
    "    <tr>\n",
    "        <td>\n",
    "            <div align=\"left\", style=\"font-size:120%\">\n",
    "                <font color=\"#21618C\">\n",
    "                    <b>20. Build a full model. Select the optimal value for elastic net mixing parameter if the alpha value is 0.8<br><br>Consider the values: l1_ratio : [0.001, 0.005, 0.01, 0.05, 0.1, 0.5, 1]</b>\n",
    "                </font>\n",
    "            </div>\n",
    "        </td>\n",
    "    </tr>\n",
    "</table>"
   ]
  },
  {
   "cell_type": "code",
   "execution_count": 100,
   "metadata": {
    "id": "Rvp0T-ERFreF",
    "scrolled": true
   },
   "outputs": [],
   "source": [
    "rr= {'l1_ratio': [0.001, 0.005, 0.01, 0.05, 0.1, 0.5, 1]}"
   ]
  },
  {
   "cell_type": "code",
   "execution_count": 101,
   "metadata": {
    "colab": {
     "base_uri": "https://localhost:8080/"
    },
    "id": "-lJen4oUux3B",
    "outputId": "5bd66cbf-43f3-4532-d444-91ff8498c029"
   },
   "outputs": [
    {
     "data": {
      "text/plain": [
       "GridSearchCV(cv=3, estimator=ElasticNet(alpha=0.8, max_iter=100000),\n",
       "             param_grid={'l1_ratio': [0.001, 0.005, 0.01, 0.05, 0.1, 0.5, 1]},\n",
       "             scoring='r2')"
      ]
     },
     "execution_count": 101,
     "metadata": {},
     "output_type": "execute_result"
    }
   ],
   "source": [
    "ar = ElasticNet(alpha=0.8, max_iter=100000)\n",
    "gs= GridSearchCV(ar, param_grid= rr, scoring= 'r2', cv=3)\n",
    "gs.fit(xtr, ytr)"
   ]
  },
  {
   "cell_type": "code",
   "execution_count": 102,
   "metadata": {
    "colab": {
     "base_uri": "https://localhost:8080/"
    },
    "id": "k3HzZtdSux5_",
    "outputId": "34da5614-79ee-475e-8442-1375236ca96c"
   },
   "outputs": [
    {
     "data": {
      "text/plain": [
       "{'l1_ratio': 1}"
      ]
     },
     "execution_count": 102,
     "metadata": {},
     "output_type": "execute_result"
    }
   ],
   "source": [
    "gs.best_params_"
   ]
  },
  {
   "cell_type": "code",
   "execution_count": 103,
   "metadata": {
    "id": "OkZ4fwx-ux9X"
   },
   "outputs": [],
   "source": [
    "ar = ElasticNet(alpha=0.1, l1_ratio=1, max_iter=100000).fit(xtr, ytr)"
   ]
  },
  {
   "cell_type": "code",
   "execution_count": 104,
   "metadata": {
    "id": "1PFFAD9fPpQT"
   },
   "outputs": [],
   "source": [
    "y1= ar.predict(xtr)\n",
    "y2 = ar.predict(xts)"
   ]
  },
  {
   "cell_type": "code",
   "execution_count": 105,
   "metadata": {
    "colab": {
     "base_uri": "https://localhost:8080/"
    },
    "id": "zGfN57nsPbB-",
    "outputId": "c51a4bed-0def-4ec9-8147-be2186e6890f"
   },
   "outputs": [
    {
     "name": "stdout",
     "output_type": "stream",
     "text": [
      "0.8545666737174099\n"
     ]
    }
   ],
   "source": [
    "#training score\n",
    "print(r2_score(ytr, y1))"
   ]
  },
  {
   "cell_type": "code",
   "execution_count": 106,
   "metadata": {
    "colab": {
     "base_uri": "https://localhost:8080/"
    },
    "id": "JYzrvcdWPbEl",
    "outputId": "836fb558-d0a3-42eb-9e34-f2fda5a3c2ba"
   },
   "outputs": [
    {
     "name": "stdout",
     "output_type": "stream",
     "text": [
      "0.7892374940010418\n"
     ]
    }
   ],
   "source": [
    "# test data\n",
    "\n",
    "print(r2_score(yts, y2))"
   ]
  }
 ],
 "metadata": {
  "colab": {
   "collapsed_sections": [],
   "name": "SLR_In_Class_Lab_Exercise_(Day_3)_Questions_[v1_0_270420].ipynb",
   "provenance": [],
   "toc_visible": true
  },
  "kernelspec": {
   "display_name": "Python 3",
   "language": "python",
   "name": "python3"
  },
  "language_info": {
   "codemirror_mode": {
    "name": "ipython",
    "version": 3
   },
   "file_extension": ".py",
   "mimetype": "text/x-python",
   "name": "python",
   "nbconvert_exporter": "python",
   "pygments_lexer": "ipython3",
   "version": "3.8.8"
  }
 },
 "nbformat": 4,
 "nbformat_minor": 1
}
