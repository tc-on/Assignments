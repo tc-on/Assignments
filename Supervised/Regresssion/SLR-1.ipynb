{
 "cells": [
  {
   "cell_type": "markdown",
   "metadata": {
    "id": "eLkRLN9r_W3B"
   },
   "source": [
    "### About the data set 1 (Life Expectancy data)\n",
    "\n",
    "The dataset contains information about several health and economic factors that contribute to average life expectancy for different countries. <br> Attribute information: \n",
    "\n",
    "**Country:** Name of the country\n",
    "\n",
    "**Status:** Whether the country is Developed or Developing\n",
    "\n",
    "**Adult_Mortality:** Mortality rate for age group 15-60 out of every 1000 individuals of the population\n",
    "\n",
    "**Infant_Deaths:** Number of infant deaths per 1000 population\n",
    "\n",
    "**Hepatitis:** Hepatitis B (HepB) immunization coverage for 1 year olds (Percentage)\n",
    "\n",
    "**Measles:** Number of reported cases for measles per 1000 from population\n",
    "\n",
    "**BMI:** Average Body Mass Index for entire population\n",
    "\n",
    "**Underfive_Deaths:** Number of deaths under 5 years of age per 1000 population\n",
    "\n",
    "**Polio:** Polio (Pol3) immunization coverage for 1 year olds (Percentage)\n",
    "\n",
    "**Diphtheria:** Diphtheria tetanus toxoid and pertussis (DTP3) immunization coverage for 1 year olds (Percentage)\n",
    "\n",
    "**HIV:** Deaths per 1000 live births due to HIV/AIDS (0-4 years)\n",
    "\n",
    "**GDP:** Gross Domestic Product per capita (in USD)\n",
    "\n",
    "**Population:** Population of the country\n",
    "\n",
    "**Malnourished10_19:** Prevalence of malnutrition among children and adolescents for Age 10 to 19 (Percentage)\n",
    "\n",
    "**Malnourished5_9:** Prevalence of malnutrition among children for Age 5 to 9 (Percentage)\n",
    "\n",
    "**Income_Index:** Human Development Index (HDI) in terms of national income per capita (index ranging from 0 to 1)\n",
    "\n",
    "**Schooling:** Number of years of Schooling\n",
    "\n",
    "**Life_Expectancy:** Life Expectancy in age for the country\n",
    "\n",
    "\n",
    "\n"
   ]
  },
  {
   "cell_type": "markdown",
   "metadata": {
    "id": "z3rmALYF_W3D"
   },
   "source": [
    "**Import the required libraries**"
   ]
  },
  {
   "cell_type": "code",
   "execution_count": 1,
   "metadata": {
    "id": "jv0lebgB_W3D"
   },
   "outputs": [],
   "source": [
    "import pandas as pd\n",
    "import numpy as np\n",
    "import matplotlib.pyplot as plt\n",
    "import seaborn as sns\n",
    "import scipy.stats as stats\n",
    "import warnings\n",
    "warnings.filterwarnings('ignore')"
   ]
  },
  {
   "cell_type": "markdown",
   "metadata": {
    "id": "OJrw5WqL_W3E"
   },
   "source": [
    "#### Load the first dataset and check the first five observations\n",
    "\n",
    "Load the csv file and set the first column as index"
   ]
  },
  {
   "cell_type": "code",
   "execution_count": 2,
   "metadata": {
    "colab": {
     "base_uri": "https://localhost:8080/"
    },
    "id": "Y1NxihX5_W3F",
    "outputId": "1c04664e-0b74-4100-9b3e-4b608cb96f3b"
   },
   "outputs": [
    {
     "name": "stdout",
     "output_type": "stream",
     "text": [
      "(654, 5)\n",
      "(124, 18)\n"
     ]
    }
   ],
   "source": [
    "df= pd.read_csv('FEV_data.csv')\n",
    "df1= pd.read_csv('Life_Expectancy.csv')\n",
    "print(df.shape)\n",
    "print(df1.shape)"
   ]
  },
  {
   "cell_type": "code",
   "execution_count": 3,
   "metadata": {
    "colab": {
     "base_uri": "https://localhost:8080/",
     "height": 217
    },
    "id": "iCeYdd4PJcZ5",
    "outputId": "ff620003-af36-40cc-981e-f59e932ba5c4"
   },
   "outputs": [
    {
     "data": {
      "text/html": [
       "<div>\n",
       "<style scoped>\n",
       "    .dataframe tbody tr th:only-of-type {\n",
       "        vertical-align: middle;\n",
       "    }\n",
       "\n",
       "    .dataframe tbody tr th {\n",
       "        vertical-align: top;\n",
       "    }\n",
       "\n",
       "    .dataframe thead th {\n",
       "        text-align: right;\n",
       "    }\n",
       "</style>\n",
       "<table border=\"1\" class=\"dataframe\">\n",
       "  <thead>\n",
       "    <tr style=\"text-align: right;\">\n",
       "      <th></th>\n",
       "      <th>Country</th>\n",
       "      <th>Status</th>\n",
       "      <th>Adult_Mortality</th>\n",
       "      <th>Infant_Deaths</th>\n",
       "      <th>Hepatitis</th>\n",
       "      <th>Measles</th>\n",
       "      <th>BMI</th>\n",
       "      <th>Underfive_Deaths</th>\n",
       "      <th>Polio</th>\n",
       "      <th>Diphtheria</th>\n",
       "      <th>HIV</th>\n",
       "      <th>GDP</th>\n",
       "      <th>Population</th>\n",
       "      <th>Malnourished10_19</th>\n",
       "      <th>Malnourished5_9</th>\n",
       "      <th>Income_Index</th>\n",
       "      <th>Schooling</th>\n",
       "      <th>Expected</th>\n",
       "    </tr>\n",
       "  </thead>\n",
       "  <tbody>\n",
       "    <tr>\n",
       "      <th>0</th>\n",
       "      <td>Afghanistan</td>\n",
       "      <td>Developing</td>\n",
       "      <td>263</td>\n",
       "      <td>62</td>\n",
       "      <td>65</td>\n",
       "      <td>1154</td>\n",
       "      <td>19.1</td>\n",
       "      <td>83</td>\n",
       "      <td>6</td>\n",
       "      <td>65</td>\n",
       "      <td>0.1</td>\n",
       "      <td>584.259210</td>\n",
       "      <td>33736494</td>\n",
       "      <td>17.2</td>\n",
       "      <td>17.3</td>\n",
       "      <td>0.479</td>\n",
       "      <td>10.1</td>\n",
       "      <td>65.0</td>\n",
       "    </tr>\n",
       "    <tr>\n",
       "      <th>1</th>\n",
       "      <td>Albania</td>\n",
       "      <td>Developing</td>\n",
       "      <td>8</td>\n",
       "      <td>0</td>\n",
       "      <td>98</td>\n",
       "      <td>0</td>\n",
       "      <td>57.2</td>\n",
       "      <td>1</td>\n",
       "      <td>98</td>\n",
       "      <td>98</td>\n",
       "      <td>0.1</td>\n",
       "      <td>4575.763787</td>\n",
       "      <td>288914</td>\n",
       "      <td>1.2</td>\n",
       "      <td>1.3</td>\n",
       "      <td>0.761</td>\n",
       "      <td>14.2</td>\n",
       "      <td>77.5</td>\n",
       "    </tr>\n",
       "    <tr>\n",
       "      <th>2</th>\n",
       "      <td>Algeria</td>\n",
       "      <td>Developing</td>\n",
       "      <td>19</td>\n",
       "      <td>21</td>\n",
       "      <td>95</td>\n",
       "      <td>63</td>\n",
       "      <td>59.5</td>\n",
       "      <td>24</td>\n",
       "      <td>95</td>\n",
       "      <td>95</td>\n",
       "      <td>0.1</td>\n",
       "      <td>4132.762920</td>\n",
       "      <td>39871528</td>\n",
       "      <td>6.0</td>\n",
       "      <td>5.8</td>\n",
       "      <td>0.743</td>\n",
       "      <td>14.4</td>\n",
       "      <td>75.6</td>\n",
       "    </tr>\n",
       "    <tr>\n",
       "      <th>3</th>\n",
       "      <td>Angola</td>\n",
       "      <td>Developing</td>\n",
       "      <td>335</td>\n",
       "      <td>66</td>\n",
       "      <td>64</td>\n",
       "      <td>118</td>\n",
       "      <td>23.3</td>\n",
       "      <td>98</td>\n",
       "      <td>7</td>\n",
       "      <td>64</td>\n",
       "      <td>1.9</td>\n",
       "      <td>3695.793748</td>\n",
       "      <td>2785935</td>\n",
       "      <td>8.3</td>\n",
       "      <td>8.2</td>\n",
       "      <td>0.531</td>\n",
       "      <td>11.4</td>\n",
       "      <td>52.4</td>\n",
       "    </tr>\n",
       "    <tr>\n",
       "      <th>4</th>\n",
       "      <td>Argentina</td>\n",
       "      <td>Developing</td>\n",
       "      <td>116</td>\n",
       "      <td>8</td>\n",
       "      <td>94</td>\n",
       "      <td>0</td>\n",
       "      <td>62.8</td>\n",
       "      <td>9</td>\n",
       "      <td>93</td>\n",
       "      <td>94</td>\n",
       "      <td>0.1</td>\n",
       "      <td>13467.123600</td>\n",
       "      <td>43417765</td>\n",
       "      <td>1.0</td>\n",
       "      <td>0.9</td>\n",
       "      <td>0.826</td>\n",
       "      <td>17.3</td>\n",
       "      <td>76.3</td>\n",
       "    </tr>\n",
       "  </tbody>\n",
       "</table>\n",
       "</div>"
      ],
      "text/plain": [
       "       Country      Status  Adult_Mortality  Infant_Deaths  Hepatitis   \\\n",
       "0  Afghanistan  Developing              263             62          65   \n",
       "1      Albania  Developing                8              0          98   \n",
       "2      Algeria  Developing               19             21          95   \n",
       "3       Angola  Developing              335             66          64   \n",
       "4    Argentina  Developing              116              8          94   \n",
       "\n",
       "   Measles    BMI   Underfive_Deaths   Polio  Diphtheria    HIV           GDP  \\\n",
       "0      1154   19.1                 83      6           65   0.1    584.259210   \n",
       "1         0   57.2                  1     98           98   0.1   4575.763787   \n",
       "2        63   59.5                 24     95           95   0.1   4132.762920   \n",
       "3       118   23.3                 98      7           64   1.9   3695.793748   \n",
       "4         0   62.8                  9     93           94   0.1  13467.123600   \n",
       "\n",
       "   Population  Malnourished10_19   Malnourished5_9  Income_Index  Schooling  \\\n",
       "0    33736494                17.2             17.3         0.479       10.1   \n",
       "1      288914                 1.2              1.3         0.761       14.2   \n",
       "2    39871528                 6.0              5.8         0.743       14.4   \n",
       "3     2785935                 8.3              8.2         0.531       11.4   \n",
       "4    43417765                 1.0              0.9         0.826       17.3   \n",
       "\n",
       "   Expected  \n",
       "0      65.0  \n",
       "1      77.5  \n",
       "2      75.6  \n",
       "3      52.4  \n",
       "4      76.3  "
      ]
     },
     "execution_count": 3,
     "metadata": {},
     "output_type": "execute_result"
    }
   ],
   "source": [
    "df1.head()"
   ]
  },
  {
   "cell_type": "code",
   "execution_count": 4,
   "metadata": {
    "colab": {
     "base_uri": "https://localhost:8080/",
     "height": 426
    },
    "id": "u71dF8WcJcce",
    "outputId": "49068a80-266b-477c-c651-391ba2d0b656"
   },
   "outputs": [
    {
     "data": {
      "text/html": [
       "<div>\n",
       "<style scoped>\n",
       "    .dataframe tbody tr th:only-of-type {\n",
       "        vertical-align: middle;\n",
       "    }\n",
       "\n",
       "    .dataframe tbody tr th {\n",
       "        vertical-align: top;\n",
       "    }\n",
       "\n",
       "    .dataframe thead th {\n",
       "        text-align: right;\n",
       "    }\n",
       "</style>\n",
       "<table border=\"1\" class=\"dataframe\">\n",
       "  <thead>\n",
       "    <tr style=\"text-align: right;\">\n",
       "      <th></th>\n",
       "      <th>Adult_Mortality</th>\n",
       "      <th>Infant_Deaths</th>\n",
       "      <th>Hepatitis</th>\n",
       "      <th>Measles</th>\n",
       "      <th>BMI</th>\n",
       "      <th>Underfive_Deaths</th>\n",
       "      <th>Polio</th>\n",
       "      <th>Diphtheria</th>\n",
       "      <th>HIV</th>\n",
       "      <th>GDP</th>\n",
       "      <th>Population</th>\n",
       "      <th>Malnourished10_19</th>\n",
       "      <th>Malnourished5_9</th>\n",
       "      <th>Income_Index</th>\n",
       "      <th>Schooling</th>\n",
       "      <th>Expected</th>\n",
       "    </tr>\n",
       "  </thead>\n",
       "  <tbody>\n",
       "    <tr>\n",
       "      <th>0</th>\n",
       "      <td>263</td>\n",
       "      <td>62</td>\n",
       "      <td>65</td>\n",
       "      <td>1154</td>\n",
       "      <td>19.1</td>\n",
       "      <td>83</td>\n",
       "      <td>6</td>\n",
       "      <td>65</td>\n",
       "      <td>0.1</td>\n",
       "      <td>584.259210</td>\n",
       "      <td>33736494</td>\n",
       "      <td>17.2</td>\n",
       "      <td>17.3</td>\n",
       "      <td>0.479</td>\n",
       "      <td>10.1</td>\n",
       "      <td>65.0</td>\n",
       "    </tr>\n",
       "    <tr>\n",
       "      <th>1</th>\n",
       "      <td>8</td>\n",
       "      <td>0</td>\n",
       "      <td>98</td>\n",
       "      <td>0</td>\n",
       "      <td>57.2</td>\n",
       "      <td>1</td>\n",
       "      <td>98</td>\n",
       "      <td>98</td>\n",
       "      <td>0.1</td>\n",
       "      <td>4575.763787</td>\n",
       "      <td>288914</td>\n",
       "      <td>1.2</td>\n",
       "      <td>1.3</td>\n",
       "      <td>0.761</td>\n",
       "      <td>14.2</td>\n",
       "      <td>77.5</td>\n",
       "    </tr>\n",
       "    <tr>\n",
       "      <th>2</th>\n",
       "      <td>19</td>\n",
       "      <td>21</td>\n",
       "      <td>95</td>\n",
       "      <td>63</td>\n",
       "      <td>59.5</td>\n",
       "      <td>24</td>\n",
       "      <td>95</td>\n",
       "      <td>95</td>\n",
       "      <td>0.1</td>\n",
       "      <td>4132.762920</td>\n",
       "      <td>39871528</td>\n",
       "      <td>6.0</td>\n",
       "      <td>5.8</td>\n",
       "      <td>0.743</td>\n",
       "      <td>14.4</td>\n",
       "      <td>75.6</td>\n",
       "    </tr>\n",
       "    <tr>\n",
       "      <th>3</th>\n",
       "      <td>335</td>\n",
       "      <td>66</td>\n",
       "      <td>64</td>\n",
       "      <td>118</td>\n",
       "      <td>23.3</td>\n",
       "      <td>98</td>\n",
       "      <td>7</td>\n",
       "      <td>64</td>\n",
       "      <td>1.9</td>\n",
       "      <td>3695.793748</td>\n",
       "      <td>2785935</td>\n",
       "      <td>8.3</td>\n",
       "      <td>8.2</td>\n",
       "      <td>0.531</td>\n",
       "      <td>11.4</td>\n",
       "      <td>52.4</td>\n",
       "    </tr>\n",
       "    <tr>\n",
       "      <th>4</th>\n",
       "      <td>116</td>\n",
       "      <td>8</td>\n",
       "      <td>94</td>\n",
       "      <td>0</td>\n",
       "      <td>62.8</td>\n",
       "      <td>9</td>\n",
       "      <td>93</td>\n",
       "      <td>94</td>\n",
       "      <td>0.1</td>\n",
       "      <td>13467.123600</td>\n",
       "      <td>43417765</td>\n",
       "      <td>1.0</td>\n",
       "      <td>0.9</td>\n",
       "      <td>0.826</td>\n",
       "      <td>17.3</td>\n",
       "      <td>76.3</td>\n",
       "    </tr>\n",
       "    <tr>\n",
       "      <th>...</th>\n",
       "      <td>...</td>\n",
       "      <td>...</td>\n",
       "      <td>...</td>\n",
       "      <td>...</td>\n",
       "      <td>...</td>\n",
       "      <td>...</td>\n",
       "      <td>...</td>\n",
       "      <td>...</td>\n",
       "      <td>...</td>\n",
       "      <td>...</td>\n",
       "      <td>...</td>\n",
       "      <td>...</td>\n",
       "      <td>...</td>\n",
       "      <td>...</td>\n",
       "      <td>...</td>\n",
       "      <td>...</td>\n",
       "    </tr>\n",
       "    <tr>\n",
       "      <th>119</th>\n",
       "      <td>37</td>\n",
       "      <td>24</td>\n",
       "      <td>95</td>\n",
       "      <td>129</td>\n",
       "      <td>15.4</td>\n",
       "      <td>38</td>\n",
       "      <td>95</td>\n",
       "      <td>95</td>\n",
       "      <td>7.1</td>\n",
       "      <td>287.931877</td>\n",
       "      <td>8991735</td>\n",
       "      <td>6.8</td>\n",
       "      <td>7.0</td>\n",
       "      <td>0.388</td>\n",
       "      <td>8.8</td>\n",
       "      <td>55.3</td>\n",
       "    </tr>\n",
       "    <tr>\n",
       "      <th>120</th>\n",
       "      <td>397</td>\n",
       "      <td>26</td>\n",
       "      <td>89</td>\n",
       "      <td>386</td>\n",
       "      <td>14.9</td>\n",
       "      <td>42</td>\n",
       "      <td>89</td>\n",
       "      <td>89</td>\n",
       "      <td>7.7</td>\n",
       "      <td>236.911438</td>\n",
       "      <td>8818438</td>\n",
       "      <td>6.9</td>\n",
       "      <td>7.1</td>\n",
       "      <td>0.371</td>\n",
       "      <td>8.2</td>\n",
       "      <td>53.4</td>\n",
       "    </tr>\n",
       "    <tr>\n",
       "      <th>121</th>\n",
       "      <td>48</td>\n",
       "      <td>29</td>\n",
       "      <td>96</td>\n",
       "      <td>1064</td>\n",
       "      <td>14.5</td>\n",
       "      <td>46</td>\n",
       "      <td>96</td>\n",
       "      <td>96</td>\n",
       "      <td>8.1</td>\n",
       "      <td>212.661949</td>\n",
       "      <td>868346</td>\n",
       "      <td>7.0</td>\n",
       "      <td>7.3</td>\n",
       "      <td>0.359</td>\n",
       "      <td>7.6</td>\n",
       "      <td>52.0</td>\n",
       "    </tr>\n",
       "    <tr>\n",
       "      <th>122</th>\n",
       "      <td>415</td>\n",
       "      <td>31</td>\n",
       "      <td>88</td>\n",
       "      <td>2738</td>\n",
       "      <td>14.1</td>\n",
       "      <td>50</td>\n",
       "      <td>85</td>\n",
       "      <td>88</td>\n",
       "      <td>8.0</td>\n",
       "      <td>196.597780</td>\n",
       "      <td>853625</td>\n",
       "      <td>7.2</td>\n",
       "      <td>7.4</td>\n",
       "      <td>0.343</td>\n",
       "      <td>7.2</td>\n",
       "      <td>57.0</td>\n",
       "    </tr>\n",
       "    <tr>\n",
       "      <th>123</th>\n",
       "      <td>438</td>\n",
       "      <td>33</td>\n",
       "      <td>85</td>\n",
       "      <td>896</td>\n",
       "      <td>13.7</td>\n",
       "      <td>54</td>\n",
       "      <td>76</td>\n",
       "      <td>77</td>\n",
       "      <td>8.1</td>\n",
       "      <td>21.569654</td>\n",
       "      <td>832946</td>\n",
       "      <td>7.4</td>\n",
       "      <td>7.5</td>\n",
       "      <td>0.332</td>\n",
       "      <td>7.1</td>\n",
       "      <td>48.6</td>\n",
       "    </tr>\n",
       "  </tbody>\n",
       "</table>\n",
       "<p>124 rows × 16 columns</p>\n",
       "</div>"
      ],
      "text/plain": [
       "     Adult_Mortality  Infant_Deaths  Hepatitis   Measles    BMI   \\\n",
       "0                263             62          65      1154   19.1   \n",
       "1                  8              0          98         0   57.2   \n",
       "2                 19             21          95        63   59.5   \n",
       "3                335             66          64       118   23.3   \n",
       "4                116              8          94         0   62.8   \n",
       "..               ...            ...         ...       ...    ...   \n",
       "119               37             24          95       129   15.4   \n",
       "120              397             26          89       386   14.9   \n",
       "121               48             29          96      1064   14.5   \n",
       "122              415             31          88      2738   14.1   \n",
       "123              438             33          85       896   13.7   \n",
       "\n",
       "     Underfive_Deaths   Polio  Diphtheria    HIV           GDP  Population  \\\n",
       "0                   83      6           65   0.1    584.259210    33736494   \n",
       "1                    1     98           98   0.1   4575.763787      288914   \n",
       "2                   24     95           95   0.1   4132.762920    39871528   \n",
       "3                   98      7           64   1.9   3695.793748     2785935   \n",
       "4                    9     93           94   0.1  13467.123600    43417765   \n",
       "..                 ...    ...          ...   ...           ...         ...   \n",
       "119                 38     95           95   7.1    287.931877     8991735   \n",
       "120                 42     89           89   7.7    236.911438     8818438   \n",
       "121                 46     96           96   8.1    212.661949      868346   \n",
       "122                 50     85           88   8.0    196.597780      853625   \n",
       "123                 54     76           77   8.1     21.569654      832946   \n",
       "\n",
       "     Malnourished10_19   Malnourished5_9  Income_Index  Schooling  Expected  \n",
       "0                  17.2             17.3         0.479       10.1      65.0  \n",
       "1                   1.2              1.3         0.761       14.2      77.5  \n",
       "2                   6.0              5.8         0.743       14.4      75.6  \n",
       "3                   8.3              8.2         0.531       11.4      52.4  \n",
       "4                   1.0              0.9         0.826       17.3      76.3  \n",
       "..                  ...              ...           ...        ...       ...  \n",
       "119                 6.8              7.0         0.388        8.8      55.3  \n",
       "120                 6.9              7.1         0.371        8.2      53.4  \n",
       "121                 7.0              7.3         0.359        7.6      52.0  \n",
       "122                 7.2              7.4         0.343        7.2      57.0  \n",
       "123                 7.4              7.5         0.332        7.1      48.6  \n",
       "\n",
       "[124 rows x 16 columns]"
      ]
     },
     "execution_count": 4,
     "metadata": {},
     "output_type": "execute_result"
    }
   ],
   "source": [
    "df1.iloc[:, 2:]"
   ]
  },
  {
   "cell_type": "code",
   "execution_count": 5,
   "metadata": {
    "colab": {
     "base_uri": "https://localhost:8080/"
    },
    "id": "41-GEmQ4T_wY",
    "outputId": "41e5a045-4f00-46ad-99cd-c55539d9a988"
   },
   "outputs": [
    {
     "data": {
      "text/plain": [
       "['Hepatitis', 'Measles', 'Polio', 'Diphtheria']"
      ]
     },
     "execution_count": 5,
     "metadata": {},
     "output_type": "execute_result"
    }
   ],
   "source": [
    "['Hepatitis', 'Measles', 'Polio', 'Diphtheria']"
   ]
  },
  {
   "cell_type": "code",
   "execution_count": 6,
   "metadata": {
    "id": "ZSK-pv334aNA"
   },
   "outputs": [],
   "source": [
    "df1.columns = [i.strip() for i in df1.columns]"
   ]
  },
  {
   "cell_type": "markdown",
   "metadata": {
    "id": "7WSjCA5i_W3F"
   },
   "source": [
    "### Let's begin with some hands-on practice exercises"
   ]
  },
  {
   "cell_type": "markdown",
   "metadata": {
    "id": "qxT3C0MI_W3J"
   },
   "source": [
    "<a id=\"Bivariate\"> </a>\n",
    "## 1. Bivariate Regression"
   ]
  },
  {
   "cell_type": "markdown",
   "metadata": {
    "id": "Nj9gSzpX_W3K"
   },
   "source": [
    "## We shall use the life expectancy dataset"
   ]
  },
  {
   "cell_type": "markdown",
   "metadata": {
    "collapsed": true,
    "id": "quoiIHHs_W3K"
   },
   "source": [
    "<table align=\"left\">\n",
    "    <tr>\n",
    "        <td>\n",
    "            <div align=\"left\", style=\"font-size:120%\">\n",
    "                <font color=\"#21618C\">\n",
    "                    <b>1. How do we analyze the impact of adult mortality rate on average life expectancy of a country?</b>\n",
    "                </font>\n",
    "            </div>\n",
    "        </td>\n",
    "    </tr>\n",
    "</table>"
   ]
  },
  {
   "cell_type": "code",
   "execution_count": 7,
   "metadata": {
    "colab": {
     "base_uri": "https://localhost:8080/",
     "height": 278
    },
    "id": "Z1txKGHPMbAs",
    "outputId": "20ee69a7-5f58-4249-839b-683b841ee1e9"
   },
   "outputs": [
    {
     "data": {
      "image/png": "[encoded data removed]",
      "text/plain": [
       "<Figure size 432x288 with 1 Axes>"
      ]
     },
     "metadata": {
      "needs_background": "light"
     },
     "output_type": "display_data"
    }
   ],
   "source": [
    "sns.regplot(y=df1['Adult_Mortality'], x= df1['Expected'])\n",
    "plt.show()"
   ]
  },
  {
   "cell_type": "markdown",
   "metadata": {
    "id": "CFZM5YPENOse"
   },
   "source": [
    "From the reg plot, we can see a trend that as the Adult mortality decreases, expected lifespan increases. There is a negative correlation between them."
   ]
  },
  {
   "cell_type": "code",
   "execution_count": 8,
   "metadata": {
    "id": "CME2RPa9M0QI"
   },
   "outputs": [],
   "source": [
    "df1.set_index('Country', inplace=True)"
   ]
  },
  {
   "cell_type": "markdown",
   "metadata": {
    "collapsed": true,
    "id": "lFW-RRua_W3L"
   },
   "source": [
    "<table align=\"left\">\n",
    "    <tr>\n",
    "        <td>\n",
    "            <div align=\"left\", style=\"font-size:120%\">\n",
    "                <font color=\"#21618C\">\n",
    "                    <b>2. A regression model is built to check the impact of Human Development Index (Income) on the life expectancy of a nation. What is the expected error value?</b>\n",
    "                </font>\n",
    "            </div>\n",
    "        </td>\n",
    "    </tr>\n",
    "</table>"
   ]
  },
  {
   "cell_type": "code",
   "execution_count": 9,
   "metadata": {
    "colab": {
     "base_uri": "https://localhost:8080/"
    },
    "id": "EBu2y_0G_W3M",
    "outputId": "e70d054a-984c-4363-8fe8-9196544e08ab"
   },
   "outputs": [
    {
     "name": "stdout",
     "output_type": "stream",
     "text": [
      "                            OLS Regression Results                            \n",
      "==============================================================================\n",
      "Dep. Variable:               Expected   R-squared:                       0.711\n",
      "Model:                            OLS   Adj. R-squared:                  0.709\n",
      "Method:                 Least Squares   F-statistic:                     300.0\n",
      "Date:                Thu, 08 Apr 2021   Prob (F-statistic):           1.13e-34\n",
      "Time:                        16:39:13   Log-Likelihood:                -363.40\n",
      "No. Observations:                 124   AIC:                             730.8\n",
      "Df Residuals:                     122   BIC:                             736.4\n",
      "Df Model:                           1                                         \n",
      "Covariance Type:            nonrobust                                         \n",
      "================================================================================\n",
      "                   coef    std err          t      P>|t|      [0.025      0.975]\n",
      "--------------------------------------------------------------------------------\n",
      "const           41.9191      1.741     24.081      0.000      38.473      45.365\n",
      "Income_Index    42.4243      2.449     17.322      0.000      37.576      47.273\n",
      "==============================================================================\n",
      "Omnibus:                       11.870   Durbin-Watson:                   1.355\n",
      "Prob(Omnibus):                  0.003   Jarque-Bera (JB):               26.475\n",
      "Skew:                           0.280   Prob(JB):                     1.78e-06\n",
      "Kurtosis:                       5.193   Cond. No.                         8.87\n",
      "==============================================================================\n",
      "\n",
      "Notes:\n",
      "[1] Standard Errors assume that the covariance matrix of the errors is correctly specified.\n"
     ]
    }
   ],
   "source": [
    "import statsmodels.api as sm\n",
    "xc= sm.add_constant(df1['Income_Index'])\n",
    "model = sm.OLS(df1['Expected'], xc).fit()\n",
    "y_pred= model.predict(xc)\n",
    "print(model.summary())"
   ]
  },
  {
   "cell_type": "code",
   "execution_count": 10,
   "metadata": {
    "colab": {
     "base_uri": "https://localhost:8080/"
    },
    "id": "-Rk3pioY3VyX",
    "outputId": "d72b803b-640f-4ef4-a7a4-57151542b4bb"
   },
   "outputs": [
    {
     "data": {
      "text/plain": [
       "-2.177469674103533e-15"
      ]
     },
     "execution_count": 10,
     "metadata": {},
     "output_type": "execute_result"
    }
   ],
   "source": [
    "model.resid.mean()"
   ]
  },
  {
   "cell_type": "code",
   "execution_count": 11,
   "metadata": {
    "colab": {
     "base_uri": "https://localhost:8080/"
    },
    "id": "Uf2tR4cgO43o",
    "outputId": "7a7b4982-f22a-439f-b3f8-ad5764760655"
   },
   "outputs": [
    {
     "data": {
      "text/plain": [
       "20.561167769791115"
      ]
     },
     "execution_count": 11,
     "metadata": {},
     "output_type": "execute_result"
    }
   ],
   "source": [
    "from sklearn.metrics import mean_squared_error\n",
    "mean_squared_error(y_true=df1['Expected'], y_pred = y_pred)"
   ]
  },
  {
   "cell_type": "markdown",
   "metadata": {
    "id": "lkdg5TGH_W3M"
   },
   "source": [
    "<a id=\"MLR\"> </a>\n",
    "## 2. Multiple Linear Regression(MLR)"
   ]
  },
  {
   "cell_type": "markdown",
   "metadata": {
    "collapsed": true,
    "id": "HtYJidyL_W3N"
   },
   "source": [
    "<table align=\"left\">\n",
    "    <tr>\n",
    "        <td>\n",
    "            <div align=\"left\", style=\"font-size:120%\">\n",
    "                <font color=\"#21618C\">\n",
    "                    <b>3. Analyze the impact of immunization on life expectancy. </b>\n",
    "                </font>\n",
    "            </div>\n",
    "        </td>\n",
    "    </tr>\n",
    "</table>"
   ]
  },
  {
   "cell_type": "code",
   "execution_count": 12,
   "metadata": {
    "colab": {
     "base_uri": "https://localhost:8080/",
     "height": 247
    },
    "id": "HhvrIFV24NZL",
    "outputId": "dbd69358-15bb-4974-af7e-8f16d6e757fc"
   },
   "outputs": [
    {
     "data": {
      "text/html": [
       "<div>\n",
       "<style scoped>\n",
       "    .dataframe tbody tr th:only-of-type {\n",
       "        vertical-align: middle;\n",
       "    }\n",
       "\n",
       "    .dataframe tbody tr th {\n",
       "        vertical-align: top;\n",
       "    }\n",
       "\n",
       "    .dataframe thead th {\n",
       "        text-align: right;\n",
       "    }\n",
       "</style>\n",
       "<table border=\"1\" class=\"dataframe\">\n",
       "  <thead>\n",
       "    <tr style=\"text-align: right;\">\n",
       "      <th></th>\n",
       "      <th>Status</th>\n",
       "      <th>Adult_Mortality</th>\n",
       "      <th>Infant_Deaths</th>\n",
       "      <th>Hepatitis</th>\n",
       "      <th>Measles</th>\n",
       "      <th>BMI</th>\n",
       "      <th>Underfive_Deaths</th>\n",
       "      <th>Polio</th>\n",
       "      <th>Diphtheria</th>\n",
       "      <th>HIV</th>\n",
       "      <th>GDP</th>\n",
       "      <th>Population</th>\n",
       "      <th>Malnourished10_19</th>\n",
       "      <th>Malnourished5_9</th>\n",
       "      <th>Income_Index</th>\n",
       "      <th>Schooling</th>\n",
       "      <th>Expected</th>\n",
       "    </tr>\n",
       "    <tr>\n",
       "      <th>Country</th>\n",
       "      <th></th>\n",
       "      <th></th>\n",
       "      <th></th>\n",
       "      <th></th>\n",
       "      <th></th>\n",
       "      <th></th>\n",
       "      <th></th>\n",
       "      <th></th>\n",
       "      <th></th>\n",
       "      <th></th>\n",
       "      <th></th>\n",
       "      <th></th>\n",
       "      <th></th>\n",
       "      <th></th>\n",
       "      <th></th>\n",
       "      <th></th>\n",
       "      <th></th>\n",
       "    </tr>\n",
       "  </thead>\n",
       "  <tbody>\n",
       "    <tr>\n",
       "      <th>Afghanistan</th>\n",
       "      <td>Developing</td>\n",
       "      <td>263</td>\n",
       "      <td>62</td>\n",
       "      <td>65</td>\n",
       "      <td>1154</td>\n",
       "      <td>19.1</td>\n",
       "      <td>83</td>\n",
       "      <td>6</td>\n",
       "      <td>65</td>\n",
       "      <td>0.1</td>\n",
       "      <td>584.259210</td>\n",
       "      <td>33736494</td>\n",
       "      <td>17.2</td>\n",
       "      <td>17.3</td>\n",
       "      <td>0.479</td>\n",
       "      <td>10.1</td>\n",
       "      <td>65.0</td>\n",
       "    </tr>\n",
       "    <tr>\n",
       "      <th>Albania</th>\n",
       "      <td>Developing</td>\n",
       "      <td>8</td>\n",
       "      <td>0</td>\n",
       "      <td>98</td>\n",
       "      <td>0</td>\n",
       "      <td>57.2</td>\n",
       "      <td>1</td>\n",
       "      <td>98</td>\n",
       "      <td>98</td>\n",
       "      <td>0.1</td>\n",
       "      <td>4575.763787</td>\n",
       "      <td>288914</td>\n",
       "      <td>1.2</td>\n",
       "      <td>1.3</td>\n",
       "      <td>0.761</td>\n",
       "      <td>14.2</td>\n",
       "      <td>77.5</td>\n",
       "    </tr>\n",
       "    <tr>\n",
       "      <th>Algeria</th>\n",
       "      <td>Developing</td>\n",
       "      <td>19</td>\n",
       "      <td>21</td>\n",
       "      <td>95</td>\n",
       "      <td>63</td>\n",
       "      <td>59.5</td>\n",
       "      <td>24</td>\n",
       "      <td>95</td>\n",
       "      <td>95</td>\n",
       "      <td>0.1</td>\n",
       "      <td>4132.762920</td>\n",
       "      <td>39871528</td>\n",
       "      <td>6.0</td>\n",
       "      <td>5.8</td>\n",
       "      <td>0.743</td>\n",
       "      <td>14.4</td>\n",
       "      <td>75.6</td>\n",
       "    </tr>\n",
       "    <tr>\n",
       "      <th>Angola</th>\n",
       "      <td>Developing</td>\n",
       "      <td>335</td>\n",
       "      <td>66</td>\n",
       "      <td>64</td>\n",
       "      <td>118</td>\n",
       "      <td>23.3</td>\n",
       "      <td>98</td>\n",
       "      <td>7</td>\n",
       "      <td>64</td>\n",
       "      <td>1.9</td>\n",
       "      <td>3695.793748</td>\n",
       "      <td>2785935</td>\n",
       "      <td>8.3</td>\n",
       "      <td>8.2</td>\n",
       "      <td>0.531</td>\n",
       "      <td>11.4</td>\n",
       "      <td>52.4</td>\n",
       "    </tr>\n",
       "    <tr>\n",
       "      <th>Argentina</th>\n",
       "      <td>Developing</td>\n",
       "      <td>116</td>\n",
       "      <td>8</td>\n",
       "      <td>94</td>\n",
       "      <td>0</td>\n",
       "      <td>62.8</td>\n",
       "      <td>9</td>\n",
       "      <td>93</td>\n",
       "      <td>94</td>\n",
       "      <td>0.1</td>\n",
       "      <td>13467.123600</td>\n",
       "      <td>43417765</td>\n",
       "      <td>1.0</td>\n",
       "      <td>0.9</td>\n",
       "      <td>0.826</td>\n",
       "      <td>17.3</td>\n",
       "      <td>76.3</td>\n",
       "    </tr>\n",
       "  </tbody>\n",
       "</table>\n",
       "</div>"
      ],
      "text/plain": [
       "                 Status  Adult_Mortality  Infant_Deaths  Hepatitis  Measles  \\\n",
       "Country                                                                       \n",
       "Afghanistan  Developing              263             62         65     1154   \n",
       "Albania      Developing                8              0         98        0   \n",
       "Algeria      Developing               19             21         95       63   \n",
       "Angola       Developing              335             66         64      118   \n",
       "Argentina    Developing              116              8         94        0   \n",
       "\n",
       "              BMI  Underfive_Deaths  Polio  Diphtheria  HIV           GDP  \\\n",
       "Country                                                                     \n",
       "Afghanistan  19.1                83      6          65  0.1    584.259210   \n",
       "Albania      57.2                 1     98          98  0.1   4575.763787   \n",
       "Algeria      59.5                24     95          95  0.1   4132.762920   \n",
       "Angola       23.3                98      7          64  1.9   3695.793748   \n",
       "Argentina    62.8                 9     93          94  0.1  13467.123600   \n",
       "\n",
       "             Population  Malnourished10_19  Malnourished5_9  Income_Index  \\\n",
       "Country                                                                     \n",
       "Afghanistan    33736494               17.2             17.3         0.479   \n",
       "Albania          288914                1.2              1.3         0.761   \n",
       "Algeria        39871528                6.0              5.8         0.743   \n",
       "Angola          2785935                8.3              8.2         0.531   \n",
       "Argentina      43417765                1.0              0.9         0.826   \n",
       "\n",
       "             Schooling  Expected  \n",
       "Country                           \n",
       "Afghanistan       10.1      65.0  \n",
       "Albania           14.2      77.5  \n",
       "Algeria           14.4      75.6  \n",
       "Angola            11.4      52.4  \n",
       "Argentina         17.3      76.3  "
      ]
     },
     "execution_count": 12,
     "metadata": {},
     "output_type": "execute_result"
    }
   ],
   "source": [
    "df1.head()"
   ]
  },
  {
   "cell_type": "code",
   "execution_count": 13,
   "metadata": {
    "colab": {
     "base_uri": "https://localhost:8080/"
    },
    "id": "HQ9vEO7i_W3N",
    "outputId": "cee105e4-fac1-4237-9f02-5714c068efd9"
   },
   "outputs": [
    {
     "name": "stdout",
     "output_type": "stream",
     "text": [
      "                            OLS Regression Results                            \n",
      "==============================================================================\n",
      "Dep. Variable:               Expected   R-squared:                       0.138\n",
      "Model:                            OLS   Adj. R-squared:                  0.116\n",
      "Method:                 Least Squares   F-statistic:                     6.395\n",
      "Date:                Thu, 08 Apr 2021   Prob (F-statistic):           0.000468\n",
      "Time:                        16:39:14   Log-Likelihood:                -431.15\n",
      "No. Observations:                 124   AIC:                             870.3\n",
      "Df Residuals:                     120   BIC:                             881.6\n",
      "Df Model:                           3                                         \n",
      "Covariance Type:            nonrobust                                         \n",
      "==============================================================================\n",
      "                 coef    std err          t      P>|t|      [0.025      0.975]\n",
      "------------------------------------------------------------------------------\n",
      "const         57.9881      3.524     16.453      0.000      51.010      64.966\n",
      "Hepatitis     -0.1037      0.068     -1.528      0.129      -0.238       0.031\n",
      "Polio          0.0910      0.043      2.099      0.038       0.005       0.177\n",
      "Diphtheria     0.1613      0.082      1.969      0.051      -0.001       0.323\n",
      "==============================================================================\n",
      "Omnibus:                        4.513   Durbin-Watson:                   1.000\n",
      "Prob(Omnibus):                  0.105   Jarque-Bera (JB):                4.279\n",
      "Skew:                          -0.396   Prob(JB):                        0.118\n",
      "Kurtosis:                       2.550   Cond. No.                         755.\n",
      "==============================================================================\n",
      "\n",
      "Notes:\n",
      "[1] Standard Errors assume that the covariance matrix of the errors is correctly specified.\n"
     ]
    }
   ],
   "source": [
    "xc= sm.add_constant(df1[['Hepatitis', 'Polio', 'Diphtheria']])\n",
    "model = sm.OLS(df1['Expected'], xc).fit()\n",
    "y_pred1= model.predict(xc)\n",
    "print(model.summary())"
   ]
  },
  {
   "cell_type": "code",
   "execution_count": 14,
   "metadata": {
    "id": "HkH93dTMVSo2"
   },
   "outputs": [],
   "source": [
    "# P values of  Polio is lesser than the critical value- so only that feature is significant in prediction of expected life."
   ]
  },
  {
   "cell_type": "markdown",
   "metadata": {
    "collapsed": true,
    "id": "AR9dN6mc_W3N"
   },
   "source": [
    "<table align=\"left\">\n",
    "    <tr>\n",
    "        <td>\n",
    "            <div align=\"left\", style=\"font-size:120%\">\n",
    "                <font color=\"#21618C\">\n",
    "                    <b>4. If the information that whether the country is a developed or a developing country is included, does it alter the impact of immunzation on life expectancy ?</b>\n",
    "                </font>\n",
    "            </div>\n",
    "        </td>\n",
    "    </tr>\n",
    "</table>"
   ]
  },
  {
   "cell_type": "code",
   "execution_count": 15,
   "metadata": {
    "id": "rgkNtJSU_W3O"
   },
   "outputs": [],
   "source": [
    "df1['Developing'] = pd.get_dummies(df1['Status'], drop_first=True)"
   ]
  },
  {
   "cell_type": "code",
   "execution_count": 16,
   "metadata": {
    "colab": {
     "base_uri": "https://localhost:8080/"
    },
    "id": "5I1dP0wQXHJg",
    "outputId": "f6bb7dfd-a394-43b5-f207-f6c5b7df2b6d"
   },
   "outputs": [
    {
     "name": "stdout",
     "output_type": "stream",
     "text": [
      "                            OLS Regression Results                            \n",
      "==============================================================================\n",
      "Dep. Variable:               Expected   R-squared:                       0.323\n",
      "Model:                            OLS   Adj. R-squared:                  0.295\n",
      "Method:                 Least Squares   F-statistic:                     11.27\n",
      "Date:                Thu, 08 Apr 2021   Prob (F-statistic):           6.73e-09\n",
      "Time:                        16:39:14   Log-Likelihood:                -416.14\n",
      "No. Observations:                 124   AIC:                             844.3\n",
      "Df Residuals:                     118   BIC:                             861.2\n",
      "Df Model:                           5                                         \n",
      "Covariance Type:            nonrobust                                         \n",
      "==============================================================================\n",
      "                 coef    std err          t      P>|t|      [0.025      0.975]\n",
      "------------------------------------------------------------------------------\n",
      "const         70.0536      3.800     18.436      0.000      62.529      77.578\n",
      "Hepatitis     -0.0031      0.063     -0.049      0.961      -0.128       0.122\n",
      "Measles    -3.589e-05   5.63e-05     -0.638      0.525      -0.000    7.56e-05\n",
      "Polio          0.0760      0.039      1.959      0.053      -0.001       0.153\n",
      "Diphtheria     0.0438      0.076      0.576      0.566      -0.107       0.194\n",
      "Developing   -10.5163      1.882     -5.589      0.000     -14.242      -6.790\n",
      "==============================================================================\n",
      "Omnibus:                        3.402   Durbin-Watson:                   1.187\n",
      "Prob(Omnibus):                  0.182   Jarque-Bera (JB):                3.060\n",
      "Skew:                          -0.383   Prob(JB):                        0.217\n",
      "Kurtosis:                       3.081   Cond. No.                     7.33e+04\n",
      "==============================================================================\n",
      "\n",
      "Notes:\n",
      "[1] Standard Errors assume that the covariance matrix of the errors is correctly specified.\n",
      "[2] The condition number is large, 7.33e+04. This might indicate that there are\n",
      "strong multicollinearity or other numerical problems.\n"
     ]
    }
   ],
   "source": [
    "xc= sm.add_constant(df1[['Hepatitis', 'Measles', 'Polio', 'Diphtheria', 'Developing']])\n",
    "model = sm.OLS(df1['Expected'], xc).fit()\n",
    "y_pred1= model.predict(xc)\n",
    "print(model.summary())"
   ]
  },
  {
   "cell_type": "markdown",
   "metadata": {
    "id": "yCn9Ewv7Ylz4"
   },
   "source": [
    "Yes, Indeed after adding the developing index- (categorical variable) our R2 and adjusted R2 indeed improved. \n",
    "\n",
    "AIC and BIC reduced\n",
    "\n",
    "F statistics increased. \n",
    "\n",
    "Residuals are normally distributed\n",
    "\n",
    "Also, autocorrelation increased between the residuals- not a great sign"
   ]
  },
  {
   "cell_type": "code",
   "execution_count": 17,
   "metadata": {
    "colab": {
     "base_uri": "https://localhost:8080/"
    },
    "id": "4B2XAsR6aFXw",
    "outputId": "f2c1efd6-54bf-41b3-deab-90dc8f4beaa9"
   },
   "outputs": [
    {
     "data": {
      "text/plain": [
       "48.13438590476451"
      ]
     },
     "execution_count": 17,
     "metadata": {},
     "output_type": "execute_result"
    }
   ],
   "source": [
    "# MSE\n",
    "\n",
    "mean_squared_error(y_true = df1['Expected'], y_pred = y_pred1)"
   ]
  },
  {
   "cell_type": "markdown",
   "metadata": {
    "id": "yIWQPaOD_W3O"
   },
   "source": [
    "<a id=\"ins\"> </a>\n",
    "## 3. Inferences about slope"
   ]
  },
  {
   "cell_type": "markdown",
   "metadata": {
    "collapsed": true,
    "id": "kdqhb6_d_W3O"
   },
   "source": [
    "<table align=\"left\">\n",
    "    <tr>\n",
    "        <td>\n",
    "            <div align=\"left\", style=\"font-size:120%\">\n",
    "                <font color=\"#21618C\">\n",
    "                    <b>5. Find the significant variables in the full model when all the variables are considered for prediction of life expectancy.</b>\n",
    "                </font>\n",
    "            </div>\n",
    "        </td>\n",
    "    </tr>\n",
    "</table>"
   ]
  },
  {
   "cell_type": "code",
   "execution_count": 18,
   "metadata": {
    "colab": {
     "base_uri": "https://localhost:8080/",
     "height": 247
    },
    "id": "lcM0Q0A6asKA",
    "outputId": "8a17eeff-251a-45ba-ac3e-b634a616c3c1"
   },
   "outputs": [
    {
     "data": {
      "text/html": [
       "<div>\n",
       "<style scoped>\n",
       "    .dataframe tbody tr th:only-of-type {\n",
       "        vertical-align: middle;\n",
       "    }\n",
       "\n",
       "    .dataframe tbody tr th {\n",
       "        vertical-align: top;\n",
       "    }\n",
       "\n",
       "    .dataframe thead th {\n",
       "        text-align: right;\n",
       "    }\n",
       "</style>\n",
       "<table border=\"1\" class=\"dataframe\">\n",
       "  <thead>\n",
       "    <tr style=\"text-align: right;\">\n",
       "      <th></th>\n",
       "      <th>Infant_Deaths</th>\n",
       "      <th>Hepatitis</th>\n",
       "      <th>Measles</th>\n",
       "      <th>BMI</th>\n",
       "      <th>Underfive_Deaths</th>\n",
       "      <th>Polio</th>\n",
       "      <th>Diphtheria</th>\n",
       "      <th>HIV</th>\n",
       "      <th>GDP</th>\n",
       "      <th>Population</th>\n",
       "      <th>Malnourished10_19</th>\n",
       "      <th>Malnourished5_9</th>\n",
       "      <th>Income_Index</th>\n",
       "      <th>Schooling</th>\n",
       "      <th>Developing</th>\n",
       "    </tr>\n",
       "    <tr>\n",
       "      <th>Country</th>\n",
       "      <th></th>\n",
       "      <th></th>\n",
       "      <th></th>\n",
       "      <th></th>\n",
       "      <th></th>\n",
       "      <th></th>\n",
       "      <th></th>\n",
       "      <th></th>\n",
       "      <th></th>\n",
       "      <th></th>\n",
       "      <th></th>\n",
       "      <th></th>\n",
       "      <th></th>\n",
       "      <th></th>\n",
       "      <th></th>\n",
       "    </tr>\n",
       "  </thead>\n",
       "  <tbody>\n",
       "    <tr>\n",
       "      <th>Afghanistan</th>\n",
       "      <td>62</td>\n",
       "      <td>65</td>\n",
       "      <td>1154</td>\n",
       "      <td>19.1</td>\n",
       "      <td>83</td>\n",
       "      <td>6</td>\n",
       "      <td>65</td>\n",
       "      <td>0.1</td>\n",
       "      <td>584.259210</td>\n",
       "      <td>33736494</td>\n",
       "      <td>17.2</td>\n",
       "      <td>17.3</td>\n",
       "      <td>0.479</td>\n",
       "      <td>10.1</td>\n",
       "      <td>1</td>\n",
       "    </tr>\n",
       "    <tr>\n",
       "      <th>Albania</th>\n",
       "      <td>0</td>\n",
       "      <td>98</td>\n",
       "      <td>0</td>\n",
       "      <td>57.2</td>\n",
       "      <td>1</td>\n",
       "      <td>98</td>\n",
       "      <td>98</td>\n",
       "      <td>0.1</td>\n",
       "      <td>4575.763787</td>\n",
       "      <td>288914</td>\n",
       "      <td>1.2</td>\n",
       "      <td>1.3</td>\n",
       "      <td>0.761</td>\n",
       "      <td>14.2</td>\n",
       "      <td>1</td>\n",
       "    </tr>\n",
       "    <tr>\n",
       "      <th>Algeria</th>\n",
       "      <td>21</td>\n",
       "      <td>95</td>\n",
       "      <td>63</td>\n",
       "      <td>59.5</td>\n",
       "      <td>24</td>\n",
       "      <td>95</td>\n",
       "      <td>95</td>\n",
       "      <td>0.1</td>\n",
       "      <td>4132.762920</td>\n",
       "      <td>39871528</td>\n",
       "      <td>6.0</td>\n",
       "      <td>5.8</td>\n",
       "      <td>0.743</td>\n",
       "      <td>14.4</td>\n",
       "      <td>1</td>\n",
       "    </tr>\n",
       "    <tr>\n",
       "      <th>Angola</th>\n",
       "      <td>66</td>\n",
       "      <td>64</td>\n",
       "      <td>118</td>\n",
       "      <td>23.3</td>\n",
       "      <td>98</td>\n",
       "      <td>7</td>\n",
       "      <td>64</td>\n",
       "      <td>1.9</td>\n",
       "      <td>3695.793748</td>\n",
       "      <td>2785935</td>\n",
       "      <td>8.3</td>\n",
       "      <td>8.2</td>\n",
       "      <td>0.531</td>\n",
       "      <td>11.4</td>\n",
       "      <td>1</td>\n",
       "    </tr>\n",
       "    <tr>\n",
       "      <th>Argentina</th>\n",
       "      <td>8</td>\n",
       "      <td>94</td>\n",
       "      <td>0</td>\n",
       "      <td>62.8</td>\n",
       "      <td>9</td>\n",
       "      <td>93</td>\n",
       "      <td>94</td>\n",
       "      <td>0.1</td>\n",
       "      <td>13467.123600</td>\n",
       "      <td>43417765</td>\n",
       "      <td>1.0</td>\n",
       "      <td>0.9</td>\n",
       "      <td>0.826</td>\n",
       "      <td>17.3</td>\n",
       "      <td>1</td>\n",
       "    </tr>\n",
       "  </tbody>\n",
       "</table>\n",
       "</div>"
      ],
      "text/plain": [
       "             Infant_Deaths  Hepatitis  Measles   BMI  Underfive_Deaths  Polio  \\\n",
       "Country                                                                         \n",
       "Afghanistan             62         65     1154  19.1                83      6   \n",
       "Albania                  0         98        0  57.2                 1     98   \n",
       "Algeria                 21         95       63  59.5                24     95   \n",
       "Angola                  66         64      118  23.3                98      7   \n",
       "Argentina                8         94        0  62.8                 9     93   \n",
       "\n",
       "             Diphtheria  HIV           GDP  Population  Malnourished10_19  \\\n",
       "Country                                                                     \n",
       "Afghanistan          65  0.1    584.259210    33736494               17.2   \n",
       "Albania              98  0.1   4575.763787      288914                1.2   \n",
       "Algeria              95  0.1   4132.762920    39871528                6.0   \n",
       "Angola               64  1.9   3695.793748     2785935                8.3   \n",
       "Argentina            94  0.1  13467.123600    43417765                1.0   \n",
       "\n",
       "             Malnourished5_9  Income_Index  Schooling  Developing  \n",
       "Country                                                            \n",
       "Afghanistan             17.3         0.479       10.1           1  \n",
       "Albania                  1.3         0.761       14.2           1  \n",
       "Algeria                  5.8         0.743       14.4           1  \n",
       "Angola                   8.2         0.531       11.4           1  \n",
       "Argentina                0.9         0.826       17.3           1  "
      ]
     },
     "execution_count": 18,
     "metadata": {},
     "output_type": "execute_result"
    }
   ],
   "source": [
    "dftr = df1.iloc[:, 2:]\n",
    "dftr.drop({'Expected'}, axis=1, inplace= True)\n",
    "dftr.head()"
   ]
  },
  {
   "cell_type": "code",
   "execution_count": 19,
   "metadata": {
    "colab": {
     "base_uri": "https://localhost:8080/"
    },
    "id": "xoE5vX6C_W3P",
    "outputId": "0ed997c9-8b9a-41b2-8c4c-3baff21edbe1"
   },
   "outputs": [
    {
     "name": "stdout",
     "output_type": "stream",
     "text": [
      "                            OLS Regression Results                            \n",
      "==============================================================================\n",
      "Dep. Variable:               Expected   R-squared:                       0.803\n",
      "Model:                            OLS   Adj. R-squared:                  0.775\n",
      "Method:                 Least Squares   F-statistic:                     29.28\n",
      "Date:                Thu, 08 Apr 2021   Prob (F-statistic):           3.26e-31\n",
      "Time:                        16:39:14   Log-Likelihood:                -339.74\n",
      "No. Observations:                 124   AIC:                             711.5\n",
      "Df Residuals:                     108   BIC:                             756.6\n",
      "Df Model:                          15                                         \n",
      "Covariance Type:            nonrobust                                         \n",
      "=====================================================================================\n",
      "                        coef    std err          t      P>|t|      [0.025      0.975]\n",
      "-------------------------------------------------------------------------------------\n",
      "const                54.7805      4.123     13.287      0.000      46.608      62.953\n",
      "Infant_Deaths         0.0767      0.042      1.839      0.069      -0.006       0.159\n",
      "Hepatitis             0.0554      0.036      1.534      0.128      -0.016       0.127\n",
      "Measles           -5.798e-05   6.92e-05     -0.838      0.404      -0.000    7.91e-05\n",
      "BMI                  -0.0315      0.026     -1.230      0.222      -0.082       0.019\n",
      "Underfive_Deaths     -0.0568      0.031     -1.860      0.066      -0.117       0.004\n",
      "Polio                 0.0031      0.025      0.127      0.899      -0.046       0.052\n",
      "Diphtheria           -0.0317      0.045     -0.702      0.484      -0.121       0.058\n",
      "HIV                  -1.3723      0.297     -4.628      0.000      -1.960      -0.784\n",
      "GDP                6.589e-05   3.94e-05      1.674      0.097   -1.21e-05       0.000\n",
      "Population        -2.628e-08   9.64e-09     -2.727      0.007   -4.54e-08   -7.17e-09\n",
      "Malnourished10_19    -0.3460      0.340     -1.018      0.311      -1.020       0.328\n",
      "Malnourished5_9       0.1618      0.320      0.505      0.615      -0.473       0.797\n",
      "Income_Index         22.6350      7.125      3.177      0.002       8.511      36.759\n",
      "Schooling             0.3357      0.393      0.854      0.395      -0.443       1.115\n",
      "Developing           -2.8484      1.317     -2.163      0.033      -5.459      -0.238\n",
      "==============================================================================\n",
      "Omnibus:                        4.462   Durbin-Watson:                   1.510\n",
      "Prob(Omnibus):                  0.107   Jarque-Bera (JB):                5.509\n",
      "Skew:                           0.123   Prob(JB):                       0.0636\n",
      "Kurtosis:                       4.003   Cond. No.                     9.07e+08\n",
      "==============================================================================\n",
      "\n",
      "Notes:\n",
      "[1] Standard Errors assume that the covariance matrix of the errors is correctly specified.\n",
      "[2] The condition number is large, 9.07e+08. This might indicate that there are\n",
      "strong multicollinearity or other numerical problems.\n"
     ]
    }
   ],
   "source": [
    "xc= sm.add_constant(dftr)\n",
    "model = sm.OLS(df1['Expected'], xc).fit()\n",
    "y_pred2= model.predict(xc)\n",
    "print(model.summary())"
   ]
  },
  {
   "cell_type": "code",
   "execution_count": 20,
   "metadata": {
    "colab": {
     "base_uri": "https://localhost:8080/"
    },
    "id": "dX_PvNDMa90v",
    "outputId": "ce4f27fe-c33d-45e7-c6a1-a188b6a13050"
   },
   "outputs": [
    {
     "data": {
      "text/plain": [
       "[('const', 1.84660512003369e-24),\n",
       " ('HIV', 1.034477197831527e-05),\n",
       " ('Population', 0.007469563984213589),\n",
       " ('Income_Index', 0.00194285835644864),\n",
       " ('Developing', 0.03273812282621862)]"
      ]
     },
     "execution_count": 20,
     "metadata": {},
     "output_type": "execute_result"
    }
   ],
   "source": [
    "[(i,j) for i,j in zip(model.pvalues.index, model.pvalues.values) if j<= 0.05]"
   ]
  },
  {
   "cell_type": "code",
   "execution_count": 21,
   "metadata": {
    "id": "GsTF1qBwc4Nc"
   },
   "outputs": [],
   "source": [
    "# the above mentioned features are significantly contributing to the target prediction"
   ]
  },
  {
   "cell_type": "markdown",
   "metadata": {
    "collapsed": true,
    "id": "emoygqt3_W3P"
   },
   "source": [
    "<table align=\"left\">\n",
    "    <tr>\n",
    "        <td>\n",
    "            <div align=\"left\", style=\"font-size:120%\">\n",
    "                <font color=\"#21618C\">\n",
    "                    <b>6. If economic indices are used to predict the life expectancy, calculate the total variation for the observed values of life expectancy.</b>\n",
    "                </font>\n",
    "            </div>\n",
    "        </td>\n",
    "    </tr>\n",
    "</table>"
   ]
  },
  {
   "cell_type": "code",
   "execution_count": 22,
   "metadata": {
    "colab": {
     "base_uri": "https://localhost:8080/"
    },
    "id": "42vEPvtM_W3P",
    "outputId": "97703163-cc02-4218-e205-4733d9ded68a"
   },
   "outputs": [
    {
     "name": "stdout",
     "output_type": "stream",
     "text": [
      "3.3843137257301006\n"
     ]
    }
   ],
   "source": [
    "# RMSE\n",
    "from sklearn.metrics import mean_absolute_error\n",
    "\n",
    "xc= sm.add_constant(dftr['Income_Index'])\n",
    "model = sm.OLS(df1['Expected'], xc).fit()\n",
    "y_pred3= model.predict(xc)\n",
    "print(mean_absolute_error(y_true= df1['Expected'], y_pred=y_pred3))"
   ]
  },
  {
   "cell_type": "markdown",
   "metadata": {
    "collapsed": true,
    "id": "AMIfnLns_W3Q"
   },
   "source": [
    "<table align=\"left\">\n",
    "    <tr>\n",
    "        <td>\n",
    "            <div align=\"left\", style=\"font-size:120%\">\n",
    "                <font color=\"#21618C\">\n",
    "                    <b>7. Determine the lower bound and upper bound for estimated value of life expectancy per unit change in HDI (for income)</b>\n",
    "                </font>\n",
    "            </div>\n",
    "        </td>\n",
    "    </tr>\n",
    "</table>"
   ]
  },
  {
   "cell_type": "code",
   "execution_count": 23,
   "metadata": {
    "colab": {
     "base_uri": "https://localhost:8080/"
    },
    "id": "8bP4I7PW_W3R",
    "outputId": "0866dd2f-a3a9-478c-85c9-dbb1958ecd41"
   },
   "outputs": [
    {
     "name": "stdout",
     "output_type": "stream",
     "text": [
      "                            OLS Regression Results                            \n",
      "==============================================================================\n",
      "Dep. Variable:               Expected   R-squared:                       0.711\n",
      "Model:                            OLS   Adj. R-squared:                  0.709\n",
      "Method:                 Least Squares   F-statistic:                     300.0\n",
      "Date:                Thu, 08 Apr 2021   Prob (F-statistic):           1.13e-34\n",
      "Time:                        16:39:14   Log-Likelihood:                -363.40\n",
      "No. Observations:                 124   AIC:                             730.8\n",
      "Df Residuals:                     122   BIC:                             736.4\n",
      "Df Model:                           1                                         \n",
      "Covariance Type:            nonrobust                                         \n",
      "================================================================================\n",
      "                   coef    std err          t      P>|t|      [0.025      0.975]\n",
      "--------------------------------------------------------------------------------\n",
      "const           41.9191      1.741     24.081      0.000      38.473      45.365\n",
      "Income_Index    42.4243      2.449     17.322      0.000      37.576      47.273\n",
      "==============================================================================\n",
      "Omnibus:                       11.870   Durbin-Watson:                   1.355\n",
      "Prob(Omnibus):                  0.003   Jarque-Bera (JB):               26.475\n",
      "Skew:                           0.280   Prob(JB):                     1.78e-06\n",
      "Kurtosis:                       5.193   Cond. No.                         8.87\n",
      "==============================================================================\n",
      "\n",
      "Notes:\n",
      "[1] Standard Errors assume that the covariance matrix of the errors is correctly specified.\n"
     ]
    }
   ],
   "source": [
    "xc= sm.add_constant(dftr['Income_Index'])\n",
    "model = sm.OLS(df1['Expected'], xc).fit()\n",
    "y_pred3= model.predict(xc)\n",
    "print(model.summary())"
   ]
  },
  {
   "cell_type": "code",
   "execution_count": 24,
   "metadata": {
    "id": "jAOw6V5T6qjt"
   },
   "outputs": [
    {
     "data": {
      "text/plain": [
       "47.273"
      ]
     },
     "execution_count": 24,
     "metadata": {},
     "output_type": "execute_result"
    }
   ],
   "source": [
    "# Lowest bound:\n",
    "\n",
    "37.576 \n",
    "\n",
    "# Upper bound:\n",
    "\n",
    "47.273"
   ]
  },
  {
   "cell_type": "markdown",
   "metadata": {
    "id": "GQpQsIsq_W3R"
   },
   "source": [
    "<a id=\"ML_eval\"> </a>\n",
    "## 4. Model Evaluation"
   ]
  },
  {
   "cell_type": "markdown",
   "metadata": {
    "collapsed": true,
    "id": "p0EJp-Da_W3S"
   },
   "source": [
    "<table align=\"left\">\n",
    "    <tr>\n",
    "        <td>\n",
    "            <div align=\"left\", style=\"font-size:120%\">\n",
    "                <font color=\"#21618C\">\n",
    "                    <b>8. A model is built to analyze the impact of mortality on Life expectancy. Would the addition of information about population of the country lead to a better prediction?</b>\n",
    "                </font>\n",
    "            </div>\n",
    "        </td>\n",
    "    </tr>\n",
    "</table>"
   ]
  },
  {
   "cell_type": "code",
   "execution_count": 25,
   "metadata": {
    "id": "bj9zYkUvyti9"
   },
   "outputs": [],
   "source": [
    "df1 = pd.get_dummies(columns=['Status'], data=df1, drop_first=True)"
   ]
  },
  {
   "cell_type": "code",
   "execution_count": 26,
   "metadata": {
    "id": "28NGqYs0zoeJ"
   },
   "outputs": [
    {
     "data": {
      "text/html": [
       "<div>\n",
       "<style scoped>\n",
       "    .dataframe tbody tr th:only-of-type {\n",
       "        vertical-align: middle;\n",
       "    }\n",
       "\n",
       "    .dataframe tbody tr th {\n",
       "        vertical-align: top;\n",
       "    }\n",
       "\n",
       "    .dataframe thead th {\n",
       "        text-align: right;\n",
       "    }\n",
       "</style>\n",
       "<table border=\"1\" class=\"dataframe\">\n",
       "  <thead>\n",
       "    <tr style=\"text-align: right;\">\n",
       "      <th></th>\n",
       "      <th>Adult_Mortality</th>\n",
       "      <th>Infant_Deaths</th>\n",
       "      <th>Hepatitis</th>\n",
       "      <th>Measles</th>\n",
       "      <th>BMI</th>\n",
       "      <th>Underfive_Deaths</th>\n",
       "      <th>Polio</th>\n",
       "      <th>Diphtheria</th>\n",
       "      <th>HIV</th>\n",
       "      <th>GDP</th>\n",
       "      <th>Population</th>\n",
       "      <th>Malnourished10_19</th>\n",
       "      <th>Malnourished5_9</th>\n",
       "      <th>Income_Index</th>\n",
       "      <th>Schooling</th>\n",
       "      <th>Expected</th>\n",
       "      <th>Developing</th>\n",
       "      <th>Status_Developing</th>\n",
       "    </tr>\n",
       "    <tr>\n",
       "      <th>Country</th>\n",
       "      <th></th>\n",
       "      <th></th>\n",
       "      <th></th>\n",
       "      <th></th>\n",
       "      <th></th>\n",
       "      <th></th>\n",
       "      <th></th>\n",
       "      <th></th>\n",
       "      <th></th>\n",
       "      <th></th>\n",
       "      <th></th>\n",
       "      <th></th>\n",
       "      <th></th>\n",
       "      <th></th>\n",
       "      <th></th>\n",
       "      <th></th>\n",
       "      <th></th>\n",
       "      <th></th>\n",
       "    </tr>\n",
       "  </thead>\n",
       "  <tbody>\n",
       "    <tr>\n",
       "      <th>Afghanistan</th>\n",
       "      <td>263</td>\n",
       "      <td>62</td>\n",
       "      <td>65</td>\n",
       "      <td>1154</td>\n",
       "      <td>19.1</td>\n",
       "      <td>83</td>\n",
       "      <td>6</td>\n",
       "      <td>65</td>\n",
       "      <td>0.1</td>\n",
       "      <td>584.259210</td>\n",
       "      <td>33736494</td>\n",
       "      <td>17.2</td>\n",
       "      <td>17.3</td>\n",
       "      <td>0.479</td>\n",
       "      <td>10.1</td>\n",
       "      <td>65.0</td>\n",
       "      <td>1</td>\n",
       "      <td>1</td>\n",
       "    </tr>\n",
       "    <tr>\n",
       "      <th>Albania</th>\n",
       "      <td>8</td>\n",
       "      <td>0</td>\n",
       "      <td>98</td>\n",
       "      <td>0</td>\n",
       "      <td>57.2</td>\n",
       "      <td>1</td>\n",
       "      <td>98</td>\n",
       "      <td>98</td>\n",
       "      <td>0.1</td>\n",
       "      <td>4575.763787</td>\n",
       "      <td>288914</td>\n",
       "      <td>1.2</td>\n",
       "      <td>1.3</td>\n",
       "      <td>0.761</td>\n",
       "      <td>14.2</td>\n",
       "      <td>77.5</td>\n",
       "      <td>1</td>\n",
       "      <td>1</td>\n",
       "    </tr>\n",
       "    <tr>\n",
       "      <th>Algeria</th>\n",
       "      <td>19</td>\n",
       "      <td>21</td>\n",
       "      <td>95</td>\n",
       "      <td>63</td>\n",
       "      <td>59.5</td>\n",
       "      <td>24</td>\n",
       "      <td>95</td>\n",
       "      <td>95</td>\n",
       "      <td>0.1</td>\n",
       "      <td>4132.762920</td>\n",
       "      <td>39871528</td>\n",
       "      <td>6.0</td>\n",
       "      <td>5.8</td>\n",
       "      <td>0.743</td>\n",
       "      <td>14.4</td>\n",
       "      <td>75.6</td>\n",
       "      <td>1</td>\n",
       "      <td>1</td>\n",
       "    </tr>\n",
       "    <tr>\n",
       "      <th>Angola</th>\n",
       "      <td>335</td>\n",
       "      <td>66</td>\n",
       "      <td>64</td>\n",
       "      <td>118</td>\n",
       "      <td>23.3</td>\n",
       "      <td>98</td>\n",
       "      <td>7</td>\n",
       "      <td>64</td>\n",
       "      <td>1.9</td>\n",
       "      <td>3695.793748</td>\n",
       "      <td>2785935</td>\n",
       "      <td>8.3</td>\n",
       "      <td>8.2</td>\n",
       "      <td>0.531</td>\n",
       "      <td>11.4</td>\n",
       "      <td>52.4</td>\n",
       "      <td>1</td>\n",
       "      <td>1</td>\n",
       "    </tr>\n",
       "    <tr>\n",
       "      <th>Argentina</th>\n",
       "      <td>116</td>\n",
       "      <td>8</td>\n",
       "      <td>94</td>\n",
       "      <td>0</td>\n",
       "      <td>62.8</td>\n",
       "      <td>9</td>\n",
       "      <td>93</td>\n",
       "      <td>94</td>\n",
       "      <td>0.1</td>\n",
       "      <td>13467.123600</td>\n",
       "      <td>43417765</td>\n",
       "      <td>1.0</td>\n",
       "      <td>0.9</td>\n",
       "      <td>0.826</td>\n",
       "      <td>17.3</td>\n",
       "      <td>76.3</td>\n",
       "      <td>1</td>\n",
       "      <td>1</td>\n",
       "    </tr>\n",
       "  </tbody>\n",
       "</table>\n",
       "</div>"
      ],
      "text/plain": [
       "             Adult_Mortality  Infant_Deaths  Hepatitis  Measles   BMI  \\\n",
       "Country                                                                 \n",
       "Afghanistan              263             62         65     1154  19.1   \n",
       "Albania                    8              0         98        0  57.2   \n",
       "Algeria                   19             21         95       63  59.5   \n",
       "Angola                   335             66         64      118  23.3   \n",
       "Argentina                116              8         94        0  62.8   \n",
       "\n",
       "             Underfive_Deaths  Polio  Diphtheria  HIV           GDP  \\\n",
       "Country                                                               \n",
       "Afghanistan                83      6          65  0.1    584.259210   \n",
       "Albania                     1     98          98  0.1   4575.763787   \n",
       "Algeria                    24     95          95  0.1   4132.762920   \n",
       "Angola                     98      7          64  1.9   3695.793748   \n",
       "Argentina                   9     93          94  0.1  13467.123600   \n",
       "\n",
       "             Population  Malnourished10_19  Malnourished5_9  Income_Index  \\\n",
       "Country                                                                     \n",
       "Afghanistan    33736494               17.2             17.3         0.479   \n",
       "Albania          288914                1.2              1.3         0.761   \n",
       "Algeria        39871528                6.0              5.8         0.743   \n",
       "Angola          2785935                8.3              8.2         0.531   \n",
       "Argentina      43417765                1.0              0.9         0.826   \n",
       "\n",
       "             Schooling  Expected  Developing  Status_Developing  \n",
       "Country                                                          \n",
       "Afghanistan       10.1      65.0           1                  1  \n",
       "Albania           14.2      77.5           1                  1  \n",
       "Algeria           14.4      75.6           1                  1  \n",
       "Angola            11.4      52.4           1                  1  \n",
       "Argentina         17.3      76.3           1                  1  "
      ]
     },
     "execution_count": 26,
     "metadata": {},
     "output_type": "execute_result"
    }
   ],
   "source": [
    "df1.head()"
   ]
  },
  {
   "cell_type": "code",
   "execution_count": 27,
   "metadata": {
    "id": "ofF7wZZszsBc"
   },
   "outputs": [],
   "source": [
    "df1['gdp_inter'] = df1['GDP']* df1['Status_Developing']"
   ]
  },
  {
   "cell_type": "code",
   "execution_count": 28,
   "metadata": {
    "id": "m6OY2kFl_W3T"
   },
   "outputs": [
    {
     "name": "stdout",
     "output_type": "stream",
     "text": [
      "                            OLS Regression Results                            \n",
      "==============================================================================\n",
      "Dep. Variable:               Expected   R-squared:                       0.507\n",
      "Model:                            OLS   Adj. R-squared:                  0.498\n",
      "Method:                 Least Squares   F-statistic:                     62.12\n",
      "Date:                Thu, 08 Apr 2021   Prob (F-statistic):           2.74e-19\n",
      "Time:                        16:39:14   Log-Likelihood:                -396.54\n",
      "No. Observations:                 124   AIC:                             799.1\n",
      "Df Residuals:                     121   BIC:                             807.6\n",
      "Df Model:                           2                                         \n",
      "Covariance Type:            nonrobust                                         \n",
      "===================================================================================\n",
      "                      coef    std err          t      P>|t|      [0.025      0.975]\n",
      "-----------------------------------------------------------------------------------\n",
      "const              80.6129      1.023     78.783      0.000      78.587      82.639\n",
      "Adult_Mortality    -0.0594      0.005    -11.133      0.000      -0.070      -0.049\n",
      "Population       7.436e-09   1.33e-08      0.561      0.576   -1.88e-08    3.37e-08\n",
      "==============================================================================\n",
      "Omnibus:                       57.763   Durbin-Watson:                   1.634\n",
      "Prob(Omnibus):                  0.000   Jarque-Bera (JB):              161.344\n",
      "Skew:                          -1.826   Prob(JB):                     9.22e-36\n",
      "Kurtosis:                       7.231   Cond. No.                     8.61e+07\n",
      "==============================================================================\n",
      "\n",
      "Notes:\n",
      "[1] Standard Errors assume that the covariance matrix of the errors is correctly specified.\n",
      "[2] The condition number is large, 8.61e+07. This might indicate that there are\n",
      "strong multicollinearity or other numerical problems.\n"
     ]
    }
   ],
   "source": [
    "# Lets do a population t test on life expectancy:\n",
    "\n",
    "xc= sm.add_constant(df1[['Adult_Mortality','Population']])\n",
    "model = sm.OLS(df1['Expected'], xc).fit()\n",
    "y_pred4= model.predict(xc)\n",
    "print(model.summary())"
   ]
  },
  {
   "cell_type": "code",
   "execution_count": 29,
   "metadata": {
    "id": "5C25UQ4_7NBO"
   },
   "outputs": [],
   "source": [
    "# seems like population has no significant value to contribute to expected life ."
   ]
  },
  {
   "cell_type": "markdown",
   "metadata": {
    "collapsed": true,
    "id": "c98Fe0et_W3T"
   },
   "source": [
    "<table align=\"left\">\n",
    "    <tr>\n",
    "        <td>\n",
    "            <div align=\"left\", style=\"font-size:120%\">\n",
    "                <font color=\"#21618C\">\n",
    "                    <b>9. Fit a full model and test the significance of the overall model. <br></b>\n",
    "                </font>\n",
    "            </div>\n",
    "        </td>\n",
    "    </tr>\n",
    "</table>"
   ]
  },
  {
   "cell_type": "code",
   "execution_count": 30,
   "metadata": {
    "id": "ZSjT_UDi_W3U",
    "scrolled": true
   },
   "outputs": [
    {
     "name": "stdout",
     "output_type": "stream",
     "text": [
      "                            OLS Regression Results                            \n",
      "==============================================================================\n",
      "Dep. Variable:               Expected   R-squared:                       0.803\n",
      "Model:                            OLS   Adj. R-squared:                  0.775\n",
      "Method:                 Least Squares   F-statistic:                     29.28\n",
      "Date:                Thu, 08 Apr 2021   Prob (F-statistic):           3.26e-31\n",
      "Time:                        16:39:14   Log-Likelihood:                -339.74\n",
      "No. Observations:                 124   AIC:                             711.5\n",
      "Df Residuals:                     108   BIC:                             756.6\n",
      "Df Model:                          15                                         \n",
      "Covariance Type:            nonrobust                                         \n",
      "=====================================================================================\n",
      "                        coef    std err          t      P>|t|      [0.025      0.975]\n",
      "-------------------------------------------------------------------------------------\n",
      "const                54.7805      4.123     13.287      0.000      46.608      62.953\n",
      "Infant_Deaths         0.0767      0.042      1.839      0.069      -0.006       0.159\n",
      "Hepatitis             0.0554      0.036      1.534      0.128      -0.016       0.127\n",
      "Measles           -5.798e-05   6.92e-05     -0.838      0.404      -0.000    7.91e-05\n",
      "BMI                  -0.0315      0.026     -1.230      0.222      -0.082       0.019\n",
      "Underfive_Deaths     -0.0568      0.031     -1.860      0.066      -0.117       0.004\n",
      "Polio                 0.0031      0.025      0.127      0.899      -0.046       0.052\n",
      "Diphtheria           -0.0317      0.045     -0.702      0.484      -0.121       0.058\n",
      "HIV                  -1.3723      0.297     -4.628      0.000      -1.960      -0.784\n",
      "GDP                6.589e-05   3.94e-05      1.674      0.097   -1.21e-05       0.000\n",
      "Population        -2.628e-08   9.64e-09     -2.727      0.007   -4.54e-08   -7.17e-09\n",
      "Malnourished10_19    -0.3460      0.340     -1.018      0.311      -1.020       0.328\n",
      "Malnourished5_9       0.1618      0.320      0.505      0.615      -0.473       0.797\n",
      "Income_Index         22.6350      7.125      3.177      0.002       8.511      36.759\n",
      "Schooling             0.3357      0.393      0.854      0.395      -0.443       1.115\n",
      "Developing           -2.8484      1.317     -2.163      0.033      -5.459      -0.238\n",
      "==============================================================================\n",
      "Omnibus:                        4.462   Durbin-Watson:                   1.510\n",
      "Prob(Omnibus):                  0.107   Jarque-Bera (JB):                5.509\n",
      "Skew:                           0.123   Prob(JB):                       0.0636\n",
      "Kurtosis:                       4.003   Cond. No.                     9.07e+08\n",
      "==============================================================================\n",
      "\n",
      "Notes:\n",
      "[1] Standard Errors assume that the covariance matrix of the errors is correctly specified.\n",
      "[2] The condition number is large, 9.07e+08. This might indicate that there are\n",
      "strong multicollinearity or other numerical problems.\n"
     ]
    }
   ],
   "source": [
    "xc= sm.add_constant(dftr)\n",
    "model = sm.OLS(df1['Expected'], xc).fit()\n",
    "y_pred4= model.predict(xc)\n",
    "print(model.summary())"
   ]
  },
  {
   "cell_type": "code",
   "execution_count": 31,
   "metadata": {
    "id": "ZqY9T0Hi53w9"
   },
   "outputs": [
    {
     "data": {
      "text/html": [
       "<div>\n",
       "<style scoped>\n",
       "    .dataframe tbody tr th:only-of-type {\n",
       "        vertical-align: middle;\n",
       "    }\n",
       "\n",
       "    .dataframe tbody tr th {\n",
       "        vertical-align: top;\n",
       "    }\n",
       "\n",
       "    .dataframe thead th {\n",
       "        text-align: right;\n",
       "    }\n",
       "</style>\n",
       "<table border=\"1\" class=\"dataframe\">\n",
       "  <thead>\n",
       "    <tr style=\"text-align: right;\">\n",
       "      <th></th>\n",
       "      <th>Adult_Mortality</th>\n",
       "      <th>Infant_Deaths</th>\n",
       "      <th>Hepatitis</th>\n",
       "      <th>Measles</th>\n",
       "      <th>BMI</th>\n",
       "      <th>Underfive_Deaths</th>\n",
       "      <th>Polio</th>\n",
       "      <th>Diphtheria</th>\n",
       "      <th>HIV</th>\n",
       "      <th>GDP</th>\n",
       "      <th>Population</th>\n",
       "      <th>Malnourished10_19</th>\n",
       "      <th>Malnourished5_9</th>\n",
       "      <th>Income_Index</th>\n",
       "      <th>Schooling</th>\n",
       "      <th>Expected</th>\n",
       "      <th>Developing</th>\n",
       "      <th>Status_Developing</th>\n",
       "      <th>gdp_inter</th>\n",
       "    </tr>\n",
       "    <tr>\n",
       "      <th>Country</th>\n",
       "      <th></th>\n",
       "      <th></th>\n",
       "      <th></th>\n",
       "      <th></th>\n",
       "      <th></th>\n",
       "      <th></th>\n",
       "      <th></th>\n",
       "      <th></th>\n",
       "      <th></th>\n",
       "      <th></th>\n",
       "      <th></th>\n",
       "      <th></th>\n",
       "      <th></th>\n",
       "      <th></th>\n",
       "      <th></th>\n",
       "      <th></th>\n",
       "      <th></th>\n",
       "      <th></th>\n",
       "      <th></th>\n",
       "    </tr>\n",
       "  </thead>\n",
       "  <tbody>\n",
       "    <tr>\n",
       "      <th>Afghanistan</th>\n",
       "      <td>263</td>\n",
       "      <td>62</td>\n",
       "      <td>65</td>\n",
       "      <td>1154</td>\n",
       "      <td>19.1</td>\n",
       "      <td>83</td>\n",
       "      <td>6</td>\n",
       "      <td>65</td>\n",
       "      <td>0.1</td>\n",
       "      <td>584.259210</td>\n",
       "      <td>33736494</td>\n",
       "      <td>17.2</td>\n",
       "      <td>17.3</td>\n",
       "      <td>0.479</td>\n",
       "      <td>10.1</td>\n",
       "      <td>65.0</td>\n",
       "      <td>1</td>\n",
       "      <td>1</td>\n",
       "      <td>584.259210</td>\n",
       "    </tr>\n",
       "    <tr>\n",
       "      <th>Albania</th>\n",
       "      <td>8</td>\n",
       "      <td>0</td>\n",
       "      <td>98</td>\n",
       "      <td>0</td>\n",
       "      <td>57.2</td>\n",
       "      <td>1</td>\n",
       "      <td>98</td>\n",
       "      <td>98</td>\n",
       "      <td>0.1</td>\n",
       "      <td>4575.763787</td>\n",
       "      <td>288914</td>\n",
       "      <td>1.2</td>\n",
       "      <td>1.3</td>\n",
       "      <td>0.761</td>\n",
       "      <td>14.2</td>\n",
       "      <td>77.5</td>\n",
       "      <td>1</td>\n",
       "      <td>1</td>\n",
       "      <td>4575.763787</td>\n",
       "    </tr>\n",
       "    <tr>\n",
       "      <th>Algeria</th>\n",
       "      <td>19</td>\n",
       "      <td>21</td>\n",
       "      <td>95</td>\n",
       "      <td>63</td>\n",
       "      <td>59.5</td>\n",
       "      <td>24</td>\n",
       "      <td>95</td>\n",
       "      <td>95</td>\n",
       "      <td>0.1</td>\n",
       "      <td>4132.762920</td>\n",
       "      <td>39871528</td>\n",
       "      <td>6.0</td>\n",
       "      <td>5.8</td>\n",
       "      <td>0.743</td>\n",
       "      <td>14.4</td>\n",
       "      <td>75.6</td>\n",
       "      <td>1</td>\n",
       "      <td>1</td>\n",
       "      <td>4132.762920</td>\n",
       "    </tr>\n",
       "    <tr>\n",
       "      <th>Angola</th>\n",
       "      <td>335</td>\n",
       "      <td>66</td>\n",
       "      <td>64</td>\n",
       "      <td>118</td>\n",
       "      <td>23.3</td>\n",
       "      <td>98</td>\n",
       "      <td>7</td>\n",
       "      <td>64</td>\n",
       "      <td>1.9</td>\n",
       "      <td>3695.793748</td>\n",
       "      <td>2785935</td>\n",
       "      <td>8.3</td>\n",
       "      <td>8.2</td>\n",
       "      <td>0.531</td>\n",
       "      <td>11.4</td>\n",
       "      <td>52.4</td>\n",
       "      <td>1</td>\n",
       "      <td>1</td>\n",
       "      <td>3695.793748</td>\n",
       "    </tr>\n",
       "    <tr>\n",
       "      <th>Argentina</th>\n",
       "      <td>116</td>\n",
       "      <td>8</td>\n",
       "      <td>94</td>\n",
       "      <td>0</td>\n",
       "      <td>62.8</td>\n",
       "      <td>9</td>\n",
       "      <td>93</td>\n",
       "      <td>94</td>\n",
       "      <td>0.1</td>\n",
       "      <td>13467.123600</td>\n",
       "      <td>43417765</td>\n",
       "      <td>1.0</td>\n",
       "      <td>0.9</td>\n",
       "      <td>0.826</td>\n",
       "      <td>17.3</td>\n",
       "      <td>76.3</td>\n",
       "      <td>1</td>\n",
       "      <td>1</td>\n",
       "      <td>13467.123600</td>\n",
       "    </tr>\n",
       "    <tr>\n",
       "      <th>...</th>\n",
       "      <td>...</td>\n",
       "      <td>...</td>\n",
       "      <td>...</td>\n",
       "      <td>...</td>\n",
       "      <td>...</td>\n",
       "      <td>...</td>\n",
       "      <td>...</td>\n",
       "      <td>...</td>\n",
       "      <td>...</td>\n",
       "      <td>...</td>\n",
       "      <td>...</td>\n",
       "      <td>...</td>\n",
       "      <td>...</td>\n",
       "      <td>...</td>\n",
       "      <td>...</td>\n",
       "      <td>...</td>\n",
       "      <td>...</td>\n",
       "      <td>...</td>\n",
       "      <td>...</td>\n",
       "    </tr>\n",
       "    <tr>\n",
       "      <th>Venezuela</th>\n",
       "      <td>37</td>\n",
       "      <td>24</td>\n",
       "      <td>95</td>\n",
       "      <td>129</td>\n",
       "      <td>15.4</td>\n",
       "      <td>38</td>\n",
       "      <td>95</td>\n",
       "      <td>95</td>\n",
       "      <td>7.1</td>\n",
       "      <td>287.931877</td>\n",
       "      <td>8991735</td>\n",
       "      <td>6.8</td>\n",
       "      <td>7.0</td>\n",
       "      <td>0.388</td>\n",
       "      <td>8.8</td>\n",
       "      <td>55.3</td>\n",
       "      <td>1</td>\n",
       "      <td>1</td>\n",
       "      <td>287.931877</td>\n",
       "    </tr>\n",
       "    <tr>\n",
       "      <th>Viet Nam</th>\n",
       "      <td>397</td>\n",
       "      <td>26</td>\n",
       "      <td>89</td>\n",
       "      <td>386</td>\n",
       "      <td>14.9</td>\n",
       "      <td>42</td>\n",
       "      <td>89</td>\n",
       "      <td>89</td>\n",
       "      <td>7.7</td>\n",
       "      <td>236.911438</td>\n",
       "      <td>8818438</td>\n",
       "      <td>6.9</td>\n",
       "      <td>7.1</td>\n",
       "      <td>0.371</td>\n",
       "      <td>8.2</td>\n",
       "      <td>53.4</td>\n",
       "      <td>1</td>\n",
       "      <td>1</td>\n",
       "      <td>236.911438</td>\n",
       "    </tr>\n",
       "    <tr>\n",
       "      <th>Yemen</th>\n",
       "      <td>48</td>\n",
       "      <td>29</td>\n",
       "      <td>96</td>\n",
       "      <td>1064</td>\n",
       "      <td>14.5</td>\n",
       "      <td>46</td>\n",
       "      <td>96</td>\n",
       "      <td>96</td>\n",
       "      <td>8.1</td>\n",
       "      <td>212.661949</td>\n",
       "      <td>868346</td>\n",
       "      <td>7.0</td>\n",
       "      <td>7.3</td>\n",
       "      <td>0.359</td>\n",
       "      <td>7.6</td>\n",
       "      <td>52.0</td>\n",
       "      <td>1</td>\n",
       "      <td>1</td>\n",
       "      <td>212.661949</td>\n",
       "    </tr>\n",
       "    <tr>\n",
       "      <th>Zambia</th>\n",
       "      <td>415</td>\n",
       "      <td>31</td>\n",
       "      <td>88</td>\n",
       "      <td>2738</td>\n",
       "      <td>14.1</td>\n",
       "      <td>50</td>\n",
       "      <td>85</td>\n",
       "      <td>88</td>\n",
       "      <td>8.0</td>\n",
       "      <td>196.597780</td>\n",
       "      <td>853625</td>\n",
       "      <td>7.2</td>\n",
       "      <td>7.4</td>\n",
       "      <td>0.343</td>\n",
       "      <td>7.2</td>\n",
       "      <td>57.0</td>\n",
       "      <td>1</td>\n",
       "      <td>1</td>\n",
       "      <td>196.597780</td>\n",
       "    </tr>\n",
       "    <tr>\n",
       "      <th>Zimbabwe</th>\n",
       "      <td>438</td>\n",
       "      <td>33</td>\n",
       "      <td>85</td>\n",
       "      <td>896</td>\n",
       "      <td>13.7</td>\n",
       "      <td>54</td>\n",
       "      <td>76</td>\n",
       "      <td>77</td>\n",
       "      <td>8.1</td>\n",
       "      <td>21.569654</td>\n",
       "      <td>832946</td>\n",
       "      <td>7.4</td>\n",
       "      <td>7.5</td>\n",
       "      <td>0.332</td>\n",
       "      <td>7.1</td>\n",
       "      <td>48.6</td>\n",
       "      <td>1</td>\n",
       "      <td>1</td>\n",
       "      <td>21.569654</td>\n",
       "    </tr>\n",
       "  </tbody>\n",
       "</table>\n",
       "<p>124 rows × 19 columns</p>\n",
       "</div>"
      ],
      "text/plain": [
       "             Adult_Mortality  Infant_Deaths  Hepatitis  Measles   BMI  \\\n",
       "Country                                                                 \n",
       "Afghanistan              263             62         65     1154  19.1   \n",
       "Albania                    8              0         98        0  57.2   \n",
       "Algeria                   19             21         95       63  59.5   \n",
       "Angola                   335             66         64      118  23.3   \n",
       "Argentina                116              8         94        0  62.8   \n",
       "...                      ...            ...        ...      ...   ...   \n",
       "Venezuela                 37             24         95      129  15.4   \n",
       "Viet Nam                 397             26         89      386  14.9   \n",
       "Yemen                     48             29         96     1064  14.5   \n",
       "Zambia                   415             31         88     2738  14.1   \n",
       "Zimbabwe                 438             33         85      896  13.7   \n",
       "\n",
       "             Underfive_Deaths  Polio  Diphtheria  HIV           GDP  \\\n",
       "Country                                                               \n",
       "Afghanistan                83      6          65  0.1    584.259210   \n",
       "Albania                     1     98          98  0.1   4575.763787   \n",
       "Algeria                    24     95          95  0.1   4132.762920   \n",
       "Angola                     98      7          64  1.9   3695.793748   \n",
       "Argentina                   9     93          94  0.1  13467.123600   \n",
       "...                       ...    ...         ...  ...           ...   \n",
       "Venezuela                  38     95          95  7.1    287.931877   \n",
       "Viet Nam                   42     89          89  7.7    236.911438   \n",
       "Yemen                      46     96          96  8.1    212.661949   \n",
       "Zambia                     50     85          88  8.0    196.597780   \n",
       "Zimbabwe                   54     76          77  8.1     21.569654   \n",
       "\n",
       "             Population  Malnourished10_19  Malnourished5_9  Income_Index  \\\n",
       "Country                                                                     \n",
       "Afghanistan    33736494               17.2             17.3         0.479   \n",
       "Albania          288914                1.2              1.3         0.761   \n",
       "Algeria        39871528                6.0              5.8         0.743   \n",
       "Angola          2785935                8.3              8.2         0.531   \n",
       "Argentina      43417765                1.0              0.9         0.826   \n",
       "...                 ...                ...              ...           ...   \n",
       "Venezuela       8991735                6.8              7.0         0.388   \n",
       "Viet Nam        8818438                6.9              7.1         0.371   \n",
       "Yemen            868346                7.0              7.3         0.359   \n",
       "Zambia           853625                7.2              7.4         0.343   \n",
       "Zimbabwe         832946                7.4              7.5         0.332   \n",
       "\n",
       "             Schooling  Expected  Developing  Status_Developing     gdp_inter  \n",
       "Country                                                                        \n",
       "Afghanistan       10.1      65.0           1                  1    584.259210  \n",
       "Albania           14.2      77.5           1                  1   4575.763787  \n",
       "Algeria           14.4      75.6           1                  1   4132.762920  \n",
       "Angola            11.4      52.4           1                  1   3695.793748  \n",
       "Argentina         17.3      76.3           1                  1  13467.123600  \n",
       "...                ...       ...         ...                ...           ...  \n",
       "Venezuela          8.8      55.3           1                  1    287.931877  \n",
       "Viet Nam           8.2      53.4           1                  1    236.911438  \n",
       "Yemen              7.6      52.0           1                  1    212.661949  \n",
       "Zambia             7.2      57.0           1                  1    196.597780  \n",
       "Zimbabwe           7.1      48.6           1                  1     21.569654  \n",
       "\n",
       "[124 rows x 19 columns]"
      ]
     },
     "execution_count": 31,
     "metadata": {},
     "output_type": "execute_result"
    }
   ],
   "source": [
    "df1"
   ]
  },
  {
   "cell_type": "code",
   "execution_count": 32,
   "metadata": {
    "id": "As149KFq7j5n"
   },
   "outputs": [],
   "source": [
    "# Our overall model significance is given by p value of F score- which here is very less- So our model is a good model. \n",
    "\n",
    "# even R2 adjusted is higher. "
   ]
  },
  {
   "cell_type": "markdown",
   "metadata": {
    "id": "Uls7pNbV_W3U"
   },
   "source": [
    "<a id=\"assum\"> </a>\n",
    "## 5. Assumptions of Linear Regression"
   ]
  },
  {
   "cell_type": "markdown",
   "metadata": {
    "collapsed": true,
    "id": "UCrugKFd_W3V"
   },
   "source": [
    "<table align=\"left\">\n",
    "    <tr>\n",
    "        <td>\n",
    "            <div align=\"left\", style=\"font-size:120%\">\n",
    "                <font color=\"#21618C\">\n",
    "                    <b>10. A model is built using all the features (full model) to predict the life expectancy. Check whether the residuals obtained form the model follow a normal distribution.</b>\n",
    "                </font>\n",
    "            </div>\n",
    "        </td>\n",
    "    </tr>\n",
    "</table>"
   ]
  },
  {
   "cell_type": "code",
   "execution_count": 33,
   "metadata": {
    "id": "08NgRzH__W3V"
   },
   "outputs": [
    {
     "data": {
      "image/png": "[encoded data removed]",
      "text/plain": [
       "<Figure size 432x288 with 1 Axes>"
      ]
     },
     "metadata": {
      "needs_background": "light"
     },
     "output_type": "display_data"
    }
   ],
   "source": [
    "# QQ plot.\n",
    "\n",
    "stats.probplot(model.resid, plot=plt)\n",
    "plt.show()"
   ]
  },
  {
   "cell_type": "code",
   "execution_count": 34,
   "metadata": {
    "id": "3sSfJvRR9F4j"
   },
   "outputs": [
    {
     "data": {
      "text/plain": [
       "Jarque_beraResult(statistic=5.509489251039555, pvalue=0.06362526586345063)"
      ]
     },
     "execution_count": 34,
     "metadata": {},
     "output_type": "execute_result"
    }
   ],
   "source": [
    "# JB test\n",
    "\n",
    "stats.jarque_bera(model.resid)"
   ]
  },
  {
   "cell_type": "code",
   "execution_count": 35,
   "metadata": {
    "id": "wXu1uB2y9ljW"
   },
   "outputs": [],
   "source": [
    "# it is NOT normally distributed as shown by a JB test"
   ]
  },
  {
   "cell_type": "markdown",
   "metadata": {
    "collapsed": true,
    "id": "aITyQVf9_W3V"
   },
   "source": [
    "<table align=\"left\">\n",
    "    <tr>\n",
    "        <td>\n",
    "            <div align=\"left\", style=\"font-size:120%\">\n",
    "                <font color=\"#21618C\">\n",
    "                        <b>11. Does the interaction of status of the country and its GDP have significant effect on life expectancy? (consider the full model)</b>\n",
    "                </font>\n",
    "            </div>\n",
    "        </td>\n",
    "    </tr>\n",
    "</table>"
   ]
  },
  {
   "cell_type": "code",
   "execution_count": 36,
   "metadata": {
    "id": "Zbcg6iUe_W3W"
   },
   "outputs": [
    {
     "name": "stdout",
     "output_type": "stream",
     "text": [
      "                            OLS Regression Results                            \n",
      "==============================================================================\n",
      "Dep. Variable:               Expected   R-squared:                       0.077\n",
      "Model:                            OLS   Adj. R-squared:                  0.069\n",
      "Method:                 Least Squares   F-statistic:                     10.18\n",
      "Date:                Thu, 08 Apr 2021   Prob (F-statistic):            0.00180\n",
      "Time:                        16:39:15   Log-Likelihood:                -435.37\n",
      "No. Observations:                 124   AIC:                             874.7\n",
      "Df Residuals:                     122   BIC:                             880.4\n",
      "Df Model:                           1                                         \n",
      "Covariance Type:            nonrobust                                         \n",
      "==============================================================================\n",
      "                 coef    std err          t      P>|t|      [0.025      0.975]\n",
      "------------------------------------------------------------------------------\n",
      "const         69.8589      0.849     82.315      0.000      68.179      71.539\n",
      "gdp_inter      0.0003   9.53e-05      3.191      0.002       0.000       0.000\n",
      "==============================================================================\n",
      "Omnibus:                        2.103   Durbin-Watson:                   1.257\n",
      "Prob(Omnibus):                  0.349   Jarque-Bera (JB):                2.152\n",
      "Skew:                          -0.293   Prob(JB):                        0.341\n",
      "Kurtosis:                       2.731   Cond. No.                     1.03e+04\n",
      "==============================================================================\n",
      "\n",
      "Notes:\n",
      "[1] Standard Errors assume that the covariance matrix of the errors is correctly specified.\n",
      "[2] The condition number is large, 1.03e+04. This might indicate that there are\n",
      "strong multicollinearity or other numerical problems.\n"
     ]
    }
   ],
   "source": [
    "xc= sm.add_constant(df1['gdp_inter'])\n",
    "model = sm.OLS(df1['Expected'], xc).fit()\n",
    "print(model.summary())"
   ]
  },
  {
   "cell_type": "markdown",
   "metadata": {
    "id": "r7IrSuiW0PqN"
   },
   "source": [
    "The interaction brings out an interesting feature- also significant- but the model'score isnt vastly determined by this feature alone. \n",
    "\n",
    "Maybe along with other features, this works better"
   ]
  },
  {
   "cell_type": "code",
   "execution_count": 37,
   "metadata": {
    "id": "621ZfwBl-lKM"
   },
   "outputs": [],
   "source": [
    "from statsmodels.stats.outliers_influence import variance_inflation_factor as vif"
   ]
  },
  {
   "cell_type": "code",
   "execution_count": 38,
   "metadata": {
    "id": "2Rv_K613-lRb"
   },
   "outputs": [
    {
     "data": {
      "text/plain": [
       "[1.3385386428874742, 0.9999999999999998]"
      ]
     },
     "execution_count": 38,
     "metadata": {},
     "output_type": "execute_result"
    }
   ],
   "source": [
    "[vif(xc.values, i) for i in range(xc.shape[1])]"
   ]
  },
  {
   "cell_type": "code",
   "execution_count": 39,
   "metadata": {
    "id": "kbx9uges-ljB"
   },
   "outputs": [
    {
     "data": {
      "text/plain": [
       "Index(['const', 'gdp_inter'], dtype='object')"
      ]
     },
     "execution_count": 39,
     "metadata": {},
     "output_type": "execute_result"
    }
   ],
   "source": [
    "xc.columns"
   ]
  },
  {
   "cell_type": "markdown",
   "metadata": {
    "collapsed": true,
    "id": "BZfvFIJr_W3W"
   },
   "source": [
    "<table align=\"left\">\n",
    "    <tr>\n",
    "        <td>\n",
    "            <div align=\"left\", style=\"font-size:120%\">\n",
    "                <font color=\"#21618C\">\n",
    "                    <b>12. Construct a full no-intecept model. What would you conclude when all the variables take value 0? </b>\n",
    "                </font>\n",
    "            </div>\n",
    "        </td>\n",
    "    </tr>\n",
    "</table>"
   ]
  },
  {
   "cell_type": "code",
   "execution_count": 40,
   "metadata": {
    "id": "p-35oIBG_W3W"
   },
   "outputs": [
    {
     "data": {
      "text/html": [
       "<div>\n",
       "<style scoped>\n",
       "    .dataframe tbody tr th:only-of-type {\n",
       "        vertical-align: middle;\n",
       "    }\n",
       "\n",
       "    .dataframe tbody tr th {\n",
       "        vertical-align: top;\n",
       "    }\n",
       "\n",
       "    .dataframe thead th {\n",
       "        text-align: right;\n",
       "    }\n",
       "</style>\n",
       "<table border=\"1\" class=\"dataframe\">\n",
       "  <thead>\n",
       "    <tr style=\"text-align: right;\">\n",
       "      <th></th>\n",
       "      <th>Adult_Mortality</th>\n",
       "      <th>Infant_Deaths</th>\n",
       "      <th>Hepatitis</th>\n",
       "      <th>Measles</th>\n",
       "      <th>BMI</th>\n",
       "      <th>Underfive_Deaths</th>\n",
       "      <th>Polio</th>\n",
       "      <th>Diphtheria</th>\n",
       "      <th>HIV</th>\n",
       "      <th>GDP</th>\n",
       "      <th>Population</th>\n",
       "      <th>Malnourished10_19</th>\n",
       "      <th>Malnourished5_9</th>\n",
       "      <th>Income_Index</th>\n",
       "      <th>Schooling</th>\n",
       "      <th>Expected</th>\n",
       "      <th>Developing</th>\n",
       "      <th>Status_Developing</th>\n",
       "      <th>gdp_inter</th>\n",
       "    </tr>\n",
       "    <tr>\n",
       "      <th>Country</th>\n",
       "      <th></th>\n",
       "      <th></th>\n",
       "      <th></th>\n",
       "      <th></th>\n",
       "      <th></th>\n",
       "      <th></th>\n",
       "      <th></th>\n",
       "      <th></th>\n",
       "      <th></th>\n",
       "      <th></th>\n",
       "      <th></th>\n",
       "      <th></th>\n",
       "      <th></th>\n",
       "      <th></th>\n",
       "      <th></th>\n",
       "      <th></th>\n",
       "      <th></th>\n",
       "      <th></th>\n",
       "      <th></th>\n",
       "    </tr>\n",
       "  </thead>\n",
       "  <tbody>\n",
       "    <tr>\n",
       "      <th>Afghanistan</th>\n",
       "      <td>263</td>\n",
       "      <td>62</td>\n",
       "      <td>65</td>\n",
       "      <td>1154</td>\n",
       "      <td>19.1</td>\n",
       "      <td>83</td>\n",
       "      <td>6</td>\n",
       "      <td>65</td>\n",
       "      <td>0.1</td>\n",
       "      <td>584.259210</td>\n",
       "      <td>33736494</td>\n",
       "      <td>17.2</td>\n",
       "      <td>17.3</td>\n",
       "      <td>0.479</td>\n",
       "      <td>10.1</td>\n",
       "      <td>65.0</td>\n",
       "      <td>1</td>\n",
       "      <td>1</td>\n",
       "      <td>584.259210</td>\n",
       "    </tr>\n",
       "    <tr>\n",
       "      <th>Albania</th>\n",
       "      <td>8</td>\n",
       "      <td>0</td>\n",
       "      <td>98</td>\n",
       "      <td>0</td>\n",
       "      <td>57.2</td>\n",
       "      <td>1</td>\n",
       "      <td>98</td>\n",
       "      <td>98</td>\n",
       "      <td>0.1</td>\n",
       "      <td>4575.763787</td>\n",
       "      <td>288914</td>\n",
       "      <td>1.2</td>\n",
       "      <td>1.3</td>\n",
       "      <td>0.761</td>\n",
       "      <td>14.2</td>\n",
       "      <td>77.5</td>\n",
       "      <td>1</td>\n",
       "      <td>1</td>\n",
       "      <td>4575.763787</td>\n",
       "    </tr>\n",
       "    <tr>\n",
       "      <th>Algeria</th>\n",
       "      <td>19</td>\n",
       "      <td>21</td>\n",
       "      <td>95</td>\n",
       "      <td>63</td>\n",
       "      <td>59.5</td>\n",
       "      <td>24</td>\n",
       "      <td>95</td>\n",
       "      <td>95</td>\n",
       "      <td>0.1</td>\n",
       "      <td>4132.762920</td>\n",
       "      <td>39871528</td>\n",
       "      <td>6.0</td>\n",
       "      <td>5.8</td>\n",
       "      <td>0.743</td>\n",
       "      <td>14.4</td>\n",
       "      <td>75.6</td>\n",
       "      <td>1</td>\n",
       "      <td>1</td>\n",
       "      <td>4132.762920</td>\n",
       "    </tr>\n",
       "    <tr>\n",
       "      <th>Angola</th>\n",
       "      <td>335</td>\n",
       "      <td>66</td>\n",
       "      <td>64</td>\n",
       "      <td>118</td>\n",
       "      <td>23.3</td>\n",
       "      <td>98</td>\n",
       "      <td>7</td>\n",
       "      <td>64</td>\n",
       "      <td>1.9</td>\n",
       "      <td>3695.793748</td>\n",
       "      <td>2785935</td>\n",
       "      <td>8.3</td>\n",
       "      <td>8.2</td>\n",
       "      <td>0.531</td>\n",
       "      <td>11.4</td>\n",
       "      <td>52.4</td>\n",
       "      <td>1</td>\n",
       "      <td>1</td>\n",
       "      <td>3695.793748</td>\n",
       "    </tr>\n",
       "    <tr>\n",
       "      <th>Argentina</th>\n",
       "      <td>116</td>\n",
       "      <td>8</td>\n",
       "      <td>94</td>\n",
       "      <td>0</td>\n",
       "      <td>62.8</td>\n",
       "      <td>9</td>\n",
       "      <td>93</td>\n",
       "      <td>94</td>\n",
       "      <td>0.1</td>\n",
       "      <td>13467.123600</td>\n",
       "      <td>43417765</td>\n",
       "      <td>1.0</td>\n",
       "      <td>0.9</td>\n",
       "      <td>0.826</td>\n",
       "      <td>17.3</td>\n",
       "      <td>76.3</td>\n",
       "      <td>1</td>\n",
       "      <td>1</td>\n",
       "      <td>13467.123600</td>\n",
       "    </tr>\n",
       "  </tbody>\n",
       "</table>\n",
       "</div>"
      ],
      "text/plain": [
       "             Adult_Mortality  Infant_Deaths  Hepatitis  Measles   BMI  \\\n",
       "Country                                                                 \n",
       "Afghanistan              263             62         65     1154  19.1   \n",
       "Albania                    8              0         98        0  57.2   \n",
       "Algeria                   19             21         95       63  59.5   \n",
       "Angola                   335             66         64      118  23.3   \n",
       "Argentina                116              8         94        0  62.8   \n",
       "\n",
       "             Underfive_Deaths  Polio  Diphtheria  HIV           GDP  \\\n",
       "Country                                                               \n",
       "Afghanistan                83      6          65  0.1    584.259210   \n",
       "Albania                     1     98          98  0.1   4575.763787   \n",
       "Algeria                    24     95          95  0.1   4132.762920   \n",
       "Angola                     98      7          64  1.9   3695.793748   \n",
       "Argentina                   9     93          94  0.1  13467.123600   \n",
       "\n",
       "             Population  Malnourished10_19  Malnourished5_9  Income_Index  \\\n",
       "Country                                                                     \n",
       "Afghanistan    33736494               17.2             17.3         0.479   \n",
       "Albania          288914                1.2              1.3         0.761   \n",
       "Algeria        39871528                6.0              5.8         0.743   \n",
       "Angola          2785935                8.3              8.2         0.531   \n",
       "Argentina      43417765                1.0              0.9         0.826   \n",
       "\n",
       "             Schooling  Expected  Developing  Status_Developing     gdp_inter  \n",
       "Country                                                                        \n",
       "Afghanistan       10.1      65.0           1                  1    584.259210  \n",
       "Albania           14.2      77.5           1                  1   4575.763787  \n",
       "Algeria           14.4      75.6           1                  1   4132.762920  \n",
       "Angola            11.4      52.4           1                  1   3695.793748  \n",
       "Argentina         17.3      76.3           1                  1  13467.123600  "
      ]
     },
     "execution_count": 40,
     "metadata": {},
     "output_type": "execute_result"
    }
   ],
   "source": [
    "df1.head()"
   ]
  },
  {
   "cell_type": "code",
   "execution_count": 41,
   "metadata": {
    "colab": {
     "base_uri": "https://localhost:8080/"
    },
    "id": "0FIAsJBI1pFo",
    "outputId": "c54e19b6-b5a0-4279-d9c1-10053dd1c8a4"
   },
   "outputs": [
    {
     "name": "stdout",
     "output_type": "stream",
     "text": [
      "                                 OLS Regression Results                                \n",
      "=======================================================================================\n",
      "Dep. Variable:               Expected   R-squared (uncentered):                   0.993\n",
      "Model:                            OLS   Adj. R-squared (uncentered):              0.992\n",
      "Method:                 Least Squares   F-statistic:                              1003.\n",
      "Date:                Thu, 08 Apr 2021   Prob (F-statistic):                   2.37e-109\n",
      "Time:                        16:39:15   Log-Likelihood:                         -399.80\n",
      "No. Observations:                 124   AIC:                                      829.6\n",
      "Df Residuals:                     109   BIC:                                      871.9\n",
      "Df Model:                          15                                                  \n",
      "Covariance Type:            nonrobust                                                  \n",
      "=====================================================================================\n",
      "                        coef    std err          t      P>|t|      [0.025      0.975]\n",
      "-------------------------------------------------------------------------------------\n",
      "Infant_Deaths        -0.0701      0.065     -1.079      0.283      -0.199       0.059\n",
      "Hepatitis             0.0283      0.058      0.485      0.629      -0.087       0.144\n",
      "Measles              -0.0002      0.000     -1.486      0.140      -0.000    5.51e-05\n",
      "BMI                  -0.0700      0.041     -1.705      0.091      -0.151       0.011\n",
      "Underfive_Deaths      0.0624      0.047      1.324      0.188      -0.031       0.156\n",
      "Polio                 0.0212      0.040      0.530      0.597      -0.058       0.100\n",
      "Diphtheria            0.0377      0.073      0.520      0.604      -0.106       0.181\n",
      "HIV                   0.4207      0.427      0.986      0.326      -0.425       1.266\n",
      "GDP               -2.938e-05   6.25e-05     -0.470      0.639      -0.000    9.45e-05\n",
      "Population            -2e-08   1.56e-08     -1.286      0.201   -5.08e-08    1.08e-08\n",
      "Malnourished10_19    -1.0499      0.542     -1.936      0.055      -2.125       0.025\n",
      "Malnourished5_9       1.5722      0.488      3.218      0.002       0.604       2.540\n",
      "Income_Index         43.8202     11.221      3.905      0.000      21.581      66.059\n",
      "Schooling             2.1081      0.597      3.530      0.001       0.924       3.292\n",
      "Developing            7.3152      1.732      4.224      0.000       3.883      10.748\n",
      "==============================================================================\n",
      "Omnibus:                        7.671   Durbin-Watson:                   1.545\n",
      "Prob(Omnibus):                  0.022   Jarque-Bera (JB):                7.298\n",
      "Skew:                           0.555   Prob(JB):                       0.0260\n",
      "Kurtosis:                       3.426   Cond. No.                     8.74e+08\n",
      "==============================================================================\n",
      "\n",
      "Notes:\n",
      "[1] R² is computed without centering (uncentered) since the model does not contain a constant.\n",
      "[2] Standard Errors assume that the covariance matrix of the errors is correctly specified.\n",
      "[3] The condition number is large, 8.74e+08. This might indicate that there are\n",
      "strong multicollinearity or other numerical problems.\n"
     ]
    }
   ],
   "source": [
    "xc= sm.add_constant(dftr)\n",
    "model = sm.OLS(df1['Expected'], dftr).fit()\n",
    "print(model.summary())"
   ]
  },
  {
   "cell_type": "markdown",
   "metadata": {
    "id": "CbDiwLmUA5Sa"
   },
   "source": [
    "The adjusted R2 and R2 has reached almost 99%. But our coeff wont make much sense without the intercept. "
   ]
  },
  {
   "cell_type": "markdown",
   "metadata": {
    "id": "O-nS8JIV_W3X"
   },
   "source": [
    "### Now we shall consider the FEV dataset."
   ]
  },
  {
   "cell_type": "markdown",
   "metadata": {
    "id": "P8MIcoDR_W3X"
   },
   "source": [
    "### About the data set (Respiratory function data)\n",
    "\n",
    "Dataset consists of information about respiratory function in youths and factors that might impact the respiratory function. <br> Attribute information: \n",
    "\n",
    "**Age:** Age in years\n",
    "\n",
    "**Height (cm):** Height (cm) in cm \n",
    "\n",
    "**Sex:** Gender of a person\n",
    "\n",
    "**Smoke_habits** Whether the person is a smoker or non- smoker\n",
    "\n",
    "**FEV:**  Forced Exhalation Volume (FEV), a measure of how much air somebody can forcibly exhale from their lung (Percentage)"
   ]
  },
  {
   "cell_type": "markdown",
   "metadata": {
    "id": "RXEp_ZsN_W3X"
   },
   "source": [
    "#### Load the dataset and check the first five observations"
   ]
  },
  {
   "cell_type": "code",
   "execution_count": 42,
   "metadata": {
    "colab": {
     "base_uri": "https://localhost:8080/",
     "height": 197
    },
    "id": "GvD6v4uk_W3Y",
    "outputId": "446a4652-41f8-440a-f73c-22273bfa87f1"
   },
   "outputs": [
    {
     "data": {
      "text/html": [
       "<div>\n",
       "<style scoped>\n",
       "    .dataframe tbody tr th:only-of-type {\n",
       "        vertical-align: middle;\n",
       "    }\n",
       "\n",
       "    .dataframe tbody tr th {\n",
       "        vertical-align: top;\n",
       "    }\n",
       "\n",
       "    .dataframe thead th {\n",
       "        text-align: right;\n",
       "    }\n",
       "</style>\n",
       "<table border=\"1\" class=\"dataframe\">\n",
       "  <thead>\n",
       "    <tr style=\"text-align: right;\">\n",
       "      <th></th>\n",
       "      <th>Age</th>\n",
       "      <th>Height (cm)</th>\n",
       "      <th>Sex</th>\n",
       "      <th>Smoke_habit</th>\n",
       "      <th>FEV</th>\n",
       "    </tr>\n",
       "  </thead>\n",
       "  <tbody>\n",
       "    <tr>\n",
       "      <th>0</th>\n",
       "      <td>16</td>\n",
       "      <td>157.0</td>\n",
       "      <td>F</td>\n",
       "      <td>smoker</td>\n",
       "      <td>1.708</td>\n",
       "    </tr>\n",
       "    <tr>\n",
       "      <th>1</th>\n",
       "      <td>17</td>\n",
       "      <td>167.5</td>\n",
       "      <td>F</td>\n",
       "      <td>smoker</td>\n",
       "      <td>1.724</td>\n",
       "    </tr>\n",
       "    <tr>\n",
       "      <th>2</th>\n",
       "      <td>19</td>\n",
       "      <td>154.5</td>\n",
       "      <td>F</td>\n",
       "      <td>smoker</td>\n",
       "      <td>1.720</td>\n",
       "    </tr>\n",
       "    <tr>\n",
       "      <th>3</th>\n",
       "      <td>16</td>\n",
       "      <td>163.0</td>\n",
       "      <td>M</td>\n",
       "      <td>smoker</td>\n",
       "      <td>1.558</td>\n",
       "    </tr>\n",
       "    <tr>\n",
       "      <th>4</th>\n",
       "      <td>16</td>\n",
       "      <td>157.0</td>\n",
       "      <td>M</td>\n",
       "      <td>smoker</td>\n",
       "      <td>1.895</td>\n",
       "    </tr>\n",
       "  </tbody>\n",
       "</table>\n",
       "</div>"
      ],
      "text/plain": [
       "   Age  Height (cm) Sex Smoke_habit    FEV\n",
       "0   16        157.0   F      smoker  1.708\n",
       "1   17        167.5   F      smoker  1.724\n",
       "2   19        154.5   F      smoker  1.720\n",
       "3   16        163.0   M      smoker  1.558\n",
       "4   16        157.0   M      smoker  1.895"
      ]
     },
     "execution_count": 42,
     "metadata": {},
     "output_type": "execute_result"
    }
   ],
   "source": [
    "df.head()"
   ]
  },
  {
   "cell_type": "code",
   "execution_count": 43,
   "metadata": {
    "id": "sH7rfMl3B4hg"
   },
   "outputs": [],
   "source": [
    "df = pd.get_dummies(columns=['Sex', 'Smoke_habit'], data=df, drop_first=True)"
   ]
  },
  {
   "cell_type": "markdown",
   "metadata": {
    "collapsed": true,
    "id": "AF_BXvKP_W3Y"
   },
   "source": [
    "<table align=\"left\">\n",
    "    <tr>\n",
    "        <td width=\"6%\">\n",
    "            <img src=\"question_icon.png\">\n",
    "        </td>\n",
    "        <td>\n",
    "            <div align=\"left\", style=\"font-size:120%\">\n",
    "                <font color=\"#21618C\">\n",
    "                    <b>13. Identify the numeric variable(s) that have highest impact on the FEV of a person</b>\n",
    "                </font>\n",
    "            </div>\n",
    "        </td>\n",
    "    </tr>\n",
    "</table>"
   ]
  },
  {
   "cell_type": "code",
   "execution_count": 44,
   "metadata": {
    "colab": {
     "base_uri": "https://localhost:8080/"
    },
    "id": "6vUfr7V6_W3Z",
    "outputId": "6ab433d9-bd6c-4656-99cd-472b265e8ca4"
   },
   "outputs": [
    {
     "name": "stdout",
     "output_type": "stream",
     "text": [
      "                            OLS Regression Results                            \n",
      "==============================================================================\n",
      "Dep. Variable:                    FEV   R-squared:                       0.701\n",
      "Model:                            OLS   Adj. R-squared:                  0.699\n",
      "Method:                 Least Squares   F-statistic:                     379.5\n",
      "Date:                Thu, 08 Apr 2021   Prob (F-statistic):          2.78e-168\n",
      "Time:                        16:39:15   Log-Likelihood:                -439.94\n",
      "No. Observations:                 654   AIC:                             889.9\n",
      "Df Residuals:                     649   BIC:                             912.3\n",
      "Df Model:                           4                                         \n",
      "Covariance Type:            nonrobust                                         \n",
      "======================================================================================\n",
      "                         coef    std err          t      P>|t|      [0.025      0.975]\n",
      "--------------------------------------------------------------------------------------\n",
      "const                -16.5268      0.575    -28.727      0.000     -17.656     -15.397\n",
      "Age                    0.0026      0.007      0.374      0.708      -0.011       0.016\n",
      "Height (cm)            0.1192      0.003     34.063      0.000       0.112       0.126\n",
      "Sex_M                  0.1801      0.038      4.769      0.000       0.106       0.254\n",
      "Smoke_habit_smoker    -0.2231      0.063     -3.515      0.000      -0.348      -0.098\n",
      "==============================================================================\n",
      "Omnibus:                      113.397   Durbin-Watson:                   1.647\n",
      "Prob(Omnibus):                  0.000   Jarque-Bera (JB):              652.393\n",
      "Skew:                          -0.625   Prob(JB):                    2.16e-142\n",
      "Kurtosis:                       7.730   Cond. No.                     5.03e+03\n",
      "==============================================================================\n",
      "\n",
      "Notes:\n",
      "[1] Standard Errors assume that the covariance matrix of the errors is correctly specified.\n",
      "[2] The condition number is large, 5.03e+03. This might indicate that there are\n",
      "strong multicollinearity or other numerical problems.\n"
     ]
    }
   ],
   "source": [
    "xc= sm.add_constant(df.loc[:, df.columns!='FEV'])\n",
    "model = sm.OLS(df['FEV'], xc).fit()\n",
    "print(model.summary())"
   ]
  },
  {
   "cell_type": "code",
   "execution_count": 45,
   "metadata": {
    "colab": {
     "base_uri": "https://localhost:8080/"
    },
    "id": "53FSFfNcDur5",
    "outputId": "7466981b-90f1-4851-ab36-aaf99867aa82"
   },
   "outputs": [
    {
     "name": "stdout",
     "output_type": "stream",
     "text": [
      "                            OLS Regression Results                            \n",
      "==============================================================================\n",
      "Dep. Variable:                    FEV   R-squared:                       0.098\n",
      "Model:                            OLS   Adj. R-squared:                  0.097\n",
      "Method:                 Least Squares   F-statistic:                     70.92\n",
      "Date:                Thu, 08 Apr 2021   Prob (F-statistic):           2.36e-16\n",
      "Time:                        16:39:15   Log-Likelihood:                -800.43\n",
      "No. Observations:                 654   AIC:                             1605.\n",
      "Df Residuals:                     652   BIC:                             1614.\n",
      "Df Model:                           1                                         \n",
      "Covariance Type:            nonrobust                                         \n",
      "======================================================================================\n",
      "                         coef    std err          t      P>|t|      [0.025      0.975]\n",
      "--------------------------------------------------------------------------------------\n",
      "const                  3.4206      0.098     34.729      0.000       3.227       3.614\n",
      "Smoke_habit_smoker    -0.8778      0.104     -8.422      0.000      -1.082      -0.673\n",
      "==============================================================================\n",
      "Omnibus:                       37.782   Durbin-Watson:                   1.125\n",
      "Prob(Omnibus):                  0.000   Jarque-Bera (JB):               42.957\n",
      "Skew:                           0.622   Prob(JB):                     4.70e-10\n",
      "Kurtosis:                       3.167   Cond. No.                         5.96\n",
      "==============================================================================\n",
      "\n",
      "Notes:\n",
      "[1] Standard Errors assume that the covariance matrix of the errors is correctly specified.\n"
     ]
    }
   ],
   "source": [
    "xc= sm.add_constant(df['Smoke_habit_smoker'])\n",
    "model = sm.OLS(df['FEV'], xc).fit()\n",
    "print(model.summary())"
   ]
  },
  {
   "cell_type": "code",
   "execution_count": 46,
   "metadata": {
    "id": "TqfBd1x4DwNV"
   },
   "outputs": [],
   "source": [
    "# We can say with fair conficence that smoking habit is the single most contributing factor while predicting FEV of a person"
   ]
  },
  {
   "cell_type": "markdown",
   "metadata": {
    "collapsed": true,
    "id": "0FylPIuT_W3Z"
   },
   "source": [
    "<table align=\"left\">\n",
    "    <tr>\n",
    "        <td>\n",
    "            <div align=\"left\", style=\"font-size:120%\">\n",
    "                <font color=\"#21618C\">\n",
    "                    <b>14. What is the impact of smoking habit of a person on FEV?\n",
    "                    </b>\n",
    "                </font>\n",
    "            </div>\n",
    "        </td>\n",
    "    </tr>\n",
    "</table>"
   ]
  },
  {
   "cell_type": "code",
   "execution_count": 47,
   "metadata": {
    "id": "0huxQXDX_W3a"
   },
   "outputs": [
    {
     "name": "stdout",
     "output_type": "stream",
     "text": [
      "                            OLS Regression Results                            \n",
      "==============================================================================\n",
      "Dep. Variable:                    FEV   R-squared:                       0.098\n",
      "Model:                            OLS   Adj. R-squared:                  0.097\n",
      "Method:                 Least Squares   F-statistic:                     70.92\n",
      "Date:                Thu, 08 Apr 2021   Prob (F-statistic):           2.36e-16\n",
      "Time:                        16:39:15   Log-Likelihood:                -800.43\n",
      "No. Observations:                 654   AIC:                             1605.\n",
      "Df Residuals:                     652   BIC:                             1614.\n",
      "Df Model:                           1                                         \n",
      "Covariance Type:            nonrobust                                         \n",
      "======================================================================================\n",
      "                         coef    std err          t      P>|t|      [0.025      0.975]\n",
      "--------------------------------------------------------------------------------------\n",
      "const                  3.4206      0.098     34.729      0.000       3.227       3.614\n",
      "Smoke_habit_smoker    -0.8778      0.104     -8.422      0.000      -1.082      -0.673\n",
      "==============================================================================\n",
      "Omnibus:                       37.782   Durbin-Watson:                   1.125\n",
      "Prob(Omnibus):                  0.000   Jarque-Bera (JB):               42.957\n",
      "Skew:                           0.622   Prob(JB):                     4.70e-10\n",
      "Kurtosis:                       3.167   Cond. No.                         5.96\n",
      "==============================================================================\n",
      "\n",
      "Notes:\n",
      "[1] Standard Errors assume that the covariance matrix of the errors is correctly specified.\n"
     ]
    }
   ],
   "source": [
    "# reducing the FEV by -0.8778\n",
    "\n",
    "# P value = almost close to 0\n",
    "\n",
    "xc= sm.add_constant(df['Smoke_habit_smoker'])\n",
    "model = sm.OLS(df['FEV'], xc).fit()\n",
    "print(model.summary())"
   ]
  },
  {
   "cell_type": "markdown",
   "metadata": {
    "collapsed": true,
    "id": "vWPlnlOn_W3a"
   },
   "source": [
    "<table align=\"left\">\n",
    "    <tr>\n",
    "        <td>\n",
    "            <div align=\"left\", style=\"font-size:120%\">\n",
    "                <font color=\"#21618C\">\n",
    "                    <b>15. A Linear regression model is used to analyze the impact of all possible features on respiratory function (FEV). How do we check whether there is multicollinearity present or not?</b>\n",
    "                </font>\n",
    "            </div>\n",
    "        </td>\n",
    "    </tr>\n",
    "</table>"
   ]
  },
  {
   "cell_type": "code",
   "execution_count": 48,
   "metadata": {
    "id": "gA332HK8_W3a",
    "scrolled": false
   },
   "outputs": [],
   "source": [
    "# We can do a VIF test. \n",
    "\n",
    "from statsmodels.stats.outliers_influence import variance_inflation_factor as vif\n",
    "\n",
    "dt= df.iloc[:,df.columns!='FEV']\n",
    "gt= pd.DataFrame()\n",
    "gt['vars'] = dt.columns\n",
    "gt['vif_score'] = [vif(dt.values, i) for i in range(dt.shape[1])]"
   ]
  },
  {
   "cell_type": "code",
   "execution_count": 49,
   "metadata": {
    "colab": {
     "base_uri": "https://localhost:8080/",
     "height": 167
    },
    "id": "Wv9qzQdJGEUb",
    "outputId": "60b98381-0523-4e3f-8769-b890ef5762a9"
   },
   "outputs": [
    {
     "data": {
      "text/html": [
       "<div>\n",
       "<style scoped>\n",
       "    .dataframe tbody tr th:only-of-type {\n",
       "        vertical-align: middle;\n",
       "    }\n",
       "\n",
       "    .dataframe tbody tr th {\n",
       "        vertical-align: top;\n",
       "    }\n",
       "\n",
       "    .dataframe thead th {\n",
       "        text-align: right;\n",
       "    }\n",
       "</style>\n",
       "<table border=\"1\" class=\"dataframe\">\n",
       "  <thead>\n",
       "    <tr style=\"text-align: right;\">\n",
       "      <th></th>\n",
       "      <th>vars</th>\n",
       "      <th>vif_score</th>\n",
       "    </tr>\n",
       "  </thead>\n",
       "  <tbody>\n",
       "    <tr>\n",
       "      <th>0</th>\n",
       "      <td>Age</td>\n",
       "      <td>46.847628</td>\n",
       "    </tr>\n",
       "    <tr>\n",
       "      <th>1</th>\n",
       "      <td>Height (cm)</td>\n",
       "      <td>53.368643</td>\n",
       "    </tr>\n",
       "    <tr>\n",
       "      <th>2</th>\n",
       "      <td>Sex_M</td>\n",
       "      <td>2.079638</td>\n",
       "    </tr>\n",
       "    <tr>\n",
       "      <th>3</th>\n",
       "      <td>Smoke_habit_smoker</td>\n",
       "      <td>8.760185</td>\n",
       "    </tr>\n",
       "  </tbody>\n",
       "</table>\n",
       "</div>"
      ],
      "text/plain": [
       "                 vars  vif_score\n",
       "0                 Age  46.847628\n",
       "1         Height (cm)  53.368643\n",
       "2               Sex_M   2.079638\n",
       "3  Smoke_habit_smoker   8.760185"
      ]
     },
     "execution_count": 49,
     "metadata": {},
     "output_type": "execute_result"
    }
   ],
   "source": [
    "gt"
   ]
  },
  {
   "cell_type": "code",
   "execution_count": 50,
   "metadata": {
    "id": "RCXnC0isGEXd"
   },
   "outputs": [],
   "source": [
    "# Yes Age and height are - obviously - has a strong covariance. "
   ]
  },
  {
   "cell_type": "markdown",
   "metadata": {
    "collapsed": true,
    "id": "bjznW7qi_W3b"
   },
   "source": [
    "<table align=\"left\">\n",
    "    <tr>\n",
    "        <td>\n",
    "            <div align=\"left\", style=\"font-size:120%\">\n",
    "                <font color=\"#21618C\">\n",
    "                    <b>16.  A Linear regression model is used to analyze the impact of all possible features on respiratory function (FEV). Check whether the error terms are serially independent?</b>\n",
    "                </font>\n",
    "            </div>\n",
    "        </td>\n",
    "    </tr>\n",
    "</table>"
   ]
  },
  {
   "cell_type": "code",
   "execution_count": 51,
   "metadata": {
    "colab": {
     "base_uri": "https://localhost:8080/"
    },
    "id": "8onrQZl1_W3b",
    "outputId": "e85bd476-a864-4b33-cb40-bc8d3e372f46"
   },
   "outputs": [
    {
     "name": "stdout",
     "output_type": "stream",
     "text": [
      "                            OLS Regression Results                            \n",
      "==============================================================================\n",
      "Dep. Variable:                    FEV   R-squared:                       0.701\n",
      "Model:                            OLS   Adj. R-squared:                  0.699\n",
      "Method:                 Least Squares   F-statistic:                     379.5\n",
      "Date:                Thu, 08 Apr 2021   Prob (F-statistic):          2.78e-168\n",
      "Time:                        16:39:15   Log-Likelihood:                -439.94\n",
      "No. Observations:                 654   AIC:                             889.9\n",
      "Df Residuals:                     649   BIC:                             912.3\n",
      "Df Model:                           4                                         \n",
      "Covariance Type:            nonrobust                                         \n",
      "======================================================================================\n",
      "                         coef    std err          t      P>|t|      [0.025      0.975]\n",
      "--------------------------------------------------------------------------------------\n",
      "const                -16.5268      0.575    -28.727      0.000     -17.656     -15.397\n",
      "Age                    0.0026      0.007      0.374      0.708      -0.011       0.016\n",
      "Height (cm)            0.1192      0.003     34.063      0.000       0.112       0.126\n",
      "Sex_M                  0.1801      0.038      4.769      0.000       0.106       0.254\n",
      "Smoke_habit_smoker    -0.2231      0.063     -3.515      0.000      -0.348      -0.098\n",
      "==============================================================================\n",
      "Omnibus:                      113.397   Durbin-Watson:                   1.647\n",
      "Prob(Omnibus):                  0.000   Jarque-Bera (JB):              652.393\n",
      "Skew:                          -0.625   Prob(JB):                    2.16e-142\n",
      "Kurtosis:                       7.730   Cond. No.                     5.03e+03\n",
      "==============================================================================\n",
      "\n",
      "Notes:\n",
      "[1] Standard Errors assume that the covariance matrix of the errors is correctly specified.\n",
      "[2] The condition number is large, 5.03e+03. This might indicate that there are\n",
      "strong multicollinearity or other numerical problems.\n"
     ]
    }
   ],
   "source": [
    "# DW statistics\n",
    "\n",
    "xc= sm.add_constant(df.loc[:, df.columns!='FEV'])\n",
    "model = sm.OLS(df['FEV'], xc).fit()\n",
    "print(model.summary())"
   ]
  },
  {
   "cell_type": "code",
   "execution_count": 52,
   "metadata": {
    "id": "zPfzMRE4GhmI"
   },
   "outputs": [],
   "source": [
    "# We are getting a DW test as 1.6 - which is not that great. \n",
    "\n",
    "# Residuals (errors) have some what autocorrelation between them."
   ]
  },
  {
   "cell_type": "markdown",
   "metadata": {
    "collapsed": true,
    "id": "XGJl8zGF_W3b"
   },
   "source": [
    "<table align=\"left\">\n",
    "    <tr>\n",
    "        <td>\n",
    "            <div align=\"left\", style=\"font-size:120%\">\n",
    "                <font color=\"#21618C\">\n",
    "                    <b>17. A model is built using all the features to predict the FEV. Check whether the residuals obtained form the model are normally distributed. </b>\n",
    "                </font>\n",
    "            </div>\n",
    "        </td>\n",
    "    </tr>\n",
    "</table>"
   ]
  },
  {
   "cell_type": "code",
   "execution_count": 53,
   "metadata": {
    "colab": {
     "base_uri": "https://localhost:8080/",
     "height": 294
    },
    "id": "VxdQ20gb_W3c",
    "outputId": "26807478-4c54-4600-be1e-985bac2a7504",
    "scrolled": false
   },
   "outputs": [
    {
     "data": {
      "image/png": "[encoded data removed]",
      "text/plain": [
       "<Figure size 432x288 with 1 Axes>"
      ]
     },
     "metadata": {
      "needs_background": "light"
     },
     "output_type": "display_data"
    }
   ],
   "source": [
    "# QQ PLot\n",
    "\n",
    "stats.probplot(model.resid, plot=plt)\n",
    "plt.show()"
   ]
  },
  {
   "cell_type": "code",
   "execution_count": 54,
   "metadata": {
    "colab": {
     "base_uri": "https://localhost:8080/"
    },
    "id": "iqnahOsWIHFR",
    "outputId": "d95534d0-2779-495d-8c7b-a03deffb2421"
   },
   "outputs": [
    {
     "data": {
      "text/plain": [
       "Jarque_beraResult(statistic=652.3925077349439, pvalue=0.0)"
      ]
     },
     "execution_count": 54,
     "metadata": {},
     "output_type": "execute_result"
    }
   ],
   "source": [
    "# H0 = Residuals are normally distributed\n",
    "\n",
    "stats.jarque_bera(model.resid)"
   ]
  },
  {
   "cell_type": "code",
   "execution_count": 55,
   "metadata": {
    "id": "Sb4HRNVZIOCR"
   },
   "outputs": [],
   "source": [
    "# We reject the null hypothesis. \n",
    "\n",
    "# They are NOT normally distributed."
   ]
  },
  {
   "cell_type": "markdown",
   "metadata": {
    "id": "xVkNN9Du_W3c"
   },
   "source": [
    "<a id=\"ml_perf\"> </a>\n",
    "## 6. Model Performance"
   ]
  },
  {
   "cell_type": "markdown",
   "metadata": {
    "collapsed": true,
    "id": "vGRthuBj_W3c"
   },
   "source": [
    "<table align=\"left\">\n",
    "    <tr>\n",
    "        <td>\n",
    "            <div align=\"left\", style=\"font-size:120%\">\n",
    "                <font color=\"#21618C\">\n",
    "                    <b>18. Build a full model on 70% of the given data. Calculate the mean square error and the root mean square error on the test set.</b>\n",
    "                </font>\n",
    "            </div>\n",
    "        </td>\n",
    "    </tr>\n",
    "</table>"
   ]
  },
  {
   "cell_type": "code",
   "execution_count": 56,
   "metadata": {
    "id": "qRRZoRIS_W3c"
   },
   "outputs": [],
   "source": [
    "from sklearn.model_selection import train_test_split"
   ]
  },
  {
   "cell_type": "code",
   "execution_count": 57,
   "metadata": {
    "id": "_U0WCjuNIdI_"
   },
   "outputs": [],
   "source": [
    "x_tr, x_ts, y_tr, y_ts = train_test_split(df.loc[:, df.columns != 'FEV'], df['FEV'], random_state= 42)"
   ]
  },
  {
   "cell_type": "code",
   "execution_count": 58,
   "metadata": {
    "colab": {
     "base_uri": "https://localhost:8080/"
    },
    "id": "hXYTbgBeIdLe",
    "outputId": "9b780019-dfcf-4533-a874-e5b1851b2ba0"
   },
   "outputs": [
    {
     "name": "stdout",
     "output_type": "stream",
     "text": [
      "                            OLS Regression Results                            \n",
      "==============================================================================\n",
      "Dep. Variable:                    FEV   R-squared:                       0.680\n",
      "Model:                            OLS   Adj. R-squared:                  0.677\n",
      "Method:                 Least Squares   F-statistic:                     257.7\n",
      "Date:                Thu, 08 Apr 2021   Prob (F-statistic):          1.63e-118\n",
      "Time:                        16:39:16   Log-Likelihood:                -338.23\n",
      "No. Observations:                 490   AIC:                             686.5\n",
      "Df Residuals:                     485   BIC:                             707.4\n",
      "Df Model:                           4                                         \n",
      "Covariance Type:            nonrobust                                         \n",
      "======================================================================================\n",
      "                         coef    std err          t      P>|t|      [0.025      0.975]\n",
      "--------------------------------------------------------------------------------------\n",
      "const                -16.0415      0.672    -23.882      0.000     -17.361     -14.722\n",
      "Age                    0.0016      0.008      0.198      0.843      -0.014       0.018\n",
      "Height (cm)            0.1160      0.004     28.399      0.000       0.108       0.124\n",
      "Sex_M                  0.1829      0.044      4.128      0.000       0.096       0.270\n",
      "Smoke_habit_smoker    -0.2181      0.075     -2.919      0.004      -0.365      -0.071\n",
      "==============================================================================\n",
      "Omnibus:                       99.109   Durbin-Watson:                   2.080\n",
      "Prob(Omnibus):                  0.000   Jarque-Bera (JB):              547.612\n",
      "Skew:                          -0.746   Prob(JB):                    1.22e-119\n",
      "Kurtosis:                       7.960   Cond. No.                     4.99e+03\n",
      "==============================================================================\n",
      "\n",
      "Notes:\n",
      "[1] Standard Errors assume that the covariance matrix of the errors is correctly specified.\n",
      "[2] The condition number is large, 4.99e+03. This might indicate that there are\n",
      "strong multicollinearity or other numerical problems.\n"
     ]
    }
   ],
   "source": [
    "xc= sm.add_constant(x_tr)\n",
    "model = sm.OLS(y_tr, xc).fit()\n",
    "print(model.summary())"
   ]
  },
  {
   "cell_type": "code",
   "execution_count": 59,
   "metadata": {
    "colab": {
     "base_uri": "https://localhost:8080/"
    },
    "id": "OWxeAh3hJ-vy",
    "outputId": "fdb72c20-021f-48a2-f579-eb10a96a8790"
   },
   "outputs": [
    {
     "data": {
      "text/plain": [
       "0.2055504793413914"
      ]
     },
     "execution_count": 59,
     "metadata": {},
     "output_type": "execute_result"
    }
   ],
   "source": [
    "# predict and score\n",
    "\n",
    "xy = sm.add_constant(x_ts)\n",
    "rr= model.predict(xy)\n",
    "from sklearn.metrics import mean_squared_error\n",
    "\n",
    "mean_squared_error(y_true= y_ts, y_pred=rr)"
   ]
  },
  {
   "cell_type": "code",
   "execution_count": 60,
   "metadata": {
    "colab": {
     "base_uri": "https://localhost:8080/"
    },
    "id": "MAEgrTZqKYN5",
    "outputId": "f9f88f47-cdbc-42ed-fe03-0be6885a2095"
   },
   "outputs": [
    {
     "data": {
      "text/plain": [
       "0.4533767520963017"
      ]
     },
     "execution_count": 60,
     "metadata": {},
     "output_type": "execute_result"
    }
   ],
   "source": [
    "#rmse\n",
    "np.sqrt(mean_squared_error(y_true= y_ts, y_pred=rr))"
   ]
  },
  {
   "cell_type": "markdown",
   "metadata": {
    "collapsed": true,
    "id": "wmgPc4Rs_W3d"
   },
   "source": [
    "<table align=\"left\">\n",
    "    <tr>\n",
    "        <td>\n",
    "            <div align=\"left\", style=\"font-size:120%\">\n",
    "                <font color=\"#21618C\">\n",
    "                    <b>19. Calculate the mean absolute error and the  mean absolute percentage error for the test set using the model in Q18. Compare the values of RMSE and MAE. </b>\n",
    "                </font>\n",
    "            </div>\n",
    "        </td>\n",
    "    </tr>\n",
    "</table>"
   ]
  },
  {
   "cell_type": "code",
   "execution_count": 61,
   "metadata": {
    "colab": {
     "base_uri": "https://localhost:8080/"
    },
    "id": "f1eiFdgH_W3d",
    "outputId": "17c8abfd-0607-4fa9-9a1c-4b84f7bc62eb"
   },
   "outputs": [
    {
     "data": {
      "text/plain": [
       "0.34031897279323337"
      ]
     },
     "execution_count": 61,
     "metadata": {},
     "output_type": "execute_result"
    }
   ],
   "source": [
    "from sklearn.metrics import mean_absolute_error\n",
    "mean_absolute_error(y_true= y_ts, y_pred=rr)"
   ]
  },
  {
   "cell_type": "code",
   "execution_count": 62,
   "metadata": {
    "colab": {
     "base_uri": "https://localhost:8080/"
    },
    "id": "lHdSJBS7L5V1",
    "outputId": "63d60015-5db6-45e7-d7aa-c8184f294e8d"
   },
   "outputs": [
    {
     "data": {
      "text/plain": [
       "1.7308759975167483"
      ]
     },
     "execution_count": 62,
     "metadata": {},
     "output_type": "execute_result"
    }
   ],
   "source": [
    "# MAPE\n",
    "\n",
    "sum(abs(y_ts - rr/ y_ts))/len(y_ts)"
   ]
  },
  {
   "cell_type": "markdown",
   "metadata": {
    "collapsed": true,
    "id": "P_8BbafK_W3d"
   },
   "source": [
    "<table align=\"left\">\n",
    "    <tr>\n",
    "        <td>\n",
    "            <div align=\"left\", style=\"font-size:120%\">\n",
    "                <font color=\"#21618C\">\n",
    "                    <b>20. Build the full model on 80% of the given data and check if the model is overfitted? </b>\n",
    "                </font>\n",
    "            </div>\n",
    "        </td>\n",
    "    </tr>\n",
    "</table>"
   ]
  },
  {
   "cell_type": "code",
   "execution_count": 63,
   "metadata": {
    "id": "DXTs3KZB_W3d"
   },
   "outputs": [],
   "source": [
    "x_tr1, x_ts1, y_tr1, y_ts1 = train_test_split(df.loc[:, df.columns != 'FEV'], df['FEV'], train_size=0.8,  random_state= 42)"
   ]
  },
  {
   "cell_type": "code",
   "execution_count": 64,
   "metadata": {
    "colab": {
     "base_uri": "https://localhost:8080/"
    },
    "id": "HEfuF_j-ONC0",
    "outputId": "853b68f2-63ac-490a-d05e-0f581c88f582"
   },
   "outputs": [
    {
     "name": "stdout",
     "output_type": "stream",
     "text": [
      "                            OLS Regression Results                            \n",
      "==============================================================================\n",
      "Dep. Variable:                    FEV   R-squared:                       0.682\n",
      "Model:                            OLS   Adj. R-squared:                  0.679\n",
      "Method:                 Least Squares   F-statistic:                     277.6\n",
      "Date:                Thu, 08 Apr 2021   Prob (F-statistic):          2.64e-127\n",
      "Time:                        16:39:16   Log-Likelihood:                -361.18\n",
      "No. Observations:                 523   AIC:                             732.4\n",
      "Df Residuals:                     518   BIC:                             753.7\n",
      "Df Model:                           4                                         \n",
      "Covariance Type:            nonrobust                                         \n",
      "======================================================================================\n",
      "                         coef    std err          t      P>|t|      [0.025      0.975]\n",
      "--------------------------------------------------------------------------------------\n",
      "const                -16.1589      0.655    -24.686      0.000     -17.445     -14.873\n",
      "Age                    0.0032      0.008      0.414      0.679      -0.012       0.019\n",
      "Height (cm)            0.1167      0.004     29.321      0.000       0.109       0.125\n",
      "Sex_M                  0.1732      0.043      4.033      0.000       0.089       0.258\n",
      "Smoke_habit_smoker    -0.2235      0.072     -3.101      0.002      -0.365      -0.082\n",
      "==============================================================================\n",
      "Omnibus:                      100.280   Durbin-Watson:                   2.079\n",
      "Prob(Omnibus):                  0.000   Jarque-Bera (JB):              538.663\n",
      "Skew:                          -0.714   Prob(JB):                    1.07e-117\n",
      "Kurtosis:                       7.763   Cond. No.                     5.02e+03\n",
      "==============================================================================\n",
      "\n",
      "Notes:\n",
      "[1] Standard Errors assume that the covariance matrix of the errors is correctly specified.\n",
      "[2] The condition number is large, 5.02e+03. This might indicate that there are\n",
      "strong multicollinearity or other numerical problems.\n"
     ]
    }
   ],
   "source": [
    "xc= sm.add_constant(x_tr1)\n",
    "model = sm.OLS(y_tr1, xc).fit()\n",
    "print(model.summary())"
   ]
  },
  {
   "cell_type": "code",
   "execution_count": 65,
   "metadata": {
    "colab": {
     "base_uri": "https://localhost:8080/"
    },
    "id": "lGDnkjgcOSV7",
    "outputId": "5f93ed38-d9a2-424e-dbf7-7d1fb2bf68da"
   },
   "outputs": [
    {
     "name": "stdout",
     "output_type": "stream",
     "text": [
      "0.195474373396901\n",
      "0.7609939828819182\n"
     ]
    }
   ],
   "source": [
    "# predict and score\n",
    "\n",
    "xyz = sm.add_constant(x_ts1)\n",
    "rrt= model.predict(xyz)\n",
    "from sklearn.metrics import r2_score\n",
    "\n",
    "print(mean_squared_error(y_true= y_ts1, y_pred=rrt))\n",
    "print(r2_score(y_true= y_ts1, y_pred=rrt))\n"
   ]
  },
  {
   "cell_type": "code",
   "execution_count": 66,
   "metadata": {
    "id": "8FRYXlOoOwHM"
   },
   "outputs": [],
   "source": [
    "# training score is less\n",
    "\n",
    "# testing score is less too- so the model is kind of Underfitting"
   ]
  }
 ],
 "metadata": {
  "colab": {
   "collapsed_sections": [],
   "name": "SLR_my_In-Class - Lab Exercise (Day 1) - Questions  [v3.0 - 161020].ipynb",
   "provenance": []
  },
  "kernelspec": {
   "display_name": "Python 3",
   "language": "python",
   "name": "python3"
  },
  "language_info": {
   "codemirror_mode": {
    "name": "ipython",
    "version": 3
   },
   "file_extension": ".py",
   "mimetype": "text/x-python",
   "name": "python",
   "nbconvert_exporter": "python",
   "pygments_lexer": "ipython3",
   "version": "3.8.8"
  }
 },
 "nbformat": 4,
 "nbformat_minor": 1
}
