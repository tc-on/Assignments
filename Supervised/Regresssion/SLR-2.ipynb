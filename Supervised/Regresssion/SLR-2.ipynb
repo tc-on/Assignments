{
 "cells": [
  {
   "cell_type": "markdown",
   "metadata": {
    "id": "-_uv-Ha2kVO5"
   },
   "source": [
    "### About the data set (White wine data)\n",
    "\n",
    "The dataset contains information about several factors describing the quality of white wine. <br> Attribute information: \n",
    "\n",
    "**Fixed_Acidity:** The ph value for titrable acid content (0-7)\n",
    "\n",
    "**Volatile_Acidity:** Measure of acidity due to bacteria\n",
    "\n",
    "**Citric_Acid:** Amount of citric acid present in wine\n",
    "\n",
    "**Residual_Sugar:** Amount of grape sugar in gms/litre\n",
    "\n",
    "**Chlorides:** Amount of chlorides present in wine\n",
    "\n",
    "**Free_Sulfur-dioxide:** Amount of SO2 that is not bound to other molecules\n",
    "\n",
    "**Total_Sulfur-dioxide:** Portion of SO2 that is free in the wine plus the portion that is bound to other chemicals in the wine\n",
    "\n",
    "**Density:** Density of wine (gms/cm<sup>3</sup>)\n",
    "\n",
    "**pH:** The pH value of wine (0-14)\n",
    "\n",
    "**Sulphates:** Amount of salts of sulphuric acid \n",
    "\n",
    "**Alcohol:** Alcohol content in percentage\n",
    "\n",
    "**Quality:** Wine quality \n",
    "\n",
    "Data citation: P. Cortez, A. Cerdeira, F. Almeida, T. Matos and J. Reis. Modeling wine preferences by data mining from physicochemical properties. In Decision Support Systems, Elsevier, 47(4):547-553, 2009."
   ]
  },
  {
   "cell_type": "markdown",
   "metadata": {
    "id": "M-XMyh7ZkVO7"
   },
   "source": [
    "**Import the required libraries**"
   ]
  },
  {
   "cell_type": "code",
   "execution_count": 1,
   "metadata": {
    "colab": {
     "base_uri": "https://localhost:8080/"
    },
    "id": "uc9yEa_kkVO8",
    "outputId": "c397047b-1f4a-4ae6-a011-fe123e822ff4"
   },
   "outputs": [],
   "source": [
    "import pandas as pd\n",
    "import numpy as np\n",
    "import seaborn as sns\n",
    "import matplotlib.pyplot as plt\n",
    "import statsmodels.stats as stats\n",
    "import warnings\n",
    "warnings.filterwarnings('ignore')"
   ]
  },
  {
   "cell_type": "markdown",
   "metadata": {
    "id": "1bk-_g3AkVO9"
   },
   "source": [
    "#### Load the first dataset and check the first two observations"
   ]
  },
  {
   "cell_type": "code",
   "execution_count": 2,
   "metadata": {
    "colab": {
     "base_uri": "https://localhost:8080/"
    },
    "id": "2n8NYTV9kVO-",
    "outputId": "b0a703bc-dfa1-405e-b3b5-ab3ffd8f26c3"
   },
   "outputs": [
    {
     "data": {
      "text/plain": [
       "(4898, 1)"
      ]
     },
     "execution_count": 2,
     "metadata": {},
     "output_type": "execute_result"
    }
   ],
   "source": [
    "df= pd.read_csv('whitewine.csv')\n",
    "df.shape"
   ]
  },
  {
   "cell_type": "code",
   "execution_count": 3,
   "metadata": {
    "id": "5jZc0sbQkVO_"
   },
   "outputs": [],
   "source": [
    "# check data types of variables\n",
    "# type your code here"
   ]
  },
  {
   "cell_type": "markdown",
   "metadata": {
    "id": "tbCL3_z5kVO_"
   },
   "source": [
    "### Let's begin with some hands-on practice exercises"
   ]
  },
  {
   "cell_type": "markdown",
   "metadata": {
    "id": "SPQyJZOmkVPA"
   },
   "source": [
    "<a id=\"trans\"> </a>\n",
    "## 1. Feature Transformation"
   ]
  },
  {
   "cell_type": "markdown",
   "metadata": {
    "id": "GgLlrlnBkVPA"
   },
   "source": [
    "## We shall use the wine quality dataset"
   ]
  },
  {
   "cell_type": "markdown",
   "metadata": {
    "collapsed": true,
    "id": "ai3rKe6ekVPB"
   },
   "source": [
    "<table align=\"left\">\n",
    "    <tr>\n",
    "        <td>\n",
    "            <div align=\"left\", style=\"font-size:120%\">\n",
    "                <font color=\"#21618C\">\n",
    "                    <b>1. Does the variable 'volatile acidity' need transformation ?</b>\n",
    "                </font>\n",
    "            </div>\n",
    "        </td>\n",
    "    </tr>\n",
    "</table>"
   ]
  },
  {
   "cell_type": "code",
   "execution_count": 4,
   "metadata": {
    "colab": {
     "base_uri": "https://localhost:8080/"
    },
    "id": "2Z9z9HO4Rk0h",
    "outputId": "ce1d1147-b5f0-471e-fb04-b6e8c1d4d560"
   },
   "outputs": [
    {
     "data": {
      "text/plain": [
       "(4898, 1)"
      ]
     },
     "execution_count": 4,
     "metadata": {},
     "output_type": "execute_result"
    }
   ],
   "source": [
    "df.shape"
   ]
  },
  {
   "cell_type": "code",
   "execution_count": 5,
   "metadata": {
    "colab": {
     "base_uri": "https://localhost:8080/",
     "height": 224
    },
    "id": "4Vz3cHoHkVPB",
    "outputId": "87a7c824-7a40-4033-af97-2db6bbace6c1"
   },
   "outputs": [
    {
     "data": {
      "text/html": [
       "<div>\n",
       "<style scoped>\n",
       "    .dataframe tbody tr th:only-of-type {\n",
       "        vertical-align: middle;\n",
       "    }\n",
       "\n",
       "    .dataframe tbody tr th {\n",
       "        vertical-align: top;\n",
       "    }\n",
       "\n",
       "    .dataframe thead th {\n",
       "        text-align: right;\n",
       "    }\n",
       "</style>\n",
       "<table border=\"1\" class=\"dataframe\">\n",
       "  <thead>\n",
       "    <tr style=\"text-align: right;\">\n",
       "      <th></th>\n",
       "      <th>fixed acidity;\"volatile acidity\";\"citric acid\";\"residual sugar\";\"chlorides\";\"free sulfur dioxide\";\"total sulfur dioxide\";\"density\";\"pH\";\"sulphates\";\"alcohol\";\"quality\"</th>\n",
       "    </tr>\n",
       "  </thead>\n",
       "  <tbody>\n",
       "    <tr>\n",
       "      <th>0</th>\n",
       "      <td>7;0.27;0.36;20.7;0.045;45;170;1.001;3;0.45;8.8;6</td>\n",
       "    </tr>\n",
       "    <tr>\n",
       "      <th>1</th>\n",
       "      <td>6.3;0.3;0.34;1.6;0.049;14;132;0.994;3.3;0.49;9...</td>\n",
       "    </tr>\n",
       "    <tr>\n",
       "      <th>2</th>\n",
       "      <td>8.1;0.28;0.4;6.9;0.05;30;97;0.9951;3.26;0.44;1...</td>\n",
       "    </tr>\n",
       "    <tr>\n",
       "      <th>3</th>\n",
       "      <td>7.2;0.23;0.32;8.5;0.058;47;186;0.9956;3.19;0.4...</td>\n",
       "    </tr>\n",
       "    <tr>\n",
       "      <th>4</th>\n",
       "      <td>7.2;0.23;0.32;8.5;0.058;47;186;0.9956;3.19;0.4...</td>\n",
       "    </tr>\n",
       "  </tbody>\n",
       "</table>\n",
       "</div>"
      ],
      "text/plain": [
       "  fixed acidity;\"volatile acidity\";\"citric acid\";\"residual sugar\";\"chlorides\";\"free sulfur dioxide\";\"total sulfur dioxide\";\"density\";\"pH\";\"sulphates\";\"alcohol\";\"quality\"\n",
       "0   7;0.27;0.36;20.7;0.045;45;170;1.001;3;0.45;8.8;6                                                                                                                     \n",
       "1  6.3;0.3;0.34;1.6;0.049;14;132;0.994;3.3;0.49;9...                                                                                                                     \n",
       "2  8.1;0.28;0.4;6.9;0.05;30;97;0.9951;3.26;0.44;1...                                                                                                                     \n",
       "3  7.2;0.23;0.32;8.5;0.058;47;186;0.9956;3.19;0.4...                                                                                                                     \n",
       "4  7.2;0.23;0.32;8.5;0.058;47;186;0.9956;3.19;0.4...                                                                                                                     "
      ]
     },
     "execution_count": 5,
     "metadata": {},
     "output_type": "execute_result"
    }
   ],
   "source": [
    "df.head()"
   ]
  },
  {
   "cell_type": "code",
   "execution_count": 6,
   "metadata": {
    "id": "mB8CWbEWLLqk"
   },
   "outputs": [],
   "source": [
    "from collections import defaultdict\n",
    "f= defaultdict(list)\n",
    "\n",
    "for i in [[i.split(';') for i in df.iloc[k]][0] for k in range(len(df))]:\n",
    "  for j,k in enumerate(i):\n",
    "    f[j].append(k)"
   ]
  },
  {
   "cell_type": "code",
   "execution_count": 7,
   "metadata": {
    "colab": {
     "base_uri": "https://localhost:8080/"
    },
    "id": "oPIEEmRg1Uc7",
    "outputId": "2180af47-2b18-463c-ba43-18042dca239b"
   },
   "outputs": [
    {
     "data": {
      "text/plain": [
       "['fixed acidity',\n",
       " 'volatile acidity\"',\n",
       " 'citric acid\"',\n",
       " 'residual sugar\"',\n",
       " 'chlorides\"',\n",
       " 'free sulfur dioxide\"',\n",
       " 'total sulfur dioxide\"',\n",
       " 'density\"',\n",
       " 'pH\"',\n",
       " 'sulphates\"',\n",
       " 'alcohol\"',\n",
       " 'quality\"']"
      ]
     },
     "execution_count": 7,
     "metadata": {},
     "output_type": "execute_result"
    }
   ],
   "source": [
    "a = [i.split(';\"') for i in df.columns][0]\n",
    "a"
   ]
  },
  {
   "cell_type": "code",
   "execution_count": 8,
   "metadata": {
    "colab": {
     "base_uri": "https://localhost:8080/"
    },
    "id": "uu-8lDoBJcNP",
    "outputId": "f07a3735-c577-4d55-cc65-60d81fe1bc4a"
   },
   "outputs": [
    {
     "data": {
      "text/plain": [
       "['fixed acidity',\n",
       " 'volatile acidity',\n",
       " 'citric acid',\n",
       " 'residual sugar',\n",
       " 'chlorides',\n",
       " 'free sulfur dioxide',\n",
       " 'total sulfur dioxide',\n",
       " 'density',\n",
       " 'pH',\n",
       " 'sulphates',\n",
       " 'alcohol',\n",
       " 'quality']"
      ]
     },
     "execution_count": 8,
     "metadata": {},
     "output_type": "execute_result"
    }
   ],
   "source": [
    "y= [i.strip('\"') for i in a]\n",
    "y"
   ]
  },
  {
   "cell_type": "code",
   "execution_count": 9,
   "metadata": {
    "id": "CydabFxUJcQ0"
   },
   "outputs": [],
   "source": [
    "df2= pd.DataFrame(f)\n",
    "df2.columns = y"
   ]
  },
  {
   "cell_type": "code",
   "execution_count": 10,
   "metadata": {
    "colab": {
     "base_uri": "https://localhost:8080/",
     "height": 241
    },
    "id": "hKPPIV4JUGcN",
    "outputId": "4040e75e-8959-439d-95a3-672b6ce60553"
   },
   "outputs": [
    {
     "data": {
      "text/html": [
       "<div>\n",
       "<style scoped>\n",
       "    .dataframe tbody tr th:only-of-type {\n",
       "        vertical-align: middle;\n",
       "    }\n",
       "\n",
       "    .dataframe tbody tr th {\n",
       "        vertical-align: top;\n",
       "    }\n",
       "\n",
       "    .dataframe thead th {\n",
       "        text-align: right;\n",
       "    }\n",
       "</style>\n",
       "<table border=\"1\" class=\"dataframe\">\n",
       "  <thead>\n",
       "    <tr style=\"text-align: right;\">\n",
       "      <th></th>\n",
       "      <th>fixed acidity</th>\n",
       "      <th>volatile acidity</th>\n",
       "      <th>citric acid</th>\n",
       "      <th>residual sugar</th>\n",
       "      <th>chlorides</th>\n",
       "      <th>free sulfur dioxide</th>\n",
       "      <th>total sulfur dioxide</th>\n",
       "      <th>density</th>\n",
       "      <th>pH</th>\n",
       "      <th>sulphates</th>\n",
       "      <th>alcohol</th>\n",
       "      <th>quality</th>\n",
       "    </tr>\n",
       "  </thead>\n",
       "  <tbody>\n",
       "    <tr>\n",
       "      <th>0</th>\n",
       "      <td>7</td>\n",
       "      <td>0.27</td>\n",
       "      <td>0.36</td>\n",
       "      <td>20.7</td>\n",
       "      <td>0.045</td>\n",
       "      <td>45</td>\n",
       "      <td>170</td>\n",
       "      <td>1.001</td>\n",
       "      <td>3</td>\n",
       "      <td>0.45</td>\n",
       "      <td>8.8</td>\n",
       "      <td>6</td>\n",
       "    </tr>\n",
       "    <tr>\n",
       "      <th>1</th>\n",
       "      <td>6.3</td>\n",
       "      <td>0.3</td>\n",
       "      <td>0.34</td>\n",
       "      <td>1.6</td>\n",
       "      <td>0.049</td>\n",
       "      <td>14</td>\n",
       "      <td>132</td>\n",
       "      <td>0.994</td>\n",
       "      <td>3.3</td>\n",
       "      <td>0.49</td>\n",
       "      <td>9.5</td>\n",
       "      <td>6</td>\n",
       "    </tr>\n",
       "    <tr>\n",
       "      <th>2</th>\n",
       "      <td>8.1</td>\n",
       "      <td>0.28</td>\n",
       "      <td>0.4</td>\n",
       "      <td>6.9</td>\n",
       "      <td>0.05</td>\n",
       "      <td>30</td>\n",
       "      <td>97</td>\n",
       "      <td>0.9951</td>\n",
       "      <td>3.26</td>\n",
       "      <td>0.44</td>\n",
       "      <td>10.1</td>\n",
       "      <td>6</td>\n",
       "    </tr>\n",
       "    <tr>\n",
       "      <th>3</th>\n",
       "      <td>7.2</td>\n",
       "      <td>0.23</td>\n",
       "      <td>0.32</td>\n",
       "      <td>8.5</td>\n",
       "      <td>0.058</td>\n",
       "      <td>47</td>\n",
       "      <td>186</td>\n",
       "      <td>0.9956</td>\n",
       "      <td>3.19</td>\n",
       "      <td>0.4</td>\n",
       "      <td>9.9</td>\n",
       "      <td>6</td>\n",
       "    </tr>\n",
       "    <tr>\n",
       "      <th>4</th>\n",
       "      <td>7.2</td>\n",
       "      <td>0.23</td>\n",
       "      <td>0.32</td>\n",
       "      <td>8.5</td>\n",
       "      <td>0.058</td>\n",
       "      <td>47</td>\n",
       "      <td>186</td>\n",
       "      <td>0.9956</td>\n",
       "      <td>3.19</td>\n",
       "      <td>0.4</td>\n",
       "      <td>9.9</td>\n",
       "      <td>6</td>\n",
       "    </tr>\n",
       "  </tbody>\n",
       "</table>\n",
       "</div>"
      ],
      "text/plain": [
       "  fixed acidity volatile acidity citric acid residual sugar chlorides  \\\n",
       "0             7             0.27        0.36           20.7     0.045   \n",
       "1           6.3              0.3        0.34            1.6     0.049   \n",
       "2           8.1             0.28         0.4            6.9      0.05   \n",
       "3           7.2             0.23        0.32            8.5     0.058   \n",
       "4           7.2             0.23        0.32            8.5     0.058   \n",
       "\n",
       "  free sulfur dioxide total sulfur dioxide density    pH sulphates alcohol  \\\n",
       "0                  45                  170   1.001     3      0.45     8.8   \n",
       "1                  14                  132   0.994   3.3      0.49     9.5   \n",
       "2                  30                   97  0.9951  3.26      0.44    10.1   \n",
       "3                  47                  186  0.9956  3.19       0.4     9.9   \n",
       "4                  47                  186  0.9956  3.19       0.4     9.9   \n",
       "\n",
       "  quality  \n",
       "0       6  \n",
       "1       6  \n",
       "2       6  \n",
       "3       6  \n",
       "4       6  "
      ]
     },
     "execution_count": 10,
     "metadata": {},
     "output_type": "execute_result"
    }
   ],
   "source": [
    "df2.head()"
   ]
  },
  {
   "cell_type": "code",
   "execution_count": 11,
   "metadata": {
    "id": "VjJ5wMjEJcbK"
   },
   "outputs": [],
   "source": [
    "df2 = df2.astype(float)"
   ]
  },
  {
   "cell_type": "code",
   "execution_count": 12,
   "metadata": {
    "colab": {
     "base_uri": "https://localhost:8080/"
    },
    "id": "Y5qnFv1CVZrV",
    "outputId": "ea6d548e-b736-48ce-9b3b-917985073c5f"
   },
   "outputs": [
    {
     "data": {
      "text/plain": [
       "count    4898.000000\n",
       "mean        0.278241\n",
       "std         0.100795\n",
       "min         0.080000\n",
       "25%         0.210000\n",
       "50%         0.260000\n",
       "75%         0.320000\n",
       "max         1.100000\n",
       "Name: volatile acidity, dtype: float64"
      ]
     },
     "execution_count": 12,
     "metadata": {},
     "output_type": "execute_result"
    }
   ],
   "source": [
    "df2['volatile acidity'].describe()"
   ]
  },
  {
   "cell_type": "code",
   "execution_count": 13,
   "metadata": {
    "id": "gLY1JTPZWhTg"
   },
   "outputs": [],
   "source": [
    "# we think every column other than free sulfur dioxide and Total sulfur dioxide should be \" Exponentially\" transformed - since they are right skewed."
   ]
  },
  {
   "cell_type": "markdown",
   "metadata": {
    "collapsed": true,
    "id": "8HhejDXukVPC"
   },
   "source": [
    "<table align=\"left\">\n",
    "    <tr>\n",
    "        <td width=\"6%\">\n",
    "            <img src=\"question_icon.png\">\n",
    "        </td>\n",
    "        <td>\n",
    "            <div align=\"left\", style=\"font-size:120%\">\n",
    "                <font color=\"#21618C\">\n",
    "                    <b>2. How can we reduce skewness of variable 'Residual_Sugar'?</b>\n",
    "                </font>\n",
    "            </div>\n",
    "        </td>\n",
    "    </tr>\n",
    "</table>"
   ]
  },
  {
   "cell_type": "code",
   "execution_count": 14,
   "metadata": {
    "colab": {
     "base_uri": "https://localhost:8080/",
     "height": 334
    },
    "id": "lpng85FikVPD",
    "outputId": "2bfaf47b-ebf5-46e0-9da3-6ca4954b68f3"
   },
   "outputs": [
    {
     "data": {
      "image/png": "[encoded data removed]",
      "text/plain": [
       "<Figure size 432x288 with 1 Axes>"
      ]
     },
     "metadata": {
      "needs_background": "light"
     },
     "output_type": "display_data"
    }
   ],
   "source": [
    "sns.distplot(df2['residual sugar'])\n",
    "plt.show()"
   ]
  },
  {
   "cell_type": "code",
   "execution_count": 15,
   "metadata": {
    "id": "o2oQDYAhrlcZ"
   },
   "outputs": [],
   "source": [
    "# right skewed; probably a log transform will help"
   ]
  },
  {
   "cell_type": "markdown",
   "metadata": {
    "collapsed": true,
    "id": "RFz3LQ0qkVPD"
   },
   "source": [
    "<table align=\"left\">\n",
    "    <tr>\n",
    "        <td>\n",
    "            <div align=\"left\", style=\"font-size:120%\">\n",
    "                <font color=\"#21618C\">\n",
    "                    <b>3. Are there features in the dataset that add little to no information ?</b>\n",
    "                </font>\n",
    "            </div>\n",
    "        </td>\n",
    "    </tr>\n",
    "</table>"
   ]
  },
  {
   "cell_type": "code",
   "execution_count": 16,
   "metadata": {
    "colab": {
     "base_uri": "https://localhost:8080/"
    },
    "id": "biOuEpJ6kVPE",
    "outputId": "c51c02dc-92f5-4072-b513-3031e83c2eb7"
   },
   "outputs": [
    {
     "name": "stdout",
     "output_type": "stream",
     "text": [
      "                            OLS Regression Results                            \n",
      "==============================================================================\n",
      "Dep. Variable:                quality   R-squared:                       0.282\n",
      "Model:                            OLS   Adj. R-squared:                  0.280\n",
      "Method:                 Least Squares   F-statistic:                     174.3\n",
      "Date:                Thu, 08 Apr 2021   Prob (F-statistic):               0.00\n",
      "Time:                        16:39:39   Log-Likelihood:                -5543.7\n",
      "No. Observations:                4898   AIC:                         1.111e+04\n",
      "Df Residuals:                    4886   BIC:                         1.119e+04\n",
      "Df Model:                          11                                         \n",
      "Covariance Type:            nonrobust                                         \n",
      "========================================================================================\n",
      "                           coef    std err          t      P>|t|      [0.025      0.975]\n",
      "----------------------------------------------------------------------------------------\n",
      "const                  150.1928     18.804      7.987      0.000     113.328     187.057\n",
      "fixed acidity            0.0655      0.021      3.139      0.002       0.025       0.106\n",
      "volatile acidity        -1.8632      0.114    -16.373      0.000      -2.086      -1.640\n",
      "citric acid              0.0221      0.096      0.231      0.818      -0.166       0.210\n",
      "residual sugar           0.0815      0.008     10.825      0.000       0.067       0.096\n",
      "chlorides               -0.2473      0.547     -0.452      0.651      -1.319       0.824\n",
      "free sulfur dioxide      0.0037      0.001      4.422      0.000       0.002       0.005\n",
      "total sulfur dioxide    -0.0003      0.000     -0.756      0.450      -0.001       0.000\n",
      "density               -150.2842     19.075     -7.879      0.000    -187.679    -112.890\n",
      "pH                       0.6863      0.105      6.513      0.000       0.480       0.893\n",
      "sulphates                0.6315      0.100      6.291      0.000       0.435       0.828\n",
      "alcohol                  0.1935      0.024      7.988      0.000       0.146       0.241\n",
      "==============================================================================\n",
      "Omnibus:                      114.161   Durbin-Watson:                   1.621\n",
      "Prob(Omnibus):                  0.000   Jarque-Bera (JB):              251.637\n",
      "Skew:                           0.073   Prob(JB):                     2.28e-55\n",
      "Kurtosis:                       4.101   Cond. No.                     3.74e+05\n",
      "==============================================================================\n",
      "\n",
      "Notes:\n",
      "[1] Standard Errors assume that the covariance matrix of the errors is correctly specified.\n",
      "[2] The condition number is large, 3.74e+05. This might indicate that there are\n",
      "strong multicollinearity or other numerical problems.\n"
     ]
    }
   ],
   "source": [
    "# we can see a reggression model and see the significance:\n",
    "import statsmodels.api as sm\n",
    "xc= sm.add_constant(df2.loc[:, df2.columns != 'quality'])\n",
    "md= sm.OLS(df2['quality'], xc).fit()\n",
    "print(md.summary())"
   ]
  },
  {
   "cell_type": "markdown",
   "metadata": {
    "id": "MYIHwTwWtKsf"
   },
   "source": [
    "citric acid  , chlorides , total sulfur dioxide contribute little to nothing to overall model"
   ]
  },
  {
   "cell_type": "markdown",
   "metadata": {
    "collapsed": true,
    "id": "nyW3dqE1kVPE"
   },
   "source": [
    "<table align=\"left\">\n",
    "    <tr>\n",
    "        <td>\n",
    "            <div align=\"left\", style=\"font-size:120%\">\n",
    "                <font color=\"#21618C\">\n",
    "                    <b>4. Which transformation method is best suited to treat the skewness in variable 'alcohol'?</b>\n",
    "                </font>\n",
    "            </div>\n",
    "        </td>\n",
    "    </tr>\n",
    "</table>"
   ]
  },
  {
   "cell_type": "code",
   "execution_count": 17,
   "metadata": {
    "colab": {
     "base_uri": "https://localhost:8080/",
     "height": 334
    },
    "id": "jn4mJH-gkVPF",
    "outputId": "55a4e365-5524-4402-a739-43cb20fbc030"
   },
   "outputs": [
    {
     "data": {
      "image/png": "[encoded data removed]",
      "text/plain": [
       "<Figure size 432x288 with 1 Axes>"
      ]
     },
     "metadata": {
      "needs_background": "light"
     },
     "output_type": "display_data"
    }
   ],
   "source": [
    "sns.distplot(df2['alcohol'])\n",
    "plt.show()"
   ]
  },
  {
   "cell_type": "code",
   "execution_count": 18,
   "metadata": {
    "id": "w_weX7m2QFVN"
   },
   "outputs": [],
   "source": [
    "# power transform will do a good job"
   ]
  },
  {
   "cell_type": "markdown",
   "metadata": {
    "collapsed": true,
    "id": "TrPJ7oA1kVPG"
   },
   "source": [
    "<table align=\"left\">\n",
    "    <tr>\n",
    "        <td>\n",
    "            <div align=\"left\", style=\"font-size:120%\">\n",
    "                <font color=\"#21618C\">\n",
    "                    <b>5. Does scaling the feature 'pH' lead to better prediction when considering a full model ?</b>\n",
    "                </font>\n",
    "            </div>\n",
    "        </td>\n",
    "    </tr>\n",
    "</table>"
   ]
  },
  {
   "cell_type": "code",
   "execution_count": 19,
   "metadata": {
    "colab": {
     "base_uri": "https://localhost:8080/"
    },
    "id": "sygY5_kJQvTk",
    "outputId": "6acdbfdb-921f-4633-8c6e-74c3d7b7f2ea"
   },
   "outputs": [
    {
     "name": "stdout",
     "output_type": "stream",
     "text": [
      "                            OLS Regression Results                            \n",
      "==============================================================================\n",
      "Dep. Variable:                quality   R-squared:                       0.282\n",
      "Model:                            OLS   Adj. R-squared:                  0.280\n",
      "Method:                 Least Squares   F-statistic:                     174.3\n",
      "Date:                Thu, 08 Apr 2021   Prob (F-statistic):               0.00\n",
      "Time:                        16:39:40   Log-Likelihood:                -5543.7\n",
      "No. Observations:                4898   AIC:                         1.111e+04\n",
      "Df Residuals:                    4886   BIC:                         1.119e+04\n",
      "Df Model:                          11                                         \n",
      "Covariance Type:            nonrobust                                         \n",
      "========================================================================================\n",
      "                           coef    std err          t      P>|t|      [0.025      0.975]\n",
      "----------------------------------------------------------------------------------------\n",
      "const                  150.1928     18.804      7.987      0.000     113.328     187.057\n",
      "fixed acidity            0.0655      0.021      3.139      0.002       0.025       0.106\n",
      "volatile acidity        -1.8632      0.114    -16.373      0.000      -2.086      -1.640\n",
      "citric acid              0.0221      0.096      0.231      0.818      -0.166       0.210\n",
      "residual sugar           0.0815      0.008     10.825      0.000       0.067       0.096\n",
      "chlorides               -0.2473      0.547     -0.452      0.651      -1.319       0.824\n",
      "free sulfur dioxide      0.0037      0.001      4.422      0.000       0.002       0.005\n",
      "total sulfur dioxide    -0.0003      0.000     -0.756      0.450      -0.001       0.000\n",
      "density               -150.2842     19.075     -7.879      0.000    -187.679    -112.890\n",
      "pH                       0.6863      0.105      6.513      0.000       0.480       0.893\n",
      "sulphates                0.6315      0.100      6.291      0.000       0.435       0.828\n",
      "alcohol                  0.1935      0.024      7.988      0.000       0.146       0.241\n",
      "==============================================================================\n",
      "Omnibus:                      114.161   Durbin-Watson:                   1.621\n",
      "Prob(Omnibus):                  0.000   Jarque-Bera (JB):              251.637\n",
      "Skew:                           0.073   Prob(JB):                     2.28e-55\n",
      "Kurtosis:                       4.101   Cond. No.                     3.74e+05\n",
      "==============================================================================\n",
      "\n",
      "Notes:\n",
      "[1] Standard Errors assume that the covariance matrix of the errors is correctly specified.\n",
      "[2] The condition number is large, 3.74e+05. This might indicate that there are\n",
      "strong multicollinearity or other numerical problems.\n"
     ]
    }
   ],
   "source": [
    "# Without scaling the pH\n",
    "\n",
    "import statsmodels.api as sm\n",
    "xc= sm.add_constant(df2.loc[:, df2.columns != 'quality'])\n",
    "md= sm.OLS(df2['quality'], xc).fit()\n",
    "print(md.summary())"
   ]
  },
  {
   "cell_type": "code",
   "execution_count": 20,
   "metadata": {
    "colab": {
     "base_uri": "https://localhost:8080/",
     "height": 261
    },
    "id": "UPUS1813Qvcp",
    "outputId": "de18d0c1-6260-424b-bbc6-0a95324ad4ed"
   },
   "outputs": [
    {
     "data": {
      "text/html": [
       "<div>\n",
       "<style scoped>\n",
       "    .dataframe tbody tr th:only-of-type {\n",
       "        vertical-align: middle;\n",
       "    }\n",
       "\n",
       "    .dataframe tbody tr th {\n",
       "        vertical-align: top;\n",
       "    }\n",
       "\n",
       "    .dataframe thead th {\n",
       "        text-align: right;\n",
       "    }\n",
       "</style>\n",
       "<table border=\"1\" class=\"dataframe\">\n",
       "  <thead>\n",
       "    <tr style=\"text-align: right;\">\n",
       "      <th></th>\n",
       "      <th>fixed acidity</th>\n",
       "      <th>volatile acidity</th>\n",
       "      <th>citric acid</th>\n",
       "      <th>residual sugar</th>\n",
       "      <th>chlorides</th>\n",
       "      <th>free sulfur dioxide</th>\n",
       "      <th>total sulfur dioxide</th>\n",
       "      <th>density</th>\n",
       "      <th>pH</th>\n",
       "      <th>sulphates</th>\n",
       "      <th>alcohol</th>\n",
       "      <th>quality</th>\n",
       "      <th>s_ph</th>\n",
       "    </tr>\n",
       "  </thead>\n",
       "  <tbody>\n",
       "    <tr>\n",
       "      <th>0</th>\n",
       "      <td>7.0</td>\n",
       "      <td>0.27</td>\n",
       "      <td>0.36</td>\n",
       "      <td>20.7</td>\n",
       "      <td>0.045</td>\n",
       "      <td>45.0</td>\n",
       "      <td>170.0</td>\n",
       "      <td>1.0010</td>\n",
       "      <td>3.00</td>\n",
       "      <td>0.45</td>\n",
       "      <td>8.8</td>\n",
       "      <td>6.0</td>\n",
       "      <td>-1.246921</td>\n",
       "    </tr>\n",
       "    <tr>\n",
       "      <th>1</th>\n",
       "      <td>6.3</td>\n",
       "      <td>0.30</td>\n",
       "      <td>0.34</td>\n",
       "      <td>1.6</td>\n",
       "      <td>0.049</td>\n",
       "      <td>14.0</td>\n",
       "      <td>132.0</td>\n",
       "      <td>0.9940</td>\n",
       "      <td>3.30</td>\n",
       "      <td>0.49</td>\n",
       "      <td>9.5</td>\n",
       "      <td>6.0</td>\n",
       "      <td>0.740029</td>\n",
       "    </tr>\n",
       "    <tr>\n",
       "      <th>2</th>\n",
       "      <td>8.1</td>\n",
       "      <td>0.28</td>\n",
       "      <td>0.40</td>\n",
       "      <td>6.9</td>\n",
       "      <td>0.050</td>\n",
       "      <td>30.0</td>\n",
       "      <td>97.0</td>\n",
       "      <td>0.9951</td>\n",
       "      <td>3.26</td>\n",
       "      <td>0.44</td>\n",
       "      <td>10.1</td>\n",
       "      <td>6.0</td>\n",
       "      <td>0.475102</td>\n",
       "    </tr>\n",
       "    <tr>\n",
       "      <th>3</th>\n",
       "      <td>7.2</td>\n",
       "      <td>0.23</td>\n",
       "      <td>0.32</td>\n",
       "      <td>8.5</td>\n",
       "      <td>0.058</td>\n",
       "      <td>47.0</td>\n",
       "      <td>186.0</td>\n",
       "      <td>0.9956</td>\n",
       "      <td>3.19</td>\n",
       "      <td>0.40</td>\n",
       "      <td>9.9</td>\n",
       "      <td>6.0</td>\n",
       "      <td>0.011480</td>\n",
       "    </tr>\n",
       "    <tr>\n",
       "      <th>4</th>\n",
       "      <td>7.2</td>\n",
       "      <td>0.23</td>\n",
       "      <td>0.32</td>\n",
       "      <td>8.5</td>\n",
       "      <td>0.058</td>\n",
       "      <td>47.0</td>\n",
       "      <td>186.0</td>\n",
       "      <td>0.9956</td>\n",
       "      <td>3.19</td>\n",
       "      <td>0.40</td>\n",
       "      <td>9.9</td>\n",
       "      <td>6.0</td>\n",
       "      <td>0.011480</td>\n",
       "    </tr>\n",
       "  </tbody>\n",
       "</table>\n",
       "</div>"
      ],
      "text/plain": [
       "   fixed acidity  volatile acidity  citric acid  residual sugar  chlorides  \\\n",
       "0            7.0              0.27         0.36            20.7      0.045   \n",
       "1            6.3              0.30         0.34             1.6      0.049   \n",
       "2            8.1              0.28         0.40             6.9      0.050   \n",
       "3            7.2              0.23         0.32             8.5      0.058   \n",
       "4            7.2              0.23         0.32             8.5      0.058   \n",
       "\n",
       "   free sulfur dioxide  total sulfur dioxide  density    pH  sulphates  \\\n",
       "0                 45.0                 170.0   1.0010  3.00       0.45   \n",
       "1                 14.0                 132.0   0.9940  3.30       0.49   \n",
       "2                 30.0                  97.0   0.9951  3.26       0.44   \n",
       "3                 47.0                 186.0   0.9956  3.19       0.40   \n",
       "4                 47.0                 186.0   0.9956  3.19       0.40   \n",
       "\n",
       "   alcohol  quality      s_ph  \n",
       "0      8.8      6.0 -1.246921  \n",
       "1      9.5      6.0  0.740029  \n",
       "2     10.1      6.0  0.475102  \n",
       "3      9.9      6.0  0.011480  \n",
       "4      9.9      6.0  0.011480  "
      ]
     },
     "execution_count": 20,
     "metadata": {},
     "output_type": "execute_result"
    }
   ],
   "source": [
    "# scaling ph\n",
    "from sklearn.preprocessing import StandardScaler\n",
    "\n",
    "dr= StandardScaler() \n",
    "df3 = df2.copy()\n",
    "df3['s_ph'] = dr.fit_transform(df3[['pH']])\n",
    "df3.head()"
   ]
  },
  {
   "cell_type": "code",
   "execution_count": 21,
   "metadata": {
    "id": "kUY5ImkhanVD"
   },
   "outputs": [],
   "source": [
    "df3.drop({'quality', 'pH'}, axis=1, inplace=True)"
   ]
  },
  {
   "cell_type": "code",
   "execution_count": 22,
   "metadata": {
    "colab": {
     "base_uri": "https://localhost:8080/"
    },
    "id": "vsCRnSqraVh9",
    "outputId": "11ea4d76-d72f-421f-b69c-8a3ed025fa43"
   },
   "outputs": [
    {
     "name": "stdout",
     "output_type": "stream",
     "text": [
      "                            OLS Regression Results                            \n",
      "==============================================================================\n",
      "Dep. Variable:                quality   R-squared:                       0.282\n",
      "Model:                            OLS   Adj. R-squared:                  0.280\n",
      "Method:                 Least Squares   F-statistic:                     174.3\n",
      "Date:                Thu, 08 Apr 2021   Prob (F-statistic):               0.00\n",
      "Time:                        16:39:40   Log-Likelihood:                -5543.7\n",
      "No. Observations:                4898   AIC:                         1.111e+04\n",
      "Df Residuals:                    4886   BIC:                         1.119e+04\n",
      "Df Model:                          11                                         \n",
      "Covariance Type:            nonrobust                                         \n",
      "========================================================================================\n",
      "                           coef    std err          t      P>|t|      [0.025      0.975]\n",
      "----------------------------------------------------------------------------------------\n",
      "const                  152.3811     19.013      8.015      0.000     115.108     189.655\n",
      "fixed acidity            0.0655      0.021      3.139      0.002       0.025       0.106\n",
      "volatile acidity        -1.8632      0.114    -16.373      0.000      -2.086      -1.640\n",
      "citric acid              0.0221      0.096      0.231      0.818      -0.166       0.210\n",
      "residual sugar           0.0815      0.008     10.825      0.000       0.067       0.096\n",
      "chlorides               -0.2473      0.547     -0.452      0.651      -1.319       0.824\n",
      "free sulfur dioxide      0.0037      0.001      4.422      0.000       0.002       0.005\n",
      "total sulfur dioxide    -0.0003      0.000     -0.756      0.450      -0.001       0.000\n",
      "density               -150.2842     19.075     -7.879      0.000    -187.679    -112.890\n",
      "sulphates                0.6315      0.100      6.291      0.000       0.435       0.828\n",
      "alcohol                  0.1935      0.024      7.988      0.000       0.146       0.241\n",
      "s_ph                     0.1036      0.016      6.513      0.000       0.072       0.135\n",
      "==============================================================================\n",
      "Omnibus:                      114.161   Durbin-Watson:                   1.621\n",
      "Prob(Omnibus):                  0.000   Jarque-Bera (JB):              251.637\n",
      "Skew:                           0.073   Prob(JB):                     2.28e-55\n",
      "Kurtosis:                       4.101   Cond. No.                     3.76e+05\n",
      "==============================================================================\n",
      "\n",
      "Notes:\n",
      "[1] Standard Errors assume that the covariance matrix of the errors is correctly specified.\n",
      "[2] The condition number is large, 3.76e+05. This might indicate that there are\n",
      "strong multicollinearity or other numerical problems.\n"
     ]
    }
   ],
   "source": [
    "xc= sm.add_constant(df3)\n",
    "md= sm.OLS(df2['quality'], xc).fit()\n",
    "print(md.summary())"
   ]
  },
  {
   "cell_type": "code",
   "execution_count": 23,
   "metadata": {
    "id": "h8kpjs5PaVp9"
   },
   "outputs": [],
   "source": [
    "# no improvement in score. "
   ]
  },
  {
   "cell_type": "markdown",
   "metadata": {
    "collapsed": true,
    "id": "OEXDNh_7kVPI"
   },
   "source": [
    "<table align=\"left\">\n",
    "    <tr>\n",
    "        <td>\n",
    "            <div align=\"left\", style=\"font-size:120%\">\n",
    "                <font color=\"#21618C\">\n",
    "                    <b>6. What could be done to resolve the issue of multicollinearity if present?</b>\n",
    "                </font>\n",
    "            </div>\n",
    "        </td>\n",
    "    </tr>\n",
    "</table>"
   ]
  },
  {
   "cell_type": "code",
   "execution_count": 24,
   "metadata": {
    "colab": {
     "base_uri": "https://localhost:8080/",
     "height": 426
    },
    "id": "MzSJeUL9kVPJ",
    "outputId": "b7038135-eab8-4c31-d49a-a9c1bf58665d"
   },
   "outputs": [
    {
     "data": {
      "text/html": [
       "<div>\n",
       "<style scoped>\n",
       "    .dataframe tbody tr th:only-of-type {\n",
       "        vertical-align: middle;\n",
       "    }\n",
       "\n",
       "    .dataframe tbody tr th {\n",
       "        vertical-align: top;\n",
       "    }\n",
       "\n",
       "    .dataframe thead th {\n",
       "        text-align: right;\n",
       "    }\n",
       "</style>\n",
       "<table border=\"1\" class=\"dataframe\">\n",
       "  <thead>\n",
       "    <tr style=\"text-align: right;\">\n",
       "      <th></th>\n",
       "      <th>0</th>\n",
       "    </tr>\n",
       "  </thead>\n",
       "  <tbody>\n",
       "    <tr>\n",
       "      <th>const</th>\n",
       "      <td>3.136297e+06</td>\n",
       "    </tr>\n",
       "    <tr>\n",
       "      <th>fixed acidity</th>\n",
       "      <td>2.691435e+00</td>\n",
       "    </tr>\n",
       "    <tr>\n",
       "      <th>volatile acidity</th>\n",
       "      <td>1.141156e+00</td>\n",
       "    </tr>\n",
       "    <tr>\n",
       "      <th>citric acid</th>\n",
       "      <td>1.165215e+00</td>\n",
       "    </tr>\n",
       "    <tr>\n",
       "      <th>residual sugar</th>\n",
       "      <td>1.264406e+01</td>\n",
       "    </tr>\n",
       "    <tr>\n",
       "      <th>chlorides</th>\n",
       "      <td>1.236822e+00</td>\n",
       "    </tr>\n",
       "    <tr>\n",
       "      <th>free sulfur dioxide</th>\n",
       "      <td>1.787880e+00</td>\n",
       "    </tr>\n",
       "    <tr>\n",
       "      <th>total sulfur dioxide</th>\n",
       "      <td>2.239233e+00</td>\n",
       "    </tr>\n",
       "    <tr>\n",
       "      <th>density</th>\n",
       "      <td>2.823255e+01</td>\n",
       "    </tr>\n",
       "    <tr>\n",
       "      <th>sulphates</th>\n",
       "      <td>1.138540e+00</td>\n",
       "    </tr>\n",
       "    <tr>\n",
       "      <th>alcohol</th>\n",
       "      <td>7.706957e+00</td>\n",
       "    </tr>\n",
       "    <tr>\n",
       "      <th>s_ph</th>\n",
       "      <td>2.196362e+00</td>\n",
       "    </tr>\n",
       "  </tbody>\n",
       "</table>\n",
       "</div>"
      ],
      "text/plain": [
       "                                 0\n",
       "const                 3.136297e+06\n",
       "fixed acidity         2.691435e+00\n",
       "volatile acidity      1.141156e+00\n",
       "citric acid           1.165215e+00\n",
       "residual sugar        1.264406e+01\n",
       "chlorides             1.236822e+00\n",
       "free sulfur dioxide   1.787880e+00\n",
       "total sulfur dioxide  2.239233e+00\n",
       "density               2.823255e+01\n",
       "sulphates             1.138540e+00\n",
       "alcohol               7.706957e+00\n",
       "s_ph                  2.196362e+00"
      ]
     },
     "execution_count": 24,
     "metadata": {},
     "output_type": "execute_result"
    }
   ],
   "source": [
    "from statsmodels.stats.outliers_influence import variance_inflation_factor as vif\n",
    "\n",
    "ar = [vif(xc.values, i) for i in range(xc.shape[1])]\n",
    "fr= pd.DataFrame(ar, index=xc.columns)\n",
    "fr"
   ]
  },
  {
   "cell_type": "code",
   "execution_count": 25,
   "metadata": {
    "id": "PbTTcsUucZNn"
   },
   "outputs": [],
   "source": [
    "# we have 2 columns having multicollinearity - Density and Residual sugar"
   ]
  },
  {
   "cell_type": "code",
   "execution_count": 26,
   "metadata": {
    "id": "IFM6I5wHcjdJ"
   },
   "outputs": [],
   "source": [
    "# We can try fixing this issue by checking the significance of the contributions made by these columns- if they are not significant, we can drop them"
   ]
  },
  {
   "cell_type": "markdown",
   "metadata": {
    "collapsed": true,
    "id": "OF7aLA9CkVPJ"
   },
   "source": [
    "<table align=\"left\">\n",
    "    <tr>\n",
    "        <td>\n",
    "            <div align=\"left\", style=\"font-size:120%\">\n",
    "                <font color=\"#21618C\">\n",
    "                    <b>7.  Fit a full model. Is the assumption for normality of residuals violated ?</b>\n",
    "                </font>\n",
    "            </div>\n",
    "        </td>\n",
    "    </tr>\n",
    "</table>"
   ]
  },
  {
   "cell_type": "code",
   "execution_count": 27,
   "metadata": {
    "colab": {
     "base_uri": "https://localhost:8080/"
    },
    "id": "abkIbzpokVPK",
    "outputId": "65f7112b-f9c7-4d1e-ca4b-c82f36b9acd6"
   },
   "outputs": [
    {
     "name": "stdout",
     "output_type": "stream",
     "text": [
      "                            OLS Regression Results                            \n",
      "==============================================================================\n",
      "Dep. Variable:                quality   R-squared:                       0.282\n",
      "Model:                            OLS   Adj. R-squared:                  0.280\n",
      "Method:                 Least Squares   F-statistic:                     174.3\n",
      "Date:                Thu, 08 Apr 2021   Prob (F-statistic):               0.00\n",
      "Time:                        16:39:40   Log-Likelihood:                -5543.7\n",
      "No. Observations:                4898   AIC:                         1.111e+04\n",
      "Df Residuals:                    4886   BIC:                         1.119e+04\n",
      "Df Model:                          11                                         \n",
      "Covariance Type:            nonrobust                                         \n",
      "========================================================================================\n",
      "                           coef    std err          t      P>|t|      [0.025      0.975]\n",
      "----------------------------------------------------------------------------------------\n",
      "const                  150.1928     18.804      7.987      0.000     113.328     187.057\n",
      "fixed acidity            0.0655      0.021      3.139      0.002       0.025       0.106\n",
      "volatile acidity        -1.8632      0.114    -16.373      0.000      -2.086      -1.640\n",
      "citric acid              0.0221      0.096      0.231      0.818      -0.166       0.210\n",
      "residual sugar           0.0815      0.008     10.825      0.000       0.067       0.096\n",
      "chlorides               -0.2473      0.547     -0.452      0.651      -1.319       0.824\n",
      "free sulfur dioxide      0.0037      0.001      4.422      0.000       0.002       0.005\n",
      "total sulfur dioxide    -0.0003      0.000     -0.756      0.450      -0.001       0.000\n",
      "density               -150.2842     19.075     -7.879      0.000    -187.679    -112.890\n",
      "pH                       0.6863      0.105      6.513      0.000       0.480       0.893\n",
      "sulphates                0.6315      0.100      6.291      0.000       0.435       0.828\n",
      "alcohol                  0.1935      0.024      7.988      0.000       0.146       0.241\n",
      "==============================================================================\n",
      "Omnibus:                      114.161   Durbin-Watson:                   1.621\n",
      "Prob(Omnibus):                  0.000   Jarque-Bera (JB):              251.637\n",
      "Skew:                           0.073   Prob(JB):                     2.28e-55\n",
      "Kurtosis:                       4.101   Cond. No.                     3.74e+05\n",
      "==============================================================================\n",
      "\n",
      "Notes:\n",
      "[1] Standard Errors assume that the covariance matrix of the errors is correctly specified.\n",
      "[2] The condition number is large, 3.74e+05. This might indicate that there are\n",
      "strong multicollinearity or other numerical problems.\n"
     ]
    }
   ],
   "source": [
    "xc= sm.add_constant(df2.loc[:, df2.columns != 'quality'])\n",
    "md= sm.OLS(df2['quality'], xc).fit()\n",
    "print(md.summary())"
   ]
  },
  {
   "cell_type": "code",
   "execution_count": 28,
   "metadata": {
    "colab": {
     "base_uri": "https://localhost:8080/",
     "height": 295
    },
    "id": "jNTv_JOmdDCq",
    "outputId": "75c11b3d-e2c0-4e67-8460-aba59540ceba"
   },
   "outputs": [
    {
     "data": {
      "image/png": "[encoded data removed]",
      "text/plain": [
       "<Figure size 432x288 with 1 Axes>"
      ]
     },
     "metadata": {
      "needs_background": "light"
     },
     "output_type": "display_data"
    }
   ],
   "source": [
    "# QQ plot\n",
    "import scipy.stats as stats\n",
    "\n",
    "stats.probplot(md.resid, plot=plt)\n",
    "plt.show()"
   ]
  },
  {
   "cell_type": "code",
   "execution_count": 29,
   "metadata": {
    "colab": {
     "base_uri": "https://localhost:8080/"
    },
    "id": "HsiyohC2dmam",
    "outputId": "5ca3c1bf-0187-41d4-ae3a-b4cc30f6557b"
   },
   "outputs": [
    {
     "data": {
      "text/plain": [
       "Jarque_beraResult(statistic=251.63681680706614, pvalue=0.0)"
      ]
     },
     "execution_count": 29,
     "metadata": {},
     "output_type": "execute_result"
    }
   ],
   "source": [
    "# looks mostly normal only:\n",
    "\n",
    "#lets do a JB test\n",
    "\n",
    "stats.jarque_bera(md.resid)"
   ]
  },
  {
   "cell_type": "code",
   "execution_count": 30,
   "metadata": {
    "id": "XD4n_Bzhdv6L"
   },
   "outputs": [],
   "source": [
    "# it is not normal"
   ]
  },
  {
   "cell_type": "markdown",
   "metadata": {
    "collapsed": true,
    "id": "nB1stq9bkVPK"
   },
   "source": [
    "<table align=\"left\">\n",
    "    <tr>\n",
    "        <td>\n",
    "            <div align=\"left\", style=\"font-size:120%\">\n",
    "                <font color=\"#21618C\">\n",
    "                    <b>8. Does the transformation of variable 'citric acid' affect the performance of prediction model?</b>\n",
    "                </font>\n",
    "            </div>\n",
    "        </td>\n",
    "    </tr>\n",
    "</table>"
   ]
  },
  {
   "cell_type": "code",
   "execution_count": 31,
   "metadata": {
    "colab": {
     "base_uri": "https://localhost:8080/",
     "height": 334
    },
    "id": "IsTc_uGjkVPL",
    "outputId": "3479728d-4c61-4b84-a5fc-ef2f4091d904"
   },
   "outputs": [
    {
     "data": {
      "image/png": "[encoded data removed]",
      "text/plain": [
       "<Figure size 432x288 with 1 Axes>"
      ]
     },
     "metadata": {
      "needs_background": "light"
     },
     "output_type": "display_data"
    }
   ],
   "source": [
    "sns.distplot(df2['citric acid'])\n",
    "plt.show()"
   ]
  },
  {
   "cell_type": "code",
   "execution_count": 32,
   "metadata": {
    "id": "hdaQZHA9d2f-"
   },
   "outputs": [],
   "source": [
    "# we can do a log transform and see. "
   ]
  },
  {
   "cell_type": "code",
   "execution_count": 33,
   "metadata": {
    "colab": {
     "base_uri": "https://localhost:8080/",
     "height": 241
    },
    "id": "vmcZNDxwd2jm",
    "outputId": "448d62b2-0327-48ae-e0a2-00f5fbe6f55c"
   },
   "outputs": [
    {
     "data": {
      "text/html": [
       "<div>\n",
       "<style scoped>\n",
       "    .dataframe tbody tr th:only-of-type {\n",
       "        vertical-align: middle;\n",
       "    }\n",
       "\n",
       "    .dataframe tbody tr th {\n",
       "        vertical-align: top;\n",
       "    }\n",
       "\n",
       "    .dataframe thead th {\n",
       "        text-align: right;\n",
       "    }\n",
       "</style>\n",
       "<table border=\"1\" class=\"dataframe\">\n",
       "  <thead>\n",
       "    <tr style=\"text-align: right;\">\n",
       "      <th></th>\n",
       "      <th>fixed acidity</th>\n",
       "      <th>volatile acidity</th>\n",
       "      <th>citric acid</th>\n",
       "      <th>residual sugar</th>\n",
       "      <th>chlorides</th>\n",
       "      <th>free sulfur dioxide</th>\n",
       "      <th>total sulfur dioxide</th>\n",
       "      <th>density</th>\n",
       "      <th>pH</th>\n",
       "      <th>sulphates</th>\n",
       "      <th>alcohol</th>\n",
       "      <th>quality</th>\n",
       "    </tr>\n",
       "  </thead>\n",
       "  <tbody>\n",
       "    <tr>\n",
       "      <th>0</th>\n",
       "      <td>7.0</td>\n",
       "      <td>0.27</td>\n",
       "      <td>0.36</td>\n",
       "      <td>20.7</td>\n",
       "      <td>0.045</td>\n",
       "      <td>45.0</td>\n",
       "      <td>170.0</td>\n",
       "      <td>1.0010</td>\n",
       "      <td>3.00</td>\n",
       "      <td>0.45</td>\n",
       "      <td>8.8</td>\n",
       "      <td>6.0</td>\n",
       "    </tr>\n",
       "    <tr>\n",
       "      <th>1</th>\n",
       "      <td>6.3</td>\n",
       "      <td>0.30</td>\n",
       "      <td>0.34</td>\n",
       "      <td>1.6</td>\n",
       "      <td>0.049</td>\n",
       "      <td>14.0</td>\n",
       "      <td>132.0</td>\n",
       "      <td>0.9940</td>\n",
       "      <td>3.30</td>\n",
       "      <td>0.49</td>\n",
       "      <td>9.5</td>\n",
       "      <td>6.0</td>\n",
       "    </tr>\n",
       "    <tr>\n",
       "      <th>2</th>\n",
       "      <td>8.1</td>\n",
       "      <td>0.28</td>\n",
       "      <td>0.40</td>\n",
       "      <td>6.9</td>\n",
       "      <td>0.050</td>\n",
       "      <td>30.0</td>\n",
       "      <td>97.0</td>\n",
       "      <td>0.9951</td>\n",
       "      <td>3.26</td>\n",
       "      <td>0.44</td>\n",
       "      <td>10.1</td>\n",
       "      <td>6.0</td>\n",
       "    </tr>\n",
       "    <tr>\n",
       "      <th>3</th>\n",
       "      <td>7.2</td>\n",
       "      <td>0.23</td>\n",
       "      <td>0.32</td>\n",
       "      <td>8.5</td>\n",
       "      <td>0.058</td>\n",
       "      <td>47.0</td>\n",
       "      <td>186.0</td>\n",
       "      <td>0.9956</td>\n",
       "      <td>3.19</td>\n",
       "      <td>0.40</td>\n",
       "      <td>9.9</td>\n",
       "      <td>6.0</td>\n",
       "    </tr>\n",
       "    <tr>\n",
       "      <th>4</th>\n",
       "      <td>7.2</td>\n",
       "      <td>0.23</td>\n",
       "      <td>0.32</td>\n",
       "      <td>8.5</td>\n",
       "      <td>0.058</td>\n",
       "      <td>47.0</td>\n",
       "      <td>186.0</td>\n",
       "      <td>0.9956</td>\n",
       "      <td>3.19</td>\n",
       "      <td>0.40</td>\n",
       "      <td>9.9</td>\n",
       "      <td>6.0</td>\n",
       "    </tr>\n",
       "  </tbody>\n",
       "</table>\n",
       "</div>"
      ],
      "text/plain": [
       "   fixed acidity  volatile acidity  citric acid  residual sugar  chlorides  \\\n",
       "0            7.0              0.27         0.36            20.7      0.045   \n",
       "1            6.3              0.30         0.34             1.6      0.049   \n",
       "2            8.1              0.28         0.40             6.9      0.050   \n",
       "3            7.2              0.23         0.32             8.5      0.058   \n",
       "4            7.2              0.23         0.32             8.5      0.058   \n",
       "\n",
       "   free sulfur dioxide  total sulfur dioxide  density    pH  sulphates  \\\n",
       "0                 45.0                 170.0   1.0010  3.00       0.45   \n",
       "1                 14.0                 132.0   0.9940  3.30       0.49   \n",
       "2                 30.0                  97.0   0.9951  3.26       0.44   \n",
       "3                 47.0                 186.0   0.9956  3.19       0.40   \n",
       "4                 47.0                 186.0   0.9956  3.19       0.40   \n",
       "\n",
       "   alcohol  quality  \n",
       "0      8.8      6.0  \n",
       "1      9.5      6.0  \n",
       "2     10.1      6.0  \n",
       "3      9.9      6.0  \n",
       "4      9.9      6.0  "
      ]
     },
     "execution_count": 33,
     "metadata": {},
     "output_type": "execute_result"
    }
   ],
   "source": [
    "df2.head()"
   ]
  },
  {
   "cell_type": "code",
   "execution_count": 34,
   "metadata": {
    "colab": {
     "base_uri": "https://localhost:8080/",
     "height": 241
    },
    "id": "b985stAKHuyq",
    "outputId": "fc471037-6289-4c31-857b-9f89e6f4d5c6"
   },
   "outputs": [
    {
     "data": {
      "text/html": [
       "<div>\n",
       "<style scoped>\n",
       "    .dataframe tbody tr th:only-of-type {\n",
       "        vertical-align: middle;\n",
       "    }\n",
       "\n",
       "    .dataframe tbody tr th {\n",
       "        vertical-align: top;\n",
       "    }\n",
       "\n",
       "    .dataframe thead th {\n",
       "        text-align: right;\n",
       "    }\n",
       "</style>\n",
       "<table border=\"1\" class=\"dataframe\">\n",
       "  <thead>\n",
       "    <tr style=\"text-align: right;\">\n",
       "      <th></th>\n",
       "      <th>fixed acidity</th>\n",
       "      <th>volatile acidity</th>\n",
       "      <th>residual sugar</th>\n",
       "      <th>chlorides</th>\n",
       "      <th>free sulfur dioxide</th>\n",
       "      <th>total sulfur dioxide</th>\n",
       "      <th>density</th>\n",
       "      <th>pH</th>\n",
       "      <th>sulphates</th>\n",
       "      <th>alcohol</th>\n",
       "      <th>quality</th>\n",
       "      <th>tr_citric</th>\n",
       "    </tr>\n",
       "  </thead>\n",
       "  <tbody>\n",
       "    <tr>\n",
       "      <th>0</th>\n",
       "      <td>7.0</td>\n",
       "      <td>0.27</td>\n",
       "      <td>20.7</td>\n",
       "      <td>0.045</td>\n",
       "      <td>45.0</td>\n",
       "      <td>170.0</td>\n",
       "      <td>1.0010</td>\n",
       "      <td>3.00</td>\n",
       "      <td>0.45</td>\n",
       "      <td>8.8</td>\n",
       "      <td>6.0</td>\n",
       "      <td>0.307485</td>\n",
       "    </tr>\n",
       "    <tr>\n",
       "      <th>1</th>\n",
       "      <td>6.3</td>\n",
       "      <td>0.30</td>\n",
       "      <td>1.6</td>\n",
       "      <td>0.049</td>\n",
       "      <td>14.0</td>\n",
       "      <td>132.0</td>\n",
       "      <td>0.9940</td>\n",
       "      <td>3.30</td>\n",
       "      <td>0.49</td>\n",
       "      <td>9.5</td>\n",
       "      <td>6.0</td>\n",
       "      <td>0.292670</td>\n",
       "    </tr>\n",
       "    <tr>\n",
       "      <th>2</th>\n",
       "      <td>8.1</td>\n",
       "      <td>0.28</td>\n",
       "      <td>6.9</td>\n",
       "      <td>0.050</td>\n",
       "      <td>30.0</td>\n",
       "      <td>97.0</td>\n",
       "      <td>0.9951</td>\n",
       "      <td>3.26</td>\n",
       "      <td>0.44</td>\n",
       "      <td>10.1</td>\n",
       "      <td>6.0</td>\n",
       "      <td>0.336472</td>\n",
       "    </tr>\n",
       "    <tr>\n",
       "      <th>3</th>\n",
       "      <td>7.2</td>\n",
       "      <td>0.23</td>\n",
       "      <td>8.5</td>\n",
       "      <td>0.058</td>\n",
       "      <td>47.0</td>\n",
       "      <td>186.0</td>\n",
       "      <td>0.9956</td>\n",
       "      <td>3.19</td>\n",
       "      <td>0.40</td>\n",
       "      <td>9.9</td>\n",
       "      <td>6.0</td>\n",
       "      <td>0.277632</td>\n",
       "    </tr>\n",
       "    <tr>\n",
       "      <th>4</th>\n",
       "      <td>7.2</td>\n",
       "      <td>0.23</td>\n",
       "      <td>8.5</td>\n",
       "      <td>0.058</td>\n",
       "      <td>47.0</td>\n",
       "      <td>186.0</td>\n",
       "      <td>0.9956</td>\n",
       "      <td>3.19</td>\n",
       "      <td>0.40</td>\n",
       "      <td>9.9</td>\n",
       "      <td>6.0</td>\n",
       "      <td>0.277632</td>\n",
       "    </tr>\n",
       "  </tbody>\n",
       "</table>\n",
       "</div>"
      ],
      "text/plain": [
       "   fixed acidity  volatile acidity  residual sugar  chlorides  \\\n",
       "0            7.0              0.27            20.7      0.045   \n",
       "1            6.3              0.30             1.6      0.049   \n",
       "2            8.1              0.28             6.9      0.050   \n",
       "3            7.2              0.23             8.5      0.058   \n",
       "4            7.2              0.23             8.5      0.058   \n",
       "\n",
       "   free sulfur dioxide  total sulfur dioxide  density    pH  sulphates  \\\n",
       "0                 45.0                 170.0   1.0010  3.00       0.45   \n",
       "1                 14.0                 132.0   0.9940  3.30       0.49   \n",
       "2                 30.0                  97.0   0.9951  3.26       0.44   \n",
       "3                 47.0                 186.0   0.9956  3.19       0.40   \n",
       "4                 47.0                 186.0   0.9956  3.19       0.40   \n",
       "\n",
       "   alcohol  quality  tr_citric  \n",
       "0      8.8      6.0   0.307485  \n",
       "1      9.5      6.0   0.292670  \n",
       "2     10.1      6.0   0.336472  \n",
       "3      9.9      6.0   0.277632  \n",
       "4      9.9      6.0   0.277632  "
      ]
     },
     "execution_count": 34,
     "metadata": {},
     "output_type": "execute_result"
    }
   ],
   "source": [
    "df_r = df2.copy()\n",
    "df_r['tr_citric'] = np.log1p(df_r['citric acid'])\n",
    "df_r.drop({'citric acid'}, axis=1, inplace= True)\n",
    "df_r.head()"
   ]
  },
  {
   "cell_type": "code",
   "execution_count": 35,
   "metadata": {
    "colab": {
     "base_uri": "https://localhost:8080/"
    },
    "id": "VjEArJXgHu2J",
    "outputId": "d6a5c0fd-5bc6-4d08-fe10-f4d00eb1b6d9"
   },
   "outputs": [
    {
     "name": "stdout",
     "output_type": "stream",
     "text": [
      "                            OLS Regression Results                            \n",
      "==============================================================================\n",
      "Dep. Variable:                quality   R-squared:                       0.282\n",
      "Model:                            OLS   Adj. R-squared:                  0.280\n",
      "Method:                 Least Squares   F-statistic:                     174.4\n",
      "Date:                Thu, 08 Apr 2021   Prob (F-statistic):               0.00\n",
      "Time:                        16:39:41   Log-Likelihood:                -5543.5\n",
      "No. Observations:                4898   AIC:                         1.111e+04\n",
      "Df Residuals:                    4886   BIC:                         1.119e+04\n",
      "Df Model:                          11                                         \n",
      "Covariance Type:            nonrobust                                         \n",
      "========================================================================================\n",
      "                           coef    std err          t      P>|t|      [0.025      0.975]\n",
      "----------------------------------------------------------------------------------------\n",
      "const                  150.8039     18.803      8.020      0.000     113.942     187.666\n",
      "fixed acidity            0.0641      0.021      3.069      0.002       0.023       0.105\n",
      "volatile acidity        -1.8512      0.114    -16.182      0.000      -2.076      -1.627\n",
      "residual sugar           0.0816      0.008     10.847      0.000       0.067       0.096\n",
      "chlorides               -0.2756      0.547     -0.504      0.614      -1.347       0.796\n",
      "free sulfur dioxide      0.0037      0.001      4.407      0.000       0.002       0.005\n",
      "total sulfur dioxide    -0.0003      0.000     -0.780      0.435      -0.001       0.000\n",
      "density               -150.9100     19.074     -7.912      0.000    -188.303    -113.517\n",
      "pH                       0.6906      0.105      6.553      0.000       0.484       0.897\n",
      "sulphates                0.6292      0.100      6.267      0.000       0.432       0.826\n",
      "alcohol                  0.1922      0.024      7.932      0.000       0.145       0.240\n",
      "tr_citric                0.0957      0.134      0.717      0.474      -0.166       0.357\n",
      "==============================================================================\n",
      "Omnibus:                      114.465   Durbin-Watson:                   1.620\n",
      "Prob(Omnibus):                  0.000   Jarque-Bera (JB):              252.384\n",
      "Skew:                           0.074   Prob(JB):                     1.57e-55\n",
      "Kurtosis:                       4.102   Cond. No.                     3.74e+05\n",
      "==============================================================================\n",
      "\n",
      "Notes:\n",
      "[1] Standard Errors assume that the covariance matrix of the errors is correctly specified.\n",
      "[2] The condition number is large, 3.74e+05. This might indicate that there are\n",
      "strong multicollinearity or other numerical problems.\n"
     ]
    }
   ],
   "source": [
    "xc= sm.add_constant(df_r.loc[:, df_r.columns != 'quality'])\n",
    "md= sm.OLS(df_r['quality'], xc).fit()\n",
    "print(md.summary())"
   ]
  },
  {
   "cell_type": "code",
   "execution_count": 36,
   "metadata": {
    "id": "5J8sw19qHu5T"
   },
   "outputs": [],
   "source": [
    "# Still insignificant. \n",
    "\n",
    "# transformation did not help. no improve in overall model performance"
   ]
  },
  {
   "cell_type": "markdown",
   "metadata": {
    "collapsed": true,
    "id": "kpZsmoiTkVPM"
   },
   "source": [
    "<table align=\"left\">\n",
    "    <tr>\n",
    "        <td>\n",
    "            <div align=\"left\", style=\"font-size:120%\">\n",
    "                <font color=\"#21618C\">\n",
    "                    <b>9. Fit a full model. Check whether variable has linear relationship with the wine quality<br></b>\n",
    "                </font>\n",
    "            </div>\n",
    "        </td>\n",
    "    </tr>\n",
    "</table>"
   ]
  },
  {
   "cell_type": "code",
   "execution_count": 37,
   "metadata": {
    "id": "VLInp_4DOmbl"
   },
   "outputs": [],
   "source": [
    "qual = df2['quality']\n",
    "df2.drop({'quality'}, axis=1, inplace= True)"
   ]
  },
  {
   "cell_type": "code",
   "execution_count": 38,
   "metadata": {
    "colab": {
     "base_uri": "https://localhost:8080/"
    },
    "id": "eMDm2STAK4uq",
    "outputId": "ed1773f3-5e3e-41e9-d0fc-967c1476971a"
   },
   "outputs": [
    {
     "name": "stdout",
     "output_type": "stream",
     "text": [
      "                            OLS Regression Results                            \n",
      "==============================================================================\n",
      "Dep. Variable:                quality   R-squared:                       0.282\n",
      "Model:                            OLS   Adj. R-squared:                  0.280\n",
      "Method:                 Least Squares   F-statistic:                     174.3\n",
      "Date:                Thu, 08 Apr 2021   Prob (F-statistic):               0.00\n",
      "Time:                        16:39:41   Log-Likelihood:                -5543.7\n",
      "No. Observations:                4898   AIC:                         1.111e+04\n",
      "Df Residuals:                    4886   BIC:                         1.119e+04\n",
      "Df Model:                          11                                         \n",
      "Covariance Type:            nonrobust                                         \n",
      "========================================================================================\n",
      "                           coef    std err          t      P>|t|      [0.025      0.975]\n",
      "----------------------------------------------------------------------------------------\n",
      "const                  150.1928     18.804      7.987      0.000     113.328     187.057\n",
      "fixed acidity            0.0655      0.021      3.139      0.002       0.025       0.106\n",
      "volatile acidity        -1.8632      0.114    -16.373      0.000      -2.086      -1.640\n",
      "citric acid              0.0221      0.096      0.231      0.818      -0.166       0.210\n",
      "residual sugar           0.0815      0.008     10.825      0.000       0.067       0.096\n",
      "chlorides               -0.2473      0.547     -0.452      0.651      -1.319       0.824\n",
      "free sulfur dioxide      0.0037      0.001      4.422      0.000       0.002       0.005\n",
      "total sulfur dioxide    -0.0003      0.000     -0.756      0.450      -0.001       0.000\n",
      "density               -150.2842     19.075     -7.879      0.000    -187.679    -112.890\n",
      "pH                       0.6863      0.105      6.513      0.000       0.480       0.893\n",
      "sulphates                0.6315      0.100      6.291      0.000       0.435       0.828\n",
      "alcohol                  0.1935      0.024      7.988      0.000       0.146       0.241\n",
      "==============================================================================\n",
      "Omnibus:                      114.161   Durbin-Watson:                   1.621\n",
      "Prob(Omnibus):                  0.000   Jarque-Bera (JB):              251.637\n",
      "Skew:                           0.073   Prob(JB):                     2.28e-55\n",
      "Kurtosis:                       4.101   Cond. No.                     3.74e+05\n",
      "==============================================================================\n",
      "\n",
      "Notes:\n",
      "[1] Standard Errors assume that the covariance matrix of the errors is correctly specified.\n",
      "[2] The condition number is large, 3.74e+05. This might indicate that there are\n",
      "strong multicollinearity or other numerical problems.\n"
     ]
    }
   ],
   "source": [
    "xc= sm.add_constant(df2.loc[:, df2.columns!= 'quality'])\n",
    "md= sm.OLS(qual, xc).fit()\n",
    "print(md.summary())"
   ]
  },
  {
   "cell_type": "code",
   "execution_count": 39,
   "metadata": {
    "colab": {
     "base_uri": "https://localhost:8080/",
     "height": 265
    },
    "id": "Iu8J2P1xLIcQ",
    "outputId": "d0192cb1-0e85-4da3-d83c-1dcafa632f7a"
   },
   "outputs": [
    {
     "data": {
      "image/png": "[encoded data removed]",
      "text/plain": [
       "<Figure size 432x288 with 1 Axes>"
      ]
     },
     "metadata": {
      "needs_background": "light"
     },
     "output_type": "display_data"
    }
   ],
   "source": [
    "y_r = md.predict(xc)\n",
    "sns.regplot(x=y_r, y=qual, lowess=True, line_kws={'color': 'red'})\n",
    "plt.show()"
   ]
  },
  {
   "cell_type": "code",
   "execution_count": 40,
   "metadata": {
    "id": "G3wE5xKBPnaB"
   },
   "outputs": [],
   "source": [
    "# SInce p value of rainbow test is more than 0.05, we fail to reject the null hypothesis. model linearity can be explained by the cental values "
   ]
  },
  {
   "cell_type": "code",
   "execution_count": 41,
   "metadata": {
    "colab": {
     "base_uri": "https://localhost:8080/"
    },
    "id": "ebcOPQxhkVPM",
    "outputId": "68cc898b-5989-4982-92a7-73a6626dd306"
   },
   "outputs": [
    {
     "data": {
      "text/plain": [
       "(1.060162525521693, 0.07444168579082616)"
      ]
     },
     "execution_count": 41,
     "metadata": {},
     "output_type": "execute_result"
    }
   ],
   "source": [
    "sm.stats.diagnostic.linear_rainbow(md)"
   ]
  },
  {
   "cell_type": "markdown",
   "metadata": {
    "id": "qRfH8XpVkVPN"
   },
   "source": [
    "<a id=\"sel\"> </a>\n",
    "## 2. Feature Selection"
   ]
  },
  {
   "cell_type": "markdown",
   "metadata": {
    "collapsed": true,
    "id": "Zzqg5hJNkVPO"
   },
   "source": [
    "<table align=\"left\">\n",
    "    <tr>\n",
    "        <td>\n",
    "            <div align=\"left\", style=\"font-size:120%\">\n",
    "                <font color=\"#21618C\">\n",
    "                    <b>10. Find the top five significant variables from the dataset using forward selection technique. Also display the R-squared score for the model built using these five variables.</b>\n",
    "                </font>\n",
    "            </div>\n",
    "        </td>\n",
    "    </tr>\n",
    "</table>"
   ]
  },
  {
   "cell_type": "code",
   "execution_count": 42,
   "metadata": {
    "id": "iO0bxd4vkVPP"
   },
   "outputs": [],
   "source": [
    "# SFS\n",
    "\n",
    "from mlxtend.feature_selection import SequentialFeatureSelector as sfs"
   ]
  },
  {
   "cell_type": "code",
   "execution_count": 43,
   "metadata": {
    "colab": {
     "base_uri": "https://localhost:8080/"
    },
    "id": "3DVNgD5BQvDz",
    "outputId": "cd0d60c9-6895-42d3-beb6-7b9638ba86d1"
   },
   "outputs": [
    {
     "data": {
      "text/plain": [
       "SequentialFeatureSelector(cv=3, estimator=LinearRegression(), k_features=5,\n",
       "                          n_jobs=-1)"
      ]
     },
     "execution_count": 43,
     "metadata": {},
     "output_type": "execute_result"
    }
   ],
   "source": [
    "\n",
    "\n",
    "from sklearn.linear_model import LinearRegression\n",
    "ar = LinearRegression()\n",
    "sfs_ = sfs(ar, k_features=5, cv=3 ,n_jobs=-1)\n",
    "sfs_.fit(df2, qual)"
   ]
  },
  {
   "cell_type": "code",
   "execution_count": 44,
   "metadata": {
    "colab": {
     "base_uri": "https://localhost:8080/",
     "height": 227
    },
    "id": "tdoS-rcgSsQp",
    "outputId": "2908d5ef-f3c9-46da-8692-b5532f0adf9e"
   },
   "outputs": [
    {
     "data": {
      "text/html": [
       "<div>\n",
       "<style scoped>\n",
       "    .dataframe tbody tr th:only-of-type {\n",
       "        vertical-align: middle;\n",
       "    }\n",
       "\n",
       "    .dataframe tbody tr th {\n",
       "        vertical-align: top;\n",
       "    }\n",
       "\n",
       "    .dataframe thead th {\n",
       "        text-align: right;\n",
       "    }\n",
       "</style>\n",
       "<table border=\"1\" class=\"dataframe\">\n",
       "  <thead>\n",
       "    <tr style=\"text-align: right;\">\n",
       "      <th></th>\n",
       "      <th>1</th>\n",
       "      <th>2</th>\n",
       "      <th>3</th>\n",
       "      <th>4</th>\n",
       "      <th>5</th>\n",
       "    </tr>\n",
       "  </thead>\n",
       "  <tbody>\n",
       "    <tr>\n",
       "      <th>feature_idx</th>\n",
       "      <td>(10,)</td>\n",
       "      <td>(1, 10)</td>\n",
       "      <td>(1, 3, 10)</td>\n",
       "      <td>(1, 3, 9, 10)</td>\n",
       "      <td>(1, 3, 5, 9, 10)</td>\n",
       "    </tr>\n",
       "    <tr>\n",
       "      <th>cv_scores</th>\n",
       "      <td>[0.16574618114101658, 0.20917912605444056, 0.1...</td>\n",
       "      <td>[0.21385833173588997, 0.23852024663773097, 0.2...</td>\n",
       "      <td>[0.2022050407706666, 0.26510556487096426, 0.25...</td>\n",
       "      <td>[0.20514334320361594, 0.270694490236264, 0.255...</td>\n",
       "      <td>[0.21122032123102397, 0.27693899742367056, 0.2...</td>\n",
       "    </tr>\n",
       "    <tr>\n",
       "      <th>avg_score</th>\n",
       "      <td>0.176708</td>\n",
       "      <td>0.229091</td>\n",
       "      <td>0.242409</td>\n",
       "      <td>0.243901</td>\n",
       "      <td>0.244463</td>\n",
       "    </tr>\n",
       "    <tr>\n",
       "      <th>feature_names</th>\n",
       "      <td>(alcohol,)</td>\n",
       "      <td>(volatile acidity, alcohol)</td>\n",
       "      <td>(volatile acidity, residual sugar, alcohol)</td>\n",
       "      <td>(volatile acidity, residual sugar, sulphates, ...</td>\n",
       "      <td>(volatile acidity, residual sugar, free sulfur...</td>\n",
       "    </tr>\n",
       "  </tbody>\n",
       "</table>\n",
       "</div>"
      ],
      "text/plain": [
       "                                                               1  \\\n",
       "feature_idx                                                (10,)   \n",
       "cv_scores      [0.16574618114101658, 0.20917912605444056, 0.1...   \n",
       "avg_score                                               0.176708   \n",
       "feature_names                                         (alcohol,)   \n",
       "\n",
       "                                                               2  \\\n",
       "feature_idx                                              (1, 10)   \n",
       "cv_scores      [0.21385833173588997, 0.23852024663773097, 0.2...   \n",
       "avg_score                                               0.229091   \n",
       "feature_names                        (volatile acidity, alcohol)   \n",
       "\n",
       "                                                               3  \\\n",
       "feature_idx                                           (1, 3, 10)   \n",
       "cv_scores      [0.2022050407706666, 0.26510556487096426, 0.25...   \n",
       "avg_score                                               0.242409   \n",
       "feature_names        (volatile acidity, residual sugar, alcohol)   \n",
       "\n",
       "                                                               4  \\\n",
       "feature_idx                                        (1, 3, 9, 10)   \n",
       "cv_scores      [0.20514334320361594, 0.270694490236264, 0.255...   \n",
       "avg_score                                               0.243901   \n",
       "feature_names  (volatile acidity, residual sugar, sulphates, ...   \n",
       "\n",
       "                                                               5  \n",
       "feature_idx                                     (1, 3, 5, 9, 10)  \n",
       "cv_scores      [0.21122032123102397, 0.27693899742367056, 0.2...  \n",
       "avg_score                                               0.244463  \n",
       "feature_names  (volatile acidity, residual sugar, free sulfur...  "
      ]
     },
     "execution_count": 44,
     "metadata": {},
     "output_type": "execute_result"
    }
   ],
   "source": [
    "pd.DataFrame(sfs_.subsets_)"
   ]
  },
  {
   "cell_type": "code",
   "execution_count": 45,
   "metadata": {
    "colab": {
     "base_uri": "https://localhost:8080/"
    },
    "id": "fDp-QRMNSsaK",
    "outputId": "d00b5495-b7a6-43a6-a97a-c29ea6f869cc"
   },
   "outputs": [
    {
     "data": {
      "text/plain": [
       "('volatile acidity',\n",
       " 'residual sugar',\n",
       " 'free sulfur dioxide',\n",
       " 'sulphates',\n",
       " 'alcohol')"
      ]
     },
     "execution_count": 45,
     "metadata": {},
     "output_type": "execute_result"
    }
   ],
   "source": [
    "# 5 top selected columns\n",
    "\n",
    "sfs_.k_feature_names_"
   ]
  },
  {
   "cell_type": "code",
   "execution_count": 46,
   "metadata": {
    "colab": {
     "base_uri": "https://localhost:8080/"
    },
    "id": "G0PI2bhSSsh2",
    "outputId": "b70bcfc8-a667-47dc-b2cb-98affe61da5f"
   },
   "outputs": [
    {
     "name": "stdout",
     "output_type": "stream",
     "text": [
      "                            OLS Regression Results                            \n",
      "==============================================================================\n",
      "Dep. Variable:                quality   R-squared:                       0.267\n",
      "Model:                            OLS   Adj. R-squared:                  0.266\n",
      "Method:                 Least Squares   F-statistic:                     356.2\n",
      "Date:                Thu, 08 Apr 2021   Prob (F-statistic):               0.00\n",
      "Time:                        16:39:50   Log-Likelihood:                -5594.3\n",
      "No. Observations:                4898   AIC:                         1.120e+04\n",
      "Df Residuals:                    4892   BIC:                         1.124e+04\n",
      "Df Model:                           5                                         \n",
      "Covariance Type:            nonrobust                                         \n",
      "=======================================================================================\n",
      "                          coef    std err          t      P>|t|      [0.025      0.975]\n",
      "---------------------------------------------------------------------------------------\n",
      "const                   1.9193      0.129     14.904      0.000       1.667       2.172\n",
      "volatile acidity       -2.0236      0.109    -18.547      0.000      -2.237      -1.810\n",
      "residual sugar          0.0238      0.002      9.596      0.000       0.019       0.029\n",
      "free sulfur dioxide     0.0039      0.001      5.749      0.000       0.003       0.005\n",
      "sulphates               0.4184      0.095      4.389      0.000       0.231       0.605\n",
      "alcohol                 0.3830      0.010     38.274      0.000       0.363       0.403\n",
      "==============================================================================\n",
      "Omnibus:                      104.067   Durbin-Watson:                   1.634\n",
      "Prob(Omnibus):                  0.000   Jarque-Bera (JB):              223.926\n",
      "Skew:                           0.050   Prob(JB):                     2.37e-49\n",
      "Kurtosis:                       4.043   Cond. No.                         527.\n",
      "==============================================================================\n",
      "\n",
      "Notes:\n",
      "[1] Standard Errors assume that the covariance matrix of the errors is correctly specified.\n"
     ]
    }
   ],
   "source": [
    "rtr= df2[list(sfs_.k_feature_names_)]\n",
    "xc= sm.add_constant(rtr)\n",
    "md= sm.OLS(qual, xc).fit()\n",
    "print(md.summary())"
   ]
  },
  {
   "cell_type": "code",
   "execution_count": 47,
   "metadata": {
    "id": "lhUQRwswvGBj"
   },
   "outputs": [],
   "source": [
    "# score is 26.6 percent."
   ]
  },
  {
   "cell_type": "markdown",
   "metadata": {
    "collapsed": true,
    "id": "LlW8RtVhkVPQ"
   },
   "source": [
    "<table align=\"left\">\n",
    "    <tr>\n",
    "        <td>\n",
    "            <div align=\"left\", style=\"font-size:120%\">\n",
    "                <font color=\"#21618C\">\n",
    "                        <b>11. Find the top five significant variables from the dataset using backward elimination technique. Also display the R-squared score for the model built using these five variables.<br><br> Compare the R-squared value obtained from question 10 with the value obtained using backward elimination.</b>\n",
    "                </font>\n",
    "            </div>\n",
    "        </td>\n",
    "    </tr>\n",
    "</table>"
   ]
  },
  {
   "cell_type": "code",
   "execution_count": 48,
   "metadata": {
    "colab": {
     "base_uri": "https://localhost:8080/"
    },
    "id": "MM1EmA8QkVPR",
    "outputId": "13457835-aa64-431b-d580-689d4abd68fb"
   },
   "outputs": [
    {
     "data": {
      "text/plain": [
       "RFE(estimator=LinearRegression(), n_features_to_select=5)"
      ]
     },
     "execution_count": 48,
     "metadata": {},
     "output_type": "execute_result"
    }
   ],
   "source": [
    "from sklearn.feature_selection import RFE\n",
    "ar = LinearRegression()\n",
    "rfe_ = RFE(ar, n_features_to_select = 5)\n",
    "rfe_.fit(df2, qual)"
   ]
  },
  {
   "cell_type": "code",
   "execution_count": 49,
   "metadata": {
    "id": "-OKlVcmoZaWa"
   },
   "outputs": [],
   "source": [
    "al = pd.DataFrame(rfe_.ranking_, index=df2.columns, columns=['ranks'])"
   ]
  },
  {
   "cell_type": "code",
   "execution_count": 50,
   "metadata": {
    "colab": {
     "base_uri": "https://localhost:8080/",
     "height": 206
    },
    "id": "xNOfnZfwaFih",
    "outputId": "1dcdbe89-9e41-4e2a-9dc0-c56847ab5db4"
   },
   "outputs": [
    {
     "data": {
      "text/html": [
       "<div>\n",
       "<style scoped>\n",
       "    .dataframe tbody tr th:only-of-type {\n",
       "        vertical-align: middle;\n",
       "    }\n",
       "\n",
       "    .dataframe tbody tr th {\n",
       "        vertical-align: top;\n",
       "    }\n",
       "\n",
       "    .dataframe thead th {\n",
       "        text-align: right;\n",
       "    }\n",
       "</style>\n",
       "<table border=\"1\" class=\"dataframe\">\n",
       "  <thead>\n",
       "    <tr style=\"text-align: right;\">\n",
       "      <th></th>\n",
       "      <th>ranks</th>\n",
       "    </tr>\n",
       "  </thead>\n",
       "  <tbody>\n",
       "    <tr>\n",
       "      <th>volatile acidity</th>\n",
       "      <td>1</td>\n",
       "    </tr>\n",
       "    <tr>\n",
       "      <th>chlorides</th>\n",
       "      <td>1</td>\n",
       "    </tr>\n",
       "    <tr>\n",
       "      <th>density</th>\n",
       "      <td>1</td>\n",
       "    </tr>\n",
       "    <tr>\n",
       "      <th>sulphates</th>\n",
       "      <td>1</td>\n",
       "    </tr>\n",
       "    <tr>\n",
       "      <th>alcohol</th>\n",
       "      <td>1</td>\n",
       "    </tr>\n",
       "  </tbody>\n",
       "</table>\n",
       "</div>"
      ],
      "text/plain": [
       "                  ranks\n",
       "volatile acidity      1\n",
       "chlorides             1\n",
       "density               1\n",
       "sulphates             1\n",
       "alcohol               1"
      ]
     },
     "execution_count": 50,
     "metadata": {},
     "output_type": "execute_result"
    }
   ],
   "source": [
    "al.loc[al['ranks'] == 1]"
   ]
  },
  {
   "cell_type": "code",
   "execution_count": 51,
   "metadata": {
    "colab": {
     "base_uri": "https://localhost:8080/",
     "height": 206
    },
    "id": "iR0xPl7naiUo",
    "outputId": "0c25cb6d-1e01-4904-d3c0-218eee6bcaa2"
   },
   "outputs": [
    {
     "data": {
      "text/html": [
       "<div>\n",
       "<style scoped>\n",
       "    .dataframe tbody tr th:only-of-type {\n",
       "        vertical-align: middle;\n",
       "    }\n",
       "\n",
       "    .dataframe tbody tr th {\n",
       "        vertical-align: top;\n",
       "    }\n",
       "\n",
       "    .dataframe thead th {\n",
       "        text-align: right;\n",
       "    }\n",
       "</style>\n",
       "<table border=\"1\" class=\"dataframe\">\n",
       "  <thead>\n",
       "    <tr style=\"text-align: right;\">\n",
       "      <th></th>\n",
       "      <th>volatile acidity</th>\n",
       "      <th>chlorides</th>\n",
       "      <th>density</th>\n",
       "      <th>sulphates</th>\n",
       "      <th>alcohol</th>\n",
       "    </tr>\n",
       "  </thead>\n",
       "  <tbody>\n",
       "    <tr>\n",
       "      <th>0</th>\n",
       "      <td>0.27</td>\n",
       "      <td>0.045</td>\n",
       "      <td>1.0010</td>\n",
       "      <td>0.45</td>\n",
       "      <td>8.8</td>\n",
       "    </tr>\n",
       "    <tr>\n",
       "      <th>1</th>\n",
       "      <td>0.30</td>\n",
       "      <td>0.049</td>\n",
       "      <td>0.9940</td>\n",
       "      <td>0.49</td>\n",
       "      <td>9.5</td>\n",
       "    </tr>\n",
       "    <tr>\n",
       "      <th>2</th>\n",
       "      <td>0.28</td>\n",
       "      <td>0.050</td>\n",
       "      <td>0.9951</td>\n",
       "      <td>0.44</td>\n",
       "      <td>10.1</td>\n",
       "    </tr>\n",
       "    <tr>\n",
       "      <th>3</th>\n",
       "      <td>0.23</td>\n",
       "      <td>0.058</td>\n",
       "      <td>0.9956</td>\n",
       "      <td>0.40</td>\n",
       "      <td>9.9</td>\n",
       "    </tr>\n",
       "    <tr>\n",
       "      <th>4</th>\n",
       "      <td>0.23</td>\n",
       "      <td>0.058</td>\n",
       "      <td>0.9956</td>\n",
       "      <td>0.40</td>\n",
       "      <td>9.9</td>\n",
       "    </tr>\n",
       "  </tbody>\n",
       "</table>\n",
       "</div>"
      ],
      "text/plain": [
       "   volatile acidity  chlorides  density  sulphates  alcohol\n",
       "0              0.27      0.045   1.0010       0.45      8.8\n",
       "1              0.30      0.049   0.9940       0.49      9.5\n",
       "2              0.28      0.050   0.9951       0.44     10.1\n",
       "3              0.23      0.058   0.9956       0.40      9.9\n",
       "4              0.23      0.058   0.9956       0.40      9.9"
      ]
     },
     "execution_count": 51,
     "metadata": {},
     "output_type": "execute_result"
    }
   ],
   "source": [
    "rr= al.loc[al['ranks'] == 1].index\n",
    "df_new= df2[rr]\n",
    "df_new.head()"
   ]
  },
  {
   "cell_type": "code",
   "execution_count": 52,
   "metadata": {
    "colab": {
     "base_uri": "https://localhost:8080/"
    },
    "id": "tlOXAavTasEC",
    "outputId": "2f7fe1ea-be8a-4171-ebca-3c9b90b94b87"
   },
   "outputs": [
    {
     "name": "stdout",
     "output_type": "stream",
     "text": [
      "                            OLS Regression Results                            \n",
      "==============================================================================\n",
      "Dep. Variable:                quality   R-squared:                       0.250\n",
      "Model:                            OLS   Adj. R-squared:                  0.249\n",
      "Method:                 Least Squares   F-statistic:                     326.0\n",
      "Date:                Thu, 08 Apr 2021   Prob (F-statistic):          3.90e-302\n",
      "Time:                        16:39:50   Log-Likelihood:                -5650.4\n",
      "No. Observations:                4898   AIC:                         1.131e+04\n",
      "Df Residuals:                    4892   BIC:                         1.135e+04\n",
      "Df Model:                           5                                         \n",
      "Covariance Type:            nonrobust                                         \n",
      "====================================================================================\n",
      "                       coef    std err          t      P>|t|      [0.025      0.975]\n",
      "------------------------------------------------------------------------------------\n",
      "const              -33.4308      6.030     -5.544      0.000     -45.252     -21.610\n",
      "volatile acidity    -2.0230      0.111    -18.267      0.000      -2.240      -1.806\n",
      "chlorides           -1.3413      0.542     -2.476      0.013      -2.403      -0.279\n",
      "density             35.9256      5.950      6.037      0.000      24.260      47.591\n",
      "sulphates            0.3592      0.097      3.715      0.000       0.170       0.549\n",
      "alcohol              0.3848      0.015     25.626      0.000       0.355       0.414\n",
      "==============================================================================\n",
      "Omnibus:                       91.160   Durbin-Watson:                   1.626\n",
      "Prob(Omnibus):                  0.000   Jarque-Bera (JB):              186.654\n",
      "Skew:                           0.036   Prob(JB):                     2.94e-41\n",
      "Kurtosis:                       3.954   Cond. No.                     8.26e+03\n",
      "==============================================================================\n",
      "\n",
      "Notes:\n",
      "[1] Standard Errors assume that the covariance matrix of the errors is correctly specified.\n",
      "[2] The condition number is large, 8.26e+03. This might indicate that there are\n",
      "strong multicollinearity or other numerical problems.\n"
     ]
    }
   ],
   "source": [
    "xc= sm.add_constant(df_new)\n",
    "md= sm.OLS(qual, xc).fit()\n",
    "print(md.summary())"
   ]
  },
  {
   "cell_type": "code",
   "execution_count": 53,
   "metadata": {
    "id": "VhHk4oesasGm"
   },
   "outputs": [],
   "source": [
    "# The scores are good but not that great compared to a model which takes input all the parameters."
   ]
  },
  {
   "cell_type": "markdown",
   "metadata": {
    "collapsed": true,
    "id": "fqT24TskkVPR"
   },
   "source": [
    "<table align=\"left\">\n",
    "    <tr>\n",
    "        <td>\n",
    "            <div align=\"left\", style=\"font-size:120%\">\n",
    "                <font color=\"#21618C\">\n",
    "                    <b>12. Find the best set of significant variables from the dataset using forward selection technique such that the selected set should have 2 to 6 features. Also display the R-squared score for the model built using the selected variables</b>\n",
    "                </font>\n",
    "            </div>\n",
    "        </td>\n",
    "    </tr>\n",
    "</table>"
   ]
  },
  {
   "cell_type": "code",
   "execution_count": 54,
   "metadata": {
    "id": "3l4nFCTWkVPS"
   },
   "outputs": [],
   "source": [
    "ty= {}\n",
    "for i in range(2,7):\n",
    "  ar = LinearRegression()\n",
    "  sfs_ = sfs(ar, k_features=i, cv=3 ,n_jobs=-1)\n",
    "  sfs_.fit(df2, qual)\n",
    "  ty[i] = sfs_.k_feature_names_"
   ]
  },
  {
   "cell_type": "code",
   "execution_count": 55,
   "metadata": {
    "colab": {
     "base_uri": "https://localhost:8080/"
    },
    "id": "mjZm2sCCeSA-",
    "outputId": "1b167ea4-63d5-4229-8008-9876c591ce98"
   },
   "outputs": [
    {
     "data": {
      "text/plain": [
       "{2: ('volatile acidity', 'alcohol'),\n",
       " 3: ('volatile acidity', 'residual sugar', 'alcohol'),\n",
       " 4: ('volatile acidity', 'residual sugar', 'sulphates', 'alcohol'),\n",
       " 5: ('volatile acidity',\n",
       "  'residual sugar',\n",
       "  'free sulfur dioxide',\n",
       "  'sulphates',\n",
       "  'alcohol'),\n",
       " 6: ('volatile acidity',\n",
       "  'residual sugar',\n",
       "  'free sulfur dioxide',\n",
       "  'total sulfur dioxide',\n",
       "  'sulphates',\n",
       "  'alcohol')}"
      ]
     },
     "execution_count": 55,
     "metadata": {},
     "output_type": "execute_result"
    }
   ],
   "source": [
    "ty"
   ]
  },
  {
   "cell_type": "code",
   "execution_count": 56,
   "metadata": {
    "colab": {
     "base_uri": "https://localhost:8080/"
    },
    "id": "Eq5XsxlzeSEv",
    "outputId": "11c5f848-198d-417e-e6ed-71db14ccbf20"
   },
   "outputs": [
    {
     "name": "stdout",
     "output_type": "stream",
     "text": [
      "2 0.2402311847533618\n",
      "3 0.25852615806597845\n",
      "4 0.26192831742556777\n",
      "5 0.26688090719411617\n",
      "6 0.2680124845073987\n"
     ]
    }
   ],
   "source": [
    "for i in ty.values():\n",
    "  df_temp = df2[list(i)]\n",
    "  xc= sm.add_constant(df_temp)\n",
    "  md= sm.OLS(qual, xc).fit()\n",
    "  print(len(list(i)), md.rsquared)"
   ]
  },
  {
   "cell_type": "code",
   "execution_count": 57,
   "metadata": {
    "id": "ecBcP_xSfIqs"
   },
   "outputs": [],
   "source": [
    "# the best R2 is the model with the highest number of features- 6"
   ]
  },
  {
   "cell_type": "markdown",
   "metadata": {
    "collapsed": true,
    "id": "QZJDzI2tkVPS"
   },
   "source": [
    "<table align=\"left\">\n",
    "    <tr>\n",
    "        <td>\n",
    "            <div align=\"left\", style=\"font-size:120%\">\n",
    "                <font color=\"#21618C\">\n",
    "                    <b>13. Find the best set of significant variables from the dataset using forward selection technique. Also display the R-squared score for the model built using the selected variables.</b>\n",
    "                </font>\n",
    "            </div>\n",
    "        </td>\n",
    "    </tr>\n",
    "</table>"
   ]
  },
  {
   "cell_type": "code",
   "execution_count": 58,
   "metadata": {
    "colab": {
     "base_uri": "https://localhost:8080/"
    },
    "id": "yqEDXCfckVPT",
    "outputId": "4cb44e31-768b-4f73-f6f4-b06c7d809bb8"
   },
   "outputs": [
    {
     "data": {
      "text/plain": [
       "GridSearchCV(cv=3, estimator=RFE(estimator=LinearRegression()),\n",
       "             param_grid={'n_features_to_select': [1, 2, 3, 4, 5, 6, 7, 8, 9]},\n",
       "             scoring='r2')"
      ]
     },
     "execution_count": 58,
     "metadata": {},
     "output_type": "execute_result"
    }
   ],
   "source": [
    "# Using a grid search to give us the no of features and then putting that in forward selection.\n",
    "\n",
    "from sklearn.model_selection import KFold, GridSearchCV\n",
    "ar = LinearRegression()\n",
    "rfe_1 = RFE(ar)\n",
    "to_sel = {'n_features_to_select': list(range(1,df2.shape[1]-1))}\n",
    "gs= GridSearchCV(rfe_1, param_grid= to_sel,scoring= 'r2', cv=3)\n",
    "gs.fit(df2, qual)  "
   ]
  },
  {
   "cell_type": "code",
   "execution_count": 59,
   "metadata": {
    "colab": {
     "base_uri": "https://localhost:8080/"
    },
    "id": "RkEk3OKei1Gk",
    "outputId": "6a3800da-fa18-4433-d058-7a00f8c73600"
   },
   "outputs": [
    {
     "data": {
      "text/plain": [
       "{'n_features_to_select': 8}"
      ]
     },
     "execution_count": 59,
     "metadata": {},
     "output_type": "execute_result"
    }
   ],
   "source": [
    "gs.best_params_"
   ]
  },
  {
   "cell_type": "code",
   "execution_count": 60,
   "metadata": {
    "colab": {
     "base_uri": "https://localhost:8080/"
    },
    "id": "juHcRIxSi1Jj",
    "outputId": "7f105771-3357-477e-b8f6-112fa095dce6"
   },
   "outputs": [
    {
     "data": {
      "text/plain": [
       "SequentialFeatureSelector(cv=3, estimator=LinearRegression(), k_features=8,\n",
       "                          n_jobs=-1)"
      ]
     },
     "execution_count": 60,
     "metadata": {},
     "output_type": "execute_result"
    }
   ],
   "source": [
    "sfs_2 = sfs(ar, k_features=8, cv=3 ,n_jobs=-1)\n",
    "sfs_2.fit(df2, qual)"
   ]
  },
  {
   "cell_type": "code",
   "execution_count": 61,
   "metadata": {
    "id": "0Zq26D5ei1QU"
   },
   "outputs": [],
   "source": [
    "we = list(sfs_2.k_feature_names_)"
   ]
  },
  {
   "cell_type": "code",
   "execution_count": 62,
   "metadata": {
    "id": "wt740jF4i1US"
   },
   "outputs": [],
   "source": [
    "df_temp = df2[we]\n",
    "xc= sm.add_constant(df_temp)\n",
    "md= sm.OLS(qual, xc).fit()"
   ]
  },
  {
   "cell_type": "code",
   "execution_count": 63,
   "metadata": {
    "colab": {
     "base_uri": "https://localhost:8080/"
    },
    "id": "ddK4Uzn2i1Wk",
    "outputId": "285a0492-02ec-4058-a9fc-ef13abf9b737"
   },
   "outputs": [
    {
     "name": "stdout",
     "output_type": "stream",
     "text": [
      "                            OLS Regression Results                            \n",
      "==============================================================================\n",
      "Dep. Variable:                quality   R-squared:                       0.269\n",
      "Model:                            OLS   Adj. R-squared:                  0.268\n",
      "Method:                 Least Squares   F-statistic:                     224.9\n",
      "Date:                Thu, 08 Apr 2021   Prob (F-statistic):               0.00\n",
      "Time:                        16:39:52   Log-Likelihood:                -5587.1\n",
      "No. Observations:                4898   AIC:                         1.119e+04\n",
      "Df Residuals:                    4889   BIC:                         1.125e+04\n",
      "Df Model:                           8                                         \n",
      "Covariance Type:            nonrobust                                         \n",
      "========================================================================================\n",
      "                           coef    std err          t      P>|t|      [0.025      0.975]\n",
      "----------------------------------------------------------------------------------------\n",
      "const                    2.2202      0.154     14.463      0.000       1.919       2.521\n",
      "volatile acidity        -1.9701      0.114    -17.289      0.000      -2.193      -1.747\n",
      "citric acid             -0.1648      0.092     -1.787      0.074      -0.346       0.016\n",
      "residual sugar           0.0245      0.003      9.731      0.000       0.020       0.029\n",
      "chlorides               -0.9114      0.541     -1.684      0.092      -1.973       0.150\n",
      "free sulfur dioxide      0.0052      0.001      6.294      0.000       0.004       0.007\n",
      "total sulfur dioxide    -0.0009      0.000     -2.527      0.012      -0.002      -0.000\n",
      "sulphates                0.4669      0.096      4.841      0.000       0.278       0.656\n",
      "alcohol                  0.3673      0.011     32.629      0.000       0.345       0.389\n",
      "==============================================================================\n",
      "Omnibus:                      106.594   Durbin-Watson:                   1.632\n",
      "Prob(Omnibus):                  0.000   Jarque-Bera (JB):              232.818\n",
      "Skew:                           0.046   Prob(JB):                     2.78e-51\n",
      "Kurtosis:                       4.064   Cond. No.                     7.54e+03\n",
      "==============================================================================\n",
      "\n",
      "Notes:\n",
      "[1] Standard Errors assume that the covariance matrix of the errors is correctly specified.\n",
      "[2] The condition number is large, 7.54e+03. This might indicate that there are\n",
      "strong multicollinearity or other numerical problems.\n"
     ]
    }
   ],
   "source": [
    "print(md.summary())"
   ]
  },
  {
   "cell_type": "code",
   "execution_count": 64,
   "metadata": {
    "id": "OtGPrOTmsHfO"
   },
   "outputs": [],
   "source": [
    "# R square is 26.8 percent"
   ]
  },
  {
   "cell_type": "markdown",
   "metadata": {
    "collapsed": true,
    "id": "kaXcd4RUkVPT"
   },
   "source": [
    "<table align=\"left\">\n",
    "    <tr>\n",
    "        <td>\n",
    "            <div align=\"left\", style=\"font-size:120%\">\n",
    "                <font color=\"#21618C\">\n",
    "                    <b>14. Find the best set of significant variables from the dataset using backward elimination technique. Also display the R-squared score for the model built using the selected variables. <br><br>Compare the R-squared value obtained from question 13 with the value obtained using backward elimination.</b>\n",
    "                </font>\n",
    "            </div>\n",
    "        </td>\n",
    "    </tr>\n",
    "</table>"
   ]
  },
  {
   "cell_type": "code",
   "execution_count": 65,
   "metadata": {
    "colab": {
     "base_uri": "https://localhost:8080/"
    },
    "id": "gmn3qL76kVPT",
    "outputId": "7b414c1a-5357-4c5f-d35e-45a67b48e7c2"
   },
   "outputs": [
    {
     "data": {
      "text/plain": [
       "RFE(estimator=LinearRegression(), n_features_to_select=8)"
      ]
     },
     "execution_count": 65,
     "metadata": {},
     "output_type": "execute_result"
    }
   ],
   "source": [
    "# we have got the number of features as 8\n",
    "\n",
    "rfe_ = RFE(ar, n_features_to_select = 8)\n",
    "rfe_.fit(df2, qual)"
   ]
  },
  {
   "cell_type": "code",
   "execution_count": 66,
   "metadata": {
    "colab": {
     "base_uri": "https://localhost:8080/",
     "height": 300
    },
    "id": "uhQaj1FTsfTN",
    "outputId": "0c12437a-ff0f-4fea-8fc8-0685075fa983"
   },
   "outputs": [
    {
     "data": {
      "text/html": [
       "<div>\n",
       "<style scoped>\n",
       "    .dataframe tbody tr th:only-of-type {\n",
       "        vertical-align: middle;\n",
       "    }\n",
       "\n",
       "    .dataframe tbody tr th {\n",
       "        vertical-align: top;\n",
       "    }\n",
       "\n",
       "    .dataframe thead th {\n",
       "        text-align: right;\n",
       "    }\n",
       "</style>\n",
       "<table border=\"1\" class=\"dataframe\">\n",
       "  <thead>\n",
       "    <tr style=\"text-align: right;\">\n",
       "      <th></th>\n",
       "      <th>ranks</th>\n",
       "    </tr>\n",
       "  </thead>\n",
       "  <tbody>\n",
       "    <tr>\n",
       "      <th>fixed acidity</th>\n",
       "      <td>1</td>\n",
       "    </tr>\n",
       "    <tr>\n",
       "      <th>volatile acidity</th>\n",
       "      <td>1</td>\n",
       "    </tr>\n",
       "    <tr>\n",
       "      <th>residual sugar</th>\n",
       "      <td>1</td>\n",
       "    </tr>\n",
       "    <tr>\n",
       "      <th>chlorides</th>\n",
       "      <td>1</td>\n",
       "    </tr>\n",
       "    <tr>\n",
       "      <th>density</th>\n",
       "      <td>1</td>\n",
       "    </tr>\n",
       "    <tr>\n",
       "      <th>pH</th>\n",
       "      <td>1</td>\n",
       "    </tr>\n",
       "    <tr>\n",
       "      <th>sulphates</th>\n",
       "      <td>1</td>\n",
       "    </tr>\n",
       "    <tr>\n",
       "      <th>alcohol</th>\n",
       "      <td>1</td>\n",
       "    </tr>\n",
       "  </tbody>\n",
       "</table>\n",
       "</div>"
      ],
      "text/plain": [
       "                  ranks\n",
       "fixed acidity         1\n",
       "volatile acidity      1\n",
       "residual sugar        1\n",
       "chlorides             1\n",
       "density               1\n",
       "pH                    1\n",
       "sulphates             1\n",
       "alcohol               1"
      ]
     },
     "execution_count": 66,
     "metadata": {},
     "output_type": "execute_result"
    }
   ],
   "source": [
    "al2 = pd.DataFrame(rfe_.ranking_, index=df2.columns, columns=['ranks'])\n",
    "al2.loc[al2['ranks'] == 1]"
   ]
  },
  {
   "cell_type": "code",
   "execution_count": 67,
   "metadata": {
    "id": "Pxg9R06vsfaw"
   },
   "outputs": [],
   "source": [
    "we2= list(al2.loc[al2['ranks'] == 1].index)"
   ]
  },
  {
   "cell_type": "code",
   "execution_count": 68,
   "metadata": {
    "colab": {
     "base_uri": "https://localhost:8080/"
    },
    "id": "BpeXKNdesfjz",
    "outputId": "2cfdb2e5-a631-4e6c-c6da-6457c8542458"
   },
   "outputs": [
    {
     "name": "stdout",
     "output_type": "stream",
     "text": [
      "                            OLS Regression Results                            \n",
      "==============================================================================\n",
      "Dep. Variable:                quality   R-squared:                       0.278\n",
      "Model:                            OLS   Adj. R-squared:                  0.277\n",
      "Method:                 Least Squares   F-statistic:                     235.5\n",
      "Date:                Thu, 08 Apr 2021   Prob (F-statistic):               0.00\n",
      "Time:                        16:39:52   Log-Likelihood:                -5556.4\n",
      "No. Observations:                4898   AIC:                         1.113e+04\n",
      "Df Residuals:                    4889   BIC:                         1.119e+04\n",
      "Df Model:                           8                                         \n",
      "Covariance Type:            nonrobust                                         \n",
      "====================================================================================\n",
      "                       coef    std err          t      P>|t|      [0.025      0.975]\n",
      "------------------------------------------------------------------------------------\n",
      "const              156.8910     18.407      8.523      0.000     120.804     192.978\n",
      "fixed acidity        0.0645      0.021      3.110      0.002       0.024       0.105\n",
      "volatile acidity    -1.9417      0.110    -17.720      0.000      -2.157      -1.727\n",
      "residual sugar       0.0866      0.007     11.689      0.000       0.072       0.101\n",
      "chlorides           -0.0992      0.544     -0.182      0.855      -1.165       0.967\n",
      "density           -156.9093     18.673     -8.403      0.000    -193.516    -120.302\n",
      "pH                   0.7093      0.105      6.747      0.000       0.503       0.915\n",
      "sulphates            0.6608      0.100      6.605      0.000       0.465       0.857\n",
      "alcohol              0.1829      0.024      7.602      0.000       0.136       0.230\n",
      "==============================================================================\n",
      "Omnibus:                      101.222   Durbin-Watson:                   1.617\n",
      "Prob(Omnibus):                  0.000   Jarque-Bera (JB):              209.822\n",
      "Skew:                           0.075   Prob(JB):                     2.74e-46\n",
      "Kurtosis:                       4.003   Cond. No.                     3.58e+04\n",
      "==============================================================================\n",
      "\n",
      "Notes:\n",
      "[1] Standard Errors assume that the covariance matrix of the errors is correctly specified.\n",
      "[2] The condition number is large, 3.58e+04. This might indicate that there are\n",
      "strong multicollinearity or other numerical problems.\n"
     ]
    }
   ],
   "source": [
    "df_temp = df2[we2]\n",
    "xc= sm.add_constant(df_temp)\n",
    "md= sm.OLS(qual, xc).fit()\n",
    "print(md.summary())"
   ]
  },
  {
   "cell_type": "code",
   "execution_count": 69,
   "metadata": {
    "id": "WPc6e1jEsfnk"
   },
   "outputs": [],
   "source": [
    "# score indeed has improved. \n",
    "\n",
    "# RFE helped  with 8 features."
   ]
  },
  {
   "cell_type": "markdown",
   "metadata": {
    "collapsed": true,
    "id": "bIg73bkTkVPU"
   },
   "source": [
    "<table align=\"left\">\n",
    "    <tr>\n",
    "        <td>\n",
    "            <div align=\"left\", style=\"font-size:120%\">\n",
    "                <font color=\"#21618C\">\n",
    "                    <b>15. Find the best set of significant variables from the dataset among all the possible subsets of the variables. Build a linear regression model using the best subset and find the R-Squared value for that model.</b>\n",
    "                </font>\n",
    "            </div>\n",
    "        </td>\n",
    "    </tr>\n",
    "</table>"
   ]
  },
  {
   "cell_type": "code",
   "execution_count": 70,
   "metadata": {
    "colab": {
     "base_uri": "https://localhost:8080/"
    },
    "id": "TPLegGoKkVPU",
    "outputId": "e59bf74e-1575-4ad9-c9a4-c6860dd1354b"
   },
   "outputs": [
    {
     "name": "stdout",
     "output_type": "stream",
     "text": [
      "                            OLS Regression Results                            \n",
      "==============================================================================\n",
      "Dep. Variable:                quality   R-squared:                       0.278\n",
      "Model:                            OLS   Adj. R-squared:                  0.277\n",
      "Method:                 Least Squares   F-statistic:                     235.5\n",
      "Date:                Thu, 08 Apr 2021   Prob (F-statistic):               0.00\n",
      "Time:                        16:39:52   Log-Likelihood:                -5556.4\n",
      "No. Observations:                4898   AIC:                         1.113e+04\n",
      "Df Residuals:                    4889   BIC:                         1.119e+04\n",
      "Df Model:                           8                                         \n",
      "Covariance Type:            nonrobust                                         \n",
      "====================================================================================\n",
      "                       coef    std err          t      P>|t|      [0.025      0.975]\n",
      "------------------------------------------------------------------------------------\n",
      "const              156.8910     18.407      8.523      0.000     120.804     192.978\n",
      "fixed acidity        0.0645      0.021      3.110      0.002       0.024       0.105\n",
      "volatile acidity    -1.9417      0.110    -17.720      0.000      -2.157      -1.727\n",
      "residual sugar       0.0866      0.007     11.689      0.000       0.072       0.101\n",
      "chlorides           -0.0992      0.544     -0.182      0.855      -1.165       0.967\n",
      "density           -156.9093     18.673     -8.403      0.000    -193.516    -120.302\n",
      "pH                   0.7093      0.105      6.747      0.000       0.503       0.915\n",
      "sulphates            0.6608      0.100      6.605      0.000       0.465       0.857\n",
      "alcohol              0.1829      0.024      7.602      0.000       0.136       0.230\n",
      "==============================================================================\n",
      "Omnibus:                      101.222   Durbin-Watson:                   1.617\n",
      "Prob(Omnibus):                  0.000   Jarque-Bera (JB):              209.822\n",
      "Skew:                           0.075   Prob(JB):                     2.74e-46\n",
      "Kurtosis:                       4.003   Cond. No.                     3.58e+04\n",
      "==============================================================================\n",
      "\n",
      "Notes:\n",
      "[1] Standard Errors assume that the covariance matrix of the errors is correctly specified.\n",
      "[2] The condition number is large, 3.58e+04. This might indicate that there are\n",
      "strong multicollinearity or other numerical problems.\n"
     ]
    }
   ],
   "source": [
    "# same as before- we ran a RFE along with Grid search to find out that best number of features is 8\n",
    "\n",
    "df_temp = df2[we2]\n",
    "xc= sm.add_constant(df_temp)\n",
    "md= sm.OLS(qual, xc).fit()\n",
    "print(md.summary())"
   ]
  },
  {
   "cell_type": "markdown",
   "metadata": {
    "collapsed": true,
    "id": "knR8ARRJkVPV"
   },
   "source": [
    "<table align=\"left\">\n",
    "    <tr>\n",
    "        <td>\n",
    "            <div align=\"left\", style=\"font-size:120%\">\n",
    "                <font color=\"#21618C\">\n",
    "                    <b>16. Calculate the RMSE for the train set and test set for the model created using the top 5 variables obtained from forward selection in question 10. Check if the model is overfitted on the train set or not. If yes, then why do you think so?</b>\n",
    "                </font>\n",
    "            </div>\n",
    "        </td>\n",
    "    </tr>\n",
    "</table>"
   ]
  },
  {
   "cell_type": "code",
   "execution_count": 71,
   "metadata": {
    "id": "_xQkg-SRzYM_"
   },
   "outputs": [],
   "source": [
    "rtr= df2[list(sfs_.k_feature_names_)]\n",
    "from sklearn.model_selection import train_test_split\n",
    "x_tr, x_ts, y_tr, y_ts = train_test_split(rtr, qual)"
   ]
  },
  {
   "cell_type": "code",
   "execution_count": 72,
   "metadata": {
    "colab": {
     "base_uri": "https://localhost:8080/"
    },
    "id": "7CyiNqHwkVPV",
    "outputId": "a5458fa6-4809-42ee-9a7d-216bad4f2a06"
   },
   "outputs": [
    {
     "name": "stdout",
     "output_type": "stream",
     "text": [
      "                            OLS Regression Results                            \n",
      "==============================================================================\n",
      "Dep. Variable:                quality   R-squared:                       0.265\n",
      "Model:                            OLS   Adj. R-squared:                  0.264\n",
      "Method:                 Least Squares   F-statistic:                     220.2\n",
      "Date:                Thu, 08 Apr 2021   Prob (F-statistic):          1.16e-240\n",
      "Time:                        16:39:52   Log-Likelihood:                -4178.6\n",
      "No. Observations:                3673   AIC:                             8371.\n",
      "Df Residuals:                    3666   BIC:                             8415.\n",
      "Df Model:                           6                                         \n",
      "Covariance Type:            nonrobust                                         \n",
      "========================================================================================\n",
      "                           coef    std err          t      P>|t|      [0.025      0.975]\n",
      "----------------------------------------------------------------------------------------\n",
      "const                    2.1205      0.163     13.042      0.000       1.802       2.439\n",
      "volatile acidity        -1.9906      0.127    -15.725      0.000      -2.239      -1.742\n",
      "residual sugar           0.0244      0.003      8.307      0.000       0.019       0.030\n",
      "free sulfur dioxide      0.0047      0.001      4.912      0.000       0.003       0.007\n",
      "total sulfur dioxide    -0.0008      0.000     -1.941      0.052      -0.002    8.55e-06\n",
      "sulphates                0.5003      0.113      4.446      0.000       0.280       0.721\n",
      "alcohol                  0.3668      0.012     29.951      0.000       0.343       0.391\n",
      "==============================================================================\n",
      "Omnibus:                       69.756   Durbin-Watson:                   2.009\n",
      "Prob(Omnibus):                  0.000   Jarque-Bera (JB):              133.801\n",
      "Skew:                           0.096   Prob(JB):                     8.82e-30\n",
      "Kurtosis:                       3.915   Cond. No.                     2.03e+03\n",
      "==============================================================================\n",
      "\n",
      "Notes:\n",
      "[1] Standard Errors assume that the covariance matrix of the errors is correctly specified.\n",
      "[2] The condition number is large, 2.03e+03. This might indicate that there are\n",
      "strong multicollinearity or other numerical problems.\n"
     ]
    }
   ],
   "source": [
    "xc= sm.add_constant(x_tr)\n",
    "md= sm.OLS(y_tr, xc).fit()\n",
    "print(md.summary())"
   ]
  },
  {
   "cell_type": "code",
   "execution_count": 73,
   "metadata": {
    "colab": {
     "base_uri": "https://localhost:8080/"
    },
    "id": "Fg00vUv0zQBd",
    "outputId": "4b205eb5-aaca-4259-94e4-9edfba4d63ac"
   },
   "outputs": [
    {
     "name": "stdout",
     "output_type": "stream",
     "text": [
      "                            OLS Regression Results                            \n",
      "==============================================================================\n",
      "Dep. Variable:                quality   R-squared:                       0.279\n",
      "Model:                            OLS   Adj. R-squared:                  0.276\n",
      "Method:                 Least Squares   F-statistic:                     78.63\n",
      "Date:                Thu, 08 Apr 2021   Prob (F-statistic):           3.77e-83\n",
      "Time:                        16:39:52   Log-Likelihood:                -1409.5\n",
      "No. Observations:                1225   AIC:                             2833.\n",
      "Df Residuals:                    1218   BIC:                             2869.\n",
      "Df Model:                           6                                         \n",
      "Covariance Type:            nonrobust                                         \n",
      "========================================================================================\n",
      "                           coef    std err          t      P>|t|      [0.025      0.975]\n",
      "----------------------------------------------------------------------------------------\n",
      "const                    1.9121      0.277      6.914      0.000       1.370       2.455\n",
      "volatile acidity        -1.8292      0.239     -7.666      0.000      -2.297      -1.361\n",
      "residual sugar           0.0253      0.005      5.259      0.000       0.016       0.035\n",
      "free sulfur dioxide      0.0069      0.002      4.080      0.000       0.004       0.010\n",
      "total sulfur dioxide    -0.0015      0.001     -2.141      0.032      -0.003      -0.000\n",
      "sulphates                0.3440      0.187      1.836      0.067      -0.024       0.712\n",
      "alcohol                  0.3924      0.021     18.442      0.000       0.351       0.434\n",
      "==============================================================================\n",
      "Omnibus:                       42.896   Durbin-Watson:                   2.027\n",
      "Prob(Omnibus):                  0.000   Jarque-Bera (JB):              110.152\n",
      "Skew:                          -0.081   Prob(JB):                     1.20e-24\n",
      "Kurtosis:                       4.460   Cond. No.                     1.97e+03\n",
      "==============================================================================\n",
      "\n",
      "Notes:\n",
      "[1] Standard Errors assume that the covariance matrix of the errors is correctly specified.\n",
      "[2] The condition number is large, 1.97e+03. This might indicate that there are\n",
      "strong multicollinearity or other numerical problems.\n"
     ]
    }
   ],
   "source": [
    "xc1= sm.add_constant(x_ts)\n",
    "md= sm.OLS(y_ts, xc1).fit()\n",
    "print(md.summary())"
   ]
  },
  {
   "cell_type": "code",
   "execution_count": 74,
   "metadata": {
    "id": "hmC_eSSqvPBS"
   },
   "outputs": [],
   "source": [
    "# The model is slightly overfitting on training data. \n",
    "\n",
    "# Reasons could be selecting only the highest contributing features- which has significantly stronger variance-effecting nature of the fit of the model.\n",
    "\n",
    "# Another reason of overfit is- Less data. More data could have helped us generalize the model more"
   ]
  },
  {
   "cell_type": "code",
   "execution_count": 75,
   "metadata": {
    "id": "cJ0VfFDFvPEQ"
   },
   "outputs": [],
   "source": [
    "y_tr_score = md.predict(xc)\n",
    "\n",
    "xtr = sm.add_constant(x_ts)\n",
    "y_ts_score = md.predict(xtr)"
   ]
  },
  {
   "cell_type": "code",
   "execution_count": 76,
   "metadata": {
    "colab": {
     "base_uri": "https://localhost:8080/"
    },
    "id": "eLMtRCqby9RE",
    "outputId": "310d9976-99c4-4cca-d329-6946cfa267fb"
   },
   "outputs": [
    {
     "data": {
      "text/plain": [
       "3673"
      ]
     },
     "execution_count": 76,
     "metadata": {},
     "output_type": "execute_result"
    }
   ],
   "source": [
    "len(y_tr)"
   ]
  },
  {
   "cell_type": "code",
   "execution_count": 77,
   "metadata": {
    "colab": {
     "base_uri": "https://localhost:8080/"
    },
    "id": "rBiAT126vPGn",
    "outputId": "0b87cace-02eb-457c-db4e-f6779caae486"
   },
   "outputs": [
    {
     "name": "stdout",
     "output_type": "stream",
     "text": [
      "training -1.4638656002508457 0.572620629283139\n",
      "test -1.581707374164918 0.584748979245684\n"
     ]
    }
   ],
   "source": [
    "# training accuracy\n",
    "from sklearn.metrics import mean_squared_error, r2_score\n",
    "\n",
    "print('training', r2_score(y_tr_score, y_tr), mean_squared_error(y_tr_score, y_tr))\n",
    "print('test', r2_score(y_ts_score, y_ts), mean_squared_error(y_ts_score, y_ts))"
   ]
  },
  {
   "cell_type": "markdown",
   "metadata": {
    "id": "5qVFWe_YkVPW"
   },
   "source": [
    "<a id=\"cv\"> </a>\n",
    "## 3. Model Validation"
   ]
  },
  {
   "cell_type": "markdown",
   "metadata": {
    "collapsed": true,
    "id": "CYcfwvltkVPW"
   },
   "source": [
    "<table align=\"left\">\n",
    "    <tr>\n",
    "        <td>\n",
    "            <div align=\"left\", style=\"font-size:120%\">\n",
    "                <font color=\"#21618C\">\n",
    "                    <b>17. Create a new feature based on the 'pH' which tells whether wine is acidic, basic or neutral. Will this variable significantly contribute to the model?</b>\n",
    "                </font>\n",
    "            </div>\n",
    "        </td>\n",
    "    </tr>\n",
    "</table>"
   ]
  },
  {
   "cell_type": "code",
   "execution_count": 78,
   "metadata": {
    "colab": {
     "base_uri": "https://localhost:8080/",
     "height": 241
    },
    "id": "by3taHd6kVPX",
    "outputId": "783d3a5c-75ab-47e6-82c9-9550c2b62476"
   },
   "outputs": [
    {
     "data": {
      "text/html": [
       "<div>\n",
       "<style scoped>\n",
       "    .dataframe tbody tr th:only-of-type {\n",
       "        vertical-align: middle;\n",
       "    }\n",
       "\n",
       "    .dataframe tbody tr th {\n",
       "        vertical-align: top;\n",
       "    }\n",
       "\n",
       "    .dataframe thead th {\n",
       "        text-align: right;\n",
       "    }\n",
       "</style>\n",
       "<table border=\"1\" class=\"dataframe\">\n",
       "  <thead>\n",
       "    <tr style=\"text-align: right;\">\n",
       "      <th></th>\n",
       "      <th>fixed acidity</th>\n",
       "      <th>volatile acidity</th>\n",
       "      <th>citric acid</th>\n",
       "      <th>residual sugar</th>\n",
       "      <th>chlorides</th>\n",
       "      <th>free sulfur dioxide</th>\n",
       "      <th>total sulfur dioxide</th>\n",
       "      <th>density</th>\n",
       "      <th>pH</th>\n",
       "      <th>sulphates</th>\n",
       "      <th>alcohol</th>\n",
       "    </tr>\n",
       "  </thead>\n",
       "  <tbody>\n",
       "    <tr>\n",
       "      <th>0</th>\n",
       "      <td>7.0</td>\n",
       "      <td>0.27</td>\n",
       "      <td>0.36</td>\n",
       "      <td>20.7</td>\n",
       "      <td>0.045</td>\n",
       "      <td>45.0</td>\n",
       "      <td>170.0</td>\n",
       "      <td>1.0010</td>\n",
       "      <td>3.00</td>\n",
       "      <td>0.45</td>\n",
       "      <td>8.8</td>\n",
       "    </tr>\n",
       "    <tr>\n",
       "      <th>1</th>\n",
       "      <td>6.3</td>\n",
       "      <td>0.30</td>\n",
       "      <td>0.34</td>\n",
       "      <td>1.6</td>\n",
       "      <td>0.049</td>\n",
       "      <td>14.0</td>\n",
       "      <td>132.0</td>\n",
       "      <td>0.9940</td>\n",
       "      <td>3.30</td>\n",
       "      <td>0.49</td>\n",
       "      <td>9.5</td>\n",
       "    </tr>\n",
       "    <tr>\n",
       "      <th>2</th>\n",
       "      <td>8.1</td>\n",
       "      <td>0.28</td>\n",
       "      <td>0.40</td>\n",
       "      <td>6.9</td>\n",
       "      <td>0.050</td>\n",
       "      <td>30.0</td>\n",
       "      <td>97.0</td>\n",
       "      <td>0.9951</td>\n",
       "      <td>3.26</td>\n",
       "      <td>0.44</td>\n",
       "      <td>10.1</td>\n",
       "    </tr>\n",
       "    <tr>\n",
       "      <th>3</th>\n",
       "      <td>7.2</td>\n",
       "      <td>0.23</td>\n",
       "      <td>0.32</td>\n",
       "      <td>8.5</td>\n",
       "      <td>0.058</td>\n",
       "      <td>47.0</td>\n",
       "      <td>186.0</td>\n",
       "      <td>0.9956</td>\n",
       "      <td>3.19</td>\n",
       "      <td>0.40</td>\n",
       "      <td>9.9</td>\n",
       "    </tr>\n",
       "    <tr>\n",
       "      <th>4</th>\n",
       "      <td>7.2</td>\n",
       "      <td>0.23</td>\n",
       "      <td>0.32</td>\n",
       "      <td>8.5</td>\n",
       "      <td>0.058</td>\n",
       "      <td>47.0</td>\n",
       "      <td>186.0</td>\n",
       "      <td>0.9956</td>\n",
       "      <td>3.19</td>\n",
       "      <td>0.40</td>\n",
       "      <td>9.9</td>\n",
       "    </tr>\n",
       "  </tbody>\n",
       "</table>\n",
       "</div>"
      ],
      "text/plain": [
       "   fixed acidity  volatile acidity  citric acid  residual sugar  chlorides  \\\n",
       "0            7.0              0.27         0.36            20.7      0.045   \n",
       "1            6.3              0.30         0.34             1.6      0.049   \n",
       "2            8.1              0.28         0.40             6.9      0.050   \n",
       "3            7.2              0.23         0.32             8.5      0.058   \n",
       "4            7.2              0.23         0.32             8.5      0.058   \n",
       "\n",
       "   free sulfur dioxide  total sulfur dioxide  density    pH  sulphates  \\\n",
       "0                 45.0                 170.0   1.0010  3.00       0.45   \n",
       "1                 14.0                 132.0   0.9940  3.30       0.49   \n",
       "2                 30.0                  97.0   0.9951  3.26       0.44   \n",
       "3                 47.0                 186.0   0.9956  3.19       0.40   \n",
       "4                 47.0                 186.0   0.9956  3.19       0.40   \n",
       "\n",
       "   alcohol  \n",
       "0      8.8  \n",
       "1      9.5  \n",
       "2     10.1  \n",
       "3      9.9  \n",
       "4      9.9  "
      ]
     },
     "execution_count": 78,
     "metadata": {},
     "output_type": "execute_result"
    }
   ],
   "source": [
    "df_r = df2.copy()\n",
    "df_r.head()"
   ]
  },
  {
   "cell_type": "code",
   "execution_count": 79,
   "metadata": {
    "id": "WJLjCb_Z4HEp"
   },
   "outputs": [],
   "source": [
    "df_r['cat_pH'] = pd.cut(df_r['pH'], bins=3, labels=['acidic', 'normal', 'basic'])"
   ]
  },
  {
   "cell_type": "code",
   "execution_count": 80,
   "metadata": {
    "id": "ChbLbg6r4HHi"
   },
   "outputs": [],
   "source": [
    "df_r = pd.get_dummies(data= df_r, columns=['cat_pH'], drop_first=True)"
   ]
  },
  {
   "cell_type": "code",
   "execution_count": 81,
   "metadata": {
    "id": "Nq_lMO0f4y7S"
   },
   "outputs": [],
   "source": [
    "df_r.drop({'pH'}, axis=1, inplace= True)"
   ]
  },
  {
   "cell_type": "code",
   "execution_count": 82,
   "metadata": {
    "colab": {
     "base_uri": "https://localhost:8080/"
    },
    "id": "7-t8xpaP5fey",
    "outputId": "2e522085-0542-4e26-83bc-547acd220cc8"
   },
   "outputs": [
    {
     "name": "stdout",
     "output_type": "stream",
     "text": [
      "                            OLS Regression Results                            \n",
      "==============================================================================\n",
      "Dep. Variable:                quality   R-squared:                       0.277\n",
      "Model:                            OLS   Adj. R-squared:                  0.275\n",
      "Method:                 Least Squares   F-statistic:                     155.7\n",
      "Date:                Thu, 08 Apr 2021   Prob (F-statistic):               0.00\n",
      "Time:                        16:39:52   Log-Likelihood:                -5561.4\n",
      "No. Observations:                4898   AIC:                         1.115e+04\n",
      "Df Residuals:                    4885   BIC:                         1.123e+04\n",
      "Df Model:                          12                                         \n",
      "Covariance Type:            nonrobust                                         \n",
      "========================================================================================\n",
      "                           coef    std err          t      P>|t|      [0.025      0.975]\n",
      "----------------------------------------------------------------------------------------\n",
      "const                   95.0480     16.945      5.609      0.000      61.829     128.267\n",
      "fixed acidity           -0.0007      0.018     -0.036      0.971      -0.036       0.035\n",
      "volatile acidity        -1.9260      0.114    -16.894      0.000      -2.150      -1.703\n",
      "citric acid             -0.0123      0.096     -0.128      0.898      -0.201       0.176\n",
      "residual sugar           0.0587      0.007      8.739      0.000       0.046       0.072\n",
      "chlorides               -0.7047      0.543     -1.297      0.195      -1.770       0.360\n",
      "free sulfur dioxide      0.0039      0.001      4.662      0.000       0.002       0.006\n",
      "total sulfur dioxide    -0.0004      0.000     -0.936      0.350      -0.001       0.000\n",
      "density                -92.6956     16.998     -5.453      0.000    -126.020     -59.371\n",
      "sulphates                0.6088      0.101      6.041      0.000       0.411       0.806\n",
      "alcohol                  0.2596      0.022     11.770      0.000       0.216       0.303\n",
      "cat_pH_normal            0.0695      0.029      2.419      0.016       0.013       0.126\n",
      "cat_pH_basic             0.1348      0.063      2.142      0.032       0.011       0.258\n",
      "==============================================================================\n",
      "Omnibus:                      107.370   Durbin-Watson:                   1.622\n",
      "Prob(Omnibus):                  0.000   Jarque-Bera (JB):              226.774\n",
      "Skew:                           0.083   Prob(JB):                     5.71e-50\n",
      "Kurtosis:                       4.041   Cond. No.                     3.34e+05\n",
      "==============================================================================\n",
      "\n",
      "Notes:\n",
      "[1] Standard Errors assume that the covariance matrix of the errors is correctly specified.\n",
      "[2] The condition number is large, 3.34e+05. This might indicate that there are\n",
      "strong multicollinearity or other numerical problems.\n"
     ]
    }
   ],
   "source": [
    "xc1= sm.add_constant(df_r)\n",
    "md= sm.OLS(qual, xc1).fit()\n",
    "print(md.summary())"
   ]
  },
  {
   "cell_type": "code",
   "execution_count": 83,
   "metadata": {
    "id": "fO1PJOkR5fiW"
   },
   "outputs": [],
   "source": [
    "# P values of both of them are less than 0.05- so both of them are significantly contributing. \n",
    "\n",
    "# cat_pH_basic is contributing more as the coeff is larger"
   ]
  },
  {
   "cell_type": "markdown",
   "metadata": {
    "collapsed": true,
    "id": "6gtLM71skVPX"
   },
   "source": [
    "<table align=\"left\">\n",
    "    <tr>\n",
    "        <td>\n",
    "            <div align=\"left\", style=\"font-size:120%\">\n",
    "                <font color=\"#21618C\">\n",
    "                    <b>18. Fit the a full model. Validate the model using cross validation method</b>\n",
    "                </font>\n",
    "            </div>\n",
    "        </td>\n",
    "    </tr>\n",
    "</table>"
   ]
  },
  {
   "cell_type": "code",
   "execution_count": 84,
   "metadata": {
    "colab": {
     "base_uri": "https://localhost:8080/"
    },
    "id": "UuxgIcfikVPX",
    "outputId": "e7933ebd-1426-47e6-d19e-d47526355a06"
   },
   "outputs": [
    {
     "name": "stdout",
     "output_type": "stream",
     "text": [
      "                            OLS Regression Results                            \n",
      "==============================================================================\n",
      "Dep. Variable:                quality   R-squared:                       0.282\n",
      "Model:                            OLS   Adj. R-squared:                  0.280\n",
      "Method:                 Least Squares   F-statistic:                     174.3\n",
      "Date:                Thu, 08 Apr 2021   Prob (F-statistic):               0.00\n",
      "Time:                        16:39:53   Log-Likelihood:                -5543.7\n",
      "No. Observations:                4898   AIC:                         1.111e+04\n",
      "Df Residuals:                    4886   BIC:                         1.119e+04\n",
      "Df Model:                          11                                         \n",
      "Covariance Type:            nonrobust                                         \n",
      "========================================================================================\n",
      "                           coef    std err          t      P>|t|      [0.025      0.975]\n",
      "----------------------------------------------------------------------------------------\n",
      "const                  150.1928     18.804      7.987      0.000     113.328     187.057\n",
      "fixed acidity            0.0655      0.021      3.139      0.002       0.025       0.106\n",
      "volatile acidity        -1.8632      0.114    -16.373      0.000      -2.086      -1.640\n",
      "citric acid              0.0221      0.096      0.231      0.818      -0.166       0.210\n",
      "residual sugar           0.0815      0.008     10.825      0.000       0.067       0.096\n",
      "chlorides               -0.2473      0.547     -0.452      0.651      -1.319       0.824\n",
      "free sulfur dioxide      0.0037      0.001      4.422      0.000       0.002       0.005\n",
      "total sulfur dioxide    -0.0003      0.000     -0.756      0.450      -0.001       0.000\n",
      "density               -150.2842     19.075     -7.879      0.000    -187.679    -112.890\n",
      "pH                       0.6863      0.105      6.513      0.000       0.480       0.893\n",
      "sulphates                0.6315      0.100      6.291      0.000       0.435       0.828\n",
      "alcohol                  0.1935      0.024      7.988      0.000       0.146       0.241\n",
      "==============================================================================\n",
      "Omnibus:                      114.161   Durbin-Watson:                   1.621\n",
      "Prob(Omnibus):                  0.000   Jarque-Bera (JB):              251.637\n",
      "Skew:                           0.073   Prob(JB):                     2.28e-55\n",
      "Kurtosis:                       4.101   Cond. No.                     3.74e+05\n",
      "==============================================================================\n",
      "\n",
      "Notes:\n",
      "[1] Standard Errors assume that the covariance matrix of the errors is correctly specified.\n",
      "[2] The condition number is large, 3.74e+05. This might indicate that there are\n",
      "strong multicollinearity or other numerical problems.\n"
     ]
    }
   ],
   "source": [
    "xc1= sm.add_constant(df2)\n",
    "md= sm.OLS(qual, xc1).fit()\n",
    "print(md.summary())"
   ]
  },
  {
   "cell_type": "code",
   "execution_count": 85,
   "metadata": {
    "colab": {
     "base_uri": "https://localhost:8080/"
    },
    "id": "1xtbmIZW6ETE",
    "outputId": "e3558545-91d6-410c-b8da-19c619204a11"
   },
   "outputs": [
    {
     "data": {
      "text/plain": [
       "array([0.28423982, 0.33196733, 0.27179256, 0.23195764, 0.25285897])"
      ]
     },
     "execution_count": 85,
     "metadata": {},
     "output_type": "execute_result"
    }
   ],
   "source": [
    "# using cross val\n",
    "\n",
    "ar = LinearRegression()\n",
    "from sklearn.model_selection import cross_val_score\n",
    "Kf = KFold(n_splits=5, shuffle=True, random_state=4)\n",
    "cv = cross_val_score(ar, df2, qual, scoring = 'r2', cv=Kf)\n",
    "cv"
   ]
  },
  {
   "cell_type": "code",
   "execution_count": 86,
   "metadata": {
    "colab": {
     "base_uri": "https://localhost:8080/"
    },
    "id": "Qzxyk4bm6EXW",
    "outputId": "ab53d131-c630-40f1-b446-9db5260762ec"
   },
   "outputs": [
    {
     "data": {
      "text/plain": [
       "0.27456326396006464"
      ]
     },
     "execution_count": 86,
     "metadata": {},
     "output_type": "execute_result"
    }
   ],
   "source": [
    "np.mean(cv)"
   ]
  },
  {
   "cell_type": "code",
   "execution_count": 87,
   "metadata": {
    "id": "qTSgeVu76EaY"
   },
   "outputs": [],
   "source": [
    "# we are getting better r2 score without cross validation"
   ]
  },
  {
   "cell_type": "markdown",
   "metadata": {
    "collapsed": true,
    "id": "33C7qLMfkVPX"
   },
   "source": [
    "<table align=\"left\">\n",
    "    <tr>\n",
    "        <td>\n",
    "            <div align=\"left\", style=\"font-size:120%\">\n",
    "                <font color=\"#21618C\">\n",
    "                    <b>19. Fit the a full model. Validate the model using 5 - fold cross validation</b>\n",
    "                </font>\n",
    "            </div>\n",
    "        </td>\n",
    "    </tr>\n",
    "</table>"
   ]
  },
  {
   "cell_type": "code",
   "execution_count": 88,
   "metadata": {
    "id": "9w2b7rCJkVPY"
   },
   "outputs": [],
   "source": [
    "from sklearn.model_selection import RepeatedKFold\n",
    "from sklearn.model_selection import cross_val_score\n",
    "\n",
    "cv2 = RepeatedKFold(n_splits=5, n_repeats=2, random_state=1)"
   ]
  },
  {
   "cell_type": "code",
   "execution_count": 89,
   "metadata": {
    "colab": {
     "base_uri": "https://localhost:8080/"
    },
    "id": "MCjPJul--lmt",
    "outputId": "6e352e7b-b189-4e21-b4af-7f8231c0e08a"
   },
   "outputs": [
    {
     "name": "stdout",
     "output_type": "stream",
     "text": [
      "0.2740976807979657 0.01583513771211195\n"
     ]
    }
   ],
   "source": [
    "scores = cross_val_score(ar, df2, qual, scoring = 'r2', cv=cv2, n_jobs=-1)\n",
    "print(np.mean(scores), np.std(scores))"
   ]
  },
  {
   "cell_type": "code",
   "execution_count": 90,
   "metadata": {
    "id": "fRfhyUDw-lqE"
   },
   "outputs": [],
   "source": [
    "# score after 5 fold is 0.27"
   ]
  },
  {
   "cell_type": "markdown",
   "metadata": {
    "collapsed": true,
    "id": "KSJvToOLkVPY"
   },
   "source": [
    "<table align=\"left\">\n",
    "    <tr>\n",
    "        <td>\n",
    "            <div align=\"left\", style=\"font-size:120%\">\n",
    "                <font color=\"#21618C\">\n",
    "                    <b>20. Fit the a full model. Validate the model using leave one out cross validation</b>\n",
    "                </font>\n",
    "            </div>\n",
    "        </td>\n",
    "    </tr>\n",
    "</table>"
   ]
  },
  {
   "cell_type": "code",
   "execution_count": 91,
   "metadata": {
    "id": "WO9FQO8wkVPY"
   },
   "outputs": [],
   "source": [
    "from sklearn.model_selection import LeaveOneOut"
   ]
  },
  {
   "cell_type": "code",
   "execution_count": 92,
   "metadata": {
    "id": "trtqazP8_Unw"
   },
   "outputs": [],
   "source": [
    "loc= LeaveOneOut()\n",
    "cv3 = cross_val_score(ar, df2, qual, scoring = 'neg_mean_squared_error', cv=loc, n_jobs=-1)"
   ]
  },
  {
   "cell_type": "code",
   "execution_count": 93,
   "metadata": {
    "colab": {
     "base_uri": "https://localhost:8080/"
    },
    "id": "w97XznYe_UtE",
    "outputId": "be846350-b83a-49ee-a615-248b055d9fdd"
   },
   "outputs": [
    {
     "name": "stdout",
     "output_type": "stream",
     "text": [
      "0.7541120584743232\n"
     ]
    }
   ],
   "source": [
    "print(np.sqrt(-1*cv3.mean()))"
   ]
  },
  {
   "cell_type": "code",
   "execution_count": 94,
   "metadata": {
    "id": "lrn2YytQ_U1t"
   },
   "outputs": [],
   "source": [
    "# RMSE is 0.75"
   ]
  },
  {
   "cell_type": "code",
   "execution_count": 95,
   "metadata": {
    "colab": {
     "base_uri": "https://localhost:8080/"
    },
    "id": "OPAuYDkiBJp6",
    "outputId": "99cd687e-f058-486a-bb2d-1e20000c26f7"
   },
   "outputs": [
    {
     "data": {
      "text/plain": [
       "array([-0.19207249, -0.61521635, -0.05473902, ..., -0.43494117,\n",
       "       -0.18445862, -0.12105398])"
      ]
     },
     "execution_count": 95,
     "metadata": {},
     "output_type": "execute_result"
    }
   ],
   "source": [
    "cv3"
   ]
  }
 ],
 "metadata": {
  "colab": {
   "collapsed_sections": [],
   "name": "SLR_In_Class_Lab_Exercise_(Day_2)_Questions_[v3_0_021120].ipynb",
   "provenance": [],
   "toc_visible": true
  },
  "kernelspec": {
   "display_name": "Python 3",
   "language": "python",
   "name": "python3"
  },
  "language_info": {
   "codemirror_mode": {
    "name": "ipython",
    "version": 3
   },
   "file_extension": ".py",
   "mimetype": "text/x-python",
   "name": "python",
   "nbconvert_exporter": "python",
   "pygments_lexer": "ipython3",
   "version": "3.8.8"
  }
 },
 "nbformat": 4,
 "nbformat_minor": 1
}
