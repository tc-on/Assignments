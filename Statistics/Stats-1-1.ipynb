{
  "nbformat": 4,
  "nbformat_minor": 0,
  "metadata": {
    "kernelspec": {
      "display_name": "Python 3",
      "language": "python",
      "name": "python3"
    },
    "language_info": {
      "codemirror_mode": {
        "name": "ipython",
        "version": 3
      },
      "file_extension": ".py",
      "mimetype": "text/x-python",
      "name": "python",
      "nbconvert_exporter": "python",
      "pygments_lexer": "ipython3",
      "version": "3.7.3"
    },
    "colab": {
      "name": "Stats_Takehome-Assignment-Day1-Tanuj .ipynb",
      "provenance": [],
      "collapsed_sections": []
    }
  },
  "cells": [
    {
      "cell_type": "code",
      "metadata": {
        "id": "d89k2LDYGn0F"
      },
      "source": [
        "## CALLING LIBRARIES\n",
        "import numpy             as np\n",
        "import pandas            as pd\n",
        "import scipy.stats       as stats\n",
        "import matplotlib.pyplot as plt\n",
        "import warnings\n",
        "import seaborn           as sns\n",
        "import math\n",
        "%matplotlib inline\n",
        "warnings.filterwarnings('ignore')"
      ],
      "execution_count": 1,
      "outputs": []
    },
    {
      "cell_type": "markdown",
      "metadata": {
        "id": "g57YPx1NGn0J"
      },
      "source": [
        "## Normal Distribution"
      ]
    },
    {
      "cell_type": "markdown",
      "metadata": {
        "id": "hN7mH0usGn0J"
      },
      "source": [
        "**Problem:** The fill amount in 2-liter soft drink bottles is normally distributed, with a mean of 2.0 liters and a standard deviation of 0.05 liter. If the bottles contain less than 95% of the listed net content (1.90 liters, in our case), the manufacturer may be subject to penalty by the state office of consumer affairs. Bottles that have a net content above 2.1 liters may cause excess spillage upon opening. What is the proportion of bottles that will contain\n",
        "\n",
        "* a) between 1.9 and 2.0 liters\n",
        "* b) between 1.9 and 2.1 liters\n",
        "* c) below 1.9 liters or above 2.1 liters\n",
        "* d) At least how much soft drink is contained in 99% of the bottles?"
      ]
    },
    {
      "cell_type": "code",
      "metadata": {
        "id": "HnVAX5ENGn0K"
      },
      "source": [
        "mu     = 2\n",
        "sigma  = 0.05"
      ],
      "execution_count": 2,
      "outputs": []
    },
    {
      "cell_type": "markdown",
      "metadata": {
        "id": "sk98nhZtGn0O"
      },
      "source": [
        "#### a. between 1.9 and 2.0 liters\n",
        "----------"
      ]
    },
    {
      "cell_type": "code",
      "metadata": {
        "id": "AQ699nLuGn0O",
        "colab": {
          "base_uri": "https://localhost:8080/"
        },
        "outputId": "b6ae83ac-e05d-4322-ef3b-ac26e7491bbf"
      },
      "source": [
        "print(((stats.norm.cdf(2,loc=2,scale=0.05))-(stats.norm.cdf(1.9,loc=2,scale=0.05)))*100,'%')"
      ],
      "execution_count": 3,
      "outputs": [
        {
          "output_type": "stream",
          "text": [
            "47.72498680518209 %\n"
          ],
          "name": "stdout"
        }
      ]
    },
    {
      "cell_type": "markdown",
      "metadata": {
        "id": "VMg1N610Gn0R"
      },
      "source": [
        "#### b) between 1.9 and 2.1 liters\n",
        "-------"
      ]
    },
    {
      "cell_type": "code",
      "metadata": {
        "id": "rTGEGVWQGn0R",
        "colab": {
          "base_uri": "https://localhost:8080/"
        },
        "outputId": "11b05521-60aa-47d0-db20-730664bd673f"
      },
      "source": [
        "print(((stats.norm.cdf(2.1,loc=2,scale=0.05))-(stats.norm.cdf(1.9,loc=2,scale=0.05)))*100,'%')"
      ],
      "execution_count": 4,
      "outputs": [
        {
          "output_type": "stream",
          "text": [
            "95.44997361036418 %\n"
          ],
          "name": "stdout"
        }
      ]
    },
    {
      "cell_type": "markdown",
      "metadata": {
        "id": "WgVEEnzmGn0U"
      },
      "source": [
        "#### c. below 1.9 liters or above 2.1 liters\n",
        "------"
      ]
    },
    {
      "cell_type": "code",
      "metadata": {
        "id": "L8WyBAqNGn0U",
        "colab": {
          "base_uri": "https://localhost:8080/"
        },
        "outputId": "1176c331-4473-4c7e-e4a2-25c971124f3e"
      },
      "source": [
        "print(((stats.norm.cdf(1.9,loc=2,scale=0.05))+(1-stats.norm.cdf(2.1,loc=2,scale=0.05)))*100,'%')"
      ],
      "execution_count": 5,
      "outputs": [
        {
          "output_type": "stream",
          "text": [
            "4.5500263896358195 %\n"
          ],
          "name": "stdout"
        }
      ]
    },
    {
      "cell_type": "markdown",
      "metadata": {
        "id": "lAkpxgrRGn0X"
      },
      "source": [
        "#### d) At least how much soft drink is contained in 99% of the bottles?\n",
        "-----------"
      ]
    },
    {
      "cell_type": "code",
      "metadata": {
        "id": "5I94xzhdGn0X",
        "colab": {
          "base_uri": "https://localhost:8080/"
        },
        "outputId": "c7a80f5d-7fde-4622-8fbc-ba557f397c20"
      },
      "source": [
        "print(stats.norm.interval(0.99,loc=2,scale=0.05),'litres')"
      ],
      "execution_count": 6,
      "outputs": [
        {
          "output_type": "stream",
          "text": [
            "(1.871208534822555, 2.128791465177445) litres\n"
          ],
          "name": "stdout"
        }
      ]
    },
    {
      "cell_type": "markdown",
      "metadata": {
        "id": "C1bKDZiTGn0a"
      },
      "source": [
        "------"
      ]
    },
    {
      "cell_type": "markdown",
      "metadata": {
        "id": "EezgPOmzGn0a"
      },
      "source": [
        "**Problem)**. The following table contains the age of the vistors in the cricket stadium  ( n =50).**\n",
        "* Decide whether the data appears to be normally distributed by\n",
        "* a. Mean and median "
      ]
    },
    {
      "cell_type": "markdown",
      "metadata": {
        "id": "JzulqPOVGn0b"
      },
      "source": [
        "**solution :**"
      ]
    },
    {
      "cell_type": "code",
      "metadata": {
        "id": "tGGvPbgTGn0c",
        "colab": {
          "base_uri": "https://localhost:8080/"
        },
        "outputId": "7ca02d66-241d-408c-9ed2-0ed7b494b2f7"
      },
      "source": [
        "mpg = np.array([38,36,31,30, 28,25, 26, 20, 20, 20, 21, 19, 21, 19, 21, 20, 20, 20, 19, 21, 21, 22, 20, 22, 20, 20, 22, 20, 22, 21, 19,\n",
        "                             19, 20, 20, 21, 20, 19, 18, 20, 21, 21, 20, 21, 21, 20,  21, 24, 32, 35,38])\n",
        "print(mpg)"
      ],
      "execution_count": 7,
      "outputs": [
        {
          "output_type": "stream",
          "text": [
            "[38 36 31 30 28 25 26 20 20 20 21 19 21 19 21 20 20 20 19 21 21 22 20 22\n",
            " 20 20 22 20 22 21 19 19 20 20 21 20 19 18 20 21 21 20 21 21 20 21 24 32\n",
            " 35 38]\n"
          ],
          "name": "stdout"
        }
      ]
    },
    {
      "cell_type": "code",
      "metadata": {
        "colab": {
          "base_uri": "https://localhost:8080/",
          "height": 334
        },
        "id": "rD8xx5fjLiwe",
        "outputId": "26b8bbb3-c525-4097-d362-63846d96c807"
      },
      "source": [
        "print('Mean:',np.mean(mpg))\n",
        "print('Median:',np.median(mpg))\n",
        "print('\\n')\n",
        "sns.distplot(mpg)\n",
        "plt.show()"
      ],
      "execution_count": 8,
      "outputs": [
        {
          "output_type": "stream",
          "text": [
            "Mean: 22.7\n",
            "Median: 21.0\n",
            "\n",
            "\n"
          ],
          "name": "stdout"
        },
        {
          "output_type": "display_data",
          "data": {
            "image/png": "[encoded data removed]",
            "text/plain": [
              "<Figure size 432x288 with 1 Axes>"
            ]
          },
          "metadata": {
            "tags": [],
            "needs_background": "light"
          }
        }
      ]
    },
    {
      "cell_type": "markdown",
      "metadata": {
        "id": "OzcHYKAKM0b0"
      },
      "source": [
        "- No, it is not normally distributed and have to be treated."
      ]
    },
    {
      "cell_type": "markdown",
      "metadata": {
        "id": "VsB673p9mXi3"
      },
      "source": [
        "**Problem** ) Provided the Population data and sample data.\n",
        "\n",
        "#### a)plot the population data and sample data check how the data is distributed.Give inference whether the sampling distribution similar to population data."
      ]
    },
    {
      "cell_type": "code",
      "metadata": {
        "id": "yWi8Vny6mcIb",
        "colab": {
          "base_uri": "https://localhost:8080/"
        },
        "outputId": "04d02459-1e33-4628-cd00-b71fcd25d148"
      },
      "source": [
        "import numpy as np\n",
        "import scipy.stats as stats\n",
        "np.random.seed(7)\n",
        "population_horsepower1 = stats.poisson.rvs(loc=1800, mu=25, size=15000)\n",
        "population_horsepower2 = stats.poisson.rvs(loc=1800, mu=5, size=10000)\n",
        "population_hp = np.concatenate((population_horsepower1, population_horsepower2))\n",
        "\n",
        "print(population_hp) # population data"
      ],
      "execution_count": 9,
      "outputs": [
        {
          "output_type": "stream",
          "text": [
            "[1824 1825 1821 ... 1812 1807 1805]\n"
          ],
          "name": "stdout"
        }
      ]
    },
    {
      "cell_type": "code",
      "metadata": {
        "id": "9x245SPSmoM1",
        "colab": {
          "base_uri": "https://localhost:8080/"
        },
        "outputId": "5bcb8341-c468-4376-9071-8a7886cc2c6d"
      },
      "source": [
        "np.random.seed(7)\n",
        "sample_hp = np.random.choice(a= population_hp,size=100)            # Sample 100 values\n",
        "print(sample_hp) #sample data"
      ],
      "execution_count": 10,
      "outputs": [
        {
          "output_type": "stream",
          "text": [
            "[1806 1816 1833 1809 1834 1819 1818 1803 1823 1803 1824 1807 1823 1835\n",
            " 1804 1802 1812 1804 1802 1821 1819 1829 1822 1826 1841 1831 1804 1820\n",
            " 1805 1828 1821 1826 1801 1820 1807 1806 1806 1807 1817 1824 1828 1806\n",
            " 1824 1819 1823 1818 1827 1803 1829 1824 1804 1802 1826 1827 1824 1809\n",
            " 1828 1822 1805 1805 1806 1805 1801 1810 1827 1822 1831 1822 1803 1820\n",
            " 1806 1822 1811 1816 1830 1835 1828 1822 1826 1803 1835 1827 1827 1824\n",
            " 1819 1826 1831 1803 1807 1831 1811 1818 1817 1832 1805 1808 1802 1821\n",
            " 1804 1836]\n"
          ],
          "name": "stdout"
        }
      ]
    },
    {
      "cell_type": "code",
      "metadata": {
        "colab": {
          "base_uri": "https://localhost:8080/",
          "height": 568
        },
        "id": "VXOiBvbpLNGC",
        "outputId": "734c623b-b11a-425d-dad2-78ec24525291"
      },
      "source": [
        "plt.figure(figsize=(10,8))\n",
        "plt.subplot(121)\n",
        "sns.distplot(population_hp)\n",
        "plt.title('Population Distribution')\n",
        "plt.subplot(121)\n",
        "sns.distplot(sample_hp)\n",
        "plt.title('Sample Distribution')\n",
        "plt.show()\n",
        "print('\\n')\n",
        "print('Population Mean:',np.mean(population_hp))\n",
        "print('Sample Mean:',np.mean(sample_hp))"
      ],
      "execution_count": 11,
      "outputs": [
        {
          "output_type": "display_data",
          "data": {
            "image/png": "[encoded data removed]",
            "text/plain": [
              "<Figure size 720x576 with 1 Axes>"
            ]
          },
          "metadata": {
            "tags": [],
            "needs_background": "light"
          }
        },
        {
          "output_type": "stream",
          "text": [
            "\n",
            "\n",
            "Population Mean: 1817.01828\n",
            "Sample Mean: 1817.41\n"
          ],
          "name": "stdout"
        }
      ]
    },
    {
      "cell_type": "markdown",
      "metadata": {
        "id": "2zlWwKdQM_fF"
      },
      "source": [
        "- Yes, both the distributions are similar."
      ]
    },
    {
      "cell_type": "markdown",
      "metadata": {
        "id": "hwe_kBn1Gn0i"
      },
      "source": [
        "------------------"
      ]
    }
  ]
}