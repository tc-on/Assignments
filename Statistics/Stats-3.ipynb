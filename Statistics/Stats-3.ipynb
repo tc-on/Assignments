{
 "cells": [
  {
   "cell_type": "markdown",
   "metadata": {
    "id": "yMfPVLoY32rH"
   },
   "source": [
    "# ANOVA and Chi Square "
   ]
  },
  {
   "cell_type": "markdown",
   "metadata": {
    "id": "pZ4Elsao32rM"
   },
   "source": [
    "### Practice Exercise 1"
   ]
  },
  {
   "cell_type": "markdown",
   "metadata": {
    "id": "-0a3AGXH32rN"
   },
   "source": [
    "A company makes three types of electronic device.\n",
    "Life time in hours for each type of electronic device is given below:\n",
    "\n",
    "* life_type_A = [ 407, 411, 409 ]\n",
    "* life_type_B = [ 404, 406, 408, 405, 402 ]\n",
    "* ife_type_C  = [ 410, 408, 406, 408]"
   ]
  },
  {
   "cell_type": "markdown",
   "metadata": {
    "id": "qlNevwRL32rO"
   },
   "source": [
    "### Hint"
   ]
  },
  {
   "cell_type": "code",
   "execution_count": 1,
   "metadata": {
    "id": "ixT_QxmT32rP"
   },
   "outputs": [],
   "source": [
    "import pandas            as pd\n",
    "import numpy             as np\n",
    "import matplotlib.pyplot as plt\n",
    "import seaborn           as sns\n",
    "from scipy.stats import f_oneway\n",
    "import warnings\n",
    "warnings.filterwarnings(\"ignore\")"
   ]
  },
  {
   "cell_type": "code",
   "execution_count": 2,
   "metadata": {
    "id": "F1Q4O2_Y32rT"
   },
   "outputs": [],
   "source": [
    "life_type_A = np.array([407, 411, 409 ])\n",
    "life_type_B = np.array([404, 406, 408, 405, 402 ])\n",
    "life_type_C  = np.array([410, 408, 406, 408])"
   ]
  },
  {
   "cell_type": "markdown",
   "metadata": {
    "id": "sUvHWRhB32rY"
   },
   "source": [
    "### a)  Plot box plot for the above data and write your inference on the group means from the boxplots."
   ]
  },
  {
   "cell_type": "code",
   "execution_count": 3,
   "metadata": {
    "colab": {
     "base_uri": "https://localhost:8080/",
     "height": 623
    },
    "id": "oxd_KO0g08Tz",
    "outputId": "e3cd4a16-21a4-4776-b83b-3118b1231034"
   },
   "outputs": [
    {
     "data": {
      "image/png": "[encoded data removed]",
      "text/plain": [
       "<Figure size 720x576 with 3 Axes>"
      ]
     },
     "metadata": {
      "needs_background": "light"
     },
     "output_type": "display_data"
    }
   ],
   "source": [
    "fig, axes = plt.subplots(3,1,figsize=(10,8))\n",
    "fig.subplots_adjust(hspace=.5)\n",
    "sns.boxplot(life_type_A,ax=axes[0]).set_title('Life Type A')\n",
    "sns.boxplot(life_type_B,ax=axes[1]).set_title('Life Type B')\n",
    "sns.boxplot(life_type_C,ax=axes[2]).set_title('Life Type C')\n",
    "plt.show()"
   ]
  },
  {
   "cell_type": "markdown",
   "metadata": {
    "id": "QmrC6MVu32rg"
   },
   "source": [
    "### b)  At 5% level of significance, is there any difference in the average lifetimes of the three types?"
   ]
  },
  {
   "cell_type": "code",
   "execution_count": 4,
   "metadata": {
    "colab": {
     "base_uri": "https://localhost:8080/"
    },
    "id": "pZkI8Gq432rl",
    "outputId": "8fb19c2c-6584-4e16-f592-4e511e54f418"
   },
   "outputs": [
    {
     "name": "stdout",
     "output_type": "stream",
     "text": [
      "F_onewayResult(statistic=4.5, pvalue=0.04419417382415922)\n"
     ]
    }
   ],
   "source": [
    "print(f_oneway(life_type_A,life_type_B,life_type_C))"
   ]
  },
  {
   "cell_type": "markdown",
   "metadata": {
    "id": "uQUwrcNa32rr"
   },
   "source": [
    "### c)  If  you were able to reject the null hypothesis, you can proceed with post-hoc analysis to determine which means are different "
   ]
  },
  {
   "cell_type": "code",
   "execution_count": 5,
   "metadata": {
    "colab": {
     "base_uri": "https://localhost:8080/"
    },
    "id": "jsqFmZfx32rt",
    "outputId": "e833b71f-21e8-4372-c2a0-0c8599c5d2bc"
   },
   "outputs": [
    {
     "name": "stdout",
     "output_type": "stream",
     "text": [
      "Multiple Comparison of Means - Tukey HSD, FWER=0.05\n",
      "===================================================\n",
      "group1 group2 meandiff p-adj   lower  upper  reject\n",
      "---------------------------------------------------\n",
      "     A      B     -4.0 0.0541 -8.0746 0.0746  False\n",
      "     A      C     -1.0 0.7824 -5.2613 3.2613  False\n",
      "     B      C      3.0 0.1177 -0.7427 6.7427  False\n",
      "---------------------------------------------------\n"
     ]
    }
   ],
   "source": [
    "from statsmodels.stats.multicomp import pairwise_tukeyhsd\n",
    "\n",
    "df = pd.DataFrame()\n",
    "df1  = pd.DataFrame({'life_type': 'A', 'life':life_type_A})\n",
    "df2  = pd.DataFrame({'life_type': 'B', 'life':life_type_B})\n",
    "df3  = pd.DataFrame({'life_type': 'C', 'life':life_type_C})\n",
    "df = df.append(df1) \n",
    "df = df.append(df2) \n",
    "df = df.append(df3)\n",
    "\n",
    "print(pairwise_tukeyhsd(df['life'], df['life_type'], alpha=0.05))"
   ]
  },
  {
   "cell_type": "markdown",
   "metadata": {
    "id": "tIDpYZ4432rw"
   },
   "source": [
    "### Practice Exercise 2"
   ]
  },
  {
   "cell_type": "markdown",
   "metadata": {
    "id": "z9KJ7wlzFYe1"
   },
   "source": [
    "### A sample of number of sell of a particular product over different days in different stores have been collected.Perform a test to check whether different stores and different days have any effect on the number of products that have been sold."
   ]
  },
  {
   "cell_type": "code",
   "execution_count": 6,
   "metadata": {
    "id": "HZ1AHwj032rw"
   },
   "outputs": [],
   "source": [
    "table1  = [['Day','Store-A','Store-B','Store-C','Store-D','Store-E'], [1,69, 71, 64, 67, 56],\\\n",
    "           [2, 68, 76, 79, 87, 76], [3, 71, 77, 74, 84, 72], [4, 70, 73, 71, 78, 73], [5, 60, 64, 67, 79, 58]]"
   ]
  },
  {
   "cell_type": "code",
   "execution_count": 7,
   "metadata": {
    "colab": {
     "base_uri": "https://localhost:8080/"
    },
    "id": "woODVMWf32rz",
    "outputId": "06cf211c-8709-4520-d44b-a9eec105cfda"
   },
   "outputs": [
    {
     "name": "stdout",
     "output_type": "stream",
     "text": [
      "   Day  Store-A  Store-B  Store-C  Store-D  Store-E\n",
      "0    1       69       71       64       67       56\n",
      "1    2       68       76       79       87       76\n",
      "2    3       71       77       74       84       72\n",
      "3    4       70       73       71       78       73\n",
      "4    5       60       64       67       79       58\n"
     ]
    }
   ],
   "source": [
    "\n",
    "headers = table1.pop(0) #\n",
    "\n",
    "df1 = pd.DataFrame(table1, columns=headers)\n",
    "print(df1)"
   ]
  },
  {
   "cell_type": "code",
   "execution_count": 8,
   "metadata": {
    "colab": {
     "base_uri": "https://localhost:8080/"
    },
    "id": "X8ZKOnLn32r4",
    "outputId": "7c115eb6-4566-4c0b-a76c-ec0efabfb3ad"
   },
   "outputs": [
    {
     "data": {
      "text/plain": [
       "F_onewayResult(statistic=2.565333333333334, pvalue=0.06981897863436556)"
      ]
     },
     "execution_count": 8,
     "metadata": {},
     "output_type": "execute_result"
    }
   ],
   "source": [
    "f_oneway(df1['Store-A'],df1['Store-B'],df1['Store-C'],df1['Store-D'],df1['Store-E'])"
   ]
  },
  {
   "cell_type": "markdown",
   "metadata": {
    "id": "Kb94aLbz32r7"
   },
   "source": [
    "## Chi Square"
   ]
  },
  {
   "cell_type": "markdown",
   "metadata": {
    "id": "cYhYKQjd32r7"
   },
   "source": [
    "### Practice Exercise 3"
   ]
  },
  {
   "cell_type": "markdown",
   "metadata": {
    "id": "RdPFcdeu026A"
   },
   "source": [
    "A1 airlines operated daily flights to several Indian cities. The operations manager believes that 28% of their passengers prefer vegan food, 42% prefer vegetarian food , 25% prefer non-veg food 5% request for Jain food. \n",
    "\n",
    "A sample of 500 passengers was chosen to analyse the food preferences and the data is shown in the following table:\n",
    "\n",
    "|               | Food type | Vegan | Vegetarian | Non-Vegetarian | Jain |\n",
    "| ------------------------- | ---- | ---- | ----- | ---- | ---- |\n",
    "|Number of passengers |  | 190 | 185 | 90 | 35 |\n",
    "\n",
    "At 5% level of significance, can you confirm that the meal preference is as per the belief of the operations manager?"
   ]
  },
  {
   "cell_type": "code",
   "execution_count": 9,
   "metadata": {
    "id": "FYf-ylr-32r9"
   },
   "outputs": [],
   "source": [
    "import scipy.stats as stats\n",
    "import scipy\n",
    "\n",
    "observed_values    = np.array([190, 185, 90, 35])\n",
    "n                  = observed_values.sum()\n"
   ]
  },
  {
   "cell_type": "code",
   "execution_count": 10,
   "metadata": {
    "colab": {
     "base_uri": "https://localhost:8080/"
    },
    "id": "BQ7xWvqF32sD",
    "outputId": "454fff59-21f0-4af5-9904-c0accb40aad0"
   },
   "outputs": [
    {
     "name": "stdout",
     "output_type": "stream",
     "text": [
      "Power_divergenceResult(statistic=22.77777777777778, pvalue=4.492718590376291e-05)\n"
     ]
    }
   ],
   "source": [
    "expected_values    = np.array([n*0.3, n*.45, n*0.2, n*0.05])\n",
    "\n",
    "print(stats.chisquare(observed_values, f_exp=expected_values))"
   ]
  },
  {
   "cell_type": "markdown",
   "metadata": {
    "id": "0iSz4fc332sI"
   },
   "source": [
    "### Chi-square tests of independence"
   ]
  },
  {
   "cell_type": "markdown",
   "metadata": {
    "id": "Se0dGLN232sK"
   },
   "source": [
    "### Practice Exercise 4"
   ]
  },
  {
   "cell_type": "markdown",
   "metadata": {
    "id": "3g1a0FKB32sM"
   },
   "source": [
    "A Cable service provider company is interested in checking whether or not the customer churn depends on customer segment.  Use 5% as level of significance"
   ]
  },
  {
   "cell_type": "markdown",
   "metadata": {
    "id": "hxol9h7l32sO"
   },
   "source": [
    "| Customer Segment | Churned | Retained |\n",
    "|  -------- | ----- | ---- |\n",
    "| S1 | 15 | 142 |\n",
    "| S2 | 24 | 400 |\n",
    "| S3 | 30 | 389 |\n"
   ]
  },
  {
   "cell_type": "markdown",
   "metadata": {
    "id": "lujEIbTI32sQ"
   },
   "source": [
    "#### Hint"
   ]
  },
  {
   "cell_type": "code",
   "execution_count": 11,
   "metadata": {
    "id": "6lpZw_cm32sS"
   },
   "outputs": [],
   "source": [
    "import numpy       as np\n",
    "import scipy.stats as stats\n",
    "\n",
    "churn_array = np.array([[15,142],[24, 400],[30, 389]])\n"
   ]
  },
  {
   "cell_type": "code",
   "execution_count": 12,
   "metadata": {
    "colab": {
     "base_uri": "https://localhost:8080/"
    },
    "id": "p9z0C3Ux32sa",
    "outputId": "d78c50b5-0eb6-4113-d2cb-d43e6f053e23"
   },
   "outputs": [
    {
     "name": "stdout",
     "output_type": "stream",
     "text": [
      "(2.779977047087869, 0.24907816314986156, 2, array([[ 10.833, 146.167],\n",
      "       [ 29.256, 394.744],\n",
      "       [ 28.911, 390.089]]))\n"
     ]
    }
   ],
   "source": [
    "print(stats.chi2_contingency(churn_array))"
   ]
  },
  {
   "cell_type": "markdown",
   "metadata": {
    "id": "Sh3-MCI232sf"
   },
   "source": [
    "## E N D  "
   ]
  }
 ],
 "metadata": {
  "colab": {
   "collapsed_sections": [],
   "name": "Inclass_labexercise_Day3_Tanuj.ipynb",
   "provenance": []
  },
  "kernelspec": {
   "display_name": "Python 3",
   "language": "python",
   "name": "python3"
  },
  "language_info": {
   "codemirror_mode": {
    "name": "ipython",
    "version": 3
   },
   "file_extension": ".py",
   "mimetype": "text/x-python",
   "name": "python",
   "nbconvert_exporter": "python",
   "pygments_lexer": "ipython3",
   "version": "3.8.8"
  }
 },
 "nbformat": 4,
 "nbformat_minor": 1
}
