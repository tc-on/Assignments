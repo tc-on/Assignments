{
 "cells": [
  {
   "cell_type": "markdown",
   "metadata": {
    "id": "fxnbK2dTi0a0"
   },
   "source": [
    "Expectations/Steps:-\n",
    "\n",
    "-\tApply Data Cleaning to the Datasets and then apply k-means, Agglomerative clustering to find pattern and the best value for the following features.\n",
    "-\tBuild a classification model on k-means, agglomerative clustering\n"
   ]
  },
  {
   "cell_type": "code",
   "execution_count": 1,
   "metadata": {
    "id": "W1N7DMXeIOcg"
   },
   "outputs": [],
   "source": [
    "import pandas as pd\n",
    "import numpy as np\n",
    "import matplotlib.pyplot as plt\n",
    "import seaborn as sns\n",
    "import warnings\n",
    "warnings.filterwarnings('ignore')"
   ]
  },
  {
   "cell_type": "code",
   "execution_count": 2,
   "metadata": {
    "colab": {
     "base_uri": "https://localhost:8080/",
     "height": 206
    },
    "id": "IPChyrvUu17d",
    "outputId": "f4ba4cc0-cef6-47b2-9a8d-8ead499af47d"
   },
   "outputs": [
    {
     "data": {
      "text/html": [
       "<div>\n",
       "<style scoped>\n",
       "    .dataframe tbody tr th:only-of-type {\n",
       "        vertical-align: middle;\n",
       "    }\n",
       "\n",
       "    .dataframe tbody tr th {\n",
       "        vertical-align: top;\n",
       "    }\n",
       "\n",
       "    .dataframe thead th {\n",
       "        text-align: right;\n",
       "    }\n",
       "</style>\n",
       "<table border=\"1\" class=\"dataframe\">\n",
       "  <thead>\n",
       "    <tr style=\"text-align: right;\">\n",
       "      <th></th>\n",
       "      <th>pelvic_incidence</th>\n",
       "      <th>pelvic_tilt numeric</th>\n",
       "      <th>lumbar_lordosis_angle</th>\n",
       "      <th>sacral_slope</th>\n",
       "      <th>pelvic_radius</th>\n",
       "      <th>degree_spondylolisthesis</th>\n",
       "      <th>class</th>\n",
       "    </tr>\n",
       "  </thead>\n",
       "  <tbody>\n",
       "    <tr>\n",
       "      <th>0</th>\n",
       "      <td>58.101935</td>\n",
       "      <td>14.837639</td>\n",
       "      <td>79.649838</td>\n",
       "      <td>43.264295</td>\n",
       "      <td>113.587655</td>\n",
       "      <td>50.237878</td>\n",
       "      <td>Abnormal</td>\n",
       "    </tr>\n",
       "    <tr>\n",
       "      <th>1</th>\n",
       "      <td>56.447026</td>\n",
       "      <td>19.444499</td>\n",
       "      <td>43.577846</td>\n",
       "      <td>37.002527</td>\n",
       "      <td>139.189690</td>\n",
       "      <td>-1.859689</td>\n",
       "      <td>Normal</td>\n",
       "    </tr>\n",
       "    <tr>\n",
       "      <th>2</th>\n",
       "      <td>92.026308</td>\n",
       "      <td>35.392674</td>\n",
       "      <td>77.416963</td>\n",
       "      <td>56.633634</td>\n",
       "      <td>115.723530</td>\n",
       "      <td>58.057542</td>\n",
       "      <td>Abnormal</td>\n",
       "    </tr>\n",
       "    <tr>\n",
       "      <th>3</th>\n",
       "      <td>38.663257</td>\n",
       "      <td>12.986441</td>\n",
       "      <td>40.000000</td>\n",
       "      <td>25.676816</td>\n",
       "      <td>124.914118</td>\n",
       "      <td>2.703008</td>\n",
       "      <td>Abnormal</td>\n",
       "    </tr>\n",
       "    <tr>\n",
       "      <th>4</th>\n",
       "      <td>38.697912</td>\n",
       "      <td>13.444749</td>\n",
       "      <td>31.000000</td>\n",
       "      <td>25.253163</td>\n",
       "      <td>123.159251</td>\n",
       "      <td>1.429186</td>\n",
       "      <td>Abnormal</td>\n",
       "    </tr>\n",
       "  </tbody>\n",
       "</table>\n",
       "</div>"
      ],
      "text/plain": [
       "   pelvic_incidence  pelvic_tilt numeric  lumbar_lordosis_angle  sacral_slope  \\\n",
       "0         58.101935            14.837639              79.649838     43.264295   \n",
       "1         56.447026            19.444499              43.577846     37.002527   \n",
       "2         92.026308            35.392674              77.416963     56.633634   \n",
       "3         38.663257            12.986441              40.000000     25.676816   \n",
       "4         38.697912            13.444749              31.000000     25.253163   \n",
       "\n",
       "   pelvic_radius  degree_spondylolisthesis     class  \n",
       "0     113.587655                 50.237878  Abnormal  \n",
       "1     139.189690                 -1.859689    Normal  \n",
       "2     115.723530                 58.057542  Abnormal  \n",
       "3     124.914118                  2.703008  Abnormal  \n",
       "4     123.159251                  1.429186  Abnormal  "
      ]
     },
     "execution_count": 2,
     "metadata": {},
     "output_type": "execute_result"
    }
   ],
   "source": [
    "df = pd.read_csv('column_2C_weka.csv')\n",
    "df = df.sample(frac=1,random_state=4).reset_index(drop=True)\n",
    "df.head()"
   ]
  },
  {
   "cell_type": "markdown",
   "metadata": {},
   "source": [
    "## EDA"
   ]
  },
  {
   "cell_type": "code",
   "execution_count": 3,
   "metadata": {
    "colab": {
     "base_uri": "https://localhost:8080/"
    },
    "id": "S_Bbyh_rb3Tc",
    "outputId": "a9edd583-0cf0-4142-d8e7-c8d0090841a1"
   },
   "outputs": [
    {
     "data": {
      "text/plain": [
       "(310, 7)"
      ]
     },
     "execution_count": 3,
     "metadata": {},
     "output_type": "execute_result"
    }
   ],
   "source": [
    "df.shape"
   ]
  },
  {
   "cell_type": "code",
   "execution_count": 4,
   "metadata": {
    "colab": {
     "base_uri": "https://localhost:8080/"
    },
    "id": "03YunllmUSFX",
    "outputId": "224ea525-bf7a-4934-9ef1-33187b325bef"
   },
   "outputs": [
    {
     "name": "stdout",
     "output_type": "stream",
     "text": [
      "<class 'pandas.core.frame.DataFrame'>\n",
      "RangeIndex: 310 entries, 0 to 309\n",
      "Data columns (total 7 columns):\n",
      " #   Column                    Non-Null Count  Dtype  \n",
      "---  ------                    --------------  -----  \n",
      " 0   pelvic_incidence          310 non-null    float64\n",
      " 1   pelvic_tilt numeric       310 non-null    float64\n",
      " 2   lumbar_lordosis_angle     310 non-null    float64\n",
      " 3   sacral_slope              310 non-null    float64\n",
      " 4   pelvic_radius             310 non-null    float64\n",
      " 5   degree_spondylolisthesis  310 non-null    float64\n",
      " 6   class                     310 non-null    object \n",
      "dtypes: float64(6), object(1)\n",
      "memory usage: 17.1+ KB\n"
     ]
    }
   ],
   "source": [
    "df.info()"
   ]
  },
  {
   "cell_type": "code",
   "execution_count": 5,
   "metadata": {
    "colab": {
     "base_uri": "https://localhost:8080/"
    },
    "id": "LEKwkeSBUcWL",
    "outputId": "83dade5a-c282-4ee4-e481-ba1899b9483d"
   },
   "outputs": [
    {
     "data": {
      "text/plain": [
       "pelvic_incidence            0\n",
       "pelvic_tilt numeric         0\n",
       "lumbar_lordosis_angle       0\n",
       "sacral_slope                0\n",
       "pelvic_radius               0\n",
       "degree_spondylolisthesis    0\n",
       "class                       0\n",
       "dtype: int64"
      ]
     },
     "execution_count": 5,
     "metadata": {},
     "output_type": "execute_result"
    }
   ],
   "source": [
    "df.isnull().sum()"
   ]
  },
  {
   "cell_type": "code",
   "execution_count": 6,
   "metadata": {
    "colab": {
     "base_uri": "https://localhost:8080/"
    },
    "id": "bpIHBSaAVCOF",
    "outputId": "cffc5ee8-9252-4ecf-9729-7a66f7e1d1ae"
   },
   "outputs": [
    {
     "data": {
      "text/plain": [
       "Abnormal    210\n",
       "Normal      100\n",
       "Name: class, dtype: int64"
      ]
     },
     "execution_count": 6,
     "metadata": {},
     "output_type": "execute_result"
    }
   ],
   "source": [
    "df['class'].value_counts()"
   ]
  },
  {
   "cell_type": "code",
   "execution_count": 7,
   "metadata": {
    "colab": {
     "base_uri": "https://localhost:8080/",
     "height": 206
    },
    "id": "DKnUHmynWh30",
    "outputId": "69af5323-c6b8-4973-b12a-9ee14df08edc"
   },
   "outputs": [
    {
     "data": {
      "text/html": [
       "<div>\n",
       "<style scoped>\n",
       "    .dataframe tbody tr th:only-of-type {\n",
       "        vertical-align: middle;\n",
       "    }\n",
       "\n",
       "    .dataframe tbody tr th {\n",
       "        vertical-align: top;\n",
       "    }\n",
       "\n",
       "    .dataframe thead th {\n",
       "        text-align: right;\n",
       "    }\n",
       "</style>\n",
       "<table border=\"1\" class=\"dataframe\">\n",
       "  <thead>\n",
       "    <tr style=\"text-align: right;\">\n",
       "      <th></th>\n",
       "      <th>pelvic_incidence</th>\n",
       "      <th>pelvic_tilt numeric</th>\n",
       "      <th>lumbar_lordosis_angle</th>\n",
       "      <th>sacral_slope</th>\n",
       "      <th>pelvic_radius</th>\n",
       "      <th>degree_spondylolisthesis</th>\n",
       "      <th>class</th>\n",
       "    </tr>\n",
       "  </thead>\n",
       "  <tbody>\n",
       "    <tr>\n",
       "      <th>0</th>\n",
       "      <td>58.101935</td>\n",
       "      <td>14.837639</td>\n",
       "      <td>79.649838</td>\n",
       "      <td>43.264295</td>\n",
       "      <td>113.587655</td>\n",
       "      <td>50.237878</td>\n",
       "      <td>1</td>\n",
       "    </tr>\n",
       "    <tr>\n",
       "      <th>1</th>\n",
       "      <td>56.447026</td>\n",
       "      <td>19.444499</td>\n",
       "      <td>43.577846</td>\n",
       "      <td>37.002527</td>\n",
       "      <td>139.189690</td>\n",
       "      <td>-1.859689</td>\n",
       "      <td>0</td>\n",
       "    </tr>\n",
       "    <tr>\n",
       "      <th>2</th>\n",
       "      <td>92.026308</td>\n",
       "      <td>35.392674</td>\n",
       "      <td>77.416963</td>\n",
       "      <td>56.633634</td>\n",
       "      <td>115.723530</td>\n",
       "      <td>58.057542</td>\n",
       "      <td>1</td>\n",
       "    </tr>\n",
       "    <tr>\n",
       "      <th>3</th>\n",
       "      <td>38.663257</td>\n",
       "      <td>12.986441</td>\n",
       "      <td>40.000000</td>\n",
       "      <td>25.676816</td>\n",
       "      <td>124.914118</td>\n",
       "      <td>2.703008</td>\n",
       "      <td>1</td>\n",
       "    </tr>\n",
       "    <tr>\n",
       "      <th>4</th>\n",
       "      <td>38.697912</td>\n",
       "      <td>13.444749</td>\n",
       "      <td>31.000000</td>\n",
       "      <td>25.253163</td>\n",
       "      <td>123.159251</td>\n",
       "      <td>1.429186</td>\n",
       "      <td>1</td>\n",
       "    </tr>\n",
       "  </tbody>\n",
       "</table>\n",
       "</div>"
      ],
      "text/plain": [
       "   pelvic_incidence  pelvic_tilt numeric  lumbar_lordosis_angle  sacral_slope  \\\n",
       "0         58.101935            14.837639              79.649838     43.264295   \n",
       "1         56.447026            19.444499              43.577846     37.002527   \n",
       "2         92.026308            35.392674              77.416963     56.633634   \n",
       "3         38.663257            12.986441              40.000000     25.676816   \n",
       "4         38.697912            13.444749              31.000000     25.253163   \n",
       "\n",
       "   pelvic_radius  degree_spondylolisthesis  class  \n",
       "0     113.587655                 50.237878      1  \n",
       "1     139.189690                 -1.859689      0  \n",
       "2     115.723530                 58.057542      1  \n",
       "3     124.914118                  2.703008      1  \n",
       "4     123.159251                  1.429186      1  "
      ]
     },
     "execution_count": 7,
     "metadata": {},
     "output_type": "execute_result"
    }
   ],
   "source": [
    "df['class']= df['class'].map({'Abnormal': 1, 'Normal' :0})\n",
    "df.head()"
   ]
  },
  {
   "cell_type": "code",
   "execution_count": 8,
   "metadata": {
    "id": "smjTwfabWicb"
   },
   "outputs": [],
   "source": [
    "y=df['class']\n",
    "x=df.drop('class',axis=1)"
   ]
  },
  {
   "cell_type": "code",
   "execution_count": 9,
   "metadata": {
    "colab": {
     "base_uri": "https://localhost:8080/",
     "height": 1000
    },
    "id": "5gI_FfbyWrNi",
    "outputId": "d3aec744-3229-4d19-b8e1-f3f729376cfe"
   },
   "outputs": [
    {
     "data": {
      "image/png": "[encoded data removed]",
      "text/plain": [
       "<Figure size 432x288 with 1 Axes>"
      ]
     },
     "metadata": {
      "needs_background": "light"
     },
     "output_type": "display_data"
    },
    {
     "data": {
      "image/png": "[encoded data removed]",
      "text/plain": [
       "<Figure size 432x288 with 1 Axes>"
      ]
     },
     "metadata": {
      "needs_background": "light"
     },
     "output_type": "display_data"
    },
    {
     "data": {
      "image/png": "[encoded data removed]",
      "text/plain": [
       "<Figure size 432x288 with 1 Axes>"
      ]
     },
     "metadata": {
      "needs_background": "light"
     },
     "output_type": "display_data"
    },
    {
     "data": {
      "image/png": "[encoded data removed]",
      "text/plain": [
       "<Figure size 432x288 with 1 Axes>"
      ]
     },
     "metadata": {
      "needs_background": "light"
     },
     "output_type": "display_data"
    },
    {
     "data": {
      "image/png": "[encoded data removed]",
      "text/plain": [
       "<Figure size 432x288 with 1 Axes>"
      ]
     },
     "metadata": {
      "needs_background": "light"
     },
     "output_type": "display_data"
    },
    {
     "data": {
      "image/png": "[encoded data removed]",
      "text/plain": [
       "<Figure size 432x288 with 1 Axes>"
      ]
     },
     "metadata": {
      "needs_background": "light"
     },
     "output_type": "display_data"
    }
   ],
   "source": [
    "cols=list(x.columns)\n",
    "for col in cols:\n",
    "  sns.boxplot(df[col])\n",
    "  plt.show()"
   ]
  },
  {
   "cell_type": "code",
   "execution_count": 10,
   "metadata": {
    "id": "Yw_G2M-DW4yv"
   },
   "outputs": [],
   "source": [
    "q1 = x.quantile(0.25)\n",
    "q3 = x.quantile(0.75)\n",
    "iqr = q3 - q1\n",
    "\n",
    "x= x[~(x>(q3+1.5*iqr))]"
   ]
  },
  {
   "cell_type": "code",
   "execution_count": 11,
   "metadata": {
    "colab": {
     "base_uri": "https://localhost:8080/"
    },
    "id": "vixVmexaXGOm",
    "outputId": "90d44fd3-5308-4bec-e087-d15aa524677d"
   },
   "outputs": [
    {
     "name": "stdout",
     "output_type": "stream",
     "text": [
      "<class 'pandas.core.frame.DataFrame'>\n",
      "RangeIndex: 310 entries, 0 to 309\n",
      "Data columns (total 6 columns):\n",
      " #   Column                    Non-Null Count  Dtype  \n",
      "---  ------                    --------------  -----  \n",
      " 0   pelvic_incidence          307 non-null    float64\n",
      " 1   pelvic_tilt numeric       298 non-null    float64\n",
      " 2   lumbar_lordosis_angle     309 non-null    float64\n",
      " 3   sacral_slope              309 non-null    float64\n",
      " 4   pelvic_radius             305 non-null    float64\n",
      " 5   degree_spondylolisthesis  300 non-null    float64\n",
      "dtypes: float64(6)\n",
      "memory usage: 14.7 KB\n"
     ]
    }
   ],
   "source": [
    "x.info()"
   ]
  },
  {
   "cell_type": "code",
   "execution_count": 12,
   "metadata": {
    "colab": {
     "base_uri": "https://localhost:8080/"
    },
    "id": "FjbF9J9-XeCk",
    "outputId": "9d41a038-11f3-4adc-912a-714594dc3d3e"
   },
   "outputs": [
    {
     "data": {
      "text/plain": [
       "pelvic_incidence             3\n",
       "pelvic_tilt numeric         12\n",
       "lumbar_lordosis_angle        1\n",
       "sacral_slope                 1\n",
       "pelvic_radius                5\n",
       "degree_spondylolisthesis    10\n",
       "dtype: int64"
      ]
     },
     "execution_count": 12,
     "metadata": {},
     "output_type": "execute_result"
    }
   ],
   "source": [
    "x.isnull().sum()"
   ]
  },
  {
   "cell_type": "code",
   "execution_count": 13,
   "metadata": {
    "id": "9oTchT5CXsK7"
   },
   "outputs": [],
   "source": [
    "x=x.fillna(method='ffill')"
   ]
  },
  {
   "cell_type": "code",
   "execution_count": 14,
   "metadata": {
    "colab": {
     "base_uri": "https://localhost:8080/"
    },
    "id": "7n6XLqHDYHyd",
    "outputId": "afd7ae11-7730-4f93-b698-dee500f8c8f1"
   },
   "outputs": [
    {
     "data": {
      "text/plain": [
       "pelvic_incidence            0\n",
       "pelvic_tilt numeric         0\n",
       "lumbar_lordosis_angle       0\n",
       "sacral_slope                0\n",
       "pelvic_radius               0\n",
       "degree_spondylolisthesis    0\n",
       "dtype: int64"
      ]
     },
     "execution_count": 14,
     "metadata": {},
     "output_type": "execute_result"
    }
   ],
   "source": [
    "x.isnull().sum()"
   ]
  },
  {
   "cell_type": "markdown",
   "metadata": {
    "id": "sxUzwHgoYuQo"
   },
   "source": [
    "## Hierarchical Clustering(Agglomerative)"
   ]
  },
  {
   "cell_type": "code",
   "execution_count": 15,
   "metadata": {
    "id": "GuJL5wHiZmUk"
   },
   "outputs": [],
   "source": [
    "from scipy.cluster.hierarchy import linkage,dendrogram,cut_tree\n",
    "from sklearn.preprocessing import StandardScaler"
   ]
  },
  {
   "cell_type": "code",
   "execution_count": 16,
   "metadata": {
    "colab": {
     "base_uri": "https://localhost:8080/",
     "height": 482
    },
    "id": "GYDhCojlYJhE",
    "outputId": "6308c095-1281-4fcf-9298-7a5b323cfc97"
   },
   "outputs": [
    {
     "data": {
      "image/png": "[encoded data removed]",
      "text/plain": [
       "<Figure size 1440x576 with 1 Axes>"
      ]
     },
     "metadata": {
      "needs_background": "light"
     },
     "output_type": "display_data"
    }
   ],
   "source": [
    "ss=StandardScaler()\n",
    "xs=ss.fit_transform(x)\n",
    "\n",
    "plt.figure(figsize=(20,8))\n",
    "mergings = linkage(xs,method='complete', metric='euclidean')\n",
    "dendrogram(mergings)\n",
    "plt.show()"
   ]
  },
  {
   "cell_type": "code",
   "execution_count": 17,
   "metadata": {
    "colab": {
     "base_uri": "https://localhost:8080/"
    },
    "id": "Pxvri11uaV9N",
    "outputId": "5457a394-3d30-4704-fe28-7e78aeed3035"
   },
   "outputs": [
    {
     "data": {
      "text/plain": [
       "0    240\n",
       "1     70\n",
       "dtype: int64"
      ]
     },
     "execution_count": 17,
     "metadata": {},
     "output_type": "execute_result"
    }
   ],
   "source": [
    "clustercut = pd.Series(cut_tree(mergings,n_clusters=2).reshape(-1,))\n",
    "clustercut.value_counts()"
   ]
  },
  {
   "cell_type": "markdown",
   "metadata": {
    "id": "v-bYgG5Ucsap"
   },
   "source": [
    "## KMeans Clustering\n"
   ]
  },
  {
   "cell_type": "code",
   "execution_count": 18,
   "metadata": {
    "id": "anpBmduOcpu-"
   },
   "outputs": [],
   "source": [
    "from sklearn.cluster import KMeans\n",
    "from sklearn.metrics import silhouette_score"
   ]
  },
  {
   "cell_type": "code",
   "execution_count": 19,
   "metadata": {
    "colab": {
     "base_uri": "https://localhost:8080/",
     "height": 545
    },
    "id": "WnqvzwBYc3nW",
    "outputId": "6b520e67-6c21-45fa-be28-05bae7709037"
   },
   "outputs": [
    {
     "data": {
      "image/png": "[encoded data removed]",
      "text/plain": [
       "<Figure size 432x288 with 1 Axes>"
      ]
     },
     "metadata": {
      "needs_background": "light"
     },
     "output_type": "display_data"
    },
    {
     "data": {
      "image/png": "[encoded data removed]",
      "text/plain": [
       "<Figure size 432x288 with 1 Axes>"
      ]
     },
     "metadata": {
      "needs_background": "light"
     },
     "output_type": "display_data"
    }
   ],
   "source": [
    "ssd=[]\n",
    "score=[]\n",
    "\n",
    "for k in range(2,10):\n",
    "  kmeans=KMeans(n_clusters=k,random_state=4)\n",
    "  kmeans.fit(xs)\n",
    "  ssd.append(kmeans.inertia_)\n",
    "  labels=kmeans.labels_\n",
    "  score.append(silhouette_score(xs,labels))\n",
    "\n",
    "plt.plot(range(2,10),ssd,'r')\n",
    "plt.xlabel(\"Number of Clusters\")\n",
    "plt.ylabel(\"SSD\")\n",
    "plt.show()\n",
    "\n",
    "plt.plot(range(2,10),score,'b')\n",
    "plt.xlabel(\"Number of Clusters\")\n",
    "plt.ylabel(\"Score\")\n",
    "plt.show()"
   ]
  },
  {
   "cell_type": "markdown",
   "metadata": {
    "id": "GvW6fz_dewfx"
   },
   "source": [
    "\n",
    "\n",
    "- ELBOW Result is quiet vague as some indication of elbows seems to be there for 4,5 and 6 cluster solutions.\n",
    "- Examining Silhoutte Score ,we notice slight upward trend for cluster-5.Hence 5 cluster solution may be the best number of clusters.\n",
    "\n"
   ]
  },
  {
   "cell_type": "code",
   "execution_count": 20,
   "metadata": {
    "id": "KExV0LDJdlpe"
   },
   "outputs": [],
   "source": [
    "kmeans=KMeans(n_clusters=2)\n",
    "kmeans.fit(xs,y)\n",
    "labels=kmeans.labels_"
   ]
  },
  {
   "cell_type": "code",
   "execution_count": 21,
   "metadata": {
    "id": "i8AchDPVf64k"
   },
   "outputs": [],
   "source": [
    "df['cluster_kmeans']=labels"
   ]
  },
  {
   "cell_type": "code",
   "execution_count": 22,
   "metadata": {
    "colab": {
     "base_uri": "https://localhost:8080/",
     "height": 206
    },
    "id": "KDUUP5Dhf1xh",
    "outputId": "b4818b0f-af86-423e-9c95-5e9df22265bb"
   },
   "outputs": [
    {
     "data": {
      "text/html": [
       "<div>\n",
       "<style scoped>\n",
       "    .dataframe tbody tr th:only-of-type {\n",
       "        vertical-align: middle;\n",
       "    }\n",
       "\n",
       "    .dataframe tbody tr th {\n",
       "        vertical-align: top;\n",
       "    }\n",
       "\n",
       "    .dataframe thead th {\n",
       "        text-align: right;\n",
       "    }\n",
       "</style>\n",
       "<table border=\"1\" class=\"dataframe\">\n",
       "  <thead>\n",
       "    <tr style=\"text-align: right;\">\n",
       "      <th></th>\n",
       "      <th>pelvic_incidence</th>\n",
       "      <th>pelvic_tilt numeric</th>\n",
       "      <th>lumbar_lordosis_angle</th>\n",
       "      <th>sacral_slope</th>\n",
       "      <th>pelvic_radius</th>\n",
       "      <th>degree_spondylolisthesis</th>\n",
       "      <th>class</th>\n",
       "      <th>cluster_kmeans</th>\n",
       "    </tr>\n",
       "  </thead>\n",
       "  <tbody>\n",
       "    <tr>\n",
       "      <th>0</th>\n",
       "      <td>58.101935</td>\n",
       "      <td>14.837639</td>\n",
       "      <td>79.649838</td>\n",
       "      <td>43.264295</td>\n",
       "      <td>113.587655</td>\n",
       "      <td>50.237878</td>\n",
       "      <td>1</td>\n",
       "      <td>0</td>\n",
       "    </tr>\n",
       "    <tr>\n",
       "      <th>1</th>\n",
       "      <td>56.447026</td>\n",
       "      <td>19.444499</td>\n",
       "      <td>43.577846</td>\n",
       "      <td>37.002527</td>\n",
       "      <td>139.189690</td>\n",
       "      <td>-1.859689</td>\n",
       "      <td>0</td>\n",
       "      <td>1</td>\n",
       "    </tr>\n",
       "    <tr>\n",
       "      <th>2</th>\n",
       "      <td>92.026308</td>\n",
       "      <td>35.392674</td>\n",
       "      <td>77.416963</td>\n",
       "      <td>56.633634</td>\n",
       "      <td>115.723530</td>\n",
       "      <td>58.057542</td>\n",
       "      <td>1</td>\n",
       "      <td>0</td>\n",
       "    </tr>\n",
       "    <tr>\n",
       "      <th>3</th>\n",
       "      <td>38.663257</td>\n",
       "      <td>12.986441</td>\n",
       "      <td>40.000000</td>\n",
       "      <td>25.676816</td>\n",
       "      <td>124.914118</td>\n",
       "      <td>2.703008</td>\n",
       "      <td>1</td>\n",
       "      <td>1</td>\n",
       "    </tr>\n",
       "    <tr>\n",
       "      <th>4</th>\n",
       "      <td>38.697912</td>\n",
       "      <td>13.444749</td>\n",
       "      <td>31.000000</td>\n",
       "      <td>25.253163</td>\n",
       "      <td>123.159251</td>\n",
       "      <td>1.429186</td>\n",
       "      <td>1</td>\n",
       "      <td>1</td>\n",
       "    </tr>\n",
       "  </tbody>\n",
       "</table>\n",
       "</div>"
      ],
      "text/plain": [
       "   pelvic_incidence  pelvic_tilt numeric  lumbar_lordosis_angle  sacral_slope  \\\n",
       "0         58.101935            14.837639              79.649838     43.264295   \n",
       "1         56.447026            19.444499              43.577846     37.002527   \n",
       "2         92.026308            35.392674              77.416963     56.633634   \n",
       "3         38.663257            12.986441              40.000000     25.676816   \n",
       "4         38.697912            13.444749              31.000000     25.253163   \n",
       "\n",
       "   pelvic_radius  degree_spondylolisthesis  class  cluster_kmeans  \n",
       "0     113.587655                 50.237878      1               0  \n",
       "1     139.189690                 -1.859689      0               1  \n",
       "2     115.723530                 58.057542      1               0  \n",
       "3     124.914118                  2.703008      1               1  \n",
       "4     123.159251                  1.429186      1               1  "
      ]
     },
     "execution_count": 22,
     "metadata": {},
     "output_type": "execute_result"
    }
   ],
   "source": [
    "df.head()"
   ]
  },
  {
   "cell_type": "code",
   "execution_count": 23,
   "metadata": {
    "colab": {
     "base_uri": "https://localhost:8080/",
     "height": 143
    },
    "id": "OZEdyvbJgEQC",
    "outputId": "84777fbd-a7e9-4802-ab11-5a20e14eec74"
   },
   "outputs": [
    {
     "data": {
      "text/html": [
       "<div>\n",
       "<style scoped>\n",
       "    .dataframe tbody tr th:only-of-type {\n",
       "        vertical-align: middle;\n",
       "    }\n",
       "\n",
       "    .dataframe tbody tr th {\n",
       "        vertical-align: top;\n",
       "    }\n",
       "\n",
       "    .dataframe thead th {\n",
       "        text-align: right;\n",
       "    }\n",
       "</style>\n",
       "<table border=\"1\" class=\"dataframe\">\n",
       "  <thead>\n",
       "    <tr style=\"text-align: right;\">\n",
       "      <th>cluster_kmeans</th>\n",
       "      <th>0</th>\n",
       "      <th>1</th>\n",
       "    </tr>\n",
       "    <tr>\n",
       "      <th>class</th>\n",
       "      <th></th>\n",
       "      <th></th>\n",
       "    </tr>\n",
       "  </thead>\n",
       "  <tbody>\n",
       "    <tr>\n",
       "      <th>0</th>\n",
       "      <td>10</td>\n",
       "      <td>90</td>\n",
       "    </tr>\n",
       "    <tr>\n",
       "      <th>1</th>\n",
       "      <td>119</td>\n",
       "      <td>91</td>\n",
       "    </tr>\n",
       "  </tbody>\n",
       "</table>\n",
       "</div>"
      ],
      "text/plain": [
       "cluster_kmeans    0   1\n",
       "class                  \n",
       "0                10  90\n",
       "1               119  91"
      ]
     },
     "execution_count": 23,
     "metadata": {},
     "output_type": "execute_result"
    }
   ],
   "source": [
    "pd.crosstab(df['class'],df['cluster_kmeans'])"
   ]
  },
  {
   "cell_type": "markdown",
   "metadata": {
    "id": "WD8HKquAgt18"
   },
   "source": [
    "- Cluster-1 mostly consist of class 1.\n",
    "- Cluster-0 is almost an equal mix of class-0 and class-1\n",
    "\n"
   ]
  }
 ],
 "metadata": {
  "colab": {
   "collapsed_sections": [],
   "name": " USL_In-Class_Day2.ipynb",
   "provenance": []
  },
  "kernelspec": {
   "display_name": "Python 3",
   "language": "python",
   "name": "python3"
  },
  "language_info": {
   "codemirror_mode": {
    "name": "ipython",
    "version": 3
   },
   "file_extension": ".py",
   "mimetype": "text/x-python",
   "name": "python",
   "nbconvert_exporter": "python",
   "pygments_lexer": "ipython3",
   "version": "3.8.8"
  }
 },
 "nbformat": 4,
 "nbformat_minor": 1
}
